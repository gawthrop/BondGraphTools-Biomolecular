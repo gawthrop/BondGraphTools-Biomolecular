{
 "cells": [
  {
   "cell_type": "markdown",
   "metadata": {},
   "source": [
    "***Note: this is the fECR.ipynb notebook. The\n",
    "PDF version \"Enzyme-catalysed reaction: analysis as a feedback control\n",
    "actuator\"\n",
    "is available [here](fECR.pdf).***"
   ]
  },
  {
   "cell_type": "markdown",
   "metadata": {},
   "source": [
    "# Introduction\n",
    "Using the methods of control theory to examine and reexamine the behaviour of living systems is well-established\n",
    "<cite data-cite=\"Cra47a\">(Craik, 1947)</cite>\n",
    "<cite data-cite=\"Wie61\">(Weiner, 1961)</cite>\n",
    "<cite data-cite=\"Bay66\">(Bayliss, 1966)</cite>\n",
    "<cite data-cite=\"Sav09\">(Savageau, 1976)</cite>\n",
    "<cite data-cite=\"JagFla03\">(Jagacinski and Flach, 2003)</cite>\n",
    "<cite data-cite=\"IglIng10\">(Inglesias and Ingalls, 2010)</cite>\n",
    "<cite data-cite=\"WelBulKalMasVer08\">(Wellstead et al, 2008)</cite>\n",
    "<cite data-cite=\"DriLeaDet15\">(Drion et al, 2015)</cite>\n",
    "<cite data-cite=\"Vec13\">(Del Veccio, 2013)</cite>.\n",
    "This notebook examines the enzyme-catalysed reaction as a control actuator and its behavior within a feedback loop controlling product concentration.\n",
    "\n",
    "\n",
    "As discussed by <cite data-cite=\"GawCra16\">(Gawthrop and Crampin, 2016)</cite>:\n",
    "\"The bond graph approach gives the set of *nonlinear* ordinary\n",
    "differential equations describing the biomolecular system being modelled.\n",
    "Linearisation of non-linear systems is a standard technique in control\n",
    "engineering: as discussed by \n",
    "<cite data-cite=\"GooGraSal01\">(Goodwin, Graebe and Salgado)</cite>, \n",
    "\"The incentive to\n",
    "try to approximate a nonlinear system by a linear model is that the\n",
    "science and art of linear control is vastly more complete and simpler\n",
    "than they are for the nonlinear case.\". Nevertheless, it is important\n",
    "to realise that conclusions drawn from linearisation can only be\n",
    "verified using the full *nonlinear* equations.\"\n",
    "\n",
    "Linearisation *per se* is discussed in the notebook [Linearisation](https://github.com/gawthrop/BondGraphTools-Biomolecular/blob/master/Linearisation.ipynb).\n",
    "In particular, linearisation of a dynamic system $\\dot x = f(x,v)$ is with reference to a steady state defined by constant states $x=x_{ss}$ and constant flows $v=v_{ss}$ such that $f(x_{ss},v_{ss})=0$. In general, determination of steady-states is a difficult problem and can only be determined numerically; this is the approach taken here.\n"
   ]
  },
  {
   "cell_type": "markdown",
   "metadata": {},
   "source": [
    "## Import some python code\n",
    "The bond graph analysis uses a number of Python modules:"
   ]
  },
  {
   "cell_type": "code",
   "execution_count": 1,
   "metadata": {},
   "outputs": [],
   "source": [
    "## Some useful imports\n",
    "import BondGraphTools as bgt\n",
    "import numpy as np\n",
    "import sympy as sym\n",
    "import matplotlib.pyplot as plt\n",
    "import IPython.display as disp\n",
    "\n",
    "## Stoichiometric analysis\n",
    "import stoich as st\n",
    "\n",
    "## SVG bg representation conversion\n",
    "import svgBondGraph as sbg\n",
    "\n",
    "## Control systems package\n",
    "import control as con\n",
    "\n",
    "## Set quiet=False for verbose output\n",
    "quiet = True\n",
    "\n",
    "## Set slycot=True if slycot is installed (see control module)\n",
    "slycot=True\n",
    "\n",
    "## For reimporting: use imp.reload(module)\n",
    "import importlib as imp\n",
    "\n",
    "## Printing options\n",
    "np.set_printoptions(precision=3)\n",
    "fmt = '{:5.3f}'\n",
    "\n",
    "## Allow output from within functions\n",
    "from IPython.core.interactiveshell import InteractiveShell\n",
    "InteractiveShell.ast_node_interactivity = \"all\"\n",
    "\n",
    "## Product removal\n",
    "productRemoval = True"
   ]
  },
  {
   "cell_type": "markdown",
   "metadata": {},
   "source": [
    "## Feedback control\n"
   ]
  },
  {
   "cell_type": "code",
   "execution_count": 2,
   "metadata": {},
   "outputs": [
    {
     "data": {
      "image/svg+xml": [
       "<svg height=\"215pt\" viewBox=\"-3387 -1137 10374 3399\" width=\"654pt\" xmlns=\"http://www.w3.org/2000/svg\" xmlns:xlink=\"http://www.w3.org/1999/xlink\">\n",
       "<g fill=\"none\">\n",
       "<!-- Line -->\n",
       "<rect height=\"900\" stroke=\"#000000\" stroke-width=\"8px\" width=\"900\" x=\"675\" y=\"450\"/>\n",
       "<!-- Line -->\n",
       "<rect height=\"900\" stroke=\"#000000\" stroke-width=\"8px\" width=\"900\" x=\"2250\" y=\"450\"/>\n",
       "<!-- Line -->\n",
       "<rect height=\"900\" stroke=\"#000000\" stroke-width=\"8px\" width=\"900\" x=\"3825\" y=\"450\"/>\n",
       "<!-- Line -->\n",
       "<rect height=\"900\" stroke=\"#000000\" stroke-width=\"8px\" width=\"900\" x=\"3825\" y=\"-900\"/>\n",
       "<!-- Circle -->\n",
       "<circle cx=\"5625\" cy=\"900\" r=\"225\" stroke=\"#000000\" stroke-width=\"15px\"/>\n",
       "<!-- Circle -->\n",
       "<circle cx=\"-225\" cy=\"900\" r=\"225\" stroke=\"#000000\" stroke-width=\"15px\"/>\n",
       "<!-- Line -->\n",
       "<defs>\n",
       "<clipPath id=\"cp0\">\n",
       "\t<path clip-rule=\"evenodd\" d=\"M -3387,-1137 H 6987 V 2262 H -3387 z   M 2114,870 2114,930 2261,911 2261,890z\"/>\n",
       "</clipPath>\n",
       "</defs>\n",
       "<polyline clip-path=\"url(#cp0)\" points=\" 1575,900 2250,900\" stroke=\"#000000\" stroke-width=\"15px\"/>\n",
       "<!-- Forward arrow to point 2250,900 -->\n",
       "<polygon fill=\"#000000\" points=\" 2114,930 2234,900 2114,870 2114,930\" stroke=\"#000000\" stroke-miterlimit=\"8\" stroke-width=\"8px\"/>\n",
       "<!-- Line -->\n",
       "<defs>\n",
       "<clipPath id=\"cp1\">\n",
       "\t<path clip-rule=\"evenodd\" d=\"M -3387,-1137 H 6987 V 2262 H -3387 z   M 3689,870 3689,930 3836,911 3836,890z\"/>\n",
       "</clipPath>\n",
       "</defs>\n",
       "<polyline clip-path=\"url(#cp1)\" points=\" 3150,900 3825,900\" stroke=\"#000000\" stroke-width=\"15px\"/>\n",
       "<!-- Forward arrow to point 3825,900 -->\n",
       "<polygon fill=\"#000000\" points=\" 3689,930 3809,900 3689,870 3689,930\" stroke=\"#000000\" stroke-miterlimit=\"8\" stroke-width=\"8px\"/>\n",
       "<!-- Line -->\n",
       "<defs>\n",
       "<clipPath id=\"cp2\">\n",
       "\t<path clip-rule=\"evenodd\" d=\"M -3387,-1137 H 6987 V 2262 H -3387 z   M 5264,870 5264,930 5411,911 5411,890z\"/>\n",
       "</clipPath>\n",
       "</defs>\n",
       "<polyline clip-path=\"url(#cp2)\" points=\" 4725,900 5400,900\" stroke=\"#000000\" stroke-width=\"15px\"/>\n",
       "<!-- Forward arrow to point 5400,900 -->\n",
       "<polygon fill=\"#000000\" points=\" 5264,930 5384,900 5264,870 5264,930\" stroke=\"#000000\" stroke-miterlimit=\"8\" stroke-width=\"8px\"/>\n",
       "<!-- Line -->\n",
       "<defs>\n",
       "<clipPath id=\"cp3\">\n",
       "\t<path clip-rule=\"evenodd\" d=\"M -3387,-1137 H 6987 V 2262 H -3387 z   M 5655,539 5595,539 5615,686 5636,686z\"/>\n",
       "</clipPath>\n",
       "</defs>\n",
       "<polyline clip-path=\"url(#cp3)\" points=\" 4725,-450 5625,-450 5625,675\" stroke=\"#000000\" stroke-width=\"15px\"/>\n",
       "<!-- Forward arrow to point 5625,675 -->\n",
       "<polygon fill=\"#000000\" points=\" 5595,539 5625,659 5655,539 5595,539\" stroke=\"#000000\" stroke-miterlimit=\"8\" stroke-width=\"8px\"/>\n",
       "<!-- Line -->\n",
       "<defs>\n",
       "<clipPath id=\"cp4\">\n",
       "\t<path clip-rule=\"evenodd\" d=\"M -3387,-1137 H 6987 V 2262 H -3387 z   M 6389,870 6389,930 6536,911 6536,890z\"/>\n",
       "</clipPath>\n",
       "</defs>\n",
       "<polyline clip-path=\"url(#cp4)\" points=\" 5850,900 6525,900\" stroke=\"#000000\" stroke-width=\"15px\"/>\n",
       "<!-- Forward arrow to point 6525,900 -->\n",
       "<polygon fill=\"#000000\" points=\" 6389,930 6509,900 6389,870 6389,930\" stroke=\"#000000\" stroke-miterlimit=\"8\" stroke-width=\"8px\"/>\n",
       "<!-- Line -->\n",
       "<defs>\n",
       "<clipPath id=\"cp5\">\n",
       "\t<path clip-rule=\"evenodd\" d=\"M -3387,-1137 H 6987 V 2262 H -3387 z   M 539,870 539,930 686,911 686,890z\"/>\n",
       "</clipPath>\n",
       "</defs>\n",
       "<polyline clip-path=\"url(#cp5)\" points=\" 0,900 675,900\" stroke=\"#000000\" stroke-width=\"15px\"/>\n",
       "<!-- Forward arrow to point 675,900 -->\n",
       "<polygon fill=\"#000000\" points=\" 539,930 659,900 539,870 539,930\" stroke=\"#000000\" stroke-miterlimit=\"8\" stroke-width=\"8px\"/>\n",
       "<!-- Line -->\n",
       "<defs>\n",
       "<clipPath id=\"cp6\">\n",
       "\t<path clip-rule=\"evenodd\" d=\"M -3387,-1137 H 6987 V 2262 H -3387 z   M -255,1261 -195,1261 -214,1115 -235,1115z\"/>\n",
       "</clipPath>\n",
       "</defs>\n",
       "<polyline clip-path=\"url(#cp6)\" points=\" 6075,900 6075,2025 -225,2025 -225,1125\" stroke=\"#000000\" stroke-width=\"15px\"/>\n",
       "<!-- Forward arrow to point -225,1125 -->\n",
       "<polygon fill=\"#000000\" points=\" -195,1261 -225,1141 -255,1261 -195,1261\" stroke=\"#000000\" stroke-miterlimit=\"8\" stroke-width=\"8px\"/>\n",
       "<!-- Line -->\n",
       "<defs>\n",
       "<clipPath id=\"cp7\">\n",
       "\t<path clip-rule=\"evenodd\" d=\"M -3387,-1137 H 6987 V 2262 H -3387 z   M -586,870 -586,930 -439,911 -439,890z\"/>\n",
       "</clipPath>\n",
       "</defs>\n",
       "<polyline clip-path=\"url(#cp7)\" points=\" -1125,900 -450,900\" stroke=\"#000000\" stroke-width=\"15px\"/>\n",
       "<!-- Forward arrow to point -450,900 -->\n",
       "<polygon fill=\"#000000\" points=\" -586,930 -466,900 -586,870 -586,930\" stroke=\"#000000\" stroke-miterlimit=\"8\" stroke-width=\"8px\"/>\n",
       "<!-- Line -->\n",
       "<defs>\n",
       "<clipPath id=\"cp8\">\n",
       "\t<path clip-rule=\"evenodd\" d=\"M -3387,-1137 H 6987 V 2262 H -3387 z   M -2161,870 -2161,930 -2014,911 -2014,890z\"/>\n",
       "</clipPath>\n",
       "</defs>\n",
       "<polyline clip-path=\"url(#cp8)\" points=\" -2700,900 -2025,900\" stroke=\"#000000\" stroke-width=\"15px\"/>\n",
       "<!-- Forward arrow to point -2025,900 -->\n",
       "<polygon fill=\"#000000\" points=\" -2161,930 -2041,900 -2161,870 -2161,930\" stroke=\"#000000\" stroke-miterlimit=\"8\" stroke-width=\"8px\"/>\n",
       "<!-- Line -->\n",
       "<defs>\n",
       "<clipPath id=\"cp9\">\n",
       "\t<path clip-rule=\"evenodd\" d=\"M -3387,-1137 H 6987 V 2262 H -3387 z   M 3689,-480 3689,-420 3836,-439 3836,-460z\"/>\n",
       "</clipPath>\n",
       "</defs>\n",
       "<polyline clip-path=\"url(#cp9)\" points=\" 3150,-450 3825,-450\" stroke=\"#000000\" stroke-width=\"15px\"/>\n",
       "<!-- Forward arrow to point 3825,-450 -->\n",
       "<polygon fill=\"#000000\" points=\" 3689,-420 3809,-450 3689,-480 3689,-420\" stroke=\"#000000\" stroke-miterlimit=\"8\" stroke-width=\"8px\"/>\n",
       "<!-- Line -->\n",
       "<rect height=\"900\" stroke=\"#000000\" stroke-width=\"8px\" width=\"900\" x=\"-2025\" y=\"450\"/>\n",
       "<!-- Line -->\n",
       "<rect height=\"3375\" rx=\"105\" stroke=\"#ffd600\" stroke-width=\"8px\" width=\"10350\" x=\"-3375\" y=\"-1125\"/>\n",
       "<!-- Text -->\n",
       "<text fill=\"#000000\" font-family=\"Times\" font-size=\"228\" font-style=\"normal\" font-weight=\"normal\" text-anchor=\"middle\" x=\"1103\" xml:space=\"preserve\" y=\"1006\">k<tspan baseline-shift=\"sub\" font-size=\"152\">fb</tspan></text>\n",
       "<!-- Text -->\n",
       "<text fill=\"#000000\" font-family=\"Times\" font-size=\"228\" font-style=\"normal\" font-weight=\"normal\" text-anchor=\"middle\" x=\"2678\" xml:space=\"preserve\" y=\"1006\">k<tspan baseline-shift=\"sub\" font-size=\"152\">act</tspan></text>\n",
       "<!-- Text -->\n",
       "<text fill=\"#000000\" font-family=\"Times\" font-size=\"228\" font-style=\"normal\" font-weight=\"normal\" text-anchor=\"middle\" x=\"4253\" xml:space=\"preserve\" y=\"1006\">k<tspan baseline-shift=\"sub\" font-size=\"152\">sys</tspan></text>\n",
       "<!-- Text -->\n",
       "<text fill=\"#000000\" font-family=\"Times\" font-size=\"228\" font-style=\"normal\" font-weight=\"normal\" text-anchor=\"middle\" x=\"4253\" xml:space=\"preserve\" y=\"-344\">k<tspan baseline-shift=\"sub\" font-size=\"152\">d</tspan></text>\n",
       "<!-- Text -->\n",
       "<text fill=\"#000000\" font-family=\"Times\" font-size=\"144\" font-style=\"normal\" font-weight=\"normal\" text-anchor=\"middle\" x=\"5400\" xml:space=\"preserve\" y=\"675\">+</text>\n",
       "<!-- Text -->\n",
       "<text fill=\"#000000\" font-family=\"Times\" font-size=\"144\" font-style=\"normal\" font-weight=\"normal\" text-anchor=\"middle\" x=\"5850\" xml:space=\"preserve\" y=\"675\">+</text>\n",
       "<!-- Text -->\n",
       "<text fill=\"#000000\" font-family=\"Times\" font-size=\"144\" font-style=\"normal\" font-weight=\"normal\" text-anchor=\"middle\" x=\"-450\" xml:space=\"preserve\" y=\"675\">+</text>\n",
       "<!-- Text -->\n",
       "<text fill=\"#000000\" font-family=\"Times\" font-size=\"144\" font-style=\"normal\" font-weight=\"normal\" text-anchor=\"middle\" x=\"-450\" xml:space=\"preserve\" y=\"1350\">-</text>\n",
       "<!-- Text -->\n",
       "<text fill=\"#000000\" font-family=\"Times\" font-size=\"228\" font-style=\"normal\" font-weight=\"normal\" text-anchor=\"middle\" x=\"-1597\" xml:space=\"preserve\" y=\"1006\">k<tspan baseline-shift=\"sub\" font-size=\"152\">w</tspan></text>\n",
       "<!-- Text -->\n",
       "<text fill=\"#000000\" font-family=\"Times\" font-size=\"228\" font-style=\"normal\" font-weight=\"normal\" text-anchor=\"middle\" x=\"-2700\" xml:space=\"preserve\" y=\"675\">w=x<tspan baseline-shift=\"sub\" font-size=\"152\">E0</tspan></text>\n",
       "<!-- Text -->\n",
       "<text fill=\"#000000\" font-family=\"Times\" font-size=\"228\" font-style=\"normal\" font-weight=\"normal\" text-anchor=\"middle\" x=\"6525\" xml:space=\"preserve\" y=\"675\">y=x<tspan baseline-shift=\"sub\" font-size=\"152\">B</tspan></text>\n",
       "<!-- Text -->\n",
       "<text fill=\"#000000\" font-family=\"Times\" font-size=\"228\" font-style=\"normal\" font-weight=\"normal\" text-anchor=\"middle\" x=\"3150\" xml:space=\"preserve\" y=\"-675\">d=x<tspan baseline-shift=\"sub\" font-size=\"152\">B0</tspan></text>\n",
       "<!-- Text -->\n",
       "<text fill=\"#000000\" font-family=\"Times\" font-size=\"228\" font-style=\"normal\" font-weight=\"normal\" text-anchor=\"middle\" x=\"3375\" xml:space=\"preserve\" y=\"675\">u=v</text>\n",
       "</g>\n",
       "</svg>"
      ],
      "text/plain": [
       "<IPython.core.display.SVG object>"
      ]
     },
     "execution_count": 2,
     "metadata": {},
     "output_type": "execute_result"
    }
   ],
   "source": [
    "disp.SVG('feedback.svg')"
   ]
  },
  {
   "cell_type": "markdown",
   "metadata": {},
   "source": [
    "The figure shows a feedback control loop. In terms of control theory, $k_{fb}$, $k_{act}$, $k_{sys}$, $k_d$ and $k_w$ are the feedback, actuator, system, disturbance and setpoint gains respectively; $u$,$y$ and $w$ are the control signal, system output and setpoint respectively. The blocks can be intepreted as static gains (for steady-state analysis) or as transfer functions for dynamic analysis.\n",
    "\n",
    "As discussed below this diagram has a systems biology interpretation for the particular example considered here; in particular: $k_{fb}$ and $k_w$ are associated with a linearised feedback inhibition, $k_{act}$ with an enzyme-catalysed reaction and $k_{sys}$ and $k_{sys}$ and $k_d$ with product removal.\n",
    "\n",
    "Defining the loop-gain $L = k_{fb}k_{act}k_{sys}$, it follows that:\n",
    "\\begin{align}\n",
    "y &= \\frac{L}{1+L} k_w w + \\frac{1}{1+L}k_d d\n",
    "\\end{align}\n",
    "Thus a large loop gain $L$ leads to:\n",
    "\\begin{align}\n",
    "y &\\approx k_w w \n",
    "\\end{align}\n",
    "The disturbance is eliminated whilst the system output follows $k_w w$.\n",
    "\n",
    "It is important to emphasise that the actuator requires power to operate in the correct manner."
   ]
  },
  {
   "cell_type": "markdown",
   "metadata": {},
   "source": [
    "## Analysis functions\n",
    "The folowing functions are used to analyse the various systems."
   ]
  },
  {
   "cell_type": "markdown",
   "metadata": {},
   "source": [
    "### Stoichiometry\n",
    "This function returns the bond graph stoichiometry without chemostats **s**, with chemostats **sc** and with flowstats **sf** using the [stoich](https://github.com/gawthrop/BondGraphTools-Biomolecular/blob/master/stoich.ipynb) package and [BondGraphTools](https://pypi.org/project/BondGraphTools/)."
   ]
  },
  {
   "cell_type": "code",
   "execution_count": 3,
   "metadata": {},
   "outputs": [],
   "source": [
    "def stoichiometry(abg,chemostats=[],flowstats=[]):\n",
    "    s = st.stoich(abg.model(),quiet=quiet)\n",
    "    sc = st.statify(s,chemostats=chemostats)\n",
    "    \n",
    "    if len(flowstats) is 0:\n",
    "        sf = None\n",
    "    else:\n",
    "        sf = st.statify(s,flowstats=flowstats)\n",
    "        \n",
    "    return s,sc,sf"
   ]
  },
  {
   "cell_type": "markdown",
   "metadata": {},
   "source": [
    "### Linearise about the steady-state\n",
    "The bond graph model in stoichiometric form is symbolically linearised and combined with numerical parameters to give a linear system in numerical state-space form. The [Python Control Systems Library](https://pypi.org/project/control/) is used to convert the state-space systems into transfer functions and to give the steady-state (DC) gain."
   ]
  },
  {
   "cell_type": "code",
   "execution_count": 4,
   "metadata": {},
   "outputs": [],
   "source": [
    "def plot(t_step,vv,KK_F,title,ylabel='$v$'):\n",
    "    \"\"\"Plot step responses of linearised systems\"\"\"\n",
    "    plt.plot(t_step,vv.T) \n",
    "    plt.title(title)\n",
    "    Legend = ['K_F='+str(K_F) for K_F in KK_F]\n",
    "    plt.legend(Legend)\n",
    "    plt.grid()\n",
    "    plt.xlabel('$t$')\n",
    "    plt.ylabel(ylabel)\n",
    "    plt.show()\n",
    "    \n",
    "def linearise(s,sc,sf=None,i_r=2,dist='B',t_step_max=10,KK_F=[10,100,1000]):\n",
    "    \"\"\"Linearise systems, generate transfer functions, plot step responses\"\"\"\n",
    "    useFlowstat = sf is not None\n",
    "    productRemoval = 'B0' in s['species'] \n",
    "    \n",
    "    ## Steady state via long simulation\n",
    "    ##Time\n",
    "    t_max = int(1e3)\n",
    "    t = np.linspace(0,t_max,1000)\n",
    "    t_step = np.linspace(0,t_step_max,1000)\n",
    "    \n",
    "    if useFlowstat:\n",
    "        ## Flowstat\n",
    "        f0 = 0\n",
    "        V_flow = {'r0':str(f0)}\n",
    "        #print(V_flow)\n",
    "        stats = sc['chemostats']+sf['flowstats']\n",
    "        #print(stats)\n",
    "        inp = 'r0'\n",
    "    else:\n",
    "        stats = sc['chemostats']\n",
    "        inp = 'E0'\n",
    "        \n",
    "    ## index of input\n",
    "    i_in = stats.index(inp)\n",
    "    ##print('i_in',i_in)\n",
    "\n",
    "    ## index of disturbance\n",
    "    i_dist = stats.index(dist)\n",
    "    #print('i_dist',i_dist)\n",
    "    \n",
    "    for K_F in KK_F:\n",
    "        parameter['K_F'] = K_F\n",
    "        parameter['K_G'] = 1/K_F\n",
    "        print('\\n==========================')\n",
    "        print('K_F =',K_F)\n",
    "        print('==========================')\n",
    "\n",
    "        ## Simulate to get the steady state\n",
    "        if useFlowstat:\n",
    "            ssdat = st.sim(s,sc=sc,t=t,parameter=parameter,V_flow=V_flow,quiet=quiet)\n",
    "        else:\n",
    "            ssdat = st.sim(s,sc=sc,t=t,parameter=parameter,quiet=quiet)\n",
    "\n",
    "        ## Use the final value as the steady-state\n",
    "        x_ss = ssdat['X'][-1,:]\n",
    "#         print(s['species'])\n",
    "#         print('x_ss =', x_ss)\n",
    "        v_ss = ssdat['V'][-1,:]\n",
    "#        print('v_ss =', v_ss)\n",
    "\n",
    "\n",
    "        ## Linearise: Sys is the linearised system in control toolbox form\n",
    "        ## Flow output\n",
    "        Sys = st.lin(s,sc,sf=sf,x_ss=x_ss,parameter=parameter,outvar='V',quiet=quiet)\n",
    "        ## Potential output\n",
    "        SysX = st.lin(s,sc,sf=sf,x_ss=x_ss,parameter=parameter,outvar='X',quiet=quiet)\n",
    "        \n",
    "        #con.ss2tf(Sys)\n",
    "        tf = con.ss2tf(Sys)\n",
    "        tfPhi = con.ss2tf(SysX)\n",
    "        \n",
    "        if useFlowstat:\n",
    "            deriv = con.tf([1,0],[1])\n",
    "            tf_f_in = con.minreal(con.series(deriv,tf[i_r,i_in]))\n",
    "            tf_f_dist = con.minreal(tf[i_r,i_dist])\n",
    "            inName = 'f_0'\n",
    "        else:\n",
    "            tf_f_in = con.minreal(tf[i_r,i_in])\n",
    "            tf_f_dist = con.minreal(tf[i_r,i_dist])\n",
    "            inName = 'x_E0'\n",
    "                 \n",
    "        if productRemoval:\n",
    "            ## Compute transfer functions to B\n",
    "            i_B = s['species'].index('B')\n",
    "            print('i_B',i_B,'i_dist',i_dist)\n",
    "\n",
    "            tf_X_in = tfPhi[i_B,i_in]\n",
    "            print('\\nTransfer function: phi_B/input',tf_X_in)\n",
    "            in_gain_X = con.dcgain(tf_X_in)\n",
    "            print('\\tgain:',fmt.format(in_gain_X))\n",
    "            print('\\tpoles:', con.pole(tf_X_in))\n",
    "            \n",
    "            tf_X_dist = tfPhi[i_B,i_dist]\n",
    "            print('\\nTransfer function: phi_B/phi_B0',tf_X_dist)\n",
    "            dist_gain_X = con.dcgain(tf_X_dist)\n",
    "            print('\\tgain:',fmt.format(dist_gain_X))\n",
    "            \n",
    "            tf_in = tf_X_in\n",
    "            \n",
    "        else:\n",
    "            dist_gain_X = None\n",
    "            in_gain_X= None\n",
    "            print('\\nTransfer function: f_2/'+inName,tf_f_in)\n",
    "            in_gain = con.dcgain(tf_f_in)\n",
    "            print('\\tgain:',fmt.format(in_gain))\n",
    "            print('\\tpoles:', con.pole(tf_f_in))\n",
    "            \n",
    "            print('\\nTransfer function: f_2/x_B',tf_f_dist)\n",
    "            dist_gain = con.dcgain(tf_f_dist)\n",
    "            print('\\tgain:',fmt.format(dist_gain))\n",
    "        \n",
    "            tf_in = tf_f_in\n",
    "            \n",
    "        ## Step responses\n",
    "        if productRemoval:\n",
    "            t,p = con.step_response(tf_X_in,T=t_step)\n",
    "            t,pd = con.step_response(tf_X_dist,T=t_step)\n",
    "        else:\n",
    "            t,v = con.step_response(tf_f_in,T=t_step)\n",
    "            t,vd = con.step_response(tf_f_dist,T=t_step)\n",
    "        \n",
    "        if K_F is KK_F[0]:\n",
    "            if productRemoval:\n",
    "                pp = p\n",
    "                ppd = pd\n",
    "            else:\n",
    "                vv = v\n",
    "                vvd = vd    \n",
    "        else:\n",
    "\n",
    "            if productRemoval:\n",
    "                pp = np.vstack((pp,p))\n",
    "                ppd = np.vstack((ppd,pd))\n",
    "            else:\n",
    "                vv = np.vstack((vv,v))\n",
    "                vvd = np.vstack((vvd,vd))\n",
    "\n",
    "    if productRemoval:\n",
    "        plot(t_step,pp,KK_F,'Control response  -- X',ylabel='$X$') \n",
    "        plot(t_step,ppd,KK_F,'Disturbance response -- X',ylabel='$X$') \n",
    "    else:\n",
    "        plot(t_step,vv,KK_F,'Control response -- flow',ylabel='$v$') \n",
    "        plot(t_step,vvd,KK_F,'Disturbance response -- flow',ylabel='$v$') \n",
    "    \n",
    "    return Sys,SysX,x_ss,v_ss,dist_gain_X,in_gain_X,tf_in\n",
    "\n",
    "def extractSS(s,x_ss,species):\n",
    "    code = ''\n",
    "    for spec in species:\n",
    "        ss = x_ss[s['species'].index(spec)]\n",
    "        name = 'x_ss_'+spec\n",
    "        print(name+' =',fmt.format(ss))\n",
    "        #exec(name+' = '+str(ss))\n",
    "        code += name+' = '+str(ss)+'\\n'\n",
    "    #print(code)\n",
    "    return code\n"
   ]
  },
  {
   "cell_type": "markdown",
   "metadata": {},
   "source": [
    "#  Pumped enzyme-catalysed reaction: analysis as a control actuator\n",
    "The bond graph representation of the (reversible) enzyme-catalysed reaction is given by\n",
    "<cite data-cite=\"GawCra14\">(Gawthrop and Crampin, 2014)</cite> and is discussed in the tutorial [ECR](ECR.ipynb).\n",
    "\n",
    "The additional species $E0$ represents a reservoir of enzyme coupled to the ECR via the reaction $r0$. \n",
    "$E0$ is used as a chemostat to adjust the total amount of enzyme associated with the ECR.\n",
    "The additional species F and G act as a *pump* -- the idea is that a high potential of F and a low potential of G will drive the reaction $A \\leftrightarrow B$ strongly towards B and thus endow the reaction with desirable actuator properties.\n",
    "\n",
    "Following <cite data-cite=\"GawCra14\">(Gawthrop and Crampin, 2014)</cite>, the steady-state flow $v$ through r1 and r2 is:\n",
    "\\begin{align}\n",
    " v &=  \\bar{\\kappa} \\frac{K_C e_0}{\\frac{K_C}{K_E} +  \\sigma_v} \\delta_v\\\\\n",
    " \\text{where }\n",
    "  \\delta_v &= v_o^+ - v_o^-\\\\\n",
    " \\sigma_v &= \\frac{\\kappa_1 v_o^+ + \\kappa_2 v_o^-}{\\kappa_1  +\n",
    "   \\kappa_2}\\\\\n",
    "   \\text{and, in this case }\n",
    "   v_o^+ &= K_A K_F x_A x_F \\; , v_o^- = K_B K_G x_A x_G\n",
    "\\end{align}\n",
    "Further\n",
    "\\begin{align}\n",
    " e_0 &= (1 + \\frac{K_E}{K_C} \\sigma_v) x_E = (1 + \\frac{K_e}{K_c} \\sigma_v) \\frac{K_{E0}}{K_E}x_{E0}\n",
    "\\end{align}\n",
    "Now, as discussed above $K_F$ is large and $K_G$ small hence:\n",
    "\\begin{align}\n",
    "v &\\approx k_{act} x_E = k_{act} \\frac{K_{E0}}{K_E} x_{E0} \\label{eq:v_act}\\\\\n",
    "\\text{where }\n",
    "k_{act} &=\n",
    "\\bar{\\kappa} \\sigma_v K_E x_E\n",
    "\\end{align}\n",
    "In the particular case where $\\kappa_1=\\kappa_2=\\kappa$\n",
    "\n",
    "\\begin{align}\n",
    "k_{act} &= \\frac{\\kappa}{2} K_A K_F x_A x_F K_E \n",
    "\\end{align}\n",
    "\n"
   ]
  },
  {
   "cell_type": "code",
   "execution_count": 5,
   "metadata": {},
   "outputs": [
    {
     "data": {
      "image/svg+xml": [
       "<svg height=\"315pt\" viewBox=\"203 -1597 7919 4994\" width=\"499pt\" xmlns=\"http://www.w3.org/2000/svg\" xmlns:xlink=\"http://www.w3.org/1999/xlink\">\n",
       "<g fill=\"none\">\n",
       "<!-- Line -->\n",
       "<rect height=\"4950\" rx=\"105\" stroke=\"#ffd600\" stroke-width=\"15px\" width=\"7875\" x=\"225\" y=\"-1575\"/>\n",
       "<!-- Text -->\n",
       "<text fill=\"#000000\" font-family=\"Helvetica\" font-size=\"216\" font-style=\"normal\" font-weight=\"bold\" text-anchor=\"middle\" x=\"5175\" xml:space=\"preserve\" y=\"-135\">1</text>\n",
       "<!-- Text -->\n",
       "<g transform=\"translate(6210,-225) rotate(-270)\">\n",
       "<text fill=\"#000000\" font-family=\"Helvetica\" font-size=\"216\" font-style=\"normal\" font-weight=\"bold\" text-anchor=\"middle\" x=\"0\" xml:space=\"preserve\" y=\"0\">Re:r0</text>\n",
       "</g><!-- Text -->\n",
       "<text fill=\"#000000\" font-family=\"Helvetica\" font-size=\"216\" font-style=\"normal\" font-weight=\"bold\" text-anchor=\"middle\" x=\"7425\" xml:space=\"preserve\" y=\"-1260\">Ce:E0</text>\n",
       "<!-- Text -->\n",
       "<text fill=\"#000000\" font-family=\"Helvetica\" font-size=\"216\" font-style=\"normal\" font-weight=\"bold\" text-anchor=\"middle\" x=\"7425\" xml:space=\"preserve\" y=\"-135\">0</text>\n",
       "<!-- Text -->\n",
       "<text fill=\"#000000\" font-family=\"Helvetica\" font-size=\"216\" font-style=\"normal\" font-weight=\"bold\" text-anchor=\"middle\" x=\"675\" xml:space=\"preserve\" y=\"990\">Ce:A</text>\n",
       "<!-- Text -->\n",
       "<text fill=\"#000000\" font-family=\"Helvetica\" font-size=\"216\" font-style=\"normal\" font-weight=\"bold\" text-anchor=\"middle\" x=\"1800\" xml:space=\"preserve\" y=\"3240\">Ce:F</text>\n",
       "<!-- Text -->\n",
       "<text fill=\"#000000\" font-family=\"Helvetica\" font-size=\"216\" font-style=\"normal\" font-weight=\"bold\" text-anchor=\"middle\" x=\"6300\" xml:space=\"preserve\" y=\"3240\">Ce:G</text>\n",
       "<!-- Text -->\n",
       "<text fill=\"#000000\" font-family=\"Helvetica\" font-size=\"216\" font-style=\"normal\" font-weight=\"bold\" text-anchor=\"middle\" x=\"1800\" xml:space=\"preserve\" y=\"2115\">1</text>\n",
       "<!-- Text -->\n",
       "<text fill=\"#000000\" font-family=\"Helvetica\" font-size=\"216\" font-style=\"normal\" font-weight=\"bold\" text-anchor=\"middle\" x=\"4050\" xml:space=\"preserve\" y=\"2115\">0</text>\n",
       "<!-- Text -->\n",
       "<text fill=\"#000000\" font-family=\"Helvetica\" font-size=\"216\" font-style=\"normal\" font-weight=\"bold\" text-anchor=\"middle\" x=\"4050\" xml:space=\"preserve\" y=\"990\">Ce:C</text>\n",
       "<!-- Text -->\n",
       "<text fill=\"#000000\" font-family=\"Helvetica\" font-size=\"216\" font-style=\"normal\" font-weight=\"bold\" text-anchor=\"middle\" x=\"7425\" xml:space=\"preserve\" y=\"990\">Ce:B</text>\n",
       "<!-- Text -->\n",
       "<text fill=\"#000000\" font-family=\"Helvetica\" font-size=\"216\" font-style=\"normal\" font-weight=\"bold\" text-anchor=\"middle\" x=\"7425\" xml:space=\"preserve\" y=\"2115\">0</text>\n",
       "<!-- Text -->\n",
       "<text fill=\"#000000\" font-family=\"Helvetica\" font-size=\"216\" font-style=\"normal\" font-weight=\"bold\" text-anchor=\"middle\" x=\"6300\" xml:space=\"preserve\" y=\"2115\">1</text>\n",
       "<!-- Text -->\n",
       "<text fill=\"#000000\" font-family=\"Helvetica\" font-size=\"216\" font-style=\"normal\" font-weight=\"bold\" text-anchor=\"middle\" x=\"675\" xml:space=\"preserve\" y=\"2115\">0</text>\n",
       "<!-- Text -->\n",
       "<g transform=\"translate(2835,2025) rotate(-270)\">\n",
       "<text fill=\"#000000\" font-family=\"Helvetica\" font-size=\"216\" font-style=\"normal\" font-weight=\"bold\" text-anchor=\"middle\" x=\"0\" xml:space=\"preserve\" y=\"0\">Re:r1</text>\n",
       "</g><!-- Text -->\n",
       "<g transform=\"translate(5085,2025) rotate(-270)\">\n",
       "<text fill=\"#000000\" font-family=\"Helvetica\" font-size=\"216\" font-style=\"normal\" font-weight=\"bold\" text-anchor=\"middle\" x=\"0\" xml:space=\"preserve\" y=\"0\">Re:r2</text>\n",
       "</g><!-- Text -->\n",
       "<text fill=\"#000000\" font-family=\"Helvetica\" font-size=\"216\" font-style=\"normal\" font-weight=\"bold\" text-anchor=\"middle\" x=\"4050\" xml:space=\"preserve\" y=\"-1260\">Ce:E</text>\n",
       "<!-- Text -->\n",
       "<text fill=\"#000000\" font-family=\"Helvetica\" font-size=\"216\" font-style=\"normal\" font-weight=\"bold\" text-anchor=\"middle\" x=\"4050\" xml:space=\"preserve\" y=\"-135\">0</text>\n",
       "<!-- Line -->\n",
       "<polyline points=\" 7425,-450 7425,-1125 7650,-900\" stroke=\"#000000\" stroke-width=\"15px\"/>\n",
       "<!-- Line -->\n",
       "<polyline points=\" 6075,1800 4275,0 4275,225\" stroke=\"#000000\" stroke-width=\"15px\"/>\n",
       "<!-- Line -->\n",
       "<polyline points=\" 3825,0 2025,1800 2250,1800\" stroke=\"#000000\" stroke-width=\"15px\"/>\n",
       "<!-- Line -->\n",
       "<polyline points=\" 900,2025 1575,2025 1350,2250\" stroke=\"#000000\" stroke-width=\"15px\"/>\n",
       "<!-- Line -->\n",
       "<polyline points=\" 6525,2025 7200,2025 6975,2250\" stroke=\"#000000\" stroke-width=\"15px\"/>\n",
       "<!-- Line -->\n",
       "<polyline points=\" 4050,1800 4050,1125 4275,1350\" stroke=\"#000000\" stroke-width=\"15px\"/>\n",
       "<!-- Line -->\n",
       "<polyline points=\" 7425,1800 7425,1125 7650,1350\" stroke=\"#000000\" stroke-width=\"15px\"/>\n",
       "<!-- Line -->\n",
       "<polyline points=\" 3150,2025 3825,2025 3600,2250\" stroke=\"#000000\" stroke-width=\"15px\"/>\n",
       "<!-- Line -->\n",
       "<polyline points=\" 4275,2025 4950,2025 4725,2250\" stroke=\"#000000\" stroke-width=\"15px\"/>\n",
       "<!-- Line -->\n",
       "<polyline points=\" 5400,2025 6075,2025 5850,2250\" stroke=\"#000000\" stroke-width=\"15px\"/>\n",
       "<!-- Line -->\n",
       "<polyline points=\" 2025,2025 2700,2025 2475,2250\" stroke=\"#000000\" stroke-width=\"15px\"/>\n",
       "<!-- Line -->\n",
       "<polyline points=\" 675,1800 675,1125 900,1350\" stroke=\"#000000\" stroke-width=\"15px\"/>\n",
       "<!-- Line -->\n",
       "<polyline points=\" 4050,-450 4050,-1125 4275,-900\" stroke=\"#000000\" stroke-width=\"15px\"/>\n",
       "<!-- Line -->\n",
       "<polyline points=\" 1800,2925 1800,2250 2025,2475\" stroke=\"#000000\" stroke-width=\"15px\"/>\n",
       "<!-- Line -->\n",
       "<polyline points=\" 6300,2250 6300,2925 6525,2700\" stroke=\"#000000\" stroke-width=\"15px\"/>\n",
       "<!-- Line -->\n",
       "<polyline points=\" 4275,-225 4950,-225 4725,0\" stroke=\"#000000\" stroke-width=\"15px\"/>\n",
       "<!-- Line -->\n",
       "<polyline points=\" 5400,-225 6075,-225 5850,0\" stroke=\"#000000\" stroke-width=\"15px\"/>\n",
       "<!-- Line -->\n",
       "<polyline points=\" 6525,-225 7200,-225 6975,0\" stroke=\"#000000\" stroke-width=\"15px\"/>\n",
       "</g>\n",
       "</svg>"
      ],
      "text/plain": [
       "<IPython.core.display.SVG object>"
      ]
     },
     "execution_count": 5,
     "metadata": {},
     "output_type": "execute_result"
    }
   ],
   "source": [
    "sbg.model('pRE_abg.svg')\n",
    "import pRE_abg\n",
    "abg = pRE_abg\n",
    "disp.SVG('pRE_abg.svg')"
   ]
  },
  {
   "cell_type": "markdown",
   "metadata": {},
   "source": [
    "## Numerical Parameters"
   ]
  },
  {
   "cell_type": "code",
   "execution_count": 6,
   "metadata": {},
   "outputs": [
    {
     "name": "stdout",
     "output_type": "stream",
     "text": [
      "{'X0_A': 2, 'K_E0': 1, 'X0_E0': 1, 'K_A': 1, 'K_B': 10, 'K_C': 1, 'K_E': 1, 'K_F': 100, 'K_G': 0.01, 'kappa_r0': 1, 'kappa_r1': 10, 'kappa_r2': 10}\n"
     ]
    }
   ],
   "source": [
    "## Parameters\n",
    "X0_A = 2\n",
    "K_A = 1\n",
    "X0_E0 = 1\n",
    "K_B = 10\n",
    "K_E0 = 1\n",
    "K_C = 1\n",
    "K_E = 1\n",
    "K_F = 100\n",
    "KK_F = [10,100]\n",
    "K_G = 1/K_F\n",
    "kappa_r0 = 1\n",
    "\n",
    "kappa = 10\n",
    "kappa_r1 = kappa\n",
    "kappa_r2 = kappa\n",
    "\n",
    "pars = ['X0_A','K_E0','X0_E0','K_A','K_B','K_C','K_E','K_F','K_G','kappa_r0','kappa_r1','kappa_r2']\n",
    "parameter = {}\n",
    "for par in pars:\n",
    "    parameter[par] = eval(par)\n",
    "print(parameter)"
   ]
  },
  {
   "cell_type": "markdown",
   "metadata": {},
   "source": [
    "## Analyse"
   ]
  },
  {
   "cell_type": "code",
   "execution_count": 7,
   "metadata": {
    "scrolled": true
   },
   "outputs": [
    {
     "name": "stdout",
     "output_type": "stream",
     "text": [
      "None\n",
      "Reactions:\n"
     ]
    },
    {
     "data": {
      "text/latex": [
       "\\begin{align}\n",
       "E  &\\Leftrightarrow E0 \\\\\n",
       "A + E + F  &\\Leftrightarrow C \\\\\n",
       "C  &\\Leftrightarrow B + E + G \n",
       "\\end{align}\n"
      ],
      "text/plain": [
       "<IPython.core.display.Latex object>"
      ]
     },
     "execution_count": 7,
     "metadata": {},
     "output_type": "execute_result"
    },
    {
     "name": "stdout",
     "output_type": "stream",
     "text": [
      "Pathway reaction:\n"
     ]
    },
    {
     "data": {
      "text/latex": [
       "\\begin{align}\n",
       "A + F  &\\Leftrightarrow B + G \n",
       "\\end{align}\n"
      ],
      "text/plain": [
       "<IPython.core.display.Latex object>"
      ]
     },
     "execution_count": 7,
     "metadata": {},
     "output_type": "execute_result"
    },
    {
     "name": "stdout",
     "output_type": "stream",
     "text": [
      "\n",
      "==========================\n",
      "K_F = 10\n",
      "==========================\n",
      "0 states have been removed from the model\n",
      "0 states have been removed from the model\n",
      "\n",
      "Transfer function: f_2/x_E0 \n",
      "  -10 s + 1900\n",
      "----------------\n",
      "s^2 + 231 s + 20\n",
      "\n",
      "\tgain: 95.000\n",
      "\tpoles: [-2.309e+02 -8.661e-02]\n",
      "\n",
      "Transfer function: f_2/x_B \n",
      "-10 s^2 - 2110 s - 100\n",
      "----------------------\n",
      "   s^2 + 231 s + 20\n",
      "\n",
      "\tgain: -5.000\n",
      "\n",
      "==========================\n",
      "K_F = 100\n",
      "==========================\n",
      "0 states have been removed from the model\n",
      "0 states have been removed from the model\n",
      "\n",
      "Transfer function: f_2/x_E0 \n",
      "  -s + 1.999e+04\n",
      "-----------------\n",
      "s^2 + 2022 s + 20\n",
      "\n",
      "\tgain: 999.500\n",
      "\tpoles: [-2.022e+03 -9.891e-03]\n",
      "\n",
      "Transfer function: f_2/x_B \n",
      "-0.993 s^2 - 1997 s - 9.93\n",
      "--------------------------\n",
      "    s^2 + 2022 s + 20\n",
      "\n",
      "\tgain: -0.497\n"
     ]
    },
    {
     "data": {
      "image/png": "[encoded data removed]",
      "text/plain": [
       "<Figure size 432x288 with 1 Axes>"
      ]
     },
     "metadata": {},
     "output_type": "display_data"
    },
    {
     "data": {
      "image/png": "[encoded data removed]",
      "text/plain": [
       "<Figure size 432x288 with 1 Axes>"
      ]
     },
     "metadata": {},
     "output_type": "display_data"
    },
    {
     "name": "stdout",
     "output_type": "stream",
     "text": [
      "x_ss_A = 2.000\n",
      "x_ss_F = 1.000\n",
      "k_act = 1000.0\n"
     ]
    }
   ],
   "source": [
    "chemostats=['E0','A','B','F','G']\n",
    "# flowstats = []\n",
    "s,sc,sf = stoichiometry(abg,chemostats=chemostats)\n",
    "print(sf)\n",
    "print('Reactions:')\n",
    "disp.Latex(st.sprintrl(s))\n",
    "sp = st.path(s,sc)\n",
    "print('Pathway reaction:')\n",
    "disp.Latex(st.sprintrl(sp))\n",
    "Sys,SysX,x_ss,v_ss,dist_gain_X,in_gain_X,tf_in_act = linearise(s,sc,i_r=2,dist='B',KK_F=KK_F,t_step_max=500)\n",
    "\n",
    "## Actuator gain\n",
    "exec(extractSS(s,x_ss,['A','F']))\n",
    "k_act = (kappa/2)*K_A*K_E*K_F*x_ss_A*x_ss_F\n",
    "print('k_act =', k_act)"
   ]
  },
  {
   "cell_type": "markdown",
   "metadata": {},
   "source": [
    "## Discussion.\n",
    "\n",
    "- With the values given in the Parameters section, the theoretical steady-state flow $v$ is $1000 x_{E0}$.\n",
    "- This agrees with the final value (1000) of the unit step response to $x_{E0}$ \n",
    "- This also agrees with the final value (~0) of the unit step response to $x_{B}$ \n",
    "- As there are two non-chemostated **Ce** components, the transfer function is second-order. \n",
    "- There are two real poles at about $s=-0.01$ and $s=-2000$. The slow pole (timeconstant about 100) corresponds to the approximate conserved moiety.\n",
    "- Thus the ECR acts a nearly ideal actuator: the flow $v$ depends on $E0$ only in a linear fashion.\n",
    "- However, the use of F and G to pump the actuator consumes energy - this is a typical performance/energy tradeoff in control systems.\n"
   ]
  },
  {
   "cell_type": "markdown",
   "metadata": {},
   "source": [
    "#  Product removal.\n",
    "The additional reaction **Re:R3** and species **Ce_BO** is added to the bond graph so that product B is removed. \n",
    "In the steady-state this means that $v = \\kappa_3 (K_B x_B - K_{B0} x_{B0})$, hence:\n",
    "\\begin{align}\n",
    "x_B &= k_{sys} v + k_{d}x_{B0}\\\\\n",
    "\\text{where }\n",
    "k_{sys} &= \\frac{1}{\\kappa_3 K_B}\\\\\n",
    "\\text{and }\n",
    "k_d &= \\frac{K_{B0}}{K_B}\n",
    "\\end{align}\n"
   ]
  },
  {
   "cell_type": "code",
   "execution_count": 8,
   "metadata": {},
   "outputs": [
    {
     "data": {
      "image/svg+xml": [
       "<svg height=\"315pt\" viewBox=\"203 -1597 9944 4994\" width=\"627pt\" xmlns=\"http://www.w3.org/2000/svg\" xmlns:xlink=\"http://www.w3.org/1999/xlink\">\n",
       "<g fill=\"none\">\n",
       "<!-- Line -->\n",
       "<rect height=\"4950\" rx=\"105\" stroke=\"#ffd600\" stroke-width=\"15px\" width=\"9900\" x=\"225\" y=\"-1575\"/>\n",
       "<!-- Text -->\n",
       "<text fill=\"#000000\" font-family=\"Helvetica\" font-size=\"216\" font-style=\"normal\" font-weight=\"bold\" text-anchor=\"middle\" x=\"5175\" xml:space=\"preserve\" y=\"-135\">1</text>\n",
       "<!-- Text -->\n",
       "<g transform=\"translate(6210,-225) rotate(-270)\">\n",
       "<text fill=\"#000000\" font-family=\"Helvetica\" font-size=\"216\" font-style=\"normal\" font-weight=\"bold\" text-anchor=\"middle\" x=\"0\" xml:space=\"preserve\" y=\"0\">Re:r0</text>\n",
       "</g><!-- Text -->\n",
       "<text fill=\"#000000\" font-family=\"Helvetica\" font-size=\"216\" font-style=\"normal\" font-weight=\"bold\" text-anchor=\"middle\" x=\"7425\" xml:space=\"preserve\" y=\"-1260\">Ce:E0</text>\n",
       "<!-- Text -->\n",
       "<text fill=\"#000000\" font-family=\"Helvetica\" font-size=\"216\" font-style=\"normal\" font-weight=\"bold\" text-anchor=\"middle\" x=\"7425\" xml:space=\"preserve\" y=\"-135\">0</text>\n",
       "<!-- Text -->\n",
       "<text fill=\"#000000\" font-family=\"Helvetica\" font-size=\"216\" font-style=\"normal\" font-weight=\"bold\" text-anchor=\"middle\" x=\"675\" xml:space=\"preserve\" y=\"990\">Ce:A</text>\n",
       "<!-- Text -->\n",
       "<text fill=\"#000000\" font-family=\"Helvetica\" font-size=\"216\" font-style=\"normal\" font-weight=\"bold\" text-anchor=\"middle\" x=\"1800\" xml:space=\"preserve\" y=\"3240\">Ce:F</text>\n",
       "<!-- Text -->\n",
       "<text fill=\"#000000\" font-family=\"Helvetica\" font-size=\"216\" font-style=\"normal\" font-weight=\"bold\" text-anchor=\"middle\" x=\"6300\" xml:space=\"preserve\" y=\"3240\">Ce:G</text>\n",
       "<!-- Text -->\n",
       "<text fill=\"#000000\" font-family=\"Helvetica\" font-size=\"216\" font-style=\"normal\" font-weight=\"bold\" text-anchor=\"middle\" x=\"1800\" xml:space=\"preserve\" y=\"2115\">1</text>\n",
       "<!-- Text -->\n",
       "<text fill=\"#000000\" font-family=\"Helvetica\" font-size=\"216\" font-style=\"normal\" font-weight=\"bold\" text-anchor=\"middle\" x=\"4050\" xml:space=\"preserve\" y=\"2115\">0</text>\n",
       "<!-- Text -->\n",
       "<text fill=\"#000000\" font-family=\"Helvetica\" font-size=\"216\" font-style=\"normal\" font-weight=\"bold\" text-anchor=\"middle\" x=\"4050\" xml:space=\"preserve\" y=\"990\">Ce:C</text>\n",
       "<!-- Text -->\n",
       "<text fill=\"#000000\" font-family=\"Helvetica\" font-size=\"216\" font-style=\"normal\" font-weight=\"bold\" text-anchor=\"middle\" x=\"7425\" xml:space=\"preserve\" y=\"990\">Ce:B</text>\n",
       "<!-- Text -->\n",
       "<text fill=\"#000000\" font-family=\"Helvetica\" font-size=\"216\" font-style=\"normal\" font-weight=\"bold\" text-anchor=\"middle\" x=\"7425\" xml:space=\"preserve\" y=\"2115\">0</text>\n",
       "<!-- Text -->\n",
       "<text fill=\"#000000\" font-family=\"Helvetica\" font-size=\"216\" font-style=\"normal\" font-weight=\"bold\" text-anchor=\"middle\" x=\"6300\" xml:space=\"preserve\" y=\"2115\">1</text>\n",
       "<!-- Text -->\n",
       "<text fill=\"#000000\" font-family=\"Helvetica\" font-size=\"216\" font-style=\"normal\" font-weight=\"bold\" text-anchor=\"middle\" x=\"675\" xml:space=\"preserve\" y=\"2115\">0</text>\n",
       "<!-- Text -->\n",
       "<g transform=\"translate(2835,2025) rotate(-270)\">\n",
       "<text fill=\"#000000\" font-family=\"Helvetica\" font-size=\"216\" font-style=\"normal\" font-weight=\"bold\" text-anchor=\"middle\" x=\"0\" xml:space=\"preserve\" y=\"0\">Re:r1</text>\n",
       "</g><!-- Text -->\n",
       "<g transform=\"translate(5085,2025) rotate(-270)\">\n",
       "<text fill=\"#000000\" font-family=\"Helvetica\" font-size=\"216\" font-style=\"normal\" font-weight=\"bold\" text-anchor=\"middle\" x=\"0\" xml:space=\"preserve\" y=\"0\">Re:r2</text>\n",
       "</g><!-- Text -->\n",
       "<text fill=\"#000000\" font-family=\"Helvetica\" font-size=\"216\" font-style=\"normal\" font-weight=\"bold\" text-anchor=\"middle\" x=\"4050\" xml:space=\"preserve\" y=\"-1260\">Ce:E</text>\n",
       "<!-- Text -->\n",
       "<text fill=\"#000000\" font-family=\"Helvetica\" font-size=\"216\" font-style=\"normal\" font-weight=\"bold\" text-anchor=\"middle\" x=\"4050\" xml:space=\"preserve\" y=\"-135\">0</text>\n",
       "<!-- Text -->\n",
       "<g transform=\"translate(8460,2025) rotate(-270)\">\n",
       "<text fill=\"#000000\" font-family=\"Helvetica\" font-size=\"216\" font-style=\"normal\" font-weight=\"bold\" text-anchor=\"middle\" x=\"0\" xml:space=\"preserve\" y=\"0\">Re:r3</text>\n",
       "</g><!-- Text -->\n",
       "<text fill=\"#000000\" font-family=\"Helvetica\" font-size=\"216\" font-style=\"normal\" font-weight=\"bold\" text-anchor=\"middle\" x=\"9675\" xml:space=\"preserve\" y=\"990\">Ce:B0</text>\n",
       "<!-- Text -->\n",
       "<text fill=\"#000000\" font-family=\"Helvetica\" font-size=\"216\" font-style=\"normal\" font-weight=\"bold\" text-anchor=\"middle\" x=\"9675\" xml:space=\"preserve\" y=\"2115\">0</text>\n",
       "<!-- Line -->\n",
       "<polyline points=\" 7425,-450 7425,-1125 7650,-900\" stroke=\"#000000\" stroke-width=\"15px\"/>\n",
       "<!-- Line -->\n",
       "<polyline points=\" 6075,1800 4275,0 4275,225\" stroke=\"#000000\" stroke-width=\"15px\"/>\n",
       "<!-- Line -->\n",
       "<polyline points=\" 3825,0 2025,1800 2250,1800\" stroke=\"#000000\" stroke-width=\"15px\"/>\n",
       "<!-- Line -->\n",
       "<polyline points=\" 900,2025 1575,2025 1350,2250\" stroke=\"#000000\" stroke-width=\"15px\"/>\n",
       "<!-- Line -->\n",
       "<polyline points=\" 6525,2025 7200,2025 6975,2250\" stroke=\"#000000\" stroke-width=\"15px\"/>\n",
       "<!-- Line -->\n",
       "<polyline points=\" 4050,1800 4050,1125 4275,1350\" stroke=\"#000000\" stroke-width=\"15px\"/>\n",
       "<!-- Line -->\n",
       "<polyline points=\" 7425,1800 7425,1125 7650,1350\" stroke=\"#000000\" stroke-width=\"15px\"/>\n",
       "<!-- Line -->\n",
       "<polyline points=\" 3150,2025 3825,2025 3600,2250\" stroke=\"#000000\" stroke-width=\"15px\"/>\n",
       "<!-- Line -->\n",
       "<polyline points=\" 4275,2025 4950,2025 4725,2250\" stroke=\"#000000\" stroke-width=\"15px\"/>\n",
       "<!-- Line -->\n",
       "<polyline points=\" 5400,2025 6075,2025 5850,2250\" stroke=\"#000000\" stroke-width=\"15px\"/>\n",
       "<!-- Line -->\n",
       "<polyline points=\" 2025,2025 2700,2025 2475,2250\" stroke=\"#000000\" stroke-width=\"15px\"/>\n",
       "<!-- Line -->\n",
       "<polyline points=\" 675,1800 675,1125 900,1350\" stroke=\"#000000\" stroke-width=\"15px\"/>\n",
       "<!-- Line -->\n",
       "<polyline points=\" 4050,-450 4050,-1125 4275,-900\" stroke=\"#000000\" stroke-width=\"15px\"/>\n",
       "<!-- Line -->\n",
       "<polyline points=\" 7650,2025 8325,2025 8100,2250\" stroke=\"#000000\" stroke-width=\"15px\"/>\n",
       "<!-- Line -->\n",
       "<polyline points=\" 8775,2025 9450,2025 9225,2250\" stroke=\"#000000\" stroke-width=\"15px\"/>\n",
       "<!-- Line -->\n",
       "<polyline points=\" 9675,1800 9675,1125 9900,1350\" stroke=\"#000000\" stroke-width=\"15px\"/>\n",
       "<!-- Line -->\n",
       "<polyline points=\" 1800,2925 1800,2250 2025,2475\" stroke=\"#000000\" stroke-width=\"15px\"/>\n",
       "<!-- Line -->\n",
       "<polyline points=\" 6300,2250 6300,2925 6525,2700\" stroke=\"#000000\" stroke-width=\"15px\"/>\n",
       "<!-- Line -->\n",
       "<polyline points=\" 4275,-225 4950,-225 4725,0\" stroke=\"#000000\" stroke-width=\"15px\"/>\n",
       "<!-- Line -->\n",
       "<polyline points=\" 5400,-225 6075,-225 5850,0\" stroke=\"#000000\" stroke-width=\"15px\"/>\n",
       "<!-- Line -->\n",
       "<polyline points=\" 6525,-225 7200,-225 6975,0\" stroke=\"#000000\" stroke-width=\"15px\"/>\n",
       "</g>\n",
       "</svg>"
      ],
      "text/plain": [
       "<IPython.core.display.SVG object>"
      ]
     },
     "execution_count": 8,
     "metadata": {},
     "output_type": "execute_result"
    }
   ],
   "source": [
    "sbg.model('pREpr_abg.svg')\n",
    "import pREpr_abg\n",
    "abg = pREpr_abg\n",
    "disp.SVG('pREpr_abg.svg')"
   ]
  },
  {
   "cell_type": "markdown",
   "metadata": {},
   "source": [
    "## Numerical Parameters"
   ]
  },
  {
   "cell_type": "code",
   "execution_count": 9,
   "metadata": {
    "scrolled": true
   },
   "outputs": [],
   "source": [
    "## Parameters\n",
    "K_B0 = 1\n",
    "X0_B0 = 1e-6\n",
    "kappa_r3 = 1\n",
    "\n",
    "pars = ['K_B0','X0_B0','kappa_r3']\n",
    "for par in pars:\n",
    "    parameter[par] = eval(par)\n",
    "#print(parameter)"
   ]
  },
  {
   "cell_type": "markdown",
   "metadata": {},
   "source": [
    "## Analyse"
   ]
  },
  {
   "cell_type": "code",
   "execution_count": 10,
   "metadata": {
    "scrolled": true
   },
   "outputs": [
    {
     "name": "stdout",
     "output_type": "stream",
     "text": [
      "\n",
      "==========================\n",
      "K_F = 10\n",
      "==========================\n",
      "0 states have been removed from the model\n",
      "0 states have been removed from the model\n",
      "i_B 1 i_dist 2\n",
      "\n",
      "Transfer function: phi_B/input \n",
      "3.331e-16 s^2 - 66.67 s + 1333\n",
      "------------------------------\n",
      "s^3 + 307.7 s^2 + 5007 s + 300\n",
      "\n",
      "\tgain: 4.444\n",
      "\tpoles: [-2.904e+02 -1.718e+01 -6.014e-02]\n",
      "\n",
      "Transfer function: phi_B/phi_B0 \n",
      "      s^2 + 287.7 s + 20\n",
      "------------------------------\n",
      "s^3 + 307.7 s^2 + 5007 s + 300\n",
      "\n",
      "\tgain: 0.067\n"
     ]
    },
    {
     "name": "stderr",
     "output_type": "stream",
     "text": [
      "/home/peterg/.local/lib/python3.6/site-packages/scipy/signal/filter_design.py:1619: BadCoefficients: Badly conditioned filter coefficients (numerator): the results may be meaningless\n",
      "  \"results may be meaningless\", BadCoefficients)\n"
     ]
    },
    {
     "name": "stdout",
     "output_type": "stream",
     "text": [
      "\n",
      "==========================\n",
      "K_F = 100\n",
      "==========================\n",
      "0 states have been removed from the model\n",
      "1 states have been removed from the model\n",
      "i_B 1 i_dist 2\n",
      "\n",
      "Transfer function: phi_B/input \n",
      "-1.11e-16 s^2 - 95.23 s + 1.905e+04\n",
      "-----------------------------------\n",
      "s^3 + 2127 s^2 + 2.319e+04 s + 210\n",
      "\n",
      "\tgain: 90.704\n",
      "\tpoles: [-2.116e+03 -1.095e+01 -9.062e-03]\n",
      "\n",
      "Transfer function: phi_B/phi_B0 \n",
      "        s^2 + 2116 s + 20\n",
      "----------------------------------\n",
      "s^3 + 2127 s^2 + 2.319e+04 s + 210\n",
      "\n",
      "\tgain: 0.095\n"
     ]
    },
    {
     "data": {
      "image/png": "[encoded data removed]",
      "text/plain": [
       "<Figure size 432x288 with 1 Axes>"
      ]
     },
     "metadata": {},
     "output_type": "display_data"
    },
    {
     "data": {
      "image/png": "[encoded data removed]",
      "text/plain": [
       "<Figure size 432x288 with 1 Axes>"
      ]
     },
     "metadata": {},
     "output_type": "display_data"
    }
   ],
   "source": [
    "chemostats=['E0','A','B0','F','G']\n",
    "s,sc,sf = stoichiometry(abg,chemostats=chemostats)\n",
    "#print(sf)\n",
    "Sys,SysX,x_ss,v_ss,dist_gain_X,in_gain_X,tf_in_pr = linearise(s,sc,i_r=3,dist='B0',t_step_max=1000,KK_F=KK_F)\n",
    "#con.ss2tf(Sys)"
   ]
  },
  {
   "cell_type": "code",
   "execution_count": 11,
   "metadata": {},
   "outputs": [
    {
     "name": "stdout",
     "output_type": "stream",
     "text": [
      "\n",
      "Computed steady-state values:\n",
      "x_ss_A = 2.000\n",
      "x_ss_F = 1.000\n",
      "x_ss_B = 95.229\n",
      "x_ss_B0 = 0.000\n",
      "\n",
      "The control system gains:\n",
      "k_sys = 0.100\n",
      "k_dist = 0.100\n",
      "Setpoint gain: Theory = 100.0 , Linearised= 90.704\n",
      "Disturbance gain: Theory = 0.1 , Linearised= 0.095\n"
     ]
    }
   ],
   "source": [
    "print('\\nComputed steady-state values:')\n",
    "exec(extractSS(s,x_ss,['A','F','B','B0']))\n",
    "\n",
    "print('\\nThe control system gains:')\n",
    "k_sys = 1/(kappa_r3*K_B)\n",
    "k_dist = K_B0/K_B\n",
    "print('k_sys =', fmt.format(k_sys))\n",
    "print('k_dist =', fmt.format(k_dist))\n",
    "\n",
    "print('Setpoint gain: Theory =', k_act*k_sys, ', Linearised=',fmt.format(in_gain_X ))\n",
    "print('Disturbance gain: Theory =',k_dist, ', Linearised=',fmt.format(dist_gain_X ))"
   ]
  },
  {
   "cell_type": "markdown",
   "metadata": {},
   "source": [
    "## Discussion\n",
    "\n",
    "- As there are three non-chemostated **Ce** components, the transfer function is third-order. \n",
    "- There are three real poles. The two at about $s=-0.01$ and $s=-2000$ corespond to the actuator, the third at about $s=-10$ corresponds to the product removal.\n",
    "- If isolated, the product removal pole would be at $s = -\\kappa_{r3}K_B=-10$. The degree of isolation depends on $K_F$ ($K_G=1/K_F$); large values of $K_F$ do indeed give a pole close to $s=-10$.\n",
    "- The high gains and the lack of feedback lead to an ill-defined response and numerical issues\n"
   ]
  },
  {
   "cell_type": "markdown",
   "metadata": {},
   "source": [
    "# Feedback Control\n",
    "\n",
    "Feedback is added using the red bonds in the Figure. The reaction relating E and E0 now contains B:\n",
    "\\ch{E + N B <> [ r0 ] E0} where $N=5$.\n",
    "In the steady state, this implies that:\n",
    "\\begin{align}\n",
    "    K_E K_B^N x_E x_B^N = K_{E0} x_{E0}\n",
    "\\end{align}\n",
    "For a given steady state this can be linearised to give:\n",
    "\\begin{align}\n",
    "    K_E K_B^N (\\bar{x}_B^N\\tilde{x}_E  + \\bar{x}_E N \\bar{x}_B^{N-1} \\tilde{x}_B) = K_{E0} \\tilde{x}_{E0}\n",
    "\\end{align}\n",
    "This can be rewritten as:\n",
    "\\begin{align}\n",
    "\\tilde{x}_E &= k_{fb} (k_{w}\\tilde{x}_{E0} - \\tilde{x}_B) \\label{eq:fb}\\\\\n",
    "\\text{where }\n",
    "k_{fb} &= N\\frac{\\bar{x}_E}{\\bar{x}_B}\\\\\n",
    "\\text{and }\n",
    "k_{w} &= \\frac{1}{k_{fb}}\\frac{K_{E0}}{ K_E K_B^N \\bar{x}_B^{N} }\n",
    "\\end{align}\n",
    "\n",
    "Equation \\ref{eq:fb} represents negative feedback where:\n",
    "\n",
    "- $k_b$ is the feedback gain\n",
    "- $\\tilde{x}_B$ is the controllled output and\n",
    "- $k_{w}\\tilde{x}_{E0}$ is the setpoint.\n",
    "\n",
    "In system biology terms, this is an example of *feedback inhibition* with multiple binding sites."
   ]
  },
  {
   "cell_type": "code",
   "execution_count": 12,
   "metadata": {},
   "outputs": [
    {
     "data": {
      "text/plain": [
       "<module 'fREpr_abg' from '/home/peterg/WORK/Research/SystemsBiology/Notes/2020/fECR/fREpr_abg.py'>"
      ]
     },
     "execution_count": 12,
     "metadata": {},
     "output_type": "execute_result"
    },
    {
     "data": {
      "image/svg+xml": [
       "<svg height=\"315pt\" viewBox=\"203 -1597 9944 4994\" width=\"627pt\" xmlns=\"http://www.w3.org/2000/svg\" xmlns:xlink=\"http://www.w3.org/1999/xlink\">\n",
       "<g fill=\"none\">\n",
       "<!-- Line -->\n",
       "<rect height=\"4950\" rx=\"105\" stroke=\"#ffd600\" stroke-width=\"15px\" width=\"9900\" x=\"225\" y=\"-1575\"/>\n",
       "<!-- Text -->\n",
       "<text fill=\"#000000\" font-family=\"Helvetica\" font-size=\"216\" font-style=\"normal\" font-weight=\"bold\" text-anchor=\"middle\" x=\"5175\" xml:space=\"preserve\" y=\"-135\">1</text>\n",
       "<!-- Text -->\n",
       "<g transform=\"translate(6210,-225) rotate(-270)\">\n",
       "<text fill=\"#000000\" font-family=\"Helvetica\" font-size=\"216\" font-style=\"normal\" font-weight=\"bold\" text-anchor=\"middle\" x=\"0\" xml:space=\"preserve\" y=\"0\">Re:r0</text>\n",
       "</g><!-- Text -->\n",
       "<text fill=\"#000000\" font-family=\"Helvetica\" font-size=\"216\" font-style=\"normal\" font-weight=\"bold\" text-anchor=\"middle\" x=\"7425\" xml:space=\"preserve\" y=\"-1260\">Ce:E0</text>\n",
       "<!-- Text -->\n",
       "<text fill=\"#000000\" font-family=\"Helvetica\" font-size=\"216\" font-style=\"normal\" font-weight=\"bold\" text-anchor=\"middle\" x=\"7425\" xml:space=\"preserve\" y=\"-135\">0</text>\n",
       "<!-- Text -->\n",
       "<text fill=\"#000000\" font-family=\"Helvetica\" font-size=\"216\" font-style=\"normal\" font-weight=\"bold\" text-anchor=\"middle\" x=\"675\" xml:space=\"preserve\" y=\"990\">Ce:A</text>\n",
       "<!-- Text -->\n",
       "<text fill=\"#000000\" font-family=\"Helvetica\" font-size=\"216\" font-style=\"normal\" font-weight=\"bold\" text-anchor=\"middle\" x=\"1800\" xml:space=\"preserve\" y=\"3240\">Ce:F</text>\n",
       "<!-- Text -->\n",
       "<text fill=\"#000000\" font-family=\"Helvetica\" font-size=\"216\" font-style=\"normal\" font-weight=\"bold\" text-anchor=\"middle\" x=\"6300\" xml:space=\"preserve\" y=\"3240\">Ce:G</text>\n",
       "<!-- Text -->\n",
       "<text fill=\"#000000\" font-family=\"Helvetica\" font-size=\"216\" font-style=\"normal\" font-weight=\"bold\" text-anchor=\"middle\" x=\"1800\" xml:space=\"preserve\" y=\"2115\">1</text>\n",
       "<!-- Text -->\n",
       "<text fill=\"#000000\" font-family=\"Helvetica\" font-size=\"216\" font-style=\"normal\" font-weight=\"bold\" text-anchor=\"middle\" x=\"4050\" xml:space=\"preserve\" y=\"2115\">0</text>\n",
       "<!-- Text -->\n",
       "<text fill=\"#000000\" font-family=\"Helvetica\" font-size=\"216\" font-style=\"normal\" font-weight=\"bold\" text-anchor=\"middle\" x=\"4050\" xml:space=\"preserve\" y=\"990\">Ce:C</text>\n",
       "<!-- Text -->\n",
       "<text fill=\"#000000\" font-family=\"Helvetica\" font-size=\"216\" font-style=\"normal\" font-weight=\"bold\" text-anchor=\"middle\" x=\"7425\" xml:space=\"preserve\" y=\"990\">Ce:B</text>\n",
       "<!-- Text -->\n",
       "<text fill=\"#000000\" font-family=\"Helvetica\" font-size=\"216\" font-style=\"normal\" font-weight=\"bold\" text-anchor=\"middle\" x=\"7425\" xml:space=\"preserve\" y=\"2115\">0</text>\n",
       "<!-- Text -->\n",
       "<text fill=\"#000000\" font-family=\"Helvetica\" font-size=\"216\" font-style=\"normal\" font-weight=\"bold\" text-anchor=\"middle\" x=\"6300\" xml:space=\"preserve\" y=\"2115\">1</text>\n",
       "<!-- Text -->\n",
       "<text fill=\"#000000\" font-family=\"Helvetica\" font-size=\"216\" font-style=\"normal\" font-weight=\"bold\" text-anchor=\"middle\" x=\"675\" xml:space=\"preserve\" y=\"2115\">0</text>\n",
       "<!-- Text -->\n",
       "<g transform=\"translate(2835,2025) rotate(-270)\">\n",
       "<text fill=\"#000000\" font-family=\"Helvetica\" font-size=\"216\" font-style=\"normal\" font-weight=\"bold\" text-anchor=\"middle\" x=\"0\" xml:space=\"preserve\" y=\"0\">Re:r1</text>\n",
       "</g><!-- Text -->\n",
       "<g transform=\"translate(5085,2025) rotate(-270)\">\n",
       "<text fill=\"#000000\" font-family=\"Helvetica\" font-size=\"216\" font-style=\"normal\" font-weight=\"bold\" text-anchor=\"middle\" x=\"0\" xml:space=\"preserve\" y=\"0\">Re:r2</text>\n",
       "</g><!-- Text -->\n",
       "<text fill=\"#000000\" font-family=\"Helvetica\" font-size=\"216\" font-style=\"normal\" font-weight=\"bold\" text-anchor=\"middle\" x=\"4050\" xml:space=\"preserve\" y=\"-1260\">Ce:E</text>\n",
       "<!-- Text -->\n",
       "<text fill=\"#000000\" font-family=\"Helvetica\" font-size=\"216\" font-style=\"normal\" font-weight=\"bold\" text-anchor=\"middle\" x=\"4050\" xml:space=\"preserve\" y=\"-135\">0</text>\n",
       "<!-- Text -->\n",
       "<g transform=\"translate(8460,2025) rotate(-270)\">\n",
       "<text fill=\"#000000\" font-family=\"Helvetica\" font-size=\"216\" font-style=\"normal\" font-weight=\"bold\" text-anchor=\"middle\" x=\"0\" xml:space=\"preserve\" y=\"0\">Re:r3</text>\n",
       "</g><!-- Text -->\n",
       "<text fill=\"#000000\" font-family=\"Helvetica\" font-size=\"216\" font-style=\"normal\" font-weight=\"bold\" text-anchor=\"middle\" x=\"9675\" xml:space=\"preserve\" y=\"990\">Ce:B0</text>\n",
       "<!-- Text -->\n",
       "<text fill=\"#000000\" font-family=\"Helvetica\" font-size=\"216\" font-style=\"normal\" font-weight=\"bold\" text-anchor=\"middle\" x=\"9675\" xml:space=\"preserve\" y=\"2115\">0</text>\n",
       "<!-- Line -->\n",
       "<polyline points=\" 7425,-450 7425,-1125 7650,-900\" stroke=\"#000000\" stroke-width=\"15px\"/>\n",
       "<!-- Line -->\n",
       "<polyline points=\" 6075,1800 4275,0 4275,225\" stroke=\"#000000\" stroke-width=\"15px\"/>\n",
       "<!-- Line -->\n",
       "<polyline points=\" 3825,0 2025,1800 2250,1800\" stroke=\"#000000\" stroke-width=\"15px\"/>\n",
       "<!-- Line -->\n",
       "<polyline points=\" 900,2025 1575,2025 1350,2250\" stroke=\"#000000\" stroke-width=\"15px\"/>\n",
       "<!-- Line -->\n",
       "<polyline points=\" 4050,1800 4050,1125 4275,1350\" stroke=\"#000000\" stroke-width=\"15px\"/>\n",
       "<!-- Line -->\n",
       "<polyline points=\" 7425,1800 7425,1125 7650,1350\" stroke=\"#000000\" stroke-width=\"15px\"/>\n",
       "<!-- Line -->\n",
       "<polyline points=\" 3150,2025 3825,2025 3600,2250\" stroke=\"#000000\" stroke-width=\"15px\"/>\n",
       "<!-- Line -->\n",
       "<polyline points=\" 4275,2025 4950,2025 4725,2250\" stroke=\"#000000\" stroke-width=\"15px\"/>\n",
       "<!-- Line -->\n",
       "<polyline points=\" 5400,2025 6075,2025 5850,2250\" stroke=\"#000000\" stroke-width=\"15px\"/>\n",
       "<!-- Line -->\n",
       "<polyline points=\" 2025,2025 2700,2025 2475,2250\" stroke=\"#000000\" stroke-width=\"15px\"/>\n",
       "<!-- Line -->\n",
       "<polyline points=\" 675,1800 675,1125 900,1350\" stroke=\"#000000\" stroke-width=\"15px\"/>\n",
       "<!-- Line -->\n",
       "<polyline points=\" 4050,-450 4050,-1125 4275,-900\" stroke=\"#000000\" stroke-width=\"15px\"/>\n",
       "<!-- Line -->\n",
       "<polyline points=\" 4275,-225 4950,-225 4725,0\" stroke=\"#000000\" stroke-width=\"15px\"/>\n",
       "<!-- Line -->\n",
       "<polyline points=\" 5400,-225 6075,-225 5850,0\" stroke=\"#000000\" stroke-width=\"15px\"/>\n",
       "<!-- Line -->\n",
       "<polyline points=\" 6525,-225 7200,-225 6975,0\" stroke=\"#000000\" stroke-width=\"15px\"/>\n",
       "<!-- Line -->\n",
       "<polyline points=\" 7650,2025 8325,2025 8100,2250\" stroke=\"#000000\" stroke-width=\"15px\"/>\n",
       "<!-- Line -->\n",
       "<polyline points=\" 8775,2025 9450,2025 9225,2250\" stroke=\"#000000\" stroke-width=\"15px\"/>\n",
       "<!-- Line -->\n",
       "<polyline points=\" 9675,1800 9675,1125 9900,1350\" stroke=\"#000000\" stroke-width=\"15px\"/>\n",
       "<!-- Line -->\n",
       "<polyline points=\" 1800,2925 1800,2250 2025,2475\" stroke=\"#000000\" stroke-width=\"15px\"/>\n",
       "<!-- Line -->\n",
       "<polyline points=\" 6300,2250 6300,2925 6525,2700\" stroke=\"#000000\" stroke-width=\"15px\"/>\n",
       "<!-- Line -->\n",
       "<polyline points=\" 6525,2025 7200,2025 6975,2250\" stroke=\"#000000\" stroke-width=\"15px\"/>\n",
       "<!-- Line -->\n",
       "<polyline points=\" 7200,1800 5400,0 5400,225\" stroke=\"#ff0000\" stroke-width=\"15px\"/>\n",
       "<!-- Line -->\n",
       "<polyline points=\" 7020,1800 5220,0 5220,225\" stroke=\"#ff0000\" stroke-width=\"15px\"/>\n",
       "<!-- Line -->\n",
       "<polyline points=\" 7380,1800 5580,0 5580,225\" stroke=\"#ff0000\" stroke-width=\"15px\"/>\n",
       "<!-- Line -->\n",
       "<polyline points=\" 7110,1800 5310,0 5310,225\" stroke=\"#ff0000\" stroke-width=\"15px\"/>\n",
       "<!-- Line -->\n",
       "<polyline points=\" 7290,1800 5490,0 5490,225\" stroke=\"#ff0000\" stroke-width=\"15px\"/>\n",
       "</g>\n",
       "</svg>"
      ],
      "text/plain": [
       "<IPython.core.display.SVG object>"
      ]
     },
     "execution_count": 12,
     "metadata": {},
     "output_type": "execute_result"
    }
   ],
   "source": [
    "sbg.model('fREpr_abg.svg')\n",
    "import fREpr_abg\n",
    "imp.reload(fREpr_abg)\n",
    "abg = fREpr_abg\n",
    "disp.SVG('fREpr_abg.svg')"
   ]
  },
  {
   "cell_type": "markdown",
   "metadata": {},
   "source": [
    "## Numerical Parameters"
   ]
  },
  {
   "cell_type": "code",
   "execution_count": 13,
   "metadata": {},
   "outputs": [],
   "source": [
    "## Number of feedback bonds\n",
    "N=5\n",
    "K_E0 = K_B**N\n",
    "parameter['K_E0'] = K_E0"
   ]
  },
  {
   "cell_type": "markdown",
   "metadata": {},
   "source": [
    "## Analyse"
   ]
  },
  {
   "cell_type": "code",
   "execution_count": 14,
   "metadata": {},
   "outputs": [
    {
     "name": "stdout",
     "output_type": "stream",
     "text": [
      "\n",
      "==========================\n",
      "K_F = 10\n",
      "==========================\n",
      "0 states have been removed from the model\n",
      "1 states have been removed from the model\n",
      "i_B 1 i_dist 2\n",
      "\n",
      "Transfer function: phi_B/input \n",
      "     5e+05 s^2 + 1.158e+08 s + 1.855e+08\n",
      "---------------------------------------------\n",
      "s^3 + 2.365e+06 s^2 + 4.146e+08 s + 7.779e+08\n",
      "\n",
      "\tgain: 0.238\n",
      "\tpoles: [-2.365e+06 -1.734e+02 -1.897e+00]\n",
      "\n",
      "Transfer function: phi_B/phi_B0 \n",
      "        s^2 + 6.401e+05 s + 1.28e+07\n",
      "---------------------------------------------\n",
      "s^3 + 2.365e+06 s^2 + 4.146e+08 s + 7.779e+08\n",
      "\n",
      "\tgain: 0.016\n",
      "\n",
      "==========================\n",
      "K_F = 100\n",
      "==========================\n",
      "0 states have been removed from the model\n",
      "1 states have been removed from the model\n",
      "i_B 1 i_dist 2\n",
      "\n",
      "Transfer function: phi_B/input \n",
      "    5e+05 s^2 + 1.011e+09 s + 1.998e+09\n",
      "-------------------------------------------\n",
      "s^3 + 5.8e+06 s^2 + 2.485e+09 s + 5.566e+09\n",
      "\n",
      "\tgain: 0.359\n",
      "\tpoles: [-5.800e+06 -4.263e+02 -2.251e+00]\n",
      "\n",
      "Transfer function: phi_B/phi_B0 \n",
      "       s^2 + 4.639e+06 s + 9.275e+07\n",
      "-------------------------------------------\n",
      "s^3 + 5.8e+06 s^2 + 2.485e+09 s + 5.566e+09\n",
      "\n",
      "\tgain: 0.017\n"
     ]
    },
    {
     "data": {
      "image/png": "[encoded data removed]",
      "text/plain": [
       "<Figure size 432x288 with 1 Axes>"
      ]
     },
     "metadata": {},
     "output_type": "display_data"
    },
    {
     "data": {
      "image/png": "[encoded data removed]",
      "text/plain": [
       "<Figure size 432x288 with 1 Axes>"
      ]
     },
     "metadata": {},
     "output_type": "display_data"
    }
   ],
   "source": [
    "s,sc,sf = stoichiometry(abg,chemostats=chemostats)\n",
    "Sys,SysX,x_ss,v_ss,dist_gain_X,in_gain_X,tf_in_fb = linearise(s,sc,sf=None,i_r=3,dist='B0',t_step_max=5,KK_F=KK_F)"
   ]
  },
  {
   "cell_type": "markdown",
   "metadata": {},
   "source": [
    "## Control system analysis"
   ]
  },
  {
   "cell_type": "code",
   "execution_count": 15,
   "metadata": {
    "scrolled": true
   },
   "outputs": [
    {
     "name": "stdout",
     "output_type": "stream",
     "text": [
      "\n",
      "Computed steady-state values:\n",
      "x_ss_A = 2.000\n",
      "x_ss_B = 2.154\n",
      "x_ss_E = 0.022\n",
      "x_ss_C = 2.159\n",
      "x_ss_F = 1.000\n",
      "\n",
      "The control system gains:\n",
      "k_act = 1000.000\n",
      "k_fb = 0.050\n",
      "k_sys = 0.100\n",
      "\n",
      "Feedback loop analysis:\n",
      "L = 5.005\n",
      "L/(1+L) = 0.833\n",
      "Disturbance gain. Theory: 0.017 , Linearised: 0.017\n",
      "Setpoint gain.    Theory: 0.359 , Linearised: 0.359\n"
     ]
    }
   ],
   "source": [
    "print('\\nComputed steady-state values:')\n",
    "species = ['A','B','E','C','F']\n",
    "exec(extractSS(s,x_ss,species))\n",
    "print('\\nThe control system gains:')\n",
    "k_act = (kappa/2)*K_A*K_E*K_F*x_ss_A*x_ss_F\n",
    "print('k_act =', fmt.format(k_act))\n",
    "k_fb = N*(x_ss_E/x_ss_B)\n",
    "print('k_fb =', fmt.format(k_fb))\n",
    "k_sys = 1/(kappa_r3*K_B)\n",
    "k_dist = K_B0/K_B\n",
    "k_w = ((K_E0/K_E)/(K_B*x_ss_B)**N)/k_fb\n",
    "print('k_sys =', fmt.format(k_sys))\n",
    "\n",
    "print('\\nFeedback loop analysis:')\n",
    "L = k_act*k_fb*k_sys\n",
    "print('L =', fmt.format(L))\n",
    "print('L/(1+L) =', fmt.format(L/(1+L)))\n",
    "print('Disturbance gain. Theory:',fmt.format(k_dist/(1+L)), ', Linearised:',fmt.format(dist_gain_X))\n",
    "print('Setpoint gain.    Theory:',fmt.format(k_w*L/(1+L)), ', Linearised:', fmt.format(in_gain_X))\n"
   ]
  },
  {
   "cell_type": "markdown",
   "metadata": {},
   "source": [
    "## Discussion\n",
    "\n",
    "- The system output $x_B$ has a well-defined response to both setpoint $w=x_{E0}$ and disturbance $d=x_{B0}$.\n",
    "- The linear response steady-state gain is as predicted by the theory for the given parameters.\n",
    "- The dynamic reponse is simple as the system dynamics are simple. If the product removal 'system' were replace by a long chain of reactions, the dynamic response would be more complicated.\n",
    "- As there are three non-chemostated **Ce** components, the transfer function is third-order.\n",
    "- Compared to the open-loop case, the feedback has moved the poles. In particular the slowest pole, which dominates the response, is now at about $s = -2.25$."
   ]
  },
  {
   "cell_type": "markdown",
   "metadata": {},
   "source": [
    "# Nonlinear simulation"
   ]
  },
  {
   "cell_type": "code",
   "execution_count": 16,
   "metadata": {
    "scrolled": true
   },
   "outputs": [
    {
     "name": "stdout",
     "output_type": "stream",
     "text": [
      "NON-LINEAR SIMULATION\n"
     ]
    },
    {
     "data": {
      "image/png": "[encoded data removed]",
      "text/plain": [
       "<Figure size 432x288 with 2 Axes>"
      ]
     },
     "metadata": {},
     "output_type": "display_data"
    },
    {
     "data": {
      "image/png": "[encoded data removed]",
      "text/plain": [
       "<Figure size 432x288 with 2 Axes>"
      ]
     },
     "metadata": {},
     "output_type": "display_data"
    },
    {
     "data": {
      "text/plain": [
       "[<matplotlib.lines.Line2D at 0x7f4bc1136a20>]"
      ]
     },
     "execution_count": 16,
     "metadata": {},
     "output_type": "execute_result"
    },
    {
     "data": {
      "text/plain": [
       "Text(0.5,0,'$t$')"
      ]
     },
     "execution_count": 16,
     "metadata": {},
     "output_type": "execute_result"
    },
    {
     "data": {
      "text/plain": [
       "Text(0,0.5,'$e_0$')"
      ]
     },
     "execution_count": 16,
     "metadata": {},
     "output_type": "execute_result"
    },
    {
     "data": {
      "image/png": "[encoded data removed]",
      "text/plain": [
       "<Figure size 432x288 with 1 Axes>"
      ]
     },
     "metadata": {},
     "output_type": "display_data"
    },
    {
     "name": "stdout",
     "output_type": "stream",
     "text": [
      "LINEAR SIMULATION\n"
     ]
    },
    {
     "data": {
      "image/png": "[encoded data removed]",
      "text/plain": [
       "<Figure size 432x288 with 2 Axes>"
      ]
     },
     "metadata": {},
     "output_type": "display_data"
    },
    {
     "data": {
      "image/png": "[encoded data removed]",
      "text/plain": [
       "<Figure size 432x288 with 2 Axes>"
      ]
     },
     "metadata": {},
     "output_type": "display_data"
    }
   ],
   "source": [
    "##Time\n",
    "t_max = int(100)\n",
    "t = np.linspace(0,t_max,1000)\n",
    "t_0_0 = 10\n",
    "t_1_0 = 25\n",
    "t_0_d = 50\n",
    "t_1_d = 75\n",
    "\n",
    "step_0 = 1\n",
    "step_d = 1\n",
    "print('NON-LINEAR SIMULATION')\n",
    "## Chemostat\n",
    "chemo = '({0}+{1}*(np.heaviside(t-{2},1)-np.heaviside(t-{3},1)))'\n",
    "x_chemo_0 =     chemo.format(parameter['X0_E0'],str(step_0),str(t_0_0),str(t_1_0))\n",
    "x_chemo_b =     chemo.format(parameter['X0_B0'],str(step_d),str(t_0_d),str(t_1_d))\n",
    "\n",
    "## Simulate\n",
    "X_chemo = {'B0':x_chemo_b,'E0':x_chemo_0}\n",
    "ndat = st.sim(s,sc=sc,t=t,parameter=parameter,X0=x_ss,X_chemo=X_chemo,quiet=quiet)\n",
    "\n",
    "\n",
    "##Plot\n",
    "st.plot(s,ndat,species=['B'],reaction=['r3'],x_ss=x_ss,v_ss=v_ss)\n",
    "st.plot(s,ndat,species=['E'],reaction=['r0'],x_ss=x_ss,v_ss=v_ss)\n",
    "\n",
    "X = ndat['X']\n",
    "X_E = X[:,s['species'].index('E')]\n",
    "X_C = X[:,s['species'].index('C')]\n",
    "e0 = X_E + X_C\n",
    "plt.plot(t,e0)\n",
    "plt.grid()\n",
    "plt.xlabel('$t$')\n",
    "plt.ylabel('$e_0$')\n",
    "plt.show()\n",
    "\n",
    "print('LINEAR SIMULATION')\n",
    "## Chemostat\n",
    "x_chemo_0 =     chemo.format('1e-6',str(step_0),str(t_0_0),str(t_1_0))\n",
    "x_chemo_b =     chemo.format('1e-6',str(step_d),str(t_0_d),str(t_1_d))\n",
    "X_chemo = {'B0':x_chemo_b,'E0':x_chemo_0}\n",
    "ldat = st.sim(s,sc=sc,t=t,parameter=parameter,X0=x_ss,X_chemo=X_chemo,linear=True,V0=v_ss,quiet=quiet)\n",
    "st.plot(s,ldat,species=['B'],reaction=['r3'],x_ss=x_ss,v_ss=v_ss)\n",
    "st.plot(s,ndat,species=['E'],reaction=['r0'],x_ss=x_ss,v_ss=v_ss)"
   ]
  },
  {
   "cell_type": "markdown",
   "metadata": {},
   "source": [
    "## Discussion\n",
    "\n",
    "- The non linear response has similar behaviour to the linear case although the values are different for a non-infinitesimal step.\n",
    "- The net enzyme $e_0 = x_E+x_C$ is directly manipulated by the feedback system to adjust product flow driven by the actuator. "
   ]
  },
  {
   "cell_type": "markdown",
   "metadata": {},
   "source": [
    "# Conclusion\n",
    "\n",
    "- A control-theoretical appoach via linearisation has been used to give insight into the behavior of a simple biomolecular system with product inhibition.\n",
    "\n",
    "- Although linearisation is used to provide insights, the full non-linear system is still available for further analysis and simulation. In particular, energy flows are still available in the non-linear bond graph model.\n",
    "\n",
    "- The role of *pumping* to endow the 'actuator' with desirable decoupling properties is emphasised.\n",
    "\n",
    "- the feedback system has five chemostats: E0, F, G, A, B0. These can become ports to interact with the wider system. \n",
    "\n",
    "- it would be interesting to look at a real enzyme such as PFK.\n"
   ]
  },
  {
   "cell_type": "code",
   "execution_count": null,
   "metadata": {},
   "outputs": [],
   "source": []
  }
 ],
 "metadata": {
  "kernelspec": {
   "display_name": "Python 3",
   "language": "python",
   "name": "python3"
  },
  "language_info": {
   "codemirror_mode": {
    "name": "ipython",
    "version": 3
   },
   "file_extension": ".py",
   "mimetype": "text/x-python",
   "name": "python",
   "nbconvert_exporter": "python",
   "pygments_lexer": "ipython3",
   "version": "3.6.9"
  },
  "toc": {
   "base_numbering": 1,
   "nav_menu": {},
   "number_sections": true,
   "sideBar": true,
   "skip_h1_title": false,
   "title_cell": "Table of Contents",
   "title_sidebar": "Contents",
   "toc_cell": false,
   "toc_position": {},
   "toc_section_display": true,
   "toc_window_display": false
  }
 },
 "nbformat": 4,
 "nbformat_minor": 4
}
