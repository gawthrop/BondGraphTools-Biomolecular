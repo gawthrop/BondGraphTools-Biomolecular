{
 "cells": [
  {
   "cell_type": "markdown",
   "metadata": {},
   "source": [
    "***Note: this is the Linearisation.ipynb notebook. The\n",
    "PDF version \"Linearisation of Biomolecular Systems\"\n",
    "is available [here](Linearisation.pdf).***"
   ]
  },
  {
   "cell_type": "markdown",
   "metadata": {},
   "source": [
    "# Introduction\n",
    "As discussed by <cite data-cite=\"GawCra16\">(Gawthrop and Crampin, 2016)</cite>:\n",
    "\n",
    "\"The bond graph approach gives the set of *nonlinear* ordinary\n",
    "differential equations describing the biomolecular system being modelled.\n",
    "Linearisation of non-linear systems is a standard technique in control\n",
    "engineering: as discussed by \n",
    "<cite data-cite=\"GooGraSal01\">(Goodwin, Graebe and Salgado)</cite>, \n",
    "\"The incentive to\n",
    "try to approximate a nonlinear system by a linear model is that the\n",
    "science and art of linear control is vastly more complete and simpler\n",
    "than they are for the nonlinear case.\". Nevertheless, it is important\n",
    "to realise that conclusions drawn from linearisation can only be\n",
    "verified using the full *nonlinear* equations.\"\n",
    "\n",
    "This notebook tutorial examines the linearisation of bond graph models in the context of biomolecular systems using two simple examples:\n",
    "\n",
    "1. An enzyme-catalysed reaction \n",
    "2. An enzyme-catalysed reaction with product removal\n",
    "\n",
    "As will be seen, the first example is actually linear given the particular choce of chemostats; the second is non-linear the deviation from linearity is examined.\n",
    "\n",
    "Linearisation of a dynamic system $\\dot x = f(x,v)$ is with reference to a steady state defined by constant states $x=x_{ss}$ and constant flows $v=v_{ss}$ such that $f(x_{ss},v_{ss})=0$. In general, determination of steady-states is a difficult problem and can only be determined numerically. Some theoretical results are given by <cite data-cite=\"Gaw18\">(Gawthrop, 2018)</cite>. In this tutorial, steady-states can be determined theoretically."
   ]
  },
  {
   "cell_type": "markdown",
   "metadata": {},
   "source": [
    "## Import some python code\n",
    "The bond graph analysis uses a number of Python modules:"
   ]
  },
  {
   "cell_type": "code",
   "execution_count": 1,
   "metadata": {},
   "outputs": [],
   "source": [
    "## Some useful imports\n",
    "import BondGraphTools as bgt\n",
    "import numpy as np\n",
    "import sympy as sp\n",
    "import matplotlib.pyplot as plt\n",
    "import IPython.display as disp\n",
    "\n",
    "## Stoichiometric analysis\n",
    "import stoich as st\n",
    "\n",
    "## SVG bg representation conversion\n",
    "import svgBondGraph as sbg\n",
    "\n",
    "## Control systems package\n",
    "import control as con\n",
    "\n",
    "## Set quiet=False for verbose output\n",
    "quiet = True\n",
    "\n",
    "## Set slycot=True if slycot is installed (see control module)\n",
    "slycot=True\n"
   ]
  },
  {
   "cell_type": "markdown",
   "metadata": {},
   "source": [
    "# Example system: enzyme-catalysed reaction\n",
    "The bond graph representation of the (reversible) enzyme-catalysed reaction is given by\n",
    "<cite data-cite=\"GawCra14\">(Gawthrop and Crampin, 2014)</cite> and is discussed in the tutorial [ECR](ECR.ipynb).\n",
    "\n",
    "The additional species $E0$ represents a reservoir of enzyme coupled to the ECR via the reaction $r0$. \n",
    "$E0$ is used as a chemostat to adjust the total amount of enzyme associated with the ECR."
   ]
  },
  {
   "cell_type": "code",
   "execution_count": 2,
   "metadata": {},
   "outputs": [
    {
     "data": {
      "image/svg+xml": [
       "<svg height=\"258pt\" viewBox=\"203 -1597 7694 4094\" width=\"485pt\" xmlns=\"http://www.w3.org/2000/svg\" xmlns:xlink=\"http://www.w3.org/1999/xlink\">\n",
       "<g fill=\"none\">\n",
       "<!-- Line -->\n",
       "<rect height=\"4050\" rx=\"105\" stroke=\"#ffd600\" stroke-width=\"15px\" width=\"7650\" x=\"225\" y=\"-1575\"/>\n",
       "<!-- Text -->\n",
       "<text fill=\"#000000\" font-family=\"Helvetica\" font-size=\"216\" font-style=\"normal\" font-weight=\"bold\" text-anchor=\"middle\" x=\"1800\" xml:space=\"preserve\" y=\"2115\">1</text>\n",
       "<!-- Text -->\n",
       "<text fill=\"#000000\" font-family=\"Helvetica\" font-size=\"216\" font-style=\"normal\" font-weight=\"bold\" text-anchor=\"middle\" x=\"4050\" xml:space=\"preserve\" y=\"2115\">0</text>\n",
       "<!-- Text -->\n",
       "<text fill=\"#000000\" font-family=\"Helvetica\" font-size=\"216\" font-style=\"normal\" font-weight=\"bold\" text-anchor=\"middle\" x=\"4050\" xml:space=\"preserve\" y=\"990\">Ce:C</text>\n",
       "<!-- Text -->\n",
       "<text fill=\"#000000\" font-family=\"Helvetica\" font-size=\"216\" font-style=\"normal\" font-weight=\"bold\" text-anchor=\"middle\" x=\"7425\" xml:space=\"preserve\" y=\"990\">Ce:B</text>\n",
       "<!-- Text -->\n",
       "<text fill=\"#000000\" font-family=\"Helvetica\" font-size=\"216\" font-style=\"normal\" font-weight=\"bold\" text-anchor=\"middle\" x=\"7425\" xml:space=\"preserve\" y=\"2115\">0</text>\n",
       "<!-- Text -->\n",
       "<text fill=\"#000000\" font-family=\"Helvetica\" font-size=\"216\" font-style=\"normal\" font-weight=\"bold\" text-anchor=\"middle\" x=\"6300\" xml:space=\"preserve\" y=\"2115\">1</text>\n",
       "<!-- Text -->\n",
       "<text fill=\"#000000\" font-family=\"Helvetica\" font-size=\"216\" font-style=\"normal\" font-weight=\"bold\" text-anchor=\"middle\" x=\"1800\" xml:space=\"preserve\" y=\"-1260\">Ce:E0</text>\n",
       "<!-- Text -->\n",
       "<text fill=\"#000000\" font-family=\"Helvetica\" font-size=\"216\" font-style=\"normal\" font-weight=\"bold\" text-anchor=\"middle\" x=\"1800\" xml:space=\"preserve\" y=\"-135\">0</text>\n",
       "<!-- Text -->\n",
       "<g transform=\"translate(2835,-225) rotate(-270)\">\n",
       "<text fill=\"#000000\" font-family=\"Helvetica\" font-size=\"216\" font-style=\"normal\" font-weight=\"bold\" text-anchor=\"middle\" x=\"0\" xml:space=\"preserve\" y=\"0\">Re:r0</text>\n",
       "</g><!-- Text -->\n",
       "<text fill=\"#000000\" font-family=\"Helvetica\" font-size=\"216\" font-style=\"normal\" font-weight=\"bold\" text-anchor=\"middle\" x=\"4050\" xml:space=\"preserve\" y=\"-1260\">Ce:E</text>\n",
       "<!-- Text -->\n",
       "<text fill=\"#000000\" font-family=\"Helvetica\" font-size=\"216\" font-style=\"normal\" font-weight=\"bold\" text-anchor=\"middle\" x=\"4050\" xml:space=\"preserve\" y=\"-135\">0</text>\n",
       "<!-- Text -->\n",
       "<text fill=\"#000000\" font-family=\"Helvetica\" font-size=\"216\" font-style=\"normal\" font-weight=\"bold\" text-anchor=\"middle\" x=\"675\" xml:space=\"preserve\" y=\"990\">Ce:A</text>\n",
       "<!-- Text -->\n",
       "<text fill=\"#000000\" font-family=\"Helvetica\" font-size=\"216\" font-style=\"normal\" font-weight=\"bold\" text-anchor=\"middle\" x=\"675\" xml:space=\"preserve\" y=\"2115\">0</text>\n",
       "<!-- Text -->\n",
       "<g transform=\"translate(2835,2025) rotate(-270)\">\n",
       "<text fill=\"#000000\" font-family=\"Helvetica\" font-size=\"216\" font-style=\"normal\" font-weight=\"bold\" text-anchor=\"middle\" x=\"0\" xml:space=\"preserve\" y=\"0\">Re:r1</text>\n",
       "</g><!-- Text -->\n",
       "<g transform=\"translate(5085,2025) rotate(-270)\">\n",
       "<text fill=\"#000000\" font-family=\"Helvetica\" font-size=\"216\" font-style=\"normal\" font-weight=\"bold\" text-anchor=\"middle\" x=\"0\" xml:space=\"preserve\" y=\"0\">Re:r2</text>\n",
       "</g><!-- Line -->\n",
       "<polyline points=\" 6075,1800 4275,0 4275,225\" stroke=\"#000000\" stroke-width=\"15px\"/>\n",
       "<!-- Line -->\n",
       "<polyline points=\" 3825,0 2025,1800 2250,1800\" stroke=\"#000000\" stroke-width=\"15px\"/>\n",
       "<!-- Line -->\n",
       "<polyline points=\" 900,2025 1575,2025 1350,2250\" stroke=\"#000000\" stroke-width=\"15px\"/>\n",
       "<!-- Line -->\n",
       "<polyline points=\" 6525,2025 7200,2025 6975,2250\" stroke=\"#000000\" stroke-width=\"15px\"/>\n",
       "<!-- Line -->\n",
       "<polyline points=\" 4050,1800 4050,1125 4275,1350\" stroke=\"#000000\" stroke-width=\"15px\"/>\n",
       "<!-- Line -->\n",
       "<polyline points=\" 7425,1800 7425,1125 7650,1350\" stroke=\"#000000\" stroke-width=\"15px\"/>\n",
       "<!-- Line -->\n",
       "<polyline points=\" 3150,2025 3825,2025 3600,2250\" stroke=\"#000000\" stroke-width=\"15px\"/>\n",
       "<!-- Line -->\n",
       "<polyline points=\" 4275,2025 4950,2025 4725,2250\" stroke=\"#000000\" stroke-width=\"15px\"/>\n",
       "<!-- Line -->\n",
       "<polyline points=\" 5400,2025 6075,2025 5850,2250\" stroke=\"#000000\" stroke-width=\"15px\"/>\n",
       "<!-- Line -->\n",
       "<polyline points=\" 2025,2025 2700,2025 2475,2250\" stroke=\"#000000\" stroke-width=\"15px\"/>\n",
       "<!-- Line -->\n",
       "<polyline points=\" 3150,-225 3825,-225 3600,0\" stroke=\"#000000\" stroke-width=\"15px\"/>\n",
       "<!-- Line -->\n",
       "<polyline points=\" 2025,-225 2700,-225 2475,0\" stroke=\"#000000\" stroke-width=\"15px\"/>\n",
       "<!-- Line -->\n",
       "<polyline points=\" 1800,-450 1800,-1125 2025,-900\" stroke=\"#000000\" stroke-width=\"15px\"/>\n",
       "<!-- Line -->\n",
       "<polyline points=\" 4050,-450 4050,-1125 4275,-900\" stroke=\"#000000\" stroke-width=\"15px\"/>\n",
       "<!-- Line -->\n",
       "<polyline points=\" 675,1800 675,1125 900,1350\" stroke=\"#000000\" stroke-width=\"15px\"/>\n",
       "</g>\n",
       "</svg>"
      ],
      "text/plain": [
       "<IPython.core.display.SVG object>"
      ]
     },
     "execution_count": 2,
     "metadata": {},
     "output_type": "execute_result"
    }
   ],
   "source": [
    "sbg.model('eRE_abg.svg')\n",
    "import eRE_abg\n",
    "disp.SVG('eRE_abg.svg')"
   ]
  },
  {
   "cell_type": "markdown",
   "metadata": {},
   "source": [
    "## Stoichiometry & reactions"
   ]
  },
  {
   "cell_type": "code",
   "execution_count": 3,
   "metadata": {},
   "outputs": [
    {
     "data": {
      "text/latex": [
       "\\begin{align}\n",
       "E0  &\\Leftrightarrow E \\\\\n",
       "A + E  &\\Leftrightarrow C \\\\\n",
       "C  &\\Leftrightarrow B + E \n",
       "\\end{align}\n"
      ],
      "text/plain": [
       "<IPython.core.display.Latex object>"
      ]
     },
     "execution_count": 3,
     "metadata": {},
     "output_type": "execute_result"
    }
   ],
   "source": [
    "s = st.stoich(eRE_abg.model(),quiet=quiet)\n",
    "disp.Latex(st.sprintrl(s))"
   ]
  },
  {
   "cell_type": "markdown",
   "metadata": {},
   "source": [
    "## Chemostats and pathways\n"
   ]
  },
  {
   "cell_type": "code",
   "execution_count": 4,
   "metadata": {},
   "outputs": [
    {
     "data": {
      "text/latex": [
       "\\begin{align}\n",
       "A  &\\Leftrightarrow B \n",
       "\\end{align}\n"
      ],
      "text/plain": [
       "<IPython.core.display.Latex object>"
      ]
     },
     "execution_count": 4,
     "metadata": {},
     "output_type": "execute_result"
    }
   ],
   "source": [
    "chemostats=['A','B','E0']\n",
    "sc = st.statify(s,chemostats=chemostats)\n",
    "sp =st.path(s,sc)\n",
    "disp.Latex(st.sprintrl(sp))"
   ]
  },
  {
   "cell_type": "markdown",
   "metadata": {},
   "source": [
    "## Steady state.\n",
    "In this particular case, the system steady state can be found theoretically assuming constant amounts of A and B\n",
    "<cite data-cite=\"GawCra14\">(Gawthrop and Crampin, 2014)</cite>. Function ssECR does this:"
   ]
  },
  {
   "cell_type": "code",
   "execution_count": 5,
   "metadata": {},
   "outputs": [
    {
     "name": "stdout",
     "output_type": "stream",
     "text": [
      "x_ss = [2.e+00 1.e+00 6.e-01 4.e-01 4.e+03]\n",
      "v_ss = 0.2\n"
     ]
    }
   ],
   "source": [
    "def ssECR(x_A,x_B,e0=1,\n",
    "             K_A = 1,K_B=1,K_C=1,K_E=1, K_E0 = 1e-3,\n",
    "             kappa_r1 = 1,kappa_r2=1):\n",
    "    \"\"\"Theoretical steady state of Enzyme-catalysed Reactions\n",
    "    \"\"\"\n",
    "    \n",
    "    kappa_bar = (kappa_r1*kappa_r2)/(kappa_r1+kappa_r2)\n",
    "    delta = K_A*x_A - K_B*x_B\n",
    "    sigma = (kappa_r1*K_A*x_A + kappa_r2*K_B*x_B)/(kappa_r1 + kappa_r2)\n",
    "    K_m = K_C/K_E\n",
    "    \n",
    "    v = kappa_bar*e0*K_C*delta/(K_m+sigma)\n",
    "    x_E = e0/(1+(sigma/K_m))\n",
    "    x_C = e0 - x_E\n",
    "    x_E0 = (K_E/K_E0)*x_E\n",
    "    x = np.array([x_A,x_B,x_C,x_E,x_E0])\n",
    "    #x = [x_A,x_B,x_C,x_E,x_E0]\n",
    "    return x,v\n",
    "\n",
    "x_A = 2\n",
    "x_B = 1\n",
    "K_E0 = 1e-4\n",
    "K_C = 1\n",
    "x_ss,v_ss = ssECR(x_A,x_B,K_C=K_C,K_E0=K_E0)\n",
    "print('x_ss =',x_ss)\n",
    "print('v_ss =',v_ss)"
   ]
  },
  {
   "cell_type": "markdown",
   "metadata": {},
   "source": [
    "## Parameters"
   ]
  },
  {
   "cell_type": "code",
   "execution_count": 6,
   "metadata": {},
   "outputs": [],
   "source": [
    "## Parameters\n",
    "x_E0 = x_ss[4]\n",
    "\n",
    "parameter = {}\n",
    "parameter['K_E0'] = K_E0\n",
    "parameter['K_C'] = K_C"
   ]
  },
  {
   "cell_type": "markdown",
   "metadata": {},
   "source": [
    "## Linearisation\n",
    "The function lin provides the linear transfer function sys in control toolbox format and puts the corresponding state-space matrices $a$, $b$, $c$ and $d$ into the data structure sc where $\\dot{x}=ax + bu$ and $y = cx + du$\n",
    "The system is the *reduced* form <cite data-cite=\"GawCra16\">(Gawthrop and Crampin, 2016)</cite>.\n",
    "The output $y$ corresponds to the flows $V$, the input $u$ to the chemostats $X_{chemo}$ and $x$ to the reduced state.\n",
    "In this case\n",
    "\\begin{align}\n",
    "y = V&= \\begin{pmatrix}\n",
    "    V_{r0}\\\\\n",
    "    V_{r1}\\\\\n",
    "    V_{r2}\\\\\n",
    "\\end{pmatrix}\\\\\n",
    "u= X_{chemo}&= \\begin{pmatrix}\n",
    "    X_{A}\\\\\n",
    "    X_{B}\\\\\n",
    "    X_{E0}\\\\\n",
    "\\end{pmatrix}\\\\\n",
    "x&= \\begin{pmatrix}\n",
    "    X_{C}\\\\\n",
    "    X_{E}\\\\\n",
    "\\end{pmatrix}\n",
    "\\end{align}\n",
    "\n",
    "It also gives the symbolic matrix dv/dx relating incremental flows to incremental states where the states $X$ are:\n",
    "\\begin{align}\n",
    "X&= \\begin{pmatrix}\n",
    "    X_{A}\\\\\n",
    "    X_{B}\\\\\n",
    "    X_{C}\\\\\n",
    "    X_{E}\\\\\n",
    "    X_{E0}\\\\\n",
    "\\end{pmatrix}\n",
    "\\end{align}\n"
   ]
  },
  {
   "cell_type": "code",
   "execution_count": 7,
   "metadata": {},
   "outputs": [
    {
     "name": "stdout",
     "output_type": "stream",
     "text": [
      "[]\n",
      "[]\n"
     ]
    }
   ],
   "source": [
    "## imp.reload(st)\n",
    "sys = st.lin(s,sc,x_ss=x_ss,parameter=parameter,quiet=quiet)"
   ]
  },
  {
   "cell_type": "code",
   "execution_count": 8,
   "metadata": {},
   "outputs": [
    {
     "data": {
      "text/latex": [
       "\\begin{align}\n",
       "dvdx &=\n",
       "\\left(\\begin{matrix}0 & 0 & 0 & - K_{E} \\kappa_{r0} & K_{E0} \\kappa_{r0}\\\\K_{A} K_{E} \\kappa_{r1} x_{E} & 0 & - K_{C} \\kappa_{r1} & K_{A} K_{E} \\kappa_{r1} x_{A} & 0\\\\0 & - K_{B} K_{E} \\kappa_{r2} x_{E} & K_{C} \\kappa_{r2} & - K_{B} K_{E} \\kappa_{r2} x_{B} & 0\\end{matrix}\\right)\n",
       "\\end{align}\n"
      ],
      "text/plain": [
       "<IPython.core.display.Latex object>"
      ]
     },
     "execution_count": 8,
     "metadata": {},
     "output_type": "execute_result"
    }
   ],
   "source": [
    "disp.Latex(st.sprintl(sc,'dvdx'))"
   ]
  },
  {
   "cell_type": "code",
   "execution_count": 9,
   "metadata": {},
   "outputs": [
    {
     "data": {
      "text/latex": [
       "\\begin{align}\n",
       "a &=\n",
       "\\left(\\begin{matrix}-2.0 & 3.0\\\\2.0 & -4.0\\end{matrix}\\right)\n",
       "\\end{align}\n"
      ],
      "text/plain": [
       "<IPython.core.display.Latex object>"
      ]
     },
     "execution_count": 9,
     "metadata": {},
     "output_type": "execute_result"
    }
   ],
   "source": [
    "disp.Latex(st.sprintl(sc,'a'))"
   ]
  },
  {
   "cell_type": "code",
   "execution_count": 10,
   "metadata": {},
   "outputs": [
    {
     "data": {
      "text/latex": [
       "\\begin{align}\n",
       "b &=\n",
       "\\left(\\begin{matrix}0.4 & 0.4 & 0.0\\\\-0.4 & -0.4 & 0.0001\\end{matrix}\\right)\n",
       "\\end{align}\n"
      ],
      "text/plain": [
       "<IPython.core.display.Latex object>"
      ]
     },
     "execution_count": 10,
     "metadata": {},
     "output_type": "execute_result"
    }
   ],
   "source": [
    "disp.Latex(st.sprintl(sc,'b'))"
   ]
  },
  {
   "cell_type": "code",
   "execution_count": 11,
   "metadata": {},
   "outputs": [
    {
     "data": {
      "text/latex": [
       "\\begin{align}\n",
       "c &=\n",
       "\\left(\\begin{matrix}0.0 & -1.0\\\\-1.0 & 2.0\\\\1.0 & -1.0\\end{matrix}\\right)\n",
       "\\end{align}\n"
      ],
      "text/plain": [
       "<IPython.core.display.Latex object>"
      ]
     },
     "execution_count": 11,
     "metadata": {},
     "output_type": "execute_result"
    }
   ],
   "source": [
    "disp.Latex(st.sprintl(sc,'c'))"
   ]
  },
  {
   "cell_type": "code",
   "execution_count": 12,
   "metadata": {},
   "outputs": [
    {
     "data": {
      "text/latex": [
       "\\begin{align}\n",
       "d &=\n",
       "\\left(\\begin{matrix}0.0 & 0.0 & 0.0001\\\\0.4 & 0.0 & 0.0\\\\0.0 & -0.4 & 0.0\\end{matrix}\\right)\n",
       "\\end{align}\n"
      ],
      "text/plain": [
       "<IPython.core.display.Latex object>"
      ]
     },
     "execution_count": 12,
     "metadata": {},
     "output_type": "execute_result"
    }
   ],
   "source": [
    "disp.Latex(st.sprintl(sc,'d'))"
   ]
  },
  {
   "cell_type": "markdown",
   "metadata": {},
   "source": [
    "## Pole/zero analysis\n",
    "One advantage of dealing with linear systems is the possibility of using standard control system methods\n",
    "<cite data-cite=\"GooGraSal01\">(Goodwin, Graebe and Salgado)</cite>. One such method is examining the poles and zeros of the system transfer function relating inputs and outputs of interest. In this case, the transfer function relating input $X_{E0}$ to output $V_{r2}$ is examined.\n",
    "\n",
    "NB con.zero requires slycot to be installed; set slycot=False if slycot is not installed.\n",
    "\n",
    "Note that the positive zero ($s=1$) corresponds to the initial negative response of the flow - this is an non-minimum phase system"
   ]
  },
  {
   "cell_type": "code",
   "execution_count": 13,
   "metadata": {},
   "outputs": [
    {
     "name": "stdout",
     "output_type": "stream",
     "text": [
      "System gain = 0.20\n",
      "System poles =  [-0.35 -5.65]\n",
      "System zeros =  [1.]\n"
     ]
    }
   ],
   "source": [
    "i_E0 = chemostats.index('E0')\n",
    "reaction = sc['reaction']\n",
    "i_r = reaction.index('r2')\n",
    "np.set_printoptions(precision=2)\n",
    "aa = sc['a']\n",
    "bb = np.array([sc['b'][:,i_E0]]).T\n",
    "cc = sc['c'][i_r,:]\n",
    "dd = sc['d'][i_r,i_E0]\n",
    "siso = con.ss(aa,bb,cc,dd)\n",
    "np.set_printoptions(precision=2)\n",
    "gain = x_E0*con.dcgain(siso)\n",
    "print('System gain = {0:.2f}'.format(gain))\n",
    "print('System poles = ',con.pole(siso))\n",
    "if slycot:\n",
    "    ## This needs slycot\n",
    "    print('System zeros = ',np.real(con.zero(siso)))"
   ]
  },
  {
   "cell_type": "markdown",
   "metadata": {},
   "source": [
    "## Simulation\n",
    "1. As simulation starts at a steady-state value, states and flows remain constant until the chemostat E0 changes at time $t_0=5$.\n",
    "2. For each fixed chemostat value, the non-linear system is actually linear (but with parameters dependent on the steady-state).\n",
    "3. The flow in reaction r2 is the same for both linear and non-linear simulation.\n",
    "4. The flow in reaction r2 increases by the gain=0.2."
   ]
  },
  {
   "cell_type": "code",
   "execution_count": 14,
   "metadata": {},
   "outputs": [
    {
     "name": "stdout",
     "output_type": "stream",
     "text": [
      "NON-LINEAR SIMULATION\n",
      "Setting K_C to 1\n",
      "Setting K_E0 to 0.0001\n"
     ]
    },
    {
     "data": {
      "image/png": "[encoded data removed]",
      "text/plain": [
       "<Figure size 432x288 with 2 Axes>"
      ]
     },
     "metadata": {},
     "output_type": "display_data"
    },
    {
     "name": "stdout",
     "output_type": "stream",
     "text": [
      "LINEAR SIMULATION\n",
      "Setting K_C to 1\n",
      "Setting K_E0 to 0.0001\n",
      "Setting K_C to 1\n",
      "Setting K_E0 to 0.0001\n",
      "[]\n",
      "[]\n"
     ]
    },
    {
     "name": "stderr",
     "output_type": "stream",
     "text": [
      "/home/peterg/WORK/Research/SystemsBiology/lib/python/stoich.py:109: RuntimeWarning: divide by zero encountered in log\n",
      "  lx_i = np.log(xx_i)\n",
      "/home/peterg/WORK/Research/SystemsBiology/lib/python/stoich.py:1665: RuntimeWarning: invalid value encountered in matmul\n",
      "  Phi = -phi@N\n"
     ]
    },
    {
     "data": {
      "image/png": "[encoded data removed]",
      "text/plain": [
       "<Figure size 432x288 with 2 Axes>"
      ]
     },
     "metadata": {},
     "output_type": "display_data"
    }
   ],
   "source": [
    "## imp.reload(st)\n",
    "##Time\n",
    "t_max = int(20)\n",
    "t = np.linspace(0,t_max,1000)\n",
    "t_0 = 5\n",
    "\n",
    "## Chemostat\n",
    "x_chemo =     '{0}*(1+np.heaviside(t-{1},1))'.format(str(x_E0),str(t_0))\n",
    "x_chemo_lin = '{0}*(np.heaviside(t-{1},1))'.format(str(x_E0),str(t_0))\n",
    "\n",
    "## Simulate\n",
    "print('NON-LINEAR SIMULATION')\n",
    "#X0 = x_ss\n",
    "X_chemo = {'E0':x_chemo}\n",
    "ndat = st.sim(s,sc=sc,t=t,parameter=parameter,X0=x_ss,X_chemo=X_chemo,quiet=False)\n",
    "st.plot(s,ndat,species=['A','B','C','E'])\n",
    "\n",
    "print('LINEAR SIMULATION')\n",
    "#X0 = x_ss\n",
    "X_chemo = {'E0':x_chemo_lin}\n",
    "V0 = [0,v_ss,v_ss] # Steady-state flows\n",
    "ldat = st.sim(s,sc=sc,t=t,linear=True,V0=V0,parameter=parameter,X0=x_ss,X_chemo=X_chemo,quiet=False)\n",
    "st.plot(s,ldat,species=['A','B','C','E'])\n",
    "#st.plot(s,ldat,species=[])\n"
   ]
  },
  {
   "cell_type": "markdown",
   "metadata": {},
   "source": [
    "### Compare linear and nonlinear"
   ]
  },
  {
   "cell_type": "code",
   "execution_count": 15,
   "metadata": {},
   "outputs": [
    {
     "data": {
      "image/png": "[encoded data removed]",
      "text/plain": [
       "<Figure size 432x288 with 1 Axes>"
      ]
     },
     "metadata": {},
     "output_type": "display_data"
    }
   ],
   "source": [
    "def compare(ndat,ldat,v_ss,gain,i):\n",
    "\n",
    "    v_1_l = ldat['V'][:,i]\n",
    "    v_1_n = ndat['V'][:,i]\n",
    "\n",
    "    ax = plt.gca()  # gca stands for 'get current axis'\n",
    "    plt.plot(t,v_1_l,label='linear')\n",
    "    plt.plot(t,v_1_n,label='non-linear')\n",
    "    xlim = ax.get_xlim()\n",
    "    plt.hlines(v_ss+gain, xlim[1]/2, xlim[1],linestyles='dotted',label='asymptote')\n",
    "    plt.xlabel('$t$')\n",
    "    plt.ylabel('$v$')\n",
    "    plt.legend()\n",
    "    plt.grid\n",
    "    plt.show()\n",
    "    \n",
    "compare(ndat,ldat,v_ss,gain,i_r)"
   ]
  },
  {
   "cell_type": "markdown",
   "metadata": {},
   "source": [
    "# Example system: enzyme-catalysed reaction with product removal"
   ]
  },
  {
   "cell_type": "code",
   "execution_count": 16,
   "metadata": {},
   "outputs": [
    {
     "data": {
      "image/svg+xml": [
       "<svg height=\"249pt\" viewBox=\"290 -1500 9853 3939\" width=\"621pt\" xmlns=\"http://www.w3.org/2000/svg\" xmlns:xlink=\"http://www.w3.org/1999/xlink\">\n",
       "<g fill=\"none\">\n",
       "<!-- Text -->\n",
       "<g transform=\"translate(5085,2025) rotate(-270)\">\n",
       "<text fill=\"#000000\" font-family=\"Helvetica\" font-size=\"216\" font-style=\"normal\" font-weight=\"bold\" text-anchor=\"middle\" x=\"0\" xml:space=\"preserve\" y=\"0\">Re:r2</text>\n",
       "</g><!-- Text -->\n",
       "<g transform=\"translate(8460,2025) rotate(-270)\">\n",
       "<text fill=\"#000000\" font-family=\"Helvetica\" font-size=\"216\" font-style=\"normal\" font-weight=\"bold\" text-anchor=\"middle\" x=\"0\" xml:space=\"preserve\" y=\"0\">Re:r3</text>\n",
       "</g><!-- Text -->\n",
       "<text fill=\"#000000\" font-family=\"Helvetica\" font-size=\"216\" font-style=\"normal\" font-weight=\"bold\" text-anchor=\"middle\" x=\"7425\" xml:space=\"preserve\" y=\"990\">Ce:B</text>\n",
       "<!-- Text -->\n",
       "<text fill=\"#000000\" font-family=\"Helvetica\" font-size=\"216\" font-style=\"normal\" font-weight=\"bold\" text-anchor=\"middle\" x=\"7425\" xml:space=\"preserve\" y=\"2115\">0</text>\n",
       "<!-- Text -->\n",
       "<text fill=\"#000000\" font-family=\"Helvetica\" font-size=\"216\" font-style=\"normal\" font-weight=\"bold\" text-anchor=\"middle\" x=\"9675\" xml:space=\"preserve\" y=\"990\">Ce:B0</text>\n",
       "<!-- Text -->\n",
       "<text fill=\"#000000\" font-family=\"Helvetica\" font-size=\"216\" font-style=\"normal\" font-weight=\"bold\" text-anchor=\"middle\" x=\"9675\" xml:space=\"preserve\" y=\"2115\">0</text>\n",
       "<!-- Text -->\n",
       "<text fill=\"#000000\" font-family=\"Helvetica\" font-size=\"216\" font-style=\"normal\" font-weight=\"bold\" text-anchor=\"middle\" x=\"1800\" xml:space=\"preserve\" y=\"2115\">1</text>\n",
       "<!-- Text -->\n",
       "<text fill=\"#000000\" font-family=\"Helvetica\" font-size=\"216\" font-style=\"normal\" font-weight=\"bold\" text-anchor=\"middle\" x=\"4050\" xml:space=\"preserve\" y=\"2115\">0</text>\n",
       "<!-- Text -->\n",
       "<text fill=\"#000000\" font-family=\"Helvetica\" font-size=\"216\" font-style=\"normal\" font-weight=\"bold\" text-anchor=\"middle\" x=\"4050\" xml:space=\"preserve\" y=\"990\">Ce:C</text>\n",
       "<!-- Text -->\n",
       "<text fill=\"#000000\" font-family=\"Helvetica\" font-size=\"216\" font-style=\"normal\" font-weight=\"bold\" text-anchor=\"middle\" x=\"6300\" xml:space=\"preserve\" y=\"2115\">1</text>\n",
       "<!-- Text -->\n",
       "<text fill=\"#000000\" font-family=\"Helvetica\" font-size=\"216\" font-style=\"normal\" font-weight=\"bold\" text-anchor=\"middle\" x=\"1800\" xml:space=\"preserve\" y=\"-1260\">Ce:E0</text>\n",
       "<!-- Text -->\n",
       "<text fill=\"#000000\" font-family=\"Helvetica\" font-size=\"216\" font-style=\"normal\" font-weight=\"bold\" text-anchor=\"middle\" x=\"1800\" xml:space=\"preserve\" y=\"-135\">0</text>\n",
       "<!-- Text -->\n",
       "<g transform=\"translate(2835,-225) rotate(-270)\">\n",
       "<text fill=\"#000000\" font-family=\"Helvetica\" font-size=\"216\" font-style=\"normal\" font-weight=\"bold\" text-anchor=\"middle\" x=\"0\" xml:space=\"preserve\" y=\"0\">Re:r0</text>\n",
       "</g><!-- Text -->\n",
       "<text fill=\"#000000\" font-family=\"Helvetica\" font-size=\"216\" font-style=\"normal\" font-weight=\"bold\" text-anchor=\"middle\" x=\"4050\" xml:space=\"preserve\" y=\"-1260\">Ce:E</text>\n",
       "<!-- Text -->\n",
       "<text fill=\"#000000\" font-family=\"Helvetica\" font-size=\"216\" font-style=\"normal\" font-weight=\"bold\" text-anchor=\"middle\" x=\"4050\" xml:space=\"preserve\" y=\"-135\">0</text>\n",
       "<!-- Text -->\n",
       "<text fill=\"#000000\" font-family=\"Helvetica\" font-size=\"216\" font-style=\"normal\" font-weight=\"bold\" text-anchor=\"middle\" x=\"675\" xml:space=\"preserve\" y=\"990\">Ce:A</text>\n",
       "<!-- Text -->\n",
       "<text fill=\"#000000\" font-family=\"Helvetica\" font-size=\"216\" font-style=\"normal\" font-weight=\"bold\" text-anchor=\"middle\" x=\"675\" xml:space=\"preserve\" y=\"2115\">0</text>\n",
       "<!-- Text -->\n",
       "<g transform=\"translate(2835,2025) rotate(-270)\">\n",
       "<text fill=\"#000000\" font-family=\"Helvetica\" font-size=\"216\" font-style=\"normal\" font-weight=\"bold\" text-anchor=\"middle\" x=\"0\" xml:space=\"preserve\" y=\"0\">Re:r1</text>\n",
       "</g><!-- Line -->\n",
       "<polyline points=\" 7425,1800 7425,1125 7650,1350\" stroke=\"#000000\" stroke-width=\"15px\"/>\n",
       "<!-- Line -->\n",
       "<polyline points=\" 9675,1800 9675,1125 9900,1350\" stroke=\"#000000\" stroke-width=\"15px\"/>\n",
       "<!-- Line -->\n",
       "<polyline points=\" 6075,1800 4275,0 4275,225\" stroke=\"#000000\" stroke-width=\"15px\"/>\n",
       "<!-- Line -->\n",
       "<polyline points=\" 3825,0 2025,1800 2250,1800\" stroke=\"#000000\" stroke-width=\"15px\"/>\n",
       "<!-- Line -->\n",
       "<polyline points=\" 900,2025 1575,2025 1350,2250\" stroke=\"#000000\" stroke-width=\"15px\"/>\n",
       "<!-- Line -->\n",
       "<polyline points=\" 6525,2025 7200,2025 6975,2250\" stroke=\"#000000\" stroke-width=\"15px\"/>\n",
       "<!-- Line -->\n",
       "<polyline points=\" 4050,1800 4050,1125 4275,1350\" stroke=\"#000000\" stroke-width=\"15px\"/>\n",
       "<!-- Line -->\n",
       "<polyline points=\" 3150,2025 3825,2025 3600,2250\" stroke=\"#000000\" stroke-width=\"15px\"/>\n",
       "<!-- Line -->\n",
       "<polyline points=\" 4275,2025 4950,2025 4725,2250\" stroke=\"#000000\" stroke-width=\"15px\"/>\n",
       "<!-- Line -->\n",
       "<polyline points=\" 5400,2025 6075,2025 5850,2250\" stroke=\"#000000\" stroke-width=\"15px\"/>\n",
       "<!-- Line -->\n",
       "<polyline points=\" 2025,2025 2700,2025 2475,2250\" stroke=\"#000000\" stroke-width=\"15px\"/>\n",
       "<!-- Line -->\n",
       "<polyline points=\" 3150,-225 3825,-225 3600,0\" stroke=\"#000000\" stroke-width=\"15px\"/>\n",
       "<!-- Line -->\n",
       "<polyline points=\" 2025,-225 2700,-225 2475,0\" stroke=\"#000000\" stroke-width=\"15px\"/>\n",
       "<!-- Line -->\n",
       "<polyline points=\" 1800,-450 1800,-1125 2025,-900\" stroke=\"#000000\" stroke-width=\"15px\"/>\n",
       "<!-- Line -->\n",
       "<polyline points=\" 4050,-450 4050,-1125 4275,-900\" stroke=\"#000000\" stroke-width=\"15px\"/>\n",
       "<!-- Line -->\n",
       "<polyline points=\" 675,1800 675,1125 900,1350\" stroke=\"#000000\" stroke-width=\"15px\"/>\n",
       "<!-- Line -->\n",
       "<polyline points=\" 7650,2025 8325,2025 8100,2250\" stroke=\"#000000\" stroke-width=\"15px\"/>\n",
       "<!-- Line -->\n",
       "<polyline points=\" 8775,2025 9450,2025 9225,2250\" stroke=\"#000000\" stroke-width=\"15px\"/>\n",
       "</g>\n",
       "</svg>"
      ],
      "text/plain": [
       "<IPython.core.display.SVG object>"
      ]
     },
     "execution_count": 16,
     "metadata": {},
     "output_type": "execute_result"
    }
   ],
   "source": [
    "## imp.reload(st)\n",
    "sbg.model('eREr_abg.svg')\n",
    "import eREr_abg\n",
    "disp.SVG('eREr_abg.svg')"
   ]
  },
  {
   "cell_type": "markdown",
   "metadata": {},
   "source": [
    "## Stoichiometry"
   ]
  },
  {
   "cell_type": "code",
   "execution_count": 17,
   "metadata": {},
   "outputs": [
    {
     "name": "stdout",
     "output_type": "stream",
     "text": [
      "['A', 'B', 'B0', 'C', 'E', 'E0']\n"
     ]
    }
   ],
   "source": [
    "s = st.stoich(eREr_abg.model(),quiet=quiet)\n",
    "print(s['species'])\n",
    "chemostats=['A','B0','E0']\n",
    "disp.Latex(st.sprintrl(s))\n",
    "sc = st.statify(s,chemostats=chemostats)"
   ]
  },
  {
   "cell_type": "markdown",
   "metadata": {},
   "source": [
    "## Parameters"
   ]
  },
  {
   "cell_type": "code",
   "execution_count": 18,
   "metadata": {},
   "outputs": [],
   "source": [
    "## Parameters\n",
    "# x_E0 = x_ss[4]\n",
    "# x_A = 2\n",
    "# x_B = 1\n",
    "\n",
    "parameter = {}\n",
    "parameter['K_E0'] = K_E0\n",
    "parameter['K_C'] = K_C\n",
    "\n"
   ]
  },
  {
   "cell_type": "markdown",
   "metadata": {},
   "source": [
    "## Steady state.\n",
    "As a special case, the amount of B0 is taken to be very small and the parameter $\\kappa_3=v_{ss}$. This gives the same steady states a the previous section."
   ]
  },
  {
   "cell_type": "code",
   "execution_count": 19,
   "metadata": {},
   "outputs": [],
   "source": [
    "## Steady states for ECR\n",
    "x_ss,v_ss = ssECR(x_A,x_B,K_C=K_C,K_E0=K_E0)\n",
    "\n",
    "## Steady states for this examples\n",
    "X_ss = np.array([x_ss[0],x_ss[1],1e-10,x_ss[2],x_ss[3],x_ss[4]])\n",
    "#print(X_ss)\n",
    "V_ss = np.array([0,v_ss,v_ss,v_ss])\n",
    "#print(V_ss)\n",
    "\n",
    "## Set appropriate  kappa3\n",
    "kappa_r3 = v_ss\n",
    "parameter['kappa_r3'] = kappa_r3"
   ]
  },
  {
   "cell_type": "markdown",
   "metadata": {},
   "source": [
    "## Linearisation\n",
    "The function lin provides the linear transfer function sys in control toolbox format and puts the corresponding state-space matrices $a$, $b$, $c$ and $d$ into the data structure sc where $\\dot{x}=ax + bu$ and $y = cx + du$\n",
    "The system is the *reduced* form <cite data-cite=\"GawCra16\">(Gawthrop and Crampin, 2016)</cite>.\n",
    "The output $y$ corresponds to the flows $V$, the input $u$ to the chemostats $X_{chemo}$ and $x$ to the reduced state.\n",
    "In this case\n",
    "\\begin{align}\n",
    "y = V&= \\begin{pmatrix}\n",
    "    V_{r0}\\\\\n",
    "    V_{r1}\\\\\n",
    "    V_{r2}\\\\\n",
    "    V_{r3}\\\\\n",
    "\\end{pmatrix}\\\\\n",
    "U = X_{chemo} &= \\begin{pmatrix}\n",
    "    X_{A}\\\\\n",
    "    X_{B0}\\\\\n",
    "    X_{E0}\\\\\n",
    "\\end{pmatrix}\\\\\n",
    "x&= \\begin{pmatrix}\n",
    "    X_{B}\\\\\n",
    "    X_{C}\\\\\n",
    "    X_{E}\\\\\n",
    "\\end{pmatrix}\n",
    "\\end{align}\n",
    "\n",
    "\n",
    "It also gives the symbolic matrix dv/dx relating incremental flows to incremental states where the states $X$ are:\n",
    "\\begin{align}\n",
    "X&= \\begin{pmatrix}\n",
    "    X_{A}\\\\\n",
    "    X_{B}\\\\\n",
    "    X_{B0}\\\\\n",
    "    X_{C}\\\\\n",
    "    X_{E}\\\\\n",
    "    X_{E0}\\\\\n",
    "\\end{pmatrix}\n",
    "\\end{align}\n",
    "\n",
    "\n"
   ]
  },
  {
   "cell_type": "code",
   "execution_count": 20,
   "metadata": {},
   "outputs": [
    {
     "name": "stdout",
     "output_type": "stream",
     "text": [
      "Setting K_C to 1\n",
      "Setting K_E0 to 0.0001\n",
      "Setting kappa_r3 to 0.2\n",
      "[]\n",
      "[]\n"
     ]
    },
    {
     "data": {
      "text/latex": [
       "\\begin{align}\n",
       "dvdx &=\n",
       "\\left(\\begin{matrix}0 & 0 & 0 & 0 & - K_{E} \\kappa_{r0} & K_{E0} \\kappa_{r0}\\\\K_{A} K_{E} \\kappa_{r1} x_{E} & 0 & 0 & - K_{C} \\kappa_{r1} & K_{A} K_{E} \\kappa_{r1} x_{A} & 0\\\\0 & - K_{B} K_{E} \\kappa_{r2} x_{E} & 0 & K_{C} \\kappa_{r2} & - K_{B} K_{E} \\kappa_{r2} x_{B} & 0\\\\0 & K_{B} \\kappa_{r3} & - K_{B0} \\kappa_{r3} & 0 & 0 & 0\\end{matrix}\\right)\n",
       "\\end{align}\n"
      ],
      "text/plain": [
       "<IPython.core.display.Latex object>"
      ]
     },
     "execution_count": 20,
     "metadata": {},
     "output_type": "execute_result"
    }
   ],
   "source": [
    "## imp.reload(st)\n",
    "sys = st.lin(s,sc,x_ss=X_ss,parameter=parameter)\n",
    "disp.Latex(st.sprintl(sc,'dvdx'))"
   ]
  },
  {
   "cell_type": "code",
   "execution_count": 21,
   "metadata": {},
   "outputs": [
    {
     "data": {
      "text/latex": [
       "\\begin{align}\n",
       "a &=\n",
       "\\left(\\begin{matrix}-0.6 & 1.0 & -1.0\\\\0.4 & -2.0 & 3.0\\\\-0.4 & 2.0 & -4.0\\end{matrix}\\right)\n",
       "\\end{align}\n"
      ],
      "text/plain": [
       "<IPython.core.display.Latex object>"
      ]
     },
     "execution_count": 21,
     "metadata": {},
     "output_type": "execute_result"
    }
   ],
   "source": [
    "disp.Latex(st.sprintl(sc,'a'))"
   ]
  },
  {
   "cell_type": "code",
   "execution_count": 22,
   "metadata": {},
   "outputs": [
    {
     "data": {
      "text/latex": [
       "\\begin{align}\n",
       "b &=\n",
       "\\left(\\begin{matrix}0.0 & 0.2 & 0.0\\\\0.4 & 0.0 & 0.0\\\\-0.4 & 0.0 & 0.0001\\end{matrix}\\right)\n",
       "\\end{align}\n"
      ],
      "text/plain": [
       "<IPython.core.display.Latex object>"
      ]
     },
     "execution_count": 22,
     "metadata": {},
     "output_type": "execute_result"
    }
   ],
   "source": [
    "disp.Latex(st.sprintl(sc,'b'))"
   ]
  },
  {
   "cell_type": "code",
   "execution_count": 23,
   "metadata": {},
   "outputs": [
    {
     "data": {
      "text/latex": [
       "\\begin{align}\n",
       "c &=\n",
       "\\left(\\begin{matrix}0.0 & 0.0 & -1.0\\\\0.0 & -1.0 & 2.0\\\\-0.4 & 1.0 & -1.0\\\\0.2 & 0.0 & 0.0\\end{matrix}\\right)\n",
       "\\end{align}\n"
      ],
      "text/plain": [
       "<IPython.core.display.Latex object>"
      ]
     },
     "execution_count": 23,
     "metadata": {},
     "output_type": "execute_result"
    }
   ],
   "source": [
    "disp.Latex(st.sprintl(sc,'c'))"
   ]
  },
  {
   "cell_type": "code",
   "execution_count": 24,
   "metadata": {},
   "outputs": [
    {
     "data": {
      "text/latex": [
       "\\begin{align}\n",
       "d &=\n",
       "\\left(\\begin{matrix}0.0 & 0.0 & 0.0001\\\\0.4 & 0.0 & 0.0\\\\0.0 & 0.0 & 0.0\\\\0.0 & -0.2 & 0.0\\end{matrix}\\right)\n",
       "\\end{align}\n"
      ],
      "text/plain": [
       "<IPython.core.display.Latex object>"
      ]
     },
     "execution_count": 24,
     "metadata": {},
     "output_type": "execute_result"
    }
   ],
   "source": [
    "disp.Latex(st.sprintl(sc,'d'))"
   ]
  },
  {
   "cell_type": "markdown",
   "metadata": {},
   "source": [
    "## Pole/zero analysis\n",
    "One advantage of dealing with linear systems is the possibility of using standard control system methods\n",
    "<cite data-cite=\"GooGraSal01\">(Goodwin, Graebe and Salgado)</cite>. One such method is examining the poles and zeros of the system transfer function relating inputs and outputs of interest. In this case, the transfer function relating input $X_{E0}$ to output $V_{r2}$ is examined.\n",
    "\n",
    "\n",
    "NB con.zero requires slycot to be installed; set slycot=False if slycot is not installed.\n",
    "\n",
    "Note that the positive zero ($s=1$) corresponds to the initial negative response of the flow - this is an non-minimum phase system."
   ]
  },
  {
   "cell_type": "code",
   "execution_count": 25,
   "metadata": {},
   "outputs": [
    {
     "name": "stdout",
     "output_type": "stream",
     "text": [
      "System gain = 0.10\n",
      "System poles =  [-5.8  -0.56 -0.25]\n",
      "System zeros =  [1.]\n"
     ]
    }
   ],
   "source": [
    "i_E0 = chemostats.index('E0')\n",
    "reaction = sc['reaction']\n",
    "i_r = reaction.index('r3')\n",
    "np.set_printoptions(precision=2)\n",
    "aa = sc['a']\n",
    "bb = np.array([sc['b'][:,i_E0]]).T\n",
    "cc = sc['c'][i_r,:]\n",
    "dd = sc['d'][i_r,i_E0]\n",
    "siso = con.ss(aa,bb,cc,dd)\n",
    "np.set_printoptions(precision=2)\n",
    "gain = x_E0*con.dcgain(siso)\n",
    "print('System gain = {0:.2f}'.format(gain))\n",
    "print('System poles = ',con.pole(siso))\n",
    "if slycot:\n",
    "    ## This needs slycot\n",
    "    print('System zeros = ',np.real(con.zero(siso)))"
   ]
  },
  {
   "cell_type": "markdown",
   "metadata": {},
   "source": [
    "## Simulation\n",
    "1. As simulation starts at a steady-state value, states and flows remain constant until the chemostat E0 changes at time $t_0=5$.\n",
    "2. For each fixed chemostat value, the non-linear system leads to an approximate linear system (but with parameters dependent on the steady-state).\n",
    "3. The flow in reaction r2 is the different for linear and non-linear simulation, but the difference is smaller for smaller step changes in $x_{E0}$.\n",
    "4. In the linear case, the flow in reaction r2 increases by gain=0.1 multiplied by the step.\n",
    "5. In both linear and non-linear cases, the flow in reaction r1 is zero in the steady-state. Thus flow from the input source E0 is transient; in other words *retroactivity* is zero in the steady state."
   ]
  },
  {
   "cell_type": "code",
   "execution_count": 26,
   "metadata": {},
   "outputs": [
    {
     "name": "stdout",
     "output_type": "stream",
     "text": [
      "NON-LINEAR SIMULATION: Step = 1\n"
     ]
    },
    {
     "data": {
      "image/png": "[encoded data removed]",
      "text/plain": [
       "<Figure size 432x288 with 2 Axes>"
      ]
     },
     "metadata": {},
     "output_type": "display_data"
    },
    {
     "name": "stdout",
     "output_type": "stream",
     "text": [
      "LINEAR SIMULATION: Step = 1\n",
      "[]\n",
      "[]\n"
     ]
    },
    {
     "name": "stderr",
     "output_type": "stream",
     "text": [
      "/home/peterg/WORK/Research/SystemsBiology/lib/python/stoich.py:109: RuntimeWarning: divide by zero encountered in log\n",
      "  lx_i = np.log(xx_i)\n",
      "/home/peterg/WORK/Research/SystemsBiology/lib/python/stoich.py:1665: RuntimeWarning: invalid value encountered in matmul\n",
      "  Phi = -phi@N\n"
     ]
    },
    {
     "data": {
      "image/png": "[encoded data removed]",
      "text/plain": [
       "<Figure size 432x288 with 2 Axes>"
      ]
     },
     "metadata": {},
     "output_type": "display_data"
    },
    {
     "name": "stdout",
     "output_type": "stream",
     "text": [
      "COMPARE LINEAR & NONLINEAR: Step = 1\n"
     ]
    },
    {
     "data": {
      "image/png": "[encoded data removed]",
      "text/plain": [
       "<Figure size 432x288 with 1 Axes>"
      ]
     },
     "metadata": {},
     "output_type": "display_data"
    },
    {
     "name": "stdout",
     "output_type": "stream",
     "text": [
      "NON-LINEAR SIMULATION: Step = 0.1\n"
     ]
    },
    {
     "data": {
      "image/png": "[encoded data removed]",
      "text/plain": [
       "<Figure size 432x288 with 2 Axes>"
      ]
     },
     "metadata": {},
     "output_type": "display_data"
    },
    {
     "name": "stdout",
     "output_type": "stream",
     "text": [
      "LINEAR SIMULATION: Step = 0.1\n",
      "[]\n",
      "[]\n"
     ]
    },
    {
     "data": {
      "image/png": "[encoded data removed]",
      "text/plain": [
       "<Figure size 432x288 with 2 Axes>"
      ]
     },
     "metadata": {},
     "output_type": "display_data"
    },
    {
     "name": "stdout",
     "output_type": "stream",
     "text": [
      "COMPARE LINEAR & NONLINEAR: Step = 0.1\n"
     ]
    },
    {
     "data": {
      "image/png": "[encoded data removed]",
      "text/plain": [
       "<Figure size 432x288 with 1 Axes>"
      ]
     },
     "metadata": {},
     "output_type": "display_data"
    }
   ],
   "source": [
    "## imp.reload(st)\n",
    "\n",
    "##Time\n",
    "t_max = int(40)\n",
    "t = np.linspace(0,t_max,1000)\n",
    "t_0 = 5\n",
    "\n",
    "for step in [1,0.1]:\n",
    "    \n",
    "    ## Chemostat\n",
    "    #step = 1\n",
    "    x_chemo =     '{0}*(1+{2}*np.heaviside(t-{1},1))'.format(str(x_E0),str(t_0),str(step))\n",
    "    x_chemo_lin = '{0}*({2}*np.heaviside(t-{1},1))'.format(str(x_E0),str(t_0),str(step))\n",
    "\n",
    "    ## Simulate\n",
    "    print('NON-LINEAR SIMULATION: Step = '+str(step))\n",
    "    #X0 = x_ss\n",
    "    X_chemo = {'E0':x_chemo}\n",
    "    ndat = st.sim(s,sc=sc,t=t,parameter=parameter,X0=X_ss,X_chemo=X_chemo,quiet=quiet)\n",
    "    st.plot(s,ndat,species=['A','B','C','E'])\n",
    "\n",
    "    print('LINEAR SIMULATION: Step = '+str(step))\n",
    "    #X0 = x_ss\n",
    "    X_chemo = {'E0':x_chemo_lin}\n",
    "    V0 = [0,v_ss,v_ss] # Steady-state flows\n",
    "    ldat = st.sim(s,sc=sc,t=t,linear=True,V0=V_ss,parameter=parameter,X0=X_ss,X_chemo=X_chemo,quiet=quiet)\n",
    "    st.plot(s,ldat,species=['A','B','C','E'])\n",
    "\n",
    "    print('COMPARE LINEAR & NONLINEAR: Step = '+str(step))\n",
    "    compare(ndat,ldat,v_ss,step*gain,i_r)\n",
    "    "
   ]
  }
 ],
 "metadata": {
  "kernelspec": {
   "display_name": "Python 3",
   "language": "python",
   "name": "python3"
  },
  "language_info": {
   "codemirror_mode": {
    "name": "ipython",
    "version": 3
   },
   "file_extension": ".py",
   "mimetype": "text/x-python",
   "name": "python",
   "nbconvert_exporter": "python",
   "pygments_lexer": "ipython3",
   "version": "3.6.9"
  },
  "toc": {
   "base_numbering": 1,
   "nav_menu": {},
   "number_sections": true,
   "sideBar": true,
   "skip_h1_title": false,
   "title_cell": "Table of Contents",
   "title_sidebar": "Contents",
   "toc_cell": false,
   "toc_position": {},
   "toc_section_display": true,
   "toc_window_display": false
  }
 },
 "nbformat": 4,
 "nbformat_minor": 4
}
