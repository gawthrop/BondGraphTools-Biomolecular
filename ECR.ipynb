{
 "cells": [
  {
   "cell_type": "markdown",
   "metadata": {},
   "source": [
    "***Note: this is the ECR.ipynb notebook. The\n",
    "PDF version \"Enzyme-catalysed Reactions\"\n",
    "is available [here](ECR.pdf).***"
   ]
  },
  {
   "cell_type": "markdown",
   "metadata": {},
   "source": [
    "# Introduction\n",
    "The standard model of an enzyme-catalysed reaction is given by \n",
    "<cite data-cite=\"KeeSne09\">(Keener and Sneyd, 2009)</cite>, Sec. 1.4 is given by the two coupled reactions:\n",
    "\\begin{align}\n",
    "A + E &\\Leftrightarrow C \\\\\n",
    "C &\\rightarrow B + E \n",
    "\\end{align}\n",
    "where A is the substrate, B the product, E the enzyme and C a complex. The first reaction is reversible and the second is not. This is not thermodynamically feasible so <cite data-cite=\"KeeSne09\">(Keener and Sneyd, 2009)</cite>, Sec. 1.4.5 and \n",
    "<cite data-cite=\"GawCra14\">(Gawthrop and Crampin, 2014)</cite>\n",
    "consider the reversible reaction pair:\n",
    "\\begin{align}\n",
    "A + E &\\Leftrightarrow C \\\\\n",
    "C &\\Leftrightarrow B + E \n",
    "\\end{align}\n",
    "Such a reaction pair is thermodynamically feasible and so has a bond graph representation given by <cite data-cite=\"GawCra14\">(Gawthrop and Crampin, 2014)</cite> Sec. 5. The corresponding flow $v$ is given by:\n",
    "\\begin{align}\n",
    " v &= \\bar{\\kappa} \\frac{K_c e_0}{K_m +  \\sigma_v} \\delta_v\\\\\n",
    " \\text{where }\n",
    " \\bar{\\kappa} &= \\frac{\\kappa_1 \\kappa_2}{{\\kappa_1+\\kappa_2}}\\\\\n",
    " \\delta_v &= K_A x_A - K_B x_B\\\\\n",
    " K_m &= \\frac{K_c}{K_e}\\\\\n",
    " \\text{and }\n",
    " \\sigma_v &= \\frac{\\kappa_1 K_A x_A + \\kappa_2 K_B x_B}{\\kappa_1+\\kappa_2}\n",
    "\\end{align}"
   ]
  },
  {
   "cell_type": "markdown",
   "metadata": {},
   "source": [
    "## Implement the theory\n",
    "The flow equations can be expressed in Python as:"
   ]
  },
  {
   "cell_type": "code",
   "execution_count": 1,
   "metadata": {},
   "outputs": [],
   "source": [
    "def ECR_flow(x_A,x_B,e0=1,\n",
    "             K_A = 1,K_B=1,K_C=1,K_E=1,\n",
    "             kappa_r1 = 1,kappa_r2=1):\n",
    "    \"\"\"Theoretical flows in Enzyme-catalysed Reactions\n",
    "    \"\"\"\n",
    "    \n",
    "    kappa_bar = (kappa_r1*kappa_r2)/(kappa_r1+kappa_r2)\n",
    "    delta = K_A*x_A - K_B*x_B\n",
    "    sigma = (kappa_r1*K_A*x_A + kappa_r2*K_B*x_B)/(kappa_r1 + kappa_r2)\n",
    "    K_m = K_C/K_E\n",
    "    \n",
    "    v = kappa_bar*e0*K_C*delta/(K_m+sigma)\n",
    "    \n",
    "    return v"
   ]
  },
  {
   "cell_type": "markdown",
   "metadata": {},
   "source": [
    "## Import some python code\n",
    "The bond graph analysis uses a number of Python modules:"
   ]
  },
  {
   "cell_type": "code",
   "execution_count": 2,
   "metadata": {},
   "outputs": [],
   "source": [
    "## Some useful imports\n",
    "import BondGraphTools as bgt\n",
    "import numpy as np\n",
    "import sympy as sp\n",
    "import matplotlib.pyplot as plt\n",
    "import IPython.display as disp\n",
    "\n",
    "## Stoichiometric analysis\n",
    "import stoich as st\n",
    "\n",
    "## SVG bg representation conversion\n",
    "import svgBondGraph as sbg\n",
    "\n",
    "## Set quiet=False for verbose output\n",
    "quiet = True"
   ]
  },
  {
   "cell_type": "markdown",
   "metadata": {},
   "source": [
    "# The bond graph representation\n",
    "The bond graph representation of the (reversible) enzyme-catalysed reaction is\n",
    "<cite data-cite=\"GawCra14\">(Gawthrop and Crampin, 2014)</cite>:"
   ]
  },
  {
   "cell_type": "code",
   "execution_count": 3,
   "metadata": {},
   "outputs": [
    {
     "data": {
      "image/svg+xml": [
       "<svg height=\"234pt\" viewBox=\"406 -1275 7287 3714\" width=\"460pt\" xmlns=\"http://www.w3.org/2000/svg\" xmlns:xlink=\"http://www.w3.org/1999/xlink\">\n",
       "<g fill=\"none\">\n",
       "<!-- Text -->\n",
       "<g transform=\"translate(2835,2025) rotate(-270)\">\n",
       "<text fill=\"#000000\" font-family=\"Helvetica\" font-size=\"216\" font-style=\"normal\" font-weight=\"bold\" text-anchor=\"middle\" x=\"0\" xml:space=\"preserve\" y=\"0\">Re:r1</text>\n",
       "</g><!-- Text -->\n",
       "<g transform=\"translate(5085,2025) rotate(-270)\">\n",
       "<text fill=\"#000000\" font-family=\"Helvetica\" font-size=\"216\" font-style=\"normal\" font-weight=\"bold\" text-anchor=\"middle\" x=\"0\" xml:space=\"preserve\" y=\"0\">Re:r2</text>\n",
       "</g><!-- Text -->\n",
       "<text fill=\"#000000\" font-family=\"Helvetica\" font-size=\"216\" font-style=\"normal\" font-weight=\"bold\" text-anchor=\"middle\" x=\"675\" xml:space=\"preserve\" y=\"990\">Ce:A</text>\n",
       "<!-- Text -->\n",
       "<text fill=\"#000000\" font-family=\"Helvetica\" font-size=\"216\" font-style=\"normal\" font-weight=\"bold\" text-anchor=\"middle\" x=\"1800\" xml:space=\"preserve\" y=\"2115\">1</text>\n",
       "<!-- Text -->\n",
       "<text fill=\"#000000\" font-family=\"Helvetica\" font-size=\"216\" font-style=\"normal\" font-weight=\"bold\" text-anchor=\"middle\" x=\"675\" xml:space=\"preserve\" y=\"2115\">0</text>\n",
       "<!-- Text -->\n",
       "<text fill=\"#000000\" font-family=\"Helvetica\" font-size=\"216\" font-style=\"normal\" font-weight=\"bold\" text-anchor=\"middle\" x=\"4050\" xml:space=\"preserve\" y=\"-1035\">Ce:E</text>\n",
       "<!-- Text -->\n",
       "<text fill=\"#000000\" font-family=\"Helvetica\" font-size=\"216\" font-style=\"normal\" font-weight=\"bold\" text-anchor=\"middle\" x=\"4050\" xml:space=\"preserve\" y=\"90\">0</text>\n",
       "<!-- Text -->\n",
       "<text fill=\"#000000\" font-family=\"Helvetica\" font-size=\"216\" font-style=\"normal\" font-weight=\"bold\" text-anchor=\"middle\" x=\"4050\" xml:space=\"preserve\" y=\"2115\">0</text>\n",
       "<!-- Text -->\n",
       "<text fill=\"#000000\" font-family=\"Helvetica\" font-size=\"216\" font-style=\"normal\" font-weight=\"bold\" text-anchor=\"middle\" x=\"4050\" xml:space=\"preserve\" y=\"990\">Ce:C</text>\n",
       "<!-- Text -->\n",
       "<text fill=\"#000000\" font-family=\"Helvetica\" font-size=\"216\" font-style=\"normal\" font-weight=\"bold\" text-anchor=\"middle\" x=\"7425\" xml:space=\"preserve\" y=\"990\">Ce:B</text>\n",
       "<!-- Text -->\n",
       "<text fill=\"#000000\" font-family=\"Helvetica\" font-size=\"216\" font-style=\"normal\" font-weight=\"bold\" text-anchor=\"middle\" x=\"7425\" xml:space=\"preserve\" y=\"2115\">0</text>\n",
       "<!-- Text -->\n",
       "<text fill=\"#000000\" font-family=\"Helvetica\" font-size=\"216\" font-style=\"normal\" font-weight=\"bold\" text-anchor=\"middle\" x=\"6300\" xml:space=\"preserve\" y=\"2115\">1</text>\n",
       "<!-- Line -->\n",
       "<polyline points=\" 6075,1800 4275,0 4275,225\" stroke=\"#000000\" stroke-width=\"15px\"/>\n",
       "<!-- Line -->\n",
       "<polyline points=\" 3825,0 2025,1800 2250,1800\" stroke=\"#000000\" stroke-width=\"15px\"/>\n",
       "<!-- Line -->\n",
       "<polyline points=\" 900,2025 1575,2025 1350,2250\" stroke=\"#000000\" stroke-width=\"15px\"/>\n",
       "<!-- Line -->\n",
       "<polyline points=\" 6525,2025 7200,2025 6975,2250\" stroke=\"#000000\" stroke-width=\"15px\"/>\n",
       "<!-- Line -->\n",
       "<polyline points=\" 675,1800 675,1125 900,1350\" stroke=\"#000000\" stroke-width=\"15px\"/>\n",
       "<!-- Line -->\n",
       "<polyline points=\" 4050,-225 4050,-900 4275,-675\" stroke=\"#000000\" stroke-width=\"15px\"/>\n",
       "<!-- Line -->\n",
       "<polyline points=\" 4050,1800 4050,1125 4275,1350\" stroke=\"#000000\" stroke-width=\"15px\"/>\n",
       "<!-- Line -->\n",
       "<polyline points=\" 7425,1800 7425,1125 7650,1350\" stroke=\"#000000\" stroke-width=\"15px\"/>\n",
       "<!-- Line -->\n",
       "<polyline points=\" 3150,2025 3825,2025 3600,2250\" stroke=\"#000000\" stroke-width=\"15px\"/>\n",
       "<!-- Line -->\n",
       "<polyline points=\" 4275,2025 4950,2025 4725,2250\" stroke=\"#000000\" stroke-width=\"15px\"/>\n",
       "<!-- Line -->\n",
       "<polyline points=\" 5400,2025 6075,2025 5850,2250\" stroke=\"#000000\" stroke-width=\"15px\"/>\n",
       "<!-- Line -->\n",
       "<polyline points=\" 2025,2025 2700,2025 2475,2250\" stroke=\"#000000\" stroke-width=\"15px\"/>\n",
       "</g>\n",
       "</svg>"
      ],
      "text/plain": [
       "<IPython.core.display.SVG object>"
      ]
     },
     "execution_count": 3,
     "metadata": {},
     "output_type": "execute_result"
    }
   ],
   "source": [
    "## Enzyme-catalysed reaction\n",
    "\n",
    "disp.SVG('RE_abg.svg')"
   ]
  },
  {
   "cell_type": "markdown",
   "metadata": {},
   "source": [
    "This graphical representation may be converted to [bond-graph tools](https://pypi.org/project/BondGraphTools/) format using "
   ]
  },
  {
   "cell_type": "code",
   "execution_count": 4,
   "metadata": {},
   "outputs": [],
   "source": [
    "sbg.model('RE_abg.svg')\n",
    "import RE_abg"
   ]
  },
  {
   "cell_type": "markdown",
   "metadata": {},
   "source": [
    "## Reactions\n",
    "The reactions coreponding to this bond graph are generated as follows:"
   ]
  },
  {
   "cell_type": "code",
   "execution_count": 5,
   "metadata": {},
   "outputs": [
    {
     "data": {
      "text/latex": [
       "\\begin{align}\n",
       "\\ch{A + E &<>[ r1 ] C }\\\\\n",
       "\\ch{C &<>[ r2 ] B + E }\n",
       "\\end{align}\n"
      ],
      "text/plain": [
       "<IPython.core.display.Latex object>"
      ]
     },
     "execution_count": 5,
     "metadata": {},
     "output_type": "execute_result"
    }
   ],
   "source": [
    "s = st.stoich(RE_abg.model(),quiet=quiet)\n",
    "disp.Latex(st.sprintrl(s,chemformula=True))"
   ]
  },
  {
   "cell_type": "markdown",
   "metadata": {},
   "source": [
    "# Stoichiometric analysis"
   ]
  },
  {
   "cell_type": "markdown",
   "metadata": {},
   "source": [
    "## Stoichiometric matrix"
   ]
  },
  {
   "cell_type": "code",
   "execution_count": 6,
   "metadata": {},
   "outputs": [
    {
     "data": {
      "text/latex": [
       "\\begin{align}\n",
       "N &=\n",
       "\\left(\\begin{matrix}-1 & 0\\\\0 & 1\\\\1 & -1\\\\-1 & 1\\end{matrix}\\right)\n",
       "\\end{align}\n"
      ],
      "text/plain": [
       "<IPython.core.display.Latex object>"
      ]
     },
     "execution_count": 6,
     "metadata": {},
     "output_type": "execute_result"
    }
   ],
   "source": [
    "disp.Latex(st.sprintl(s,'N'))"
   ]
  },
  {
   "cell_type": "markdown",
   "metadata": {},
   "source": [
    "## Conserved moieties"
   ]
  },
  {
   "cell_type": "code",
   "execution_count": 7,
   "metadata": {},
   "outputs": [
    {
     "data": {
      "text/latex": [
       "\\begin{align}\n",
       "G &=\n",
       "\\left(\\begin{matrix}1 & 1 & 1 & 0\\\\-1 & -1 & 0 & 1\\end{matrix}\\right)\n",
       "\\end{align}\n"
      ],
      "text/plain": [
       "<IPython.core.display.Latex object>"
      ]
     },
     "execution_count": 7,
     "metadata": {},
     "output_type": "execute_result"
    }
   ],
   "source": [
    "disp.Latex(st.sprintl(s,'G'))"
   ]
  },
  {
   "cell_type": "markdown",
   "metadata": {},
   "source": [
    "## Chemostats and Pathways\n",
    "Chemostats are discussed by <cite data-cite=\"GawCra16\">(Gawthrop and Crampin, 2016)</cite> and pathways by <cite data-cite=\"GawCra17\">(Gawthrop and Crampin, 2017)</cite>"
   ]
  },
  {
   "cell_type": "code",
   "execution_count": 8,
   "metadata": {},
   "outputs": [
    {
     "data": {
      "text/latex": [
       "\\begin{align}\n",
       "K &=\n",
       "\\left(\\begin{matrix}1\\\\1\\end{matrix}\\right)\n",
       "\\end{align}\n"
      ],
      "text/plain": [
       "<IPython.core.display.Latex object>"
      ]
     },
     "execution_count": 8,
     "metadata": {},
     "output_type": "execute_result"
    }
   ],
   "source": [
    "chemostats = ['A','B']\n",
    "sc = st.statify(s,chemostats=chemostats)\n",
    "disp.Latex(st.sprintl(sc,'K'))"
   ]
  },
  {
   "cell_type": "code",
   "execution_count": 9,
   "metadata": {},
   "outputs": [
    {
     "data": {
      "text/latex": [
       "\\begin{align}\n",
       "\\ch{A &<>[ pr1 ] B }\n",
       "\\end{align}\n"
      ],
      "text/plain": [
       "<IPython.core.display.Latex object>"
      ]
     },
     "execution_count": 9,
     "metadata": {},
     "output_type": "execute_result"
    }
   ],
   "source": [
    "sp = st.path(s,sc)\n",
    "disp.Latex(st.sprintrl(sp,chemformula=True))"
   ]
  },
  {
   "cell_type": "markdown",
   "metadata": {},
   "source": [
    "# Theoretical flows\n",
    "The theoretical flows are generated as a function of x_A (with constant x_B) for two values of $K_B$ and two values of $K_E$. $K_B=0$ corresponds to the irreversible case."
   ]
  },
  {
   "cell_type": "code",
   "execution_count": 10,
   "metadata": {},
   "outputs": [
    {
     "data": {
      "image/png": "[encoded data removed]",
      "text/plain": [
       "<Figure size 432x288 with 1 Axes>"
      ]
     },
     "metadata": {},
     "output_type": "display_data"
    }
   ],
   "source": [
    "KK_E = [1,10]\n",
    "KK_B = [0,1]\n",
    "Legend = []\n",
    "x_A = np.logspace(-2,2,100)\n",
    "x_B = 1\n",
    "for K_E in KK_E:\n",
    "    for K_B in KK_B:\n",
    "        Legend.append('$K_B = '+str(K_B)+'; K_E = '+str(K_E)+'$')\n",
    "        v = ECR_flow(x_A,x_B,K_E=K_E,K_B=K_B)\n",
    "        plt.semilogx(x_A,v)\n",
    "plt.legend(Legend)\n",
    "plt.ylim((-1,1))\n",
    "plt.xlabel('$x_A$')\n",
    "plt.ylabel('$v$')\n",
    "plt.grid()\n",
    "plt.show()"
   ]
  },
  {
   "cell_type": "markdown",
   "metadata": {},
   "source": [
    "Note:\n",
    "    \n",
    "    1. When $K_B=0$, the flow $v$  depends on $x_A$ but not $x_B$\n",
    "    2. As $K_m = \\frac{K_c}{K_e}$ the two cases correspond to $K_m=1$ and $K_m=0.1$ respectively. A smaller $K_m$ leads to a steeper curve. "
   ]
  },
  {
   "cell_type": "markdown",
   "metadata": {},
   "source": [
    "# Simulated flows\n",
    "The theoretical values can be confirmed by simulation. However, the simulation is dynamic whereas the theoretical results correspond to the steady-state situation. This dichotomy is resolved by:\n",
    "\n",
    "1. Starting x_A at a constant value to allow the transient effects of initial conditions to die out.\n",
    "2. Then varying $x_A$ slowly:\n",
    "\\begin{equation}\n",
    "x_A = \n",
    "   \\begin{cases}\n",
    "   x_{min} & \\text{if $t<t_0$}\\\\\n",
    "   x_{min} + (x_{max}-x_{min})\\frac{t-t_0}{t_{max}-t_0} & \\text{otherwise}\n",
    "   \\end{cases}\n",
    "\\end{equation}\n",
    "3. It is not possible to set $K_B$ to zero as $\\ln K_B x_B$ is not defined in this case. Hence a small value is used instead."
   ]
  },
  {
   "cell_type": "code",
   "execution_count": 11,
   "metadata": {},
   "outputs": [
    {
     "name": "stdout",
     "output_type": "stream",
     "text": [
      "0.01 + (100.0-0.01)*np.heaviside(t-100.0,1)*((t-100.0)/99900.0)\n"
     ]
    },
    {
     "data": {
      "image/png": "[encoded data removed]",
      "text/plain": [
       "<Figure size 432x288 with 1 Axes>"
      ]
     },
     "metadata": {},
     "output_type": "display_data"
    }
   ],
   "source": [
    "##Time\n",
    "t_max = int(1e5)\n",
    "t = np.linspace(0,t_max,10000)\n",
    "t_0 = 1e2\n",
    "t_1 = t_max-t_0\n",
    "i_max = len(t)\n",
    "i_0 = int(i_max*t_0/t_max)\n",
    "i_1 = i_max-i_0\n",
    "\n",
    "## States\n",
    "x_min = 1e-2\n",
    "x_max = 1e2\n",
    "A_chemo = '{3} + ({0}-{3})*np.heaviside(t-{1},1)*((t-{1})/{2})'.format(x_max,t_0,t_1,x_min)\n",
    "#A_chemo = '1+t/1e5'\n",
    "print(A_chemo)\n",
    "X_chemo =  {'A':A_chemo}\n",
    "X0 = np.ones(s['n_X'])\n",
    "X0[s['spec_index']['E']] = 0.5\n",
    "X0[s['spec_index']['C']] = 0.5\n",
    "\n",
    "## Simulate\n",
    "Legend = []\n",
    "for K_C in [1,0.1]:\n",
    "    for K_B in [1E-6,1]:\n",
    "        Legend.append('$K_B = '+str(K_B)+'; K_C = '+str(K_C)+'$')\n",
    "        parameter = {'K_B':K_B,'K_C':K_C}\n",
    "        dat = st.sim(s,sc=sc,t=t,parameter=parameter,X0=X0,X_chemo=X_chemo,quiet=quiet)\n",
    "        v = dat['V'][:,s['reac_index']['r1']]\n",
    "        x_A = dat['X'][:,s['spec_index']['A']]\n",
    "        plt.semilogx(x_A[-i_1:],v[-i_1:]/K_C)\n",
    "plt.legend(Legend)\n",
    "#plt.ylim((-1,1))\n",
    "plt.xlabel('$x_A$')\n",
    "plt.ylabel('$v/K_C$')\n",
    "plt.grid()\n",
    "plt.show()"
   ]
  },
  {
   "cell_type": "markdown",
   "metadata": {},
   "source": [
    "## Slowly-varying $x_A$\n",
    "This section explicitly shows the approach used to generate steady-state values using a slowly-varying signal.\n",
    "The first graph below shows the exogenous variable $x_A$: it has a constant value of 0.01  for $t<100$ and then rises as a slow ramp. The flow $v$ has a transient which settles well before $t=100$. In the above graphs, $v$ is plotted against $x_A$ for $t>100$ so that the initial transient does not appear."
   ]
  },
  {
   "cell_type": "code",
   "execution_count": 12,
   "metadata": {},
   "outputs": [
    {
     "data": {
      "image/png": "[encoded data removed]",
      "text/plain": [
       "<Figure size 432x288 with 2 Axes>"
      ]
     },
     "metadata": {},
     "output_type": "display_data"
    }
   ],
   "source": [
    "plt.subplot(2,1,1)\n",
    "plt.plot(t[:5*i_0],x_A[:5*i_0])\n",
    "plt.xlabel('$t$')\n",
    "plt.ylabel('$x_A$')\n",
    "plt.grid()\n",
    "plt.subplot(2,1,2)\n",
    "plt.plot(t[:5*i_0],v[:5*i_0])\n",
    "plt.xlabel('$t$')\n",
    "plt.ylabel('$v$')\n",
    "plt.grid()\n",
    "plt.show()"
   ]
  }
 ],
 "metadata": {
  "kernelspec": {
   "display_name": "Python 3",
   "language": "python",
   "name": "python3"
  },
  "language_info": {
   "codemirror_mode": {
    "name": "ipython",
    "version": 3
   },
   "file_extension": ".py",
   "mimetype": "text/x-python",
   "name": "python",
   "nbconvert_exporter": "python",
   "pygments_lexer": "ipython3",
   "version": "3.6.8"
  },
  "toc": {
   "base_numbering": 1,
   "nav_menu": {},
   "number_sections": true,
   "sideBar": true,
   "skip_h1_title": false,
   "title_cell": "Table of Contents",
   "title_sidebar": "Contents",
   "toc_cell": false,
   "toc_position": {},
   "toc_section_display": true,
   "toc_window_display": false
  }
 },
 "nbformat": 4,
 "nbformat_minor": 2
}
