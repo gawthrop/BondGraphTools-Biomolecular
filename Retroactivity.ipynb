{
 "cells": [
  {
   "cell_type": "markdown",
   "metadata": {},
   "source": [
    "***Note: this is the Retroactivity.ipynb notebook. The\n",
    "PDF version \"Modules, Linearisation and Retroactivity\"\n",
    "is available [here](Retroactivity.pdf).***"
   ]
  },
  {
   "cell_type": "markdown",
   "metadata": {},
   "source": [
    "# Introduction\n",
    "As discussed by <cite data-cite=\"GawCra16\">(Gawthrop and Crampin, 2016)</cite>:\n",
    "\"Computational modularity is a necessary condition for building\n",
    "physically correct computational models of biomolecular systems.\n",
    "However, computational modularity does not imply that module\n",
    "properties (such as ultrasensitivity) are retained when a module is\n",
    "incorporated into a larger system. In the context of engineering, modules often have buffer amplifiers at the interface so that they\n",
    "have unidirectional connections and may thus be represented and\n",
    "analysed on a block diagram or signal flow graph where the\n",
    "properties of each module are retained. This will be called\n",
    "behavioural modularity in this paper. However, biological networks\n",
    "do not usually have this unidirectional property, but rather display\n",
    "retroactivity; retroactivity modifies the properties of the\n",
    "interacting modules.\"\n",
    "\n",
    "The concept of retroactivity is used by, for example:\n",
    "<cite data-cite=\"SaeKreCon04\">(Julio Saez-Rodriguez, Andreas Kremling,\n",
    "Holger Conzelmann, Katja Bettenbrock,\n",
    "and Ernst Dieter Gilles, 2004)</cite>,\n",
    "<cite data-cite=\"SaeKreGil05\">(J. Saez-Rodriguez, A. Kremling and E.D. Gilles, 2005)</cite>,\n",
    "<cite data-cite=\"VecMur14\">(Domitilla Del Vecchio and Robert M. Murray, 2014)</cite> and\n",
    "<cite data-cite=\"VecDyQia16\">(Domitilla Del Vecchio, Aaron J. Dy and Yili Qian, 2016)</cite>.\n",
    "\n",
    "This note looks at retroactivity in a simple linear case: a chain of reactions. The analysis is based on \n",
    "<cite data-cite=\"GawCra16\">(Gawthrop and Crampin, 2016)</cite>.\n",
    "The analysis uses [Bond Graph Tools](https://pypi.org/project/BondGraphTools/)."
   ]
  },
  {
   "cell_type": "markdown",
   "metadata": {},
   "source": [
    "## Import some python code\n",
    "The bond graph analysis uses a number of Python modules:"
   ]
  },
  {
   "cell_type": "code",
   "execution_count": 1,
   "metadata": {},
   "outputs": [],
   "source": [
    "## Some useful imports\n",
    "import BondGraphTools as bgt\n",
    "import numpy as np\n",
    "import sympy as sp\n",
    "import matplotlib.pyplot as plt\n",
    "import IPython.display as disp\n",
    "\n",
    "## Stoichiometric analysis\n",
    "import stoich as st\n",
    "\n",
    "## SVG bg representation conversion\n",
    "import svgBondGraph as sbg\n",
    "\n",
    "## Modularity\n",
    "import modularBondGraph as mbg\n",
    "\n",
    "## Control systems package\n",
    "import control as con\n",
    "\n",
    "## Set quiet=False for verbose output\n",
    "quiet = True\n",
    "\n",
    "## Set slycot=True if slycot is installed (see control module)\n",
    "slycot=True\n",
    "\n",
    "## Chemical equation formatting\n",
    "chemformula = True\n",
    "\n",
    "import importlib as imp\n",
    "\n",
    "## Allow output from within functions\n",
    "from IPython.core.interactiveshell import InteractiveShell\n",
    "InteractiveShell.ast_node_interactivity = \"all\"\n"
   ]
  },
  {
   "cell_type": "markdown",
   "metadata": {},
   "source": [
    "# A simple reaction network: $A \\Leftrightarrow B \\Leftrightarrow C$\n",
    "The simple reaction network $A \\Leftrightarrow B \\Leftrightarrow C$ can be concatenated to form a chain of $N$ such networks. There are two approaches to this:\n",
    "- the modular bond graph approach using the chain() function from modularBondGraph and\n",
    "- Concatenate linearised subsystem approach using the [Python Control Systems Library](https://python-control.readthedocs.io/en/0.8.3/index.html).\n",
    "\n",
    "The species at each end of the chain are chemostats <cite data-cite=\"GawCra16\">(Gawthrop and Crampin, 2016)</cite>.\n"
   ]
  },
  {
   "cell_type": "markdown",
   "metadata": {},
   "source": [
    "## Bond graph model"
   ]
  },
  {
   "cell_type": "code",
   "execution_count": 2,
   "metadata": {},
   "outputs": [
    {
     "data": {
      "image/svg+xml": [
       "<svg height=\"125pt\" viewBox=\"3075 1200 7799 1972\" width=\"492pt\" xmlns=\"http://www.w3.org/2000/svg\" xmlns:xlink=\"http://www.w3.org/1999/xlink\">\n",
       "<g fill=\"none\">\n",
       "<!-- Text -->\n",
       "<text fill=\"#000000\" font-family=\"Helvetica\" font-size=\"216\" font-style=\"normal\" font-weight=\"bold\" text-anchor=\"middle\" x=\"3375\" xml:space=\"preserve\" y=\"3015\">0</text>\n",
       "<!-- Text -->\n",
       "<text fill=\"#000000\" font-family=\"Helvetica\" font-size=\"216\" font-style=\"normal\" font-weight=\"bold\" text-anchor=\"middle\" x=\"3375\" xml:space=\"preserve\" y=\"1440\">Ce:A</text>\n",
       "<!-- Text -->\n",
       "<text fill=\"#000000\" font-family=\"Helvetica\" font-size=\"216\" font-style=\"normal\" font-weight=\"bold\" text-anchor=\"middle\" x=\"6975\" xml:space=\"preserve\" y=\"1440\">Ce:B</text>\n",
       "<!-- Text -->\n",
       "<text fill=\"#000000\" font-family=\"Helvetica\" font-size=\"216\" font-style=\"normal\" font-weight=\"bold\" text-anchor=\"middle\" x=\"8775\" xml:space=\"preserve\" y=\"3015\">Re:r2</text>\n",
       "<!-- Text -->\n",
       "<text fill=\"#000000\" font-family=\"Helvetica\" font-size=\"216\" font-style=\"normal\" font-weight=\"bold\" text-anchor=\"middle\" x=\"5175\" xml:space=\"preserve\" y=\"3015\">Re:r1</text>\n",
       "<!-- Text -->\n",
       "<text fill=\"#000000\" font-family=\"Helvetica\" font-size=\"216\" font-style=\"normal\" font-weight=\"bold\" text-anchor=\"middle\" x=\"6975\" xml:space=\"preserve\" y=\"3015\">0</text>\n",
       "<!-- Text -->\n",
       "<text fill=\"#000000\" font-family=\"Helvetica\" font-size=\"216\" font-style=\"normal\" font-weight=\"bold\" text-anchor=\"middle\" x=\"10575\" xml:space=\"preserve\" y=\"3015\">0</text>\n",
       "<!-- Text -->\n",
       "<text fill=\"#000000\" font-family=\"Helvetica\" font-size=\"216\" font-style=\"normal\" font-weight=\"bold\" text-anchor=\"middle\" x=\"10575\" xml:space=\"preserve\" y=\"1440\">Ce:C</text>\n",
       "<!-- Line -->\n",
       "<polyline points=\" 3375,2700 3375,1575 3600,1800\" stroke=\"#000000\" stroke-width=\"15px\"/>\n",
       "<!-- Line -->\n",
       "<polyline points=\" 3600,2925 4725,2925 4500,3150\" stroke=\"#000000\" stroke-width=\"15px\"/>\n",
       "<!-- Line -->\n",
       "<polyline points=\" 5625,2925 6750,2925 6525,3150\" stroke=\"#000000\" stroke-width=\"15px\"/>\n",
       "<!-- Line -->\n",
       "<polyline points=\" 6975,2700 6975,1575 7200,1800\" stroke=\"#000000\" stroke-width=\"15px\"/>\n",
       "<!-- Line -->\n",
       "<polyline points=\" 7200,2925 8325,2925 8100,3150\" stroke=\"#000000\" stroke-width=\"15px\"/>\n",
       "<!-- Line -->\n",
       "<polyline points=\" 9225,2925 10350,2925 10125,3150\" stroke=\"#000000\" stroke-width=\"15px\"/>\n",
       "<!-- Line -->\n",
       "<polyline points=\" 10575,2700 10575,1575 10800,1800\" stroke=\"#000000\" stroke-width=\"15px\"/>\n",
       "</g>\n",
       "</svg>"
      ],
      "text/plain": [
       "<IPython.core.display.SVG object>"
      ]
     },
     "execution_count": 2,
     "metadata": {},
     "output_type": "execute_result"
    },
    {
     "data": {
      "text/latex": [
       "$$\\begin{bmatrix}\\frac{-s - 1}{s + 2}&\\frac{1}{s + 2}\\\\\\frac{1}{s + 2}&\\frac{-s - 1}{s + 2}\\\\ \\end{bmatrix}$$"
      ],
      "text/plain": [
       "\n",
       "Input 1 to output 1:\n",
       "-s - 1\n",
       "------\n",
       "s + 2\n",
       "\n",
       "Input 1 to output 2:\n",
       "  1\n",
       "-----\n",
       "s + 2\n",
       "\n",
       "Input 2 to output 1:\n",
       "  1\n",
       "-----\n",
       "s + 2\n",
       "\n",
       "Input 2 to output 2:\n",
       "-s - 1\n",
       "------\n",
       "s + 2"
      ]
     },
     "execution_count": 2,
     "metadata": {},
     "output_type": "execute_result"
    }
   ],
   "source": [
    "sbg.model('ABC_abg.svg')\n",
    "import ABC_abg\n",
    "disp.SVG('ABC_abg.svg')\n",
    "s = st.stoich(ABC_abg.model(),quiet=True)\n",
    "sc = st.statify(s,chemostats=['A','C'])\n",
    "\n",
    "## Transfer function form (with chemostats)\n",
    "sys = st.lin(s,sc,outvar = 'port',quiet=quiet)\n",
    "con.ss2tf(sys)\n",
    "                "
   ]
  },
  {
   "cell_type": "markdown",
   "metadata": {},
   "source": [
    "## Analysis of the chain of reactions\n",
    "The function analyse() performs some basic analysis on the chain:\n",
    "- The poles and dc gain\n",
    "-  The interaction loop-gain $L$ from equation (86) of <cite data-cite=\"GawCra16\">(Gawthrop and Crampin, 2016)</cite>\n",
    "- The step responses of the chain transfer function\n",
    "\n",
    "Note that the chain inputs and outputs are determined by the chemostats at each end of the chain; thus the two inputs are the *potential* at each end and the two outputs are the coresponding flows.\n"
   ]
  },
  {
   "cell_type": "code",
   "execution_count": 3,
   "metadata": {},
   "outputs": [],
   "source": [
    "def analyse(sys,Sys,csys=None):\n",
    "    \"\"\"Analyse the linearised systems\"\"\"\n",
    "    \n",
    "    print('==========================')\n",
    "    print('Chain length N =',N)\n",
    "    print('==========================')\n",
    "    \n",
    "    ## Properties of the chain\n",
    "    ## Note that poles are real; np.real removes spurious imag parts.\n",
    "    print('Chain poles:',np.sort(np.real(con.pole(Sys))))\n",
    "    print('Chain gain:',con.dcgain(Sys))\n",
    "\n",
    "    if csys is not None:\n",
    "        print('Analyse cys')\n",
    "\n",
    "        csys_tf = con.ss2tf(csys)\n",
    "        g_ef = csys_tf[0,0]\n",
    "        g_fe = csys_tf[1,1]\n",
    "        L = con.negate(con.series(g_ef,g_fe))\n",
    "        print(\"L:\",L)\n",
    "\n",
    "    ## Step responses\n",
    "    k = 0\n",
    "    for i in range(2):\n",
    "        for j in range(2):\n",
    "            k += 1\n",
    "            T = np.linspace(0,20,100)\n",
    "            tt,yy = con.step_response(Sys,input=j,output=i,T=T)\n",
    "            plt.subplot(2,2,k)\n",
    "            plt.plot(tt,yy)\n",
    "            plt.title('Step response '+str(i+1)+','+str(j+1))\n",
    "            plt.grid()\n",
    "    plt.tight_layout()\n",
    "    plt.show()\n"
   ]
  },
  {
   "cell_type": "markdown",
   "metadata": {},
   "source": [
    "# Modular bond graph approach\n"
   ]
  },
  {
   "cell_type": "markdown",
   "metadata": {},
   "source": [
    "## Create and analyse chain for various lengths N"
   ]
  },
  {
   "cell_type": "code",
   "execution_count": 4,
   "metadata": {},
   "outputs": [
    {
     "name": "stdout",
     "output_type": "stream",
     "text": [
      "Help on function chain in module modularBondGraph:\n",
      "\n",
      "chain(model, inport='in', outport='out', N=2, quiet=False)\n",
      "    Concatenate N instances of model via ports inport and outport\n",
      "    The ports are represented in model as Ce components\n",
      "    Ce:in in the first link of the chain and Ce:out in the last link remain as Ce components\n",
      "    The method unifies Ce:out of link i and Ce:in of link i+1 by replacing them by ports \n",
      "    and connecting them to a new Ce component with associated zero junction.\n",
      "\n"
     ]
    }
   ],
   "source": [
    "help(mbg.chain)"
   ]
  },
  {
   "cell_type": "code",
   "execution_count": 5,
   "metadata": {
    "scrolled": false
   },
   "outputs": [
    {
     "name": "stdout",
     "output_type": "stream",
     "text": [
      "==========================\n",
      "Chain length N = 1\n",
      "==========================\n",
      "Chain poles: [-4.]\n",
      "Chain gain: [[-1.  1.]\n",
      " [ 1. -1.]]\n"
     ]
    },
    {
     "data": {
      "image/png": "[encoded data removed]",
      "text/plain": [
       "<Figure size 432x288 with 4 Axes>"
      ]
     },
     "metadata": {},
     "output_type": "display_data"
    },
    {
     "name": "stdout",
     "output_type": "stream",
     "text": [
      "Chain transfer function:\n"
     ]
    },
    {
     "data": {
      "text/latex": [
       "$$\\begin{bmatrix}\\frac{-2 s - 4}{s + 4}&\\frac{4}{s + 4}\\\\\\frac{4}{s + 4}&\\frac{-2 s - 4}{s + 4}\\\\ \\end{bmatrix}$$"
      ],
      "text/plain": [
       "\n",
       "Input 1 to output 1:\n",
       "-2 s - 4\n",
       "--------\n",
       "  s + 4\n",
       "\n",
       "Input 1 to output 2:\n",
       "  4\n",
       "-----\n",
       "s + 4\n",
       "\n",
       "Input 2 to output 1:\n",
       "  4\n",
       "-----\n",
       "s + 4\n",
       "\n",
       "Input 2 to output 2:\n",
       "-2 s - 4\n",
       "--------\n",
       "  s + 4"
      ]
     },
     "execution_count": 5,
     "metadata": {},
     "output_type": "execute_result"
    },
    {
     "name": "stdout",
     "output_type": "stream",
     "text": [
      "==========================\n",
      "Chain length N = 2\n",
      "==========================\n",
      "Chain poles: [-6.82842712 -4.         -1.17157288]\n",
      "Chain gain: [[-0.5  0.5]\n",
      " [ 0.5 -0.5]]\n"
     ]
    },
    {
     "data": {
      "image/png": "[encoded data removed]",
      "text/plain": [
       "<Figure size 432x288 with 4 Axes>"
      ]
     },
     "metadata": {},
     "output_type": "display_data"
    },
    {
     "name": "stdout",
     "output_type": "stream",
     "text": [
      "Chain transfer function:\n"
     ]
    },
    {
     "data": {
      "text/latex": [
       "$$\\begin{bmatrix}\\frac{-2 s^3 - 20 s^2 - 48 s - 16}{s^3 + 12 s^2 + 40 s + 32}&\\frac{16}{s^3 + 12 s^2 + 40 s + 32}\\\\\\frac{16}{s^3 + 12 s^2 + 40 s + 32}&\\frac{-2 s^3 - 20 s^2 - 48 s - 16}{s^3 + 12 s^2 + 40 s + 32}\\\\ \\end{bmatrix}$$"
      ],
      "text/plain": [
       "\n",
       "Input 1 to output 1:\n",
       "-2 s^3 - 20 s^2 - 48 s - 16\n",
       "---------------------------\n",
       "  s^3 + 12 s^2 + 40 s + 32\n",
       "\n",
       "Input 1 to output 2:\n",
       "           16\n",
       "------------------------\n",
       "s^3 + 12 s^2 + 40 s + 32\n",
       "\n",
       "Input 2 to output 1:\n",
       "           16\n",
       "------------------------\n",
       "s^3 + 12 s^2 + 40 s + 32\n",
       "\n",
       "Input 2 to output 2:\n",
       "-2 s^3 - 20 s^2 - 48 s - 16\n",
       "---------------------------\n",
       "  s^3 + 12 s^2 + 40 s + 32"
      ]
     },
     "execution_count": 5,
     "metadata": {},
     "output_type": "execute_result"
    },
    {
     "name": "stdout",
     "output_type": "stream",
     "text": [
      "==========================\n",
      "Chain length N = 5\n",
      "==========================\n",
      "Chain poles: [-7.80422607 -7.23606798 -6.35114101 -5.23606798 -4.         -2.76393202\n",
      " -1.64885899 -0.76393202 -0.19577393]\n",
      "Chain gain: [[-0.2  0.2]\n",
      " [ 0.2 -0.2]]\n"
     ]
    },
    {
     "data": {
      "image/png": "[encoded data removed]",
      "text/plain": [
       "<Figure size 432x288 with 4 Axes>"
      ]
     },
     "metadata": {},
     "output_type": "display_data"
    },
    {
     "name": "stdout",
     "output_type": "stream",
     "text": [
      "Chain transfer function:\n"
     ]
    },
    {
     "data": {
      "text/latex": [
       "$$\\begin{bmatrix}\\frac{-2 s^9 - 68 s^8 - 960 s^7 - 7280 s^6 - 3.203e+04 s^5 - 8.237e+04 s^4 - 1.183e+05 s^3 - 8.448e+04 s^2 - 2.304e+04 s - 1024}{s^9 + 36 s^8 + 544 s^7 + 4480 s^6 + 2.184e+04 s^5 + 6.406e+04 s^4 + 1.098e+05 s^3 + 1.014e+05 s^2 + 4.224e+04 s + 5120}&\\frac{1024}{s^9 + 36 s^8 + 544 s^7 + 4480 s^6 + 2.184e+04 s^5 + 6.406e+04 s^4 + 1.098e+05 s^3 + 1.014e+05 s^2 + 4.224e+04 s + 5120}\\\\\\frac{1024}{s^9 + 36 s^8 + 544 s^7 + 4480 s^6 + 2.184e+04 s^5 + 6.406e+04 s^4 + 1.098e+05 s^3 + 1.014e+05 s^2 + 4.224e+04 s + 5120}&\\frac{-2 s^9 - 68 s^8 - 960 s^7 - 7280 s^6 - 3.203e+04 s^5 - 8.237e+04 s^4 - 1.183e+05 s^3 - 8.448e+04 s^2 - 2.304e+04 s - 1024}{s^9 + 36 s^8 + 544 s^7 + 4480 s^6 + 2.184e+04 s^5 + 6.406e+04 s^4 + 1.098e+05 s^3 + 1.014e+05 s^2 + 4.224e+04 s + 5120}\\\\ \\end{bmatrix}$$"
      ],
      "text/plain": [
       "\n",
       "Input 1 to output 1:\n",
       "-2 s^9 - 68 s^8 - 960 s^7 - 7280 s^6 - 3.203e+04 s^5 - 8.237e+04 s^4 - 1.183e+05 s^3 - 8.448e+04 s^2 - 2.304e+04 s - 1024\n",
       "-------------------------------------------------------------------------------------------------------------------------\n",
       "  s^9 + 36 s^8 + 544 s^7 + 4480 s^6 + 2.184e+04 s^5 + 6.406e+04 s^4 + 1.098e+05 s^3 + 1.014e+05 s^2 + 4.224e+04 s + 5120\n",
       "\n",
       "Input 1 to output 2:\n",
       "                                                         1024\n",
       "----------------------------------------------------------------------------------------------------------------------\n",
       "s^9 + 36 s^8 + 544 s^7 + 4480 s^6 + 2.184e+04 s^5 + 6.406e+04 s^4 + 1.098e+05 s^3 + 1.014e+05 s^2 + 4.224e+04 s + 5120\n",
       "\n",
       "Input 2 to output 1:\n",
       "                                                         1024\n",
       "----------------------------------------------------------------------------------------------------------------------\n",
       "s^9 + 36 s^8 + 544 s^7 + 4480 s^6 + 2.184e+04 s^5 + 6.406e+04 s^4 + 1.098e+05 s^3 + 1.014e+05 s^2 + 4.224e+04 s + 5120\n",
       "\n",
       "Input 2 to output 2:\n",
       "-2 s^9 - 68 s^8 - 960 s^7 - 7280 s^6 - 3.203e+04 s^5 - 8.237e+04 s^4 - 1.183e+05 s^3 - 8.448e+04 s^2 - 2.304e+04 s - 1024\n",
       "-------------------------------------------------------------------------------------------------------------------------\n",
       "  s^9 + 36 s^8 + 544 s^7 + 4480 s^6 + 2.184e+04 s^5 + 6.406e+04 s^4 + 1.098e+05 s^3 + 1.014e+05 s^2 + 4.224e+04 s + 5120"
      ]
     },
     "execution_count": 5,
     "metadata": {},
     "output_type": "execute_result"
    }
   ],
   "source": [
    "\n",
    "NN = [1,2,5]\n",
    "for N in NN:\n",
    "    \n",
    "    ## Create chain\n",
    "    NABC = mbg.chain(ABC_abg.model(),inport='A',outport='C',N=N,quiet=quiet)\n",
    "    s = st.stoich(NABC,quiet=True)\n",
    "    #print(s['reaction'])\n",
    "    sc = st.statify(s,chemostats=['A','C'])\n",
    "    #disp.Latex(st.sprintrl(sc,chemformula=chemformula))\n",
    "    \n",
    "    ## Set each Re component to have kappa = 2\n",
    "    parameter = {}\n",
    "    for r in s['reaction']:\n",
    "        parameter['kappa_'+r] = 2\n",
    "   \n",
    "    ## Linearise the chain\n",
    "    Sys = st.lin(s,sc,outvar = 'port',parameter=parameter,quiet=quiet)\n",
    "    \n",
    "    ## Analyse the properties\n",
    "    analyse(sys,Sys)\n",
    "    \n",
    "    print('Chain transfer function:')\n",
    "    con.ss2tf(Sys)"
   ]
  },
  {
   "cell_type": "markdown",
   "metadata": {},
   "source": [
    "## Discussion\n",
    "- The overall step response from the start to the end of the chain (step response 2,1 from $u_1$ to $y_2$) becomes higher-order and slower as $N$ increases.\n",
    "- Because of retroactivity, the steady-state (DC) gain of the chain is *not* the product of the gain of each link - it is 1/N in this case.\n",
    "- Because of retroactivity, the poles of the chain are (except for the pole at s=4) different for each N"
   ]
  },
  {
   "cell_type": "markdown",
   "metadata": {},
   "source": [
    "# Concatenate linearised subsystem approach\n",
    "As discussed by <cite data-cite=\"GawCra16\">Gawthrop and Crampin (2016)</cite>, and as outlined in the following figure: a bond graph representing a linear system can be represented as a transfer function *when causality has been asigned*. Thus, in the example in the figure, a bond graph with two impinging bonds and causality assigned as shown, corresponds to a $2 \\times 2$ transfer function matrix so that:\n",
    "\\begin{equation}\n",
    "  \\begin{pmatrix}\n",
    "    y_1 \\\\y_2\n",
    "  \\end{pmatrix} =\n",
    "  \\begin{pmatrix}\n",
    "    g_{11} & g_{12}\\\\\n",
    "    g_{21} & g_{22}\n",
    "  \\end{pmatrix}\n",
    "  \\begin{pmatrix}\n",
    "    u_1 \\\\u_2\n",
    "  \\end{pmatrix}\n",
    "\\end{equation}\n",
    "\n",
    "As in the modular bond-graph approach, a Ce component is put beween each link in the chain to unify the appropriate Ce components:\n",
    "- The system *sys* corresponds to the bond graph ABG_abg above with **Ce:A** and **Ce:C** replaced by ports\n",
    "- The system *csys* is *sys* with a **Ce** component prepended.\n"
   ]
  },
  {
   "cell_type": "code",
   "execution_count": 6,
   "metadata": {},
   "outputs": [
    {
     "data": {
      "image/svg+xml": [
       "<svg height=\"216pt\" viewBox=\"2003 1328 4319 3419\" width=\"273pt\" xmlns=\"http://www.w3.org/2000/svg\" xmlns:xlink=\"http://www.w3.org/1999/xlink\">\n",
       "<g fill=\"none\">\n",
       "<!-- Line -->\n",
       "<polyline points=\" 5175,1800 5175,2250\" stroke=\"#000000\" stroke-width=\"15px\"/>\n",
       "<!-- Line -->\n",
       "<rect height=\"1350\" stroke=\"#000000\" stroke-width=\"15px\" width=\"1575\" x=\"3375\" y=\"3375\"/>\n",
       "<!-- Line -->\n",
       "<defs>\n",
       "<clipPath id=\"cp0\">\n",
       "\t<path clip-rule=\"evenodd\" d=\"M 2003,1328 H 6322 V 4747 H 2003 z   M 3239,3570 3239,3630 3386,3611 3386,3590z\"/>\n",
       "</clipPath>\n",
       "</defs>\n",
       "<polyline clip-path=\"url(#cp0)\" points=\" 2475,3600 3375,3600\" stroke=\"#000000\" stroke-width=\"15px\"/>\n",
       "<!-- Forward arrow to point 3375,3600 -->\n",
       "<polygon fill=\"#000000\" points=\" 3239,3630 3359,3600 3239,3570 3239,3630\" stroke=\"#000000\" stroke-miterlimit=\"8\" stroke-width=\"8px\"/>\n",
       "<!-- Line -->\n",
       "<defs>\n",
       "<clipPath id=\"cp1\">\n",
       "\t<path clip-rule=\"evenodd\" d=\"M 2003,1328 H 6322 V 4747 H 2003 z   M 5714,3570 5714,3630 5861,3611 5861,3590z\"/>\n",
       "</clipPath>\n",
       "</defs>\n",
       "<polyline clip-path=\"url(#cp1)\" points=\" 4950,3600 5850,3600\" stroke=\"#000000\" stroke-width=\"15px\"/>\n",
       "<!-- Forward arrow to point 5850,3600 -->\n",
       "<polygon fill=\"#000000\" points=\" 5714,3630 5834,3600 5714,3570 5714,3630\" stroke=\"#000000\" stroke-miterlimit=\"8\" stroke-width=\"8px\"/>\n",
       "<!-- Line -->\n",
       "<defs>\n",
       "<clipPath id=\"cp2\">\n",
       "\t<path clip-rule=\"evenodd\" d=\"M 2003,1328 H 6322 V 4747 H 2003 z   M 2611,4530 2611,4470 2465,4490 2465,4511z\"/>\n",
       "</clipPath>\n",
       "</defs>\n",
       "<polyline clip-path=\"url(#cp2)\" points=\" 3375,4500 2475,4500\" stroke=\"#000000\" stroke-width=\"15px\"/>\n",
       "<!-- Forward arrow to point 2475,4500 -->\n",
       "<polygon fill=\"#000000\" points=\" 2611,4470 2491,4500 2611,4530 2611,4470\" stroke=\"#000000\" stroke-miterlimit=\"8\" stroke-width=\"8px\"/>\n",
       "<!-- Line -->\n",
       "<defs>\n",
       "<clipPath id=\"cp3\">\n",
       "\t<path clip-rule=\"evenodd\" d=\"M 2003,1328 H 6322 V 4747 H 2003 z   M 5086,4530 5086,4470 4940,4490 4940,4511z\"/>\n",
       "</clipPath>\n",
       "</defs>\n",
       "<polyline clip-path=\"url(#cp3)\" points=\" 5850,4500 4950,4500\" stroke=\"#000000\" stroke-width=\"15px\"/>\n",
       "<!-- Forward arrow to point 4950,4500 -->\n",
       "<polygon fill=\"#000000\" points=\" 5086,4470 4966,4500 5086,4530 5086,4470\" stroke=\"#000000\" stroke-miterlimit=\"8\" stroke-width=\"8px\"/>\n",
       "<!-- Line -->\n",
       "<polyline points=\" 2025,2025 3150,2025 2925,2250\" stroke=\"#000000\" stroke-width=\"15px\"/>\n",
       "<!-- Line -->\n",
       "<polyline points=\" 5175,2025 6300,2025 6075,2250\" stroke=\"#000000\" stroke-width=\"15px\"/>\n",
       "<!-- Line -->\n",
       "<polyline points=\" 2025,1800 2025,2250\" stroke=\"#000000\" stroke-width=\"15px\"/>\n",
       "<!-- Line -->\n",
       "<rect height=\"1350\" stroke=\"#000000\" stroke-width=\"15px\" width=\"1575\" x=\"3375\" y=\"1350\"/>\n",
       "<!-- Text -->\n",
       "<text fill=\"#000000\" font-family=\"Times\" font-size=\"240\" font-style=\"normal\" font-weight=\"normal\" text-anchor=\"middle\" x=\"4185\" xml:space=\"preserve\" y=\"2115\">Bond graph</text>\n",
       "<!-- Text -->\n",
       "<text fill=\"#000000\" font-family=\"Times\" font-size=\"240\" font-style=\"normal\" font-weight=\"normal\" text-anchor=\"middle\" x=\"5400\" xml:space=\"preserve\" y=\"3375\">y<tspan baseline-shift=\"sub\" font-size=\"160\">2</tspan>=v<tspan baseline-shift=\"sub\" font-size=\"160\">2</tspan></text>\n",
       "<!-- Text -->\n",
       "<text fill=\"#000000\" font-family=\"Times\" font-size=\"240\" font-style=\"normal\" font-weight=\"normal\" text-anchor=\"middle\" x=\"2925\" xml:space=\"preserve\" y=\"3375\">u<tspan baseline-shift=\"sub\" font-size=\"160\">1</tspan>=v<tspan baseline-shift=\"sub\" font-size=\"160\">1</tspan></text>\n",
       "<!-- Text -->\n",
       "<text fill=\"#000000\" font-family=\"Times\" font-size=\"240\" font-style=\"normal\" font-weight=\"normal\" text-anchor=\"middle\" x=\"5400\" xml:space=\"preserve\" y=\"4275\">u<tspan baseline-shift=\"sub\" font-size=\"160\">2</tspan>=e<tspan baseline-shift=\"sub\" font-size=\"160\">2</tspan></text>\n",
       "<!-- Text -->\n",
       "<text fill=\"#000000\" font-family=\"Times\" font-size=\"240\" font-style=\"normal\" font-weight=\"normal\" text-anchor=\"middle\" x=\"2925\" xml:space=\"preserve\" y=\"4275\">y<tspan baseline-shift=\"sub\" font-size=\"160\">1</tspan>=e<tspan baseline-shift=\"sub\" font-size=\"160\">1</tspan></text>\n",
       "<!-- Text -->\n",
       "<text fill=\"#000000\" font-family=\"Times\" font-size=\"240\" font-style=\"normal\" font-weight=\"normal\" text-anchor=\"middle\" x=\"4185\" xml:space=\"preserve\" y=\"4140\">Transfer fun.</text>\n",
       "<!-- Text -->\n",
       "<text fill=\"#000000\" font-family=\"Times\" font-size=\"240\" font-style=\"normal\" font-weight=\"normal\" text-anchor=\"middle\" x=\"2475\" xml:space=\"preserve\" y=\"2475\">v<tspan baseline-shift=\"sub\" font-size=\"160\">1</tspan></text>\n",
       "<!-- Text -->\n",
       "<text fill=\"#000000\" font-family=\"Times\" font-size=\"240\" font-style=\"normal\" font-weight=\"normal\" text-anchor=\"middle\" x=\"2475\" xml:space=\"preserve\" y=\"1800\">e<tspan baseline-shift=\"sub\" font-size=\"160\">1</tspan></text>\n",
       "<!-- Text -->\n",
       "<text fill=\"#000000\" font-family=\"Times\" font-size=\"240\" font-style=\"normal\" font-weight=\"normal\" text-anchor=\"middle\" x=\"5850\" xml:space=\"preserve\" y=\"1800\">e<tspan baseline-shift=\"sub\" font-size=\"160\">2</tspan></text>\n",
       "<!-- Text -->\n",
       "<text fill=\"#000000\" font-family=\"Times\" font-size=\"240\" font-style=\"normal\" font-weight=\"normal\" text-anchor=\"middle\" x=\"5850\" xml:space=\"preserve\" y=\"2475\">v<tspan baseline-shift=\"sub\" font-size=\"160\">2</tspan></text>\n",
       "</g>\n",
       "</svg>"
      ],
      "text/plain": [
       "<IPython.core.display.SVG object>"
      ]
     },
     "execution_count": 6,
     "metadata": {},
     "output_type": "execute_result"
    }
   ],
   "source": [
    "disp.SVG('notation.svg')"
   ]
  },
  {
   "cell_type": "markdown",
   "metadata": {},
   "source": [
    "## Linearise the subsystem"
   ]
  },
  {
   "cell_type": "code",
   "execution_count": 7,
   "metadata": {},
   "outputs": [
    {
     "data": {
      "text/latex": [
       "$$\\begin{bmatrix}\\frac{-2 s - 4}{s + 4}&\\frac{4}{s + 4}\\\\\\frac{4}{s + 4}&\\frac{-2 s - 4}{s + 4}\\\\ \\end{bmatrix}$$"
      ],
      "text/plain": [
       "\n",
       "Input 1 to output 1:\n",
       "-2 s - 4\n",
       "--------\n",
       "  s + 4\n",
       "\n",
       "Input 1 to output 2:\n",
       "  4\n",
       "-----\n",
       "s + 4\n",
       "\n",
       "Input 2 to output 1:\n",
       "  4\n",
       "-----\n",
       "s + 4\n",
       "\n",
       "Input 2 to output 2:\n",
       "-2 s - 4\n",
       "--------\n",
       "  s + 4"
      ]
     },
     "execution_count": 7,
     "metadata": {},
     "output_type": "execute_result"
    }
   ],
   "source": [
    "s = st.stoich(ABC_abg.model(),quiet=quiet)\n",
    "sc = st.statify(s,chemostats=['A','C'])\n",
    "\n",
    "## Linearise\n",
    "parameter = {}\n",
    "for r in s['reaction']:\n",
    "    parameter['kappa_'+r] = 2\n",
    "sys = st.lin(s,sc,outvar = 'port',parameter=parameter,quiet=quiet)\n",
    "con.ss2tf(sys)"
   ]
  },
  {
   "cell_type": "markdown",
   "metadata": {},
   "source": [
    "## Create linear C component in control toolbox form"
   ]
  },
  {
   "cell_type": "code",
   "execution_count": 8,
   "metadata": {},
   "outputs": [],
   "source": [
    "def makeC(Retroactive=True):\n",
    "    \"\"\"Create linear C component in control toolbox form\n",
    "    Note that retroactivity is removed by setting output 1 to zero\n",
    "    \"\"\"\n",
    "    Ca = 0\n",
    "    Cb = np.ones((1,2))\n",
    "    Cc = np.ones((2,1))\n",
    "    if not Retroactive:\n",
    "        Cc[0] = 0\n",
    "    Cd = np.zeros((2,2))\n",
    "    C = con.ss(Ca,Cb,Cc,Cd)\n",
    "    return C"
   ]
  },
  {
   "cell_type": "code",
   "execution_count": 9,
   "metadata": {},
   "outputs": [
    {
     "data": {
      "text/latex": [
       "$$\\begin{bmatrix}\\frac{1}{s}&\\frac{1}{s}\\\\\\frac{1}{s}&\\frac{1}{s}\\\\ \\end{bmatrix}$$"
      ],
      "text/plain": [
       "\n",
       "Input 1 to output 1:\n",
       "1\n",
       "-\n",
       "s\n",
       "\n",
       "Input 1 to output 2:\n",
       "1\n",
       "-\n",
       "s\n",
       "\n",
       "Input 2 to output 1:\n",
       "1\n",
       "-\n",
       "s\n",
       "\n",
       "Input 2 to output 2:\n",
       "1\n",
       "-\n",
       "s"
      ]
     },
     "execution_count": 9,
     "metadata": {},
     "output_type": "execute_result"
    }
   ],
   "source": [
    "con.ss2tf(makeC(Retroactive=True))"
   ]
  },
  {
   "cell_type": "code",
   "execution_count": 10,
   "metadata": {},
   "outputs": [
    {
     "data": {
      "text/latex": [
       "$$\\begin{bmatrix}\\frac{0}{1}&\\frac{0}{1}\\\\\\frac{1}{s}&\\frac{1}{s}\\\\ \\end{bmatrix}$$"
      ],
      "text/plain": [
       "\n",
       "Input 1 to output 1:\n",
       "0\n",
       "-\n",
       "1\n",
       "\n",
       "Input 1 to output 2:\n",
       "1\n",
       "-\n",
       "s\n",
       "\n",
       "Input 2 to output 1:\n",
       "0\n",
       "-\n",
       "1\n",
       "\n",
       "Input 2 to output 2:\n",
       "1\n",
       "-\n",
       "s"
      ]
     },
     "execution_count": 10,
     "metadata": {},
     "output_type": "execute_result"
    }
   ],
   "source": [
    "con.ss2tf(makeC(Retroactive=False))"
   ]
  },
  {
   "cell_type": "markdown",
   "metadata": {},
   "source": [
    "## Create chain of linearised modules\n"
   ]
  },
  {
   "cell_type": "code",
   "execution_count": 11,
   "metadata": {},
   "outputs": [
    {
     "data": {
      "text/latex": [
       "$$\\begin{bmatrix}\\frac{s + 4}{s^2 + 6 s + 4}&\\frac{4}{s^2 + 6 s + 4}\\\\\\frac{4}{s^2 + 6 s + 4}&\\frac{-2 s^2 - 8 s}{s^2 + 6 s + 4}\\\\ \\end{bmatrix}$$"
      ],
      "text/plain": [
       "\n",
       "Input 1 to output 1:\n",
       "    s + 4\n",
       "-------------\n",
       "s^2 + 6 s + 4\n",
       "\n",
       "Input 1 to output 2:\n",
       "      4\n",
       "-------------\n",
       "s^2 + 6 s + 4\n",
       "\n",
       "Input 2 to output 1:\n",
       "      4\n",
       "-------------\n",
       "s^2 + 6 s + 4\n",
       "\n",
       "Input 2 to output 2:\n",
       "-2 s^2 - 8 s\n",
       "-------------\n",
       "s^2 + 6 s + 4"
      ]
     },
     "execution_count": 11,
     "metadata": {},
     "output_type": "execute_result"
    },
    {
     "data": {
      "text/latex": [
       "$$\\begin{bmatrix}\\frac{-2 s^3 - 20 s^2 - 48 s - 16}{s^3 + 12 s^2 + 40 s + 32}&\\frac{16}{s^3 + 12 s^2 + 40 s + 32}\\\\\\frac{16}{s^3 + 12 s^2 + 40 s + 32}&\\frac{-2 s^3 - 20 s^2 - 48 s - 16}{s^3 + 12 s^2 + 40 s + 32}\\\\ \\end{bmatrix}$$"
      ],
      "text/plain": [
       "\n",
       "Input 1 to output 1:\n",
       "-2 s^3 - 20 s^2 - 48 s - 16\n",
       "---------------------------\n",
       "  s^3 + 12 s^2 + 40 s + 32\n",
       "\n",
       "Input 1 to output 2:\n",
       "           16\n",
       "------------------------\n",
       "s^3 + 12 s^2 + 40 s + 32\n",
       "\n",
       "Input 2 to output 1:\n",
       "           16\n",
       "------------------------\n",
       "s^3 + 12 s^2 + 40 s + 32\n",
       "\n",
       "Input 2 to output 2:\n",
       "-2 s^3 - 20 s^2 - 48 s - 16\n",
       "---------------------------\n",
       "  s^3 + 12 s^2 + 40 s + 32"
      ]
     },
     "execution_count": 11,
     "metadata": {},
     "output_type": "execute_result"
    },
    {
     "data": {
      "text/plain": [
       "array([-6.82842712, -4.        , -1.17157288])"
      ]
     },
     "execution_count": 11,
     "metadata": {},
     "output_type": "execute_result"
    }
   ],
   "source": [
    "def makeChain(sys,C,N=2):\n",
    "    \"\"\"Make the chain of modules\"\"\"\n",
    "    \n",
    "    ## Prepend C component to sys\n",
    "    CSYS = con.append(C,sys)\n",
    "    Q = np.array([[2,3],[3,2]])\n",
    "    inout = np.array([1,4])\n",
    "    csys = con.connect(CSYS,Q,inout,inout)\n",
    "\n",
    "\n",
    "    ## Recursively create chain\n",
    "    Sys = sys\n",
    "    for i in range(N-1):\n",
    "        SYS = con.append(Sys,csys)\n",
    "        Sys = con.connect(SYS,Q,inout,inout)\n",
    "\n",
    "    return Sys,csys\n",
    "\n",
    "Sys,csys = makeChain(sys,makeC(Retroactive=True),N=2)\n",
    "\n",
    "con.ss2tf(csys)\n",
    "con.ss2tf(Sys)\n",
    "con.pole(Sys)"
   ]
  },
  {
   "cell_type": "markdown",
   "metadata": {},
   "source": [
    "## Analyse with and without retroactivity"
   ]
  },
  {
   "cell_type": "code",
   "execution_count": 12,
   "metadata": {},
   "outputs": [
    {
     "name": "stdout",
     "output_type": "stream",
     "text": [
      "==========================\n",
      "Retroactive = True\n",
      "==========================\n",
      "==========================\n",
      "Chain length N = 1\n",
      "==========================\n",
      "Chain poles: [-4.]\n",
      "Chain gain: [[-1.  1.]\n",
      " [ 1. -1.]]\n",
      "Analyse cys\n",
      "L: \n",
      "      2 s^3 + 16 s^2 + 32 s\n",
      "---------------------------------\n",
      "s^4 + 12 s^3 + 44 s^2 + 48 s + 16\n",
      "\n"
     ]
    },
    {
     "data": {
      "image/png": "[encoded data removed]",
      "text/plain": [
       "<Figure size 432x288 with 4 Axes>"
      ]
     },
     "metadata": {},
     "output_type": "display_data"
    },
    {
     "name": "stdout",
     "output_type": "stream",
     "text": [
      "Chain transfer function:\n"
     ]
    },
    {
     "data": {
      "text/latex": [
       "$$\\begin{bmatrix}\\frac{-2 s - 4}{s + 4}&\\frac{4}{s + 4}\\\\\\frac{4}{s + 4}&\\frac{-2 s - 4}{s + 4}\\\\ \\end{bmatrix}$$"
      ],
      "text/plain": [
       "\n",
       "Input 1 to output 1:\n",
       "-2 s - 4\n",
       "--------\n",
       "  s + 4\n",
       "\n",
       "Input 1 to output 2:\n",
       "  4\n",
       "-----\n",
       "s + 4\n",
       "\n",
       "Input 2 to output 1:\n",
       "  4\n",
       "-----\n",
       "s + 4\n",
       "\n",
       "Input 2 to output 2:\n",
       "-2 s - 4\n",
       "--------\n",
       "  s + 4"
      ]
     },
     "execution_count": 12,
     "metadata": {},
     "output_type": "execute_result"
    },
    {
     "name": "stdout",
     "output_type": "stream",
     "text": [
      "==========================\n",
      "Retroactive = True\n",
      "==========================\n",
      "==========================\n",
      "Chain length N = 2\n",
      "==========================\n",
      "Chain poles: [-6.82842712 -4.         -1.17157288]\n",
      "Chain gain: [[-0.5  0.5]\n",
      " [ 0.5 -0.5]]\n",
      "Analyse cys\n",
      "L: \n",
      "      2 s^3 + 16 s^2 + 32 s\n",
      "---------------------------------\n",
      "s^4 + 12 s^3 + 44 s^2 + 48 s + 16\n",
      "\n"
     ]
    },
    {
     "data": {
      "image/png": "[encoded data removed]",
      "text/plain": [
       "<Figure size 432x288 with 4 Axes>"
      ]
     },
     "metadata": {},
     "output_type": "display_data"
    },
    {
     "name": "stdout",
     "output_type": "stream",
     "text": [
      "Chain transfer function:\n"
     ]
    },
    {
     "data": {
      "text/latex": [
       "$$\\begin{bmatrix}\\frac{-2 s^3 - 20 s^2 - 48 s - 16}{s^3 + 12 s^2 + 40 s + 32}&\\frac{16}{s^3 + 12 s^2 + 40 s + 32}\\\\\\frac{16}{s^3 + 12 s^2 + 40 s + 32}&\\frac{-2 s^3 - 20 s^2 - 48 s - 16}{s^3 + 12 s^2 + 40 s + 32}\\\\ \\end{bmatrix}$$"
      ],
      "text/plain": [
       "\n",
       "Input 1 to output 1:\n",
       "-2 s^3 - 20 s^2 - 48 s - 16\n",
       "---------------------------\n",
       "  s^3 + 12 s^2 + 40 s + 32\n",
       "\n",
       "Input 1 to output 2:\n",
       "           16\n",
       "------------------------\n",
       "s^3 + 12 s^2 + 40 s + 32\n",
       "\n",
       "Input 2 to output 1:\n",
       "           16\n",
       "------------------------\n",
       "s^3 + 12 s^2 + 40 s + 32\n",
       "\n",
       "Input 2 to output 2:\n",
       "-2 s^3 - 20 s^2 - 48 s - 16\n",
       "---------------------------\n",
       "  s^3 + 12 s^2 + 40 s + 32"
      ]
     },
     "execution_count": 12,
     "metadata": {},
     "output_type": "execute_result"
    },
    {
     "name": "stdout",
     "output_type": "stream",
     "text": [
      "==========================\n",
      "Retroactive = True\n",
      "==========================\n",
      "==========================\n",
      "Chain length N = 5\n",
      "==========================\n",
      "Chain poles: [-7.80422607 -7.23606798 -6.35114101 -5.23606798 -4.         -2.76393202\n",
      " -1.64885899 -0.76393202 -0.19577393]\n",
      "Chain gain: [[-0.2  0.2]\n",
      " [ 0.2 -0.2]]\n",
      "Analyse cys\n",
      "L: \n",
      "      2 s^3 + 16 s^2 + 32 s\n",
      "---------------------------------\n",
      "s^4 + 12 s^3 + 44 s^2 + 48 s + 16\n",
      "\n"
     ]
    },
    {
     "data": {
      "image/png": "[encoded data removed]",
      "text/plain": [
       "<Figure size 432x288 with 4 Axes>"
      ]
     },
     "metadata": {},
     "output_type": "display_data"
    },
    {
     "name": "stdout",
     "output_type": "stream",
     "text": [
      "Chain transfer function:\n"
     ]
    },
    {
     "data": {
      "text/latex": [
       "$$\\begin{bmatrix}\\frac{-2 s^9 - 68 s^8 - 960 s^7 - 7280 s^6 - 3.203e+04 s^5 - 8.237e+04 s^4 - 1.183e+05 s^3 - 8.448e+04 s^2 - 2.304e+04 s - 1024}{s^9 + 36 s^8 + 544 s^7 + 4480 s^6 + 2.184e+04 s^5 + 6.406e+04 s^4 + 1.098e+05 s^3 + 1.014e+05 s^2 + 4.224e+04 s + 5120}&\\frac{1024}{s^9 + 36 s^8 + 544 s^7 + 4480 s^6 + 2.184e+04 s^5 + 6.406e+04 s^4 + 1.098e+05 s^3 + 1.014e+05 s^2 + 4.224e+04 s + 5120}\\\\\\frac{1024}{s^9 + 36 s^8 + 544 s^7 + 4480 s^6 + 2.184e+04 s^5 + 6.406e+04 s^4 + 1.098e+05 s^3 + 1.014e+05 s^2 + 4.224e+04 s + 5120}&\\frac{-2 s^9 - 68 s^8 - 960 s^7 - 7280 s^6 - 3.203e+04 s^5 - 8.237e+04 s^4 - 1.183e+05 s^3 - 8.448e+04 s^2 - 2.304e+04 s - 1024}{s^9 + 36 s^8 + 544 s^7 + 4480 s^6 + 2.184e+04 s^5 + 6.406e+04 s^4 + 1.098e+05 s^3 + 1.014e+05 s^2 + 4.224e+04 s + 5120}\\\\ \\end{bmatrix}$$"
      ],
      "text/plain": [
       "\n",
       "Input 1 to output 1:\n",
       "-2 s^9 - 68 s^8 - 960 s^7 - 7280 s^6 - 3.203e+04 s^5 - 8.237e+04 s^4 - 1.183e+05 s^3 - 8.448e+04 s^2 - 2.304e+04 s - 1024\n",
       "-------------------------------------------------------------------------------------------------------------------------\n",
       "  s^9 + 36 s^8 + 544 s^7 + 4480 s^6 + 2.184e+04 s^5 + 6.406e+04 s^4 + 1.098e+05 s^3 + 1.014e+05 s^2 + 4.224e+04 s + 5120\n",
       "\n",
       "Input 1 to output 2:\n",
       "                                                         1024\n",
       "----------------------------------------------------------------------------------------------------------------------\n",
       "s^9 + 36 s^8 + 544 s^7 + 4480 s^6 + 2.184e+04 s^5 + 6.406e+04 s^4 + 1.098e+05 s^3 + 1.014e+05 s^2 + 4.224e+04 s + 5120\n",
       "\n",
       "Input 2 to output 1:\n",
       "                                                         1024\n",
       "----------------------------------------------------------------------------------------------------------------------\n",
       "s^9 + 36 s^8 + 544 s^7 + 4480 s^6 + 2.184e+04 s^5 + 6.406e+04 s^4 + 1.098e+05 s^3 + 1.014e+05 s^2 + 4.224e+04 s + 5120\n",
       "\n",
       "Input 2 to output 2:\n",
       "-2 s^9 - 68 s^8 - 960 s^7 - 7280 s^6 - 3.203e+04 s^5 - 8.237e+04 s^4 - 1.183e+05 s^3 - 8.448e+04 s^2 - 2.304e+04 s - 1024\n",
       "-------------------------------------------------------------------------------------------------------------------------\n",
       "  s^9 + 36 s^8 + 544 s^7 + 4480 s^6 + 2.184e+04 s^5 + 6.406e+04 s^4 + 1.098e+05 s^3 + 1.014e+05 s^2 + 4.224e+04 s + 5120"
      ]
     },
     "execution_count": 12,
     "metadata": {},
     "output_type": "execute_result"
    },
    {
     "name": "stdout",
     "output_type": "stream",
     "text": [
      "==========================\n",
      "Retroactive = False\n",
      "==========================\n",
      "==========================\n",
      "Chain length N = 1\n",
      "==========================\n",
      "Chain poles: [-4.]\n",
      "Chain gain: [[-1.  1.]\n",
      " [ 1. -1.]]\n",
      "Analyse cys\n",
      "L: \n",
      "0\n",
      "-\n",
      "1\n",
      "\n"
     ]
    },
    {
     "data": {
      "image/png": "[encoded data removed]",
      "text/plain": [
       "<Figure size 432x288 with 4 Axes>"
      ]
     },
     "metadata": {},
     "output_type": "display_data"
    },
    {
     "name": "stdout",
     "output_type": "stream",
     "text": [
      "Chain transfer function:\n"
     ]
    },
    {
     "data": {
      "text/latex": [
       "$$\\begin{bmatrix}\\frac{-2 s - 4}{s + 4}&\\frac{4}{s + 4}\\\\\\frac{4}{s + 4}&\\frac{-2 s - 4}{s + 4}\\\\ \\end{bmatrix}$$"
      ],
      "text/plain": [
       "\n",
       "Input 1 to output 1:\n",
       "-2 s - 4\n",
       "--------\n",
       "  s + 4\n",
       "\n",
       "Input 1 to output 2:\n",
       "  4\n",
       "-----\n",
       "s + 4\n",
       "\n",
       "Input 2 to output 1:\n",
       "  4\n",
       "-----\n",
       "s + 4\n",
       "\n",
       "Input 2 to output 2:\n",
       "-2 s - 4\n",
       "--------\n",
       "  s + 4"
      ]
     },
     "execution_count": 12,
     "metadata": {},
     "output_type": "execute_result"
    },
    {
     "name": "stdout",
     "output_type": "stream",
     "text": [
      "==========================\n",
      "Retroactive = False\n",
      "==========================\n",
      "==========================\n",
      "Chain length N = 2\n",
      "==========================\n",
      "Chain poles: [-5.23606798 -4.         -0.76393202]\n",
      "Chain gain: [[-1.  0.]\n",
      " [ 1.  0.]]\n",
      "Analyse cys\n",
      "L: \n",
      "0\n",
      "-\n",
      "1\n",
      "\n"
     ]
    },
    {
     "data": {
      "image/png": "[encoded data removed]",
      "text/plain": [
       "<Figure size 432x288 with 4 Axes>"
      ]
     },
     "metadata": {},
     "output_type": "display_data"
    },
    {
     "name": "stdout",
     "output_type": "stream",
     "text": [
      "Chain transfer function:\n"
     ]
    },
    {
     "data": {
      "text/latex": [
       "$$\\begin{bmatrix}\\frac{-2 s^3 - 4 s^2}{s^3 + 4 s^2}&\\frac{0}{1}\\\\\\frac{16}{s^3 + 10 s^2 + 28 s + 16}&\\frac{-2 s^3 - 16 s^2 - 32 s}{s^3 + 10 s^2 + 28 s + 16}\\\\ \\end{bmatrix}$$"
      ],
      "text/plain": [
       "\n",
       "Input 1 to output 1:\n",
       "-2 s^3 - 4 s^2\n",
       "--------------\n",
       "  s^3 + 4 s^2\n",
       "\n",
       "Input 1 to output 2:\n",
       "           16\n",
       "------------------------\n",
       "s^3 + 10 s^2 + 28 s + 16\n",
       "\n",
       "Input 2 to output 1:\n",
       "0\n",
       "-\n",
       "1\n",
       "\n",
       "Input 2 to output 2:\n",
       " -2 s^3 - 16 s^2 - 32 s\n",
       "------------------------\n",
       "s^3 + 10 s^2 + 28 s + 16"
      ]
     },
     "execution_count": 12,
     "metadata": {},
     "output_type": "execute_result"
    },
    {
     "name": "stdout",
     "output_type": "stream",
     "text": [
      "==========================\n",
      "Retroactive = False\n",
      "==========================\n",
      "==========================\n",
      "Chain length N = 5\n",
      "==========================\n",
      "Chain poles: [-5.23607422 -5.23607422 -5.23606798 -5.23605549 -4.         -0.76393527\n",
      " -0.76393527 -0.76393202 -0.76392553]\n",
      "Chain gain: [[-1.  0.]\n",
      " [ 1.  0.]]\n",
      "Analyse cys\n",
      "L: \n",
      "0\n",
      "-\n",
      "1\n",
      "\n"
     ]
    },
    {
     "data": {
      "image/png": "[encoded data removed]",
      "text/plain": [
       "<Figure size 432x288 with 4 Axes>"
      ]
     },
     "metadata": {},
     "output_type": "display_data"
    },
    {
     "name": "stdout",
     "output_type": "stream",
     "text": [
      "Chain transfer function:\n"
     ]
    },
    {
     "data": {
      "text/latex": [
       "$$\\begin{bmatrix}\\frac{-2 s^9 - 4 s^8}{s^9 + 4 s^8}&\\frac{0}{1}\\\\\\frac{1024}{s^9 + 28 s^8 + 328 s^7 + 2080 s^6 + 7728 s^5 + 1.709e+04 s^4 + 2.214e+04 s^3 + 1.638e+04 s^2 + 6400 s + 1024}&\\frac{-2 s^9 - 52 s^8 - 560 s^7 - 3216 s^6 - 1.056e+04 s^5 - 1.978e+04 s^4 - 2.01e+04 s^3 - 1.024e+04 s^2 - 2048 s}{s^9 + 28 s^8 + 328 s^7 + 2080 s^6 + 7728 s^5 + 1.709e+04 s^4 + 2.214e+04 s^3 + 1.638e+04 s^2 + 6400 s + 1024}\\\\ \\end{bmatrix}$$"
      ],
      "text/plain": [
       "\n",
       "Input 1 to output 1:\n",
       "-2 s^9 - 4 s^8\n",
       "--------------\n",
       "  s^9 + 4 s^8\n",
       "\n",
       "Input 1 to output 2:\n",
       "                                                    1024\n",
       "------------------------------------------------------------------------------------------------------------\n",
       "s^9 + 28 s^8 + 328 s^7 + 2080 s^6 + 7728 s^5 + 1.709e+04 s^4 + 2.214e+04 s^3 + 1.638e+04 s^2 + 6400 s + 1024\n",
       "\n",
       "Input 2 to output 1:\n",
       "0\n",
       "-\n",
       "1\n",
       "\n",
       "Input 2 to output 2:\n",
       "-2 s^9 - 52 s^8 - 560 s^7 - 3216 s^6 - 1.056e+04 s^5 - 1.978e+04 s^4 - 2.01e+04 s^3 - 1.024e+04 s^2 - 2048 s\n",
       "------------------------------------------------------------------------------------------------------------\n",
       "s^9 + 28 s^8 + 328 s^7 + 2080 s^6 + 7728 s^5 + 1.709e+04 s^4 + 2.214e+04 s^3 + 1.638e+04 s^2 + 6400 s + 1024"
      ]
     },
     "execution_count": 12,
     "metadata": {},
     "output_type": "execute_result"
    }
   ],
   "source": [
    "for Retroactive in [True,False]:\n",
    "    for N in NN:\n",
    "        print('==========================')\n",
    "        print('Retroactive =',Retroactive)\n",
    "        print('==========================')\n",
    "        C = makeC(Retroactive=Retroactive)\n",
    "        Sys,csys =  makeChain(sys,C,N=N)\n",
    "        analyse(sys,Sys,csys=csys)\n",
    "        print('Chain transfer function:')\n",
    "        con.ss2tf(Sys)"
   ]
  },
  {
   "cell_type": "markdown",
   "metadata": {},
   "source": [
    "## Compute product of transfer functions"
   ]
  },
  {
   "cell_type": "code",
   "execution_count": 13,
   "metadata": {},
   "outputs": [
    {
     "name": "stdout",
     "output_type": "stream",
     "text": [
      "==========================\n",
      "Chain length N = 1\n",
      "==========================\n",
      "\n",
      "  4\n",
      "-----\n",
      "s + 4\n",
      "\n",
      "==========================\n",
      "Chain length N = 2\n",
      "==========================\n",
      "\n",
      "           16\n",
      "------------------------\n",
      "s^3 + 10 s^2 + 28 s + 16\n",
      "\n",
      "==========================\n",
      "Chain length N = 3\n",
      "==========================\n",
      "\n",
      "                     64\n",
      "--------------------------------------------\n",
      "s^5 + 16 s^4 + 92 s^3 + 224 s^2 + 208 s + 64\n",
      "\n",
      "==========================\n",
      "Chain length N = 4\n",
      "==========================\n",
      "\n",
      "                                 256\n",
      "---------------------------------------------------------------------\n",
      "s^7 + 22 s^6 + 192 s^5 + 840 s^4 + 1920 s^3 + 2208 s^2 + 1216 s + 256\n",
      "\n",
      "==========================\n",
      "Chain length N = 5\n",
      "==========================\n",
      "\n",
      "                                                    1024\n",
      "------------------------------------------------------------------------------------------------------------\n",
      "s^9 + 28 s^8 + 328 s^7 + 2080 s^6 + 7728 s^5 + 1.709e+04 s^4 + 2.214e+04 s^3 + 1.638e+04 s^2 + 6400 s + 1024\n",
      "\n"
     ]
    }
   ],
   "source": [
    "## Initial value\n",
    "G21 = con.ss2tf(sys)[1,0]\n",
    "for i in range(N):\n",
    "    print('==========================')\n",
    "    print('Chain length N =',i+1)\n",
    "    print('==========================')\n",
    "    print(G21)\n",
    "    G21 = con.series(G21,con.ss2tf(csys)[1,0])"
   ]
  },
  {
   "cell_type": "markdown",
   "metadata": {},
   "source": [
    "## Discussion\n",
    "- When the linear modules are concatenated using the standard **C** component, the properties of the chain are, as expected, the same as those from the modular BG approach\n",
    "- When the non-standard **C** component is used to avoid retroactivity, chain shows behavioral modularity\n",
    "  - the steady-state (DC) gain of the chain *is* the product of the gain of each link\n",
    "  - the poles of the chain are *the same* for each N\n",
    "  - this is verified by directly computing the product of transfer functions\n",
    "- But the use of this non-standard **C** implies the use of an amplifier and therfore consumes power."
   ]
  }
 ],
 "metadata": {
  "kernelspec": {
   "display_name": "Python 3",
   "language": "python",
   "name": "python3"
  },
  "language_info": {
   "codemirror_mode": {
    "name": "ipython",
    "version": 3
   },
   "file_extension": ".py",
   "mimetype": "text/x-python",
   "name": "python",
   "nbconvert_exporter": "python",
   "pygments_lexer": "ipython3",
   "version": "3.6.9"
  },
  "toc": {
   "base_numbering": 1,
   "nav_menu": {},
   "number_sections": true,
   "sideBar": true,
   "skip_h1_title": false,
   "title_cell": "Table of Contents",
   "title_sidebar": "Contents",
   "toc_cell": false,
   "toc_position": {},
   "toc_section_display": true,
   "toc_window_display": false
  }
 },
 "nbformat": 4,
 "nbformat_minor": 2
}
