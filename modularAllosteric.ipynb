{
 "cells": [
  {
   "cell_type": "markdown",
   "metadata": {},
   "source": [
    "***Note: this is the modularAllosteric.ipynb notebook. The\n",
    "PDF version \"Allosteric inhibition as a control actuator - modular approach: passive and active\n",
    "feedback\"\n",
    "is available [here](modularAllosteric.pdf).***"
   ]
  },
  {
   "cell_type": "markdown",
   "metadata": {},
   "source": [
    "# Introduction\n",
    "Using the methods of control theory to examine and reexamine the behaviour of living systems is well-established\n",
    "<cite data-cite=\"Cra47a\">(Craik, 1947)</cite>\n",
    "<cite data-cite=\"Wie61\">(Weiner, 1961)</cite>\n",
    "<cite data-cite=\"Bay66\">(Bayliss, 1966)</cite>\n",
    "<cite data-cite=\"Sav09\">(Savageau, 1976)</cite>\n",
    "<cite data-cite=\"JagFla03\">(Jagacinski and Flach, 2003)</cite>\n",
    "<cite data-cite=\"IglIng10\">(Inglesias and Ingalls, 2010)</cite>\n",
    "<cite data-cite=\"WelBulKalMasVer08\">(Wellstead et al, 2008)</cite>\n",
    "<cite data-cite=\"DriLeaDet15\">(Drion et al, 2015)</cite>\n",
    "<cite data-cite=\"Vec13\">(Del Veccio, 2013)</cite>.\n",
    "This notebook examines the enzyme-catalysed reaction as a control actuator and its behavior within a feedback loop controlling product concentration. The feedback mechanism used is *Allosteric inhibition* - see section 1.4.3\n",
    "<cite data-cite=\"KeeSne09\">(Keener and Sneyd, 2009)</cite>. \n",
    "\n",
    "- The notebook [fECR](https://github.com/gawthrop/BondGraphTools-Biomolecular/blob/master/fECR.ipynb) looks at an alternative feedback mechanism : competitive inhibition.\n",
    "- As discussed in the notebook [Allosteric](https://github.com/gawthrop/BondGraphTools-Biomolecular/blob/master/Allosteric.ipynb), competitive inhibition is a special case of allosteric inhibition.\n",
    "- As discussed in the notebook [fECR](fECR.pdf), the control methodology is based on \n",
    "    [Linearisation](https://github.com/gawthrop/BondGraphTools-Biomolecular/blob/master/Linearisation.ipynb).\n",
    "- This notebook introduces a novel method based on *chemostats* for deducing the *feedback loop-gain* $L(s)$ from the bond graph describing the biomolecular system. $L(s)$ is a crucial component of feedback control analysis.\n",
    "- The presence of *active* feedback via allosteric inhibition and *passive* feedback via the admittance of the reaction chain at the product is noted. The passive feedback has a stabilising effect."
   ]
  },
  {
   "cell_type": "markdown",
   "metadata": {},
   "source": [
    "## Import some python code\n",
    "The bond graph analysis uses a number of Python modules:"
   ]
  },
  {
   "cell_type": "code",
   "execution_count": 1,
   "metadata": {},
   "outputs": [],
   "source": [
    "## Some useful imports\n",
    "import BondGraphTools as bgt\n",
    "import numpy as np\n",
    "import sympy as sym\n",
    "import matplotlib.pyplot as plt\n",
    "import IPython.display as disp\n",
    "import copy\n",
    "\n",
    "## Stoichiometric analysis\n",
    "import stoich as st\n",
    "\n",
    "## SVG bg representation conversion\n",
    "import svgBondGraph as sbg\n",
    "\n",
    "## Modularity\n",
    "import modularBondGraph as mbg\n",
    "\n",
    "## Control systems package\n",
    "import control as con\n",
    "\n",
    "## Stoichiometry to BG\n",
    "import stoichBondGraph as stbg\n",
    "\n",
    "## Set quiet=False for verbose output\n",
    "quiet = True\n",
    "\n",
    "## Set slycot=True if slycot is installed (see control module)\n",
    "slycot=True\n",
    "\n",
    "## For reimporting: use imp.reload(module)\n",
    "import importlib as imp\n",
    "\n",
    "## Printing options\n",
    "np.set_printoptions(precision=3)\n",
    "fmt = '{:5.3f}'\n",
    "\n",
    "## Allow output from within functions\n",
    "from IPython.core.interactiveshell import InteractiveShell\n",
    "InteractiveShell.ast_node_interactivity = \"all\"\n",
    "\n",
    "## Minreal (minimum realisation algorithm) tolerance\n",
    "tol = 1e-2\n",
    "\n",
    "## Chemostat EM and CM\n",
    "chemostatEMCM = False\n",
    "\n",
    "## Use fixed-length reaction chain (N_reac=3)\n",
    "## Fixed = False allows arbitary length reaction chains using N_reac = int.\n",
    "Fixed = True"
   ]
  },
  {
   "cell_type": "markdown",
   "metadata": {},
   "source": [
    "## Derive stoichiometry from bond graph"
   ]
  },
  {
   "cell_type": "code",
   "execution_count": 2,
   "metadata": {},
   "outputs": [],
   "source": [
    "def stoichiometry(abg,chemostats=[]):\n",
    "    s = st.stoich(abg,quiet=quiet)\n",
    "    sc = st.statify(s,chemostats=chemostats)    \n",
    "    return s,sc"
   ]
  },
  {
   "cell_type": "markdown",
   "metadata": {},
   "source": [
    "# Enzme catalysed reaction with allosteric inhibition"
   ]
  },
  {
   "cell_type": "markdown",
   "metadata": {},
   "source": [
    "## Bond graph model\n",
    "\n",
    "-  **Ce:A**: substrate\n",
    "-  **Ce:B**: product\n",
    "-  **Ce:B0**: product sink\n",
    "-  **Ce:E**: enzyme\n",
    "-  **Ce:C**: enzyme bound to A\n",
    "-  **Ce:F** and **Ce:G**: species pumping the reaction\n",
    "-  **Ce:B**: product\n",
    "-  **Ce:EM**: enzyme bound to M\n",
    "-  **Ce:CM**: complex C bound to M\n",
    "-  Corresponding reactions are:\n",
    "\n",
    "\\begin{align}\n",
    "\\ch{A + E + F &<>[ r1 ] C }\\\\\n",
    "\\ch{C &<>[ r2 ] B + E + G }\\\\\n",
    "\\ch{B &<>[ r3 ] B0 }\\\\\n",
    "\\ch{CM &<>[ ra ] A + EM }\\\\\n",
    "\\ch{5 B + C &<>[ rc ] CM }\\\\\n",
    "\\ch{EM &<>[ re ] 5 B + E }\n",
    "\\end{align}"
   ]
  },
  {
   "cell_type": "code",
   "execution_count": 3,
   "metadata": {
    "scrolled": true
   },
   "outputs": [
    {
     "data": {
      "image/svg+xml": [
       "<svg height=\"564pt\" viewBox=\"2060 300 8239 8947\" width=\"519pt\" xmlns=\"http://www.w3.org/2000/svg\" xmlns:xlink=\"http://www.w3.org/1999/xlink\">\n",
       "<g fill=\"none\">\n",
       "<!-- Text -->\n",
       "<text fill=\"#000000\" font-family=\"Helvetica\" font-size=\"216\" font-style=\"normal\" font-weight=\"bold\" text-anchor=\"middle\" x=\"4950\" xml:space=\"preserve\" y=\"4815\">1</text>\n",
       "<!-- Text -->\n",
       "<text fill=\"#000000\" font-family=\"Helvetica\" font-size=\"216\" font-style=\"normal\" font-weight=\"bold\" text-anchor=\"middle\" x=\"8550\" xml:space=\"preserve\" y=\"4815\">1</text>\n",
       "<!-- Text -->\n",
       "<text fill=\"#000000\" font-family=\"Helvetica\" font-size=\"216\" font-style=\"normal\" font-weight=\"bold\" text-anchor=\"middle\" x=\"6750\" xml:space=\"preserve\" y=\"3015\">0</text>\n",
       "<!-- Text -->\n",
       "<text fill=\"#000000\" font-family=\"Helvetica\" font-size=\"216\" font-style=\"normal\" font-weight=\"bold\" text-anchor=\"middle\" x=\"3600\" xml:space=\"preserve\" y=\"4815\">0</text>\n",
       "<!-- Text -->\n",
       "<text fill=\"#000000\" font-family=\"Helvetica\" font-size=\"216\" font-style=\"normal\" font-weight=\"bold\" text-anchor=\"middle\" x=\"6750\" xml:space=\"preserve\" y=\"6615\">0</text>\n",
       "<!-- Text -->\n",
       "<text fill=\"#000000\" font-family=\"Helvetica\" font-size=\"216\" font-style=\"normal\" font-weight=\"bold\" text-anchor=\"middle\" x=\"3600\" xml:space=\"preserve\" y=\"3690\">Ce:A</text>\n",
       "<!-- Text -->\n",
       "<text fill=\"#000000\" font-family=\"Helvetica\" font-size=\"216\" font-style=\"normal\" font-weight=\"bold\" text-anchor=\"middle\" x=\"8550\" xml:space=\"preserve\" y=\"3690\">Re:r2</text>\n",
       "<!-- Text -->\n",
       "<text fill=\"#000000\" font-family=\"Helvetica\" font-size=\"216\" font-style=\"normal\" font-weight=\"bold\" text-anchor=\"middle\" x=\"6750\" xml:space=\"preserve\" y=\"7965\">1</text>\n",
       "<!-- Text -->\n",
       "<text fill=\"#000000\" font-family=\"Helvetica\" font-size=\"216\" font-style=\"normal\" font-weight=\"bold\" text-anchor=\"middle\" x=\"6750\" xml:space=\"preserve\" y=\"9090\">0</text>\n",
       "<!-- Text -->\n",
       "<text fill=\"#000000\" font-family=\"Helvetica\" font-size=\"216\" font-style=\"normal\" font-weight=\"bold\" text-anchor=\"middle\" x=\"6750\" xml:space=\"preserve\" y=\"1665\">1</text>\n",
       "<!-- Text -->\n",
       "<text fill=\"#000000\" font-family=\"Helvetica\" font-size=\"216\" font-style=\"normal\" font-weight=\"bold\" text-anchor=\"middle\" x=\"6750\" xml:space=\"preserve\" y=\"540\">0</text>\n",
       "<!-- Text -->\n",
       "<text fill=\"#000000\" font-family=\"Helvetica\" font-size=\"216\" font-style=\"normal\" font-weight=\"bold\" text-anchor=\"middle\" x=\"2475\" xml:space=\"preserve\" y=\"4815\">1</text>\n",
       "<!-- Text -->\n",
       "<text fill=\"#000000\" font-family=\"Helvetica\" font-size=\"216\" font-style=\"normal\" font-weight=\"bold\" text-anchor=\"middle\" x=\"8325\" xml:space=\"preserve\" y=\"540\">Ce:EM</text>\n",
       "<!-- Text -->\n",
       "<text fill=\"#000000\" font-family=\"Helvetica\" font-size=\"216\" font-style=\"normal\" font-weight=\"bold\" text-anchor=\"middle\" x=\"8325\" xml:space=\"preserve\" y=\"9090\">Ce:CM</text>\n",
       "<!-- Text -->\n",
       "<text fill=\"#000000\" font-family=\"Helvetica\" font-size=\"216\" font-style=\"normal\" font-weight=\"bold\" text-anchor=\"middle\" x=\"4950\" xml:space=\"preserve\" y=\"3690\">Re:r1</text>\n",
       "<!-- Text -->\n",
       "<text fill=\"#000000\" font-family=\"Helvetica\" font-size=\"216\" font-style=\"normal\" font-weight=\"bold\" text-anchor=\"middle\" x=\"8100\" xml:space=\"preserve\" y=\"7965\">Re:rc</text>\n",
       "<!-- Text -->\n",
       "<text fill=\"#000000\" font-family=\"Helvetica\" font-size=\"216\" font-style=\"normal\" font-weight=\"bold\" text-anchor=\"middle\" x=\"8100\" xml:space=\"preserve\" y=\"1665\">Re:re</text>\n",
       "<!-- Text -->\n",
       "<text fill=\"#000000\" font-family=\"Helvetica\" font-size=\"216\" font-style=\"normal\" font-weight=\"bold\" text-anchor=\"middle\" x=\"2475\" xml:space=\"preserve\" y=\"3690\">Re:ra</text>\n",
       "<!-- Text -->\n",
       "<text fill=\"#000000\" font-family=\"Helvetica\" font-size=\"216\" font-style=\"normal\" font-weight=\"bold\" text-anchor=\"middle\" x=\"9900\" xml:space=\"preserve\" y=\"3690\">Ce:M</text>\n",
       "<!-- Text -->\n",
       "<text fill=\"#000000\" font-family=\"Helvetica\" font-size=\"216\" font-style=\"normal\" font-weight=\"bold\" text-anchor=\"middle\" x=\"8550\" xml:space=\"preserve\" y=\"5940\">Ce:G</text>\n",
       "<!-- Text -->\n",
       "<text fill=\"#000000\" font-family=\"Helvetica\" font-size=\"216\" font-style=\"normal\" font-weight=\"bold\" text-anchor=\"middle\" x=\"9900\" xml:space=\"preserve\" y=\"4815\">0</text>\n",
       "<!-- Text -->\n",
       "<text fill=\"#000000\" font-family=\"Helvetica\" font-size=\"216\" font-style=\"normal\" font-weight=\"bold\" text-anchor=\"middle\" x=\"9900\" xml:space=\"preserve\" y=\"5940\">0</text>\n",
       "<!-- Text -->\n",
       "<text fill=\"#000000\" font-family=\"Helvetica\" font-size=\"216\" font-style=\"normal\" font-weight=\"bold\" text-anchor=\"middle\" x=\"9900\" xml:space=\"preserve\" y=\"7065\">Ce:B</text>\n",
       "<!-- Text -->\n",
       "<text fill=\"#000000\" font-family=\"Helvetica\" font-size=\"216\" font-style=\"normal\" font-weight=\"bold\" text-anchor=\"middle\" x=\"3600\" xml:space=\"preserve\" y=\"5940\">0</text>\n",
       "<!-- Text -->\n",
       "<text fill=\"#000000\" font-family=\"Helvetica\" font-size=\"216\" font-style=\"normal\" font-weight=\"bold\" text-anchor=\"middle\" x=\"3600\" xml:space=\"preserve\" y=\"7065\">Ce:F</text>\n",
       "<!-- Text -->\n",
       "<text fill=\"#000000\" font-family=\"Helvetica\" font-size=\"216\" font-style=\"normal\" font-weight=\"bold\" text-anchor=\"middle\" x=\"6750\" xml:space=\"preserve\" y=\"4140\">Ce:E</text>\n",
       "<!-- Text -->\n",
       "<text fill=\"#000000\" font-family=\"Helvetica\" font-size=\"216\" font-style=\"normal\" font-weight=\"bold\" text-anchor=\"middle\" x=\"6750\" xml:space=\"preserve\" y=\"5490\">Ce:C</text>\n",
       "<!-- Line -->\n",
       "<polyline points=\" 5175,4950 6525,6300 6300,6300\" stroke=\"#000000\" stroke-width=\"15px\"/>\n",
       "<!-- Line -->\n",
       "<polyline points=\" 6975,6300 8325,4950 8325,5175\" stroke=\"#000000\" stroke-width=\"15px\"/>\n",
       "<!-- Line -->\n",
       "<polyline points=\" 8325,4500 6975,3150 6975,3375\" stroke=\"#000000\" stroke-width=\"15px\"/>\n",
       "<!-- Line -->\n",
       "<polyline points=\" 6525,3150 5175,4500 5400,4500\" stroke=\"#000000\" stroke-width=\"15px\"/>\n",
       "<!-- Line -->\n",
       "<polyline points=\" 6750,3150 6750,3825 6975,3600\" stroke=\"#000000\" stroke-width=\"15px\"/>\n",
       "<!-- Line -->\n",
       "<polyline points=\" 6750,6300 6750,5625 6975,5850\" stroke=\"#000000\" stroke-width=\"15px\"/>\n",
       "<!-- Line -->\n",
       "<polyline points=\" 9900,4500 9900,3825 10125,4050\" stroke=\"#000000\" stroke-width=\"15px\"/>\n",
       "<!-- Line -->\n",
       "<polyline points=\" 4950,4500 4950,3825 5175,4050\" stroke=\"#000000\" stroke-width=\"15px\"/>\n",
       "<!-- Line -->\n",
       "<polyline points=\" 8550,4500 8550,3825 8775,4050\" stroke=\"#000000\" stroke-width=\"15px\"/>\n",
       "<!-- Line -->\n",
       "<polyline points=\" 9675,4950 6975,7650 7200,7650\" stroke=\"#ff0000\" stroke-width=\"15px\"/>\n",
       "<!-- Line -->\n",
       "<polyline points=\" 6750,6750 6750,7650 6975,7425\" stroke=\"#000000\" stroke-width=\"15px\"/>\n",
       "<!-- Line -->\n",
       "<polyline points=\" 6750,8100 6750,8775 6975,8550\" stroke=\"#000000\" stroke-width=\"15px\"/>\n",
       "<!-- Line -->\n",
       "<polyline points=\" 6750,1800 6750,2700 6975,2475\" stroke=\"#000000\" stroke-width=\"15px\"/>\n",
       "<!-- Line -->\n",
       "<polyline points=\" 3600,4500 3600,3825 3825,4050\" stroke=\"#000000\" stroke-width=\"15px\"/>\n",
       "<!-- Line -->\n",
       "<polyline points=\" 6525,8775 2700,4950 2700,5175\" stroke=\"#ff0000\" stroke-width=\"15px\"/>\n",
       "<!-- Line -->\n",
       "<polyline points=\" 2700,4725 3375,4725 3150,4950\" stroke=\"#000000\" stroke-width=\"15px\"/>\n",
       "<!-- Line -->\n",
       "<polyline points=\" 2700,4500 6525,675 6525,900\" stroke=\"#ff0000\" stroke-width=\"15px\"/>\n",
       "<!-- Line -->\n",
       "<polyline points=\" 3825,4725 4725,4725 4500,4950\" stroke=\"#000000\" stroke-width=\"15px\"/>\n",
       "<!-- Line -->\n",
       "<polyline points=\" 6975,9000 7650,9000 7425,9225\" stroke=\"#000000\" stroke-width=\"15px\"/>\n",
       "<!-- Line -->\n",
       "<polyline points=\" 6975,450 7650,450 7425,675\" stroke=\"#000000\" stroke-width=\"15px\"/>\n",
       "<!-- Line -->\n",
       "<polyline points=\" 6975,7875 7650,7875 7425,8100\" stroke=\"#000000\" stroke-width=\"15px\"/>\n",
       "<!-- Line -->\n",
       "<polyline points=\" 6975,1575 7650,1575 7425,1800\" stroke=\"#000000\" stroke-width=\"15px\"/>\n",
       "<!-- Line -->\n",
       "<polyline points=\" 2475,4500 2475,3825 2700,4050\" stroke=\"#000000\" stroke-width=\"15px\"/>\n",
       "<!-- Line -->\n",
       "<polyline points=\" 6750,675 6750,1350 6975,1125\" stroke=\"#000000\" stroke-width=\"15px\"/>\n",
       "<!-- Line -->\n",
       "<polyline points=\" 9765,4950 7065,7650 7290,7650\" stroke=\"#ff0000\" stroke-width=\"15px\"/>\n",
       "<!-- Line -->\n",
       "<polyline points=\" 9585,4950 6885,7650 7110,7650\" stroke=\"#ff0000\" stroke-width=\"15px\"/>\n",
       "<!-- Line -->\n",
       "<polyline points=\" 8550,4950 8550,5625 8775,5400\" stroke=\"#000000\" stroke-width=\"15px\"/>\n",
       "<!-- Line -->\n",
       "<polyline points=\" 9855,4950 7155,7650 7380,7650\" stroke=\"#ff0000\" stroke-width=\"15px\"/>\n",
       "<!-- Line -->\n",
       "<polyline points=\" 9495,4950 6795,7650 7020,7650\" stroke=\"#ff0000\" stroke-width=\"15px\"/>\n",
       "<!-- Line -->\n",
       "<polyline points=\" 6975,1800 9675,4500 9450,4500\" stroke=\"#ff0000\" stroke-width=\"15px\"/>\n",
       "<!-- Line -->\n",
       "<polyline points=\" 6885,1800 9585,4500 9360,4500\" stroke=\"#ff0000\" stroke-width=\"15px\"/>\n",
       "<!-- Line -->\n",
       "<polyline points=\" 6795,1800 9495,4500 9270,4500\" stroke=\"#ff0000\" stroke-width=\"15px\"/>\n",
       "<!-- Line -->\n",
       "<polyline points=\" 7065,1800 9765,4500 9540,4500\" stroke=\"#ff0000\" stroke-width=\"15px\"/>\n",
       "<!-- Line -->\n",
       "<polyline points=\" 7155,1800 9855,4500 9630,4500\" stroke=\"#ff0000\" stroke-width=\"15px\"/>\n",
       "<!-- Line -->\n",
       "<polyline points=\" 8775,4950 9675,5850 9450,5850\" stroke=\"#000000\" stroke-width=\"15px\"/>\n",
       "<!-- Line -->\n",
       "<polyline points=\" 9900,6075 9900,6750 10125,6525\" stroke=\"#000000\" stroke-width=\"15px\"/>\n",
       "<!-- Line -->\n",
       "<polyline points=\" 3600,6075 3600,6750 3825,6525\" stroke=\"#000000\" stroke-width=\"15px\"/>\n",
       "<!-- Line -->\n",
       "<polyline points=\" 3825,5850 4950,5850 4950,4950 5175,5175\" stroke=\"#000000\" stroke-width=\"15px\"/>\n",
       "<!-- Line -->\n",
       "<polyline points=\" 2475,4950 2475,5850 3375,5850 3150,6075\" stroke=\"#000000\" stroke-width=\"15px\"/>\n",
       "</g>\n",
       "</svg>"
      ],
      "text/plain": [
       "<IPython.core.display.SVG object>"
      ]
     },
     "execution_count": 3,
     "metadata": {},
     "output_type": "execute_result"
    }
   ],
   "source": [
    "sbg.model('aiRE_abg.svg',quiet=quiet)\n",
    "import aiRE_abg\n",
    "#abg = aiRE_abg\n",
    "disp.SVG('aiRE_abg.svg')"
   ]
  },
  {
   "cell_type": "code",
   "execution_count": 4,
   "metadata": {},
   "outputs": [
    {
     "name": "stdout",
     "output_type": "stream",
     "text": [
      "Reactions:\n"
     ]
    },
    {
     "data": {
      "text/latex": [
       "\\begin{align}\n",
       "\\ch{A + E + F &<>[ r1 ] C }\\\\\n",
       "\\ch{C &<>[ r2 ] B + E + G }\\\\\n",
       "\\ch{CM &<>[ ra ] A + EM + F }\\\\\n",
       "\\ch{C + 5 M &<>[ rc ] CM }\\\\\n",
       "\\ch{EM &<>[ re ] E + 5 M }\n",
       "\\end{align}\n"
      ],
      "text/plain": [
       "<IPython.core.display.Latex object>"
      ]
     },
     "execution_count": 4,
     "metadata": {},
     "output_type": "execute_result"
    }
   ],
   "source": [
    "## Stoichiometry\n",
    "chemostats=['A','M','F','G']\n",
    "if chemostatEMCM:\n",
    "    chemostats += ['EM','CM']\n",
    "\n",
    "s,sc = stoichiometry(aiRE_abg.model(),chemostats=chemostats)\n",
    "\n",
    "print('Reactions:')\n",
    "disp.Latex(st.sprintrl(s,chemformula=True))\n",
    "sp = st.path(s,sc)"
   ]
  },
  {
   "cell_type": "markdown",
   "metadata": {},
   "source": [
    "## Controlled system bond graph "
   ]
  },
  {
   "cell_type": "markdown",
   "metadata": {},
   "source": [
    "### Arbitrary length $N_{reac}$\n",
    "This corresponds to the arbitary length chain when Fixed=False\n",
    "It is the same as the fixed length chain when N_reac=3."
   ]
  },
  {
   "cell_type": "code",
   "execution_count": 5,
   "metadata": {},
   "outputs": [
    {
     "data": {
      "image/svg+xml": [
       "<svg height=\"134pt\" viewBox=\"1275 435 3741 2122\" width=\"236pt\" xmlns=\"http://www.w3.org/2000/svg\" xmlns:xlink=\"http://www.w3.org/1999/xlink\">\n",
       "<g fill=\"none\">\n",
       "<!-- Line -->\n",
       "<polyline points=\" 1800,2250 2925,2250 2700,2475\" stroke=\"#000000\" stroke-width=\"15px\"/>\n",
       "<!-- Line -->\n",
       "<polyline points=\" 3375,2250 4500,2250 4275,2475\" stroke=\"#000000\" stroke-width=\"15px\"/>\n",
       "<!-- Line -->\n",
       "<polyline points=\" 1575,2025 1575,900 1800,1125\" stroke=\"#000000\" stroke-width=\"15px\"/>\n",
       "<!-- Line -->\n",
       "<polyline points=\" 4725,2025 4725,900 4950,1125\" stroke=\"#000000\" stroke-width=\"15px\"/>\n",
       "<!-- Text -->\n",
       "<g transform=\"translate(3060,2250) rotate(-270)\">\n",
       "<text fill=\"#000000\" font-family=\"Times\" font-size=\"240\" font-style=\"normal\" font-weight=\"normal\" text-anchor=\"middle\" x=\"0\" xml:space=\"preserve\" y=\"0\">Re:r</text>\n",
       "</g><!-- Text -->\n",
       "<text fill=\"#000000\" font-family=\"Times\" font-size=\"240\" font-style=\"normal\" font-weight=\"normal\" text-anchor=\"middle\" x=\"4725\" xml:space=\"preserve\" y=\"2385\">0</text>\n",
       "<!-- Text -->\n",
       "<text fill=\"#000000\" font-family=\"Times\" font-size=\"240\" font-style=\"normal\" font-weight=\"normal\" text-anchor=\"middle\" x=\"1575\" xml:space=\"preserve\" y=\"2385\">0</text>\n",
       "<!-- Text -->\n",
       "<text fill=\"#000000\" font-family=\"Times\" font-size=\"240\" font-style=\"normal\" font-weight=\"normal\" text-anchor=\"middle\" x=\"4725\" xml:space=\"preserve\" y=\"675\">Ce:B0</text>\n",
       "<!-- Text -->\n",
       "<text fill=\"#000000\" font-family=\"Times\" font-size=\"240\" font-style=\"normal\" font-weight=\"normal\" text-anchor=\"middle\" x=\"1575\" xml:space=\"preserve\" y=\"675\">Ce:B</text>\n",
       "</g>\n",
       "</svg>"
      ],
      "text/plain": [
       "<IPython.core.display.SVG object>"
      ]
     },
     "execution_count": 5,
     "metadata": {},
     "output_type": "execute_result"
    }
   ],
   "source": [
    "sbg.model('BB_abg.svg',quiet=quiet)\n",
    "import BB_abg\n",
    "disp.SVG('BB_abg.svg')"
   ]
  },
  {
   "cell_type": "code",
   "execution_count": 6,
   "metadata": {},
   "outputs": [],
   "source": [
    "def CLBG(aiRE_abg,abg,N=1):\n",
    "\n",
    "    if N is None:\n",
    "        NBB = abg.model()\n",
    "    else:\n",
    "        ## Create chain\n",
    "        NBB = mbg.chain(abg.model(),inport='B',outport='B0',N=N,quiet=quiet)\n",
    "        if N>1:\n",
    "            ## Rename penultimate state\n",
    "            ISN1 = 'IS'+str(N-1)\n",
    "            mbg.rename(NBB,{ISN1:'P'})\n",
    "        else:\n",
    "            mbg.rename(NBB,{'B':'P'})\n",
    "\n",
    "    ## Create composite system\n",
    "    aiRE = aiRE_abg.model()\n",
    "    if N is 1:\n",
    "        mbg.rename(aiRE,{'B':'P'})\n",
    "\n",
    "    mbg.rename(aiRE,{'M':'P'})\n",
    "\n",
    "    Allosteric = bgt.new(name='Allosteric') \n",
    "    Allosteric.add(aiRE,NBB)\n",
    "    if N is 1:\n",
    "        common = ['P']\n",
    "    else:\n",
    "        common = ['B','P']\n",
    "\n",
    "\n",
    "    mbg.unify(Allosteric,common=common,quiet=quiet)\n",
    "    \n",
    "    return Allosteric"
   ]
  },
  {
   "cell_type": "markdown",
   "metadata": {},
   "source": [
    "### Fixed length $N_{reac}=3$\n",
    "\n",
    "This corresponds to the fixed-length chain when Fixed=True"
   ]
  },
  {
   "cell_type": "code",
   "execution_count": 7,
   "metadata": {},
   "outputs": [
    {
     "data": {
      "image/svg+xml": [
       "<svg height=\"145pt\" viewBox=\"1283 435 10118 2291\" width=\"638pt\" xmlns=\"http://www.w3.org/2000/svg\" xmlns:xlink=\"http://www.w3.org/1999/xlink\">\n",
       "<g fill=\"none\">\n",
       "<!-- Line -->\n",
       "<polyline points=\" 1575,2025 1575,900 1800,1125\" stroke=\"#000000\" stroke-width=\"15px\"/>\n",
       "<!-- Line -->\n",
       "<polyline points=\" 1800,2250 2925,2250 2700,2475\" stroke=\"#000000\" stroke-width=\"15px\"/>\n",
       "<!-- Line -->\n",
       "<polyline points=\" 3375,2250 4500,2250 4275,2475\" stroke=\"#000000\" stroke-width=\"15px\"/>\n",
       "<!-- Line -->\n",
       "<polyline points=\" 4725,2025 4725,900 4950,1125\" stroke=\"#000000\" stroke-width=\"15px\"/>\n",
       "<!-- Line -->\n",
       "<polyline points=\" 4950,2250 6075,2250 5850,2475\" stroke=\"#000000\" stroke-width=\"15px\"/>\n",
       "<!-- Line -->\n",
       "<polyline points=\" 6525,2250 7650,2250 7425,2475\" stroke=\"#000000\" stroke-width=\"15px\"/>\n",
       "<!-- Line -->\n",
       "<polyline points=\" 7875,2025 7875,900 8100,1125\" stroke=\"#000000\" stroke-width=\"15px\"/>\n",
       "<!-- Line -->\n",
       "<polyline points=\" 8100,2250 9225,2250 9000,2475\" stroke=\"#000000\" stroke-width=\"15px\"/>\n",
       "<!-- Line -->\n",
       "<polyline points=\" 9675,2250 10800,2250 10575,2475\" stroke=\"#000000\" stroke-width=\"15px\"/>\n",
       "<!-- Line -->\n",
       "<polyline points=\" 11025,2025 11025,900 11250,1125\" stroke=\"#000000\" stroke-width=\"15px\"/>\n",
       "<!-- Text -->\n",
       "<text fill=\"#000000\" font-family=\"Times\" font-size=\"240\" font-style=\"normal\" font-weight=\"normal\" text-anchor=\"middle\" x=\"1575\" xml:space=\"preserve\" y=\"2385\">0</text>\n",
       "<!-- Text -->\n",
       "<text fill=\"#000000\" font-family=\"Times\" font-size=\"240\" font-style=\"normal\" font-weight=\"normal\" text-anchor=\"middle\" x=\"1575\" xml:space=\"preserve\" y=\"675\">Ce:B</text>\n",
       "<!-- Text -->\n",
       "<g transform=\"translate(3060,2250) rotate(-270)\">\n",
       "<text fill=\"#000000\" font-family=\"Times\" font-size=\"240\" font-style=\"normal\" font-weight=\"normal\" text-anchor=\"middle\" x=\"0\" xml:space=\"preserve\" y=\"0\">Re:r_0</text>\n",
       "</g><!-- Text -->\n",
       "<text fill=\"#000000\" font-family=\"Times\" font-size=\"240\" font-style=\"normal\" font-weight=\"normal\" text-anchor=\"middle\" x=\"4725\" xml:space=\"preserve\" y=\"2385\">0</text>\n",
       "<!-- Text -->\n",
       "<text fill=\"#000000\" font-family=\"Times\" font-size=\"240\" font-style=\"normal\" font-weight=\"normal\" text-anchor=\"middle\" x=\"4725\" xml:space=\"preserve\" y=\"675\">Ce:B1</text>\n",
       "<!-- Text -->\n",
       "<g transform=\"translate(6210,2250) rotate(-270)\">\n",
       "<text fill=\"#000000\" font-family=\"Times\" font-size=\"240\" font-style=\"normal\" font-weight=\"normal\" text-anchor=\"middle\" x=\"0\" xml:space=\"preserve\" y=\"0\">Re:r_1</text>\n",
       "</g><!-- Text -->\n",
       "<text fill=\"#000000\" font-family=\"Times\" font-size=\"240\" font-style=\"normal\" font-weight=\"normal\" text-anchor=\"middle\" x=\"7875\" xml:space=\"preserve\" y=\"2385\">0</text>\n",
       "<!-- Text -->\n",
       "<text fill=\"#000000\" font-family=\"Times\" font-size=\"240\" font-style=\"normal\" font-weight=\"normal\" text-anchor=\"middle\" x=\"7875\" xml:space=\"preserve\" y=\"675\">Ce:P</text>\n",
       "<!-- Text -->\n",
       "<g transform=\"translate(9360,2250) rotate(-270)\">\n",
       "<text fill=\"#000000\" font-family=\"Times\" font-size=\"240\" font-style=\"normal\" font-weight=\"normal\" text-anchor=\"middle\" x=\"0\" xml:space=\"preserve\" y=\"0\">Re:r_2</text>\n",
       "</g><!-- Text -->\n",
       "<text fill=\"#000000\" font-family=\"Times\" font-size=\"240\" font-style=\"normal\" font-weight=\"normal\" text-anchor=\"middle\" x=\"11025\" xml:space=\"preserve\" y=\"2385\">0</text>\n",
       "<!-- Text -->\n",
       "<text fill=\"#000000\" font-family=\"Times\" font-size=\"240\" font-style=\"normal\" font-weight=\"normal\" text-anchor=\"middle\" x=\"11025\" xml:space=\"preserve\" y=\"675\">Ce:B0</text>\n",
       "</g>\n",
       "</svg>"
      ],
      "text/plain": [
       "<IPython.core.display.SVG object>"
      ]
     },
     "execution_count": 7,
     "metadata": {},
     "output_type": "execute_result"
    }
   ],
   "source": [
    "sbg.model('ReacChain_abg.svg',quiet=quiet)\n",
    "import ReacChain_abg\n",
    "disp.SVG('ReacChain_abg.svg')"
   ]
  },
  {
   "cell_type": "markdown",
   "metadata": {},
   "source": [
    "## Stoichiometry and reactions"
   ]
  },
  {
   "cell_type": "code",
   "execution_count": 8,
   "metadata": {},
   "outputs": [
    {
     "name": "stdout",
     "output_type": "stream",
     "text": [
      "Renaming components within aiRE\n",
      "\tRenaming M to P\n",
      "Reactions:\n"
     ]
    },
    {
     "data": {
      "text/latex": [
       "\\begin{align}\n",
       "\\ch{A + E + F &<>[ r1 ] C }\\\\\n",
       "\\ch{C &<>[ r2 ] E + G + B }\\\\\n",
       "\\ch{CM &<>[ ra ] A + EM + F }\\\\\n",
       "\\ch{C + 5 P &<>[ rc ] CM }\\\\\n",
       "\\ch{EM &<>[ re ] E + 5 P }\\\\\n",
       "\\ch{B &<>[ r_0 ] B1 }\\\\\n",
       "\\ch{B1 &<>[ r_1 ] P }\\\\\n",
       "\\ch{P &<>[ r_2 ] B0 }\n",
       "\\end{align}\n"
      ],
      "text/plain": [
       "<IPython.core.display.Latex object>"
      ]
     },
     "execution_count": 8,
     "metadata": {},
     "output_type": "execute_result"
    },
    {
     "name": "stdout",
     "output_type": "stream",
     "text": [
      "Pathway reactions:\n",
      "2 pathways\n",
      "0:  + r1 + ra + rc + re\n",
      "1:  + r1 + r2 + r_0 + r_1 + r_2\n",
      "\n"
     ]
    },
    {
     "data": {
      "text/latex": [
       "\\begin{align}\n",
       " &\\Leftrightarrow \\\\\n",
       "A + F  &\\Leftrightarrow G + B0 \n",
       "\\end{align}\n"
      ],
      "text/plain": [
       "<IPython.core.display.Latex object>"
      ]
     },
     "execution_count": 8,
     "metadata": {},
     "output_type": "execute_result"
    }
   ],
   "source": [
    "if Fixed:\n",
    "    abg = ReacChain_abg\n",
    "    N_reac = None\n",
    "else:\n",
    "    abg = BB_abg\n",
    "    ## Number of reactions in the chain \n",
    "    N_reac = 3\n",
    "\n",
    "\n",
    "## Create composite closed-loop system\n",
    "Allosteric = CLBG(aiRE_abg,abg,N=N_reac)\n",
    "\n",
    "## Stoichiometry\n",
    "chemostats=['A','B0','F','G']\n",
    "if chemostatEMCM:\n",
    "    chemostats += ['EM','CM']\n",
    "s,sc = stoichiometry(Allosteric,chemostats=chemostats)\n",
    "\n",
    "print('Reactions:')\n",
    "disp.Latex(st.sprintrl(s,chemformula=True))\n",
    "sp = st.path(s,sc)\n",
    "print('Pathway reactions:')\n",
    "print(st.sprintp(sc))\n",
    "disp.Latex(st.sprintrl(sp,chemformula=False))"
   ]
  },
  {
   "cell_type": "markdown",
   "metadata": {},
   "source": [
    "## Utility functions"
   ]
  },
  {
   "cell_type": "code",
   "execution_count": 9,
   "metadata": {},
   "outputs": [],
   "source": [
    "def plotStep(tf,chemo,spec,T):\n",
    "    \n",
    "    t,y = con.step_response(tf,T=T)\n",
    "    plt.plot(t,y)\n",
    "    plt.grid()\n",
    "    plt.xlabel('t')\n",
    "    plt.ylabel('x_B')\n",
    "    plt.title('Step response from '+chemo+' to '+spec)\n",
    "    plt.show()\n",
    "    \n",
    "def showTF(tf):\n",
    "    ## Show info\n",
    "    print(tf)\n",
    "    in_gain_X = con.dcgain(tf)\n",
    "    print('\\tgain:',fmt.format(in_gain_X))\n",
    "    print('\\tpoles:', con.pole(tf))\n",
    "    print('\\tzeros:', con.zero(tf))\n",
    "    print('\\n')\n",
    "\n",
    "def extractTF(TF,chemo,spec):\n",
    "    \n",
    "    ## Index of product\n",
    "    species = s['species']\n",
    "    i_prod = species.index(spec)\n",
    "    \n",
    "    ## Index of input\n",
    "    i = chemostats.index(chemo)\n",
    "    \n",
    "    ## Extract tf\n",
    "    #print('\\nTransfer function from','x_'+chemo,'to','x_'+spec)\n",
    "    tf = con.minreal(TF[i_prod,i],tol=tol,verbose=True)\n",
    "    \n",
    "    #showTF(tf)\n",
    "    \n",
    "    return tf\n",
    "\n",
    "def extractTFflow(TF,chemo,chemostats,reac):\n",
    "    \n",
    "    ## Index of reaction\n",
    "    reaction = s['reaction']\n",
    "    i_v = reaction.index(reac)\n",
    "    \n",
    "    ## Index of input\n",
    "    i = chemostats.index(chemo)\n",
    "    \n",
    "    ## Extract tf\n",
    "    #print('\\nTransfer function from','x_'+chemo,'to','v_'+reac)\n",
    "    tf = con.minreal(TF[i_v,i],tol=tol,verbose=True)\n",
    "    \n",
    "    #showTF(tf)\n",
    "    \n",
    "    return tf"
   ]
  },
  {
   "cell_type": "markdown",
   "metadata": {},
   "source": [
    "# Closed-loop analysis\n",
    "The function **ClosedLoop** derives the closed-loop properteis of the system from the bond graph model in the following steps:\n",
    "\n",
    "- Extract stoichiometry\n",
    "- Simulate the system to give a steady state\n",
    "- linearise the closed-loop system about this steady state to give:\n",
    "   - the multivariable transfer function relating chemostats to species states\n",
    "   - the multivariable transfer function relating chemostats to reaction flows\n",
    "- extract the scalar transfer functions relating the 'disturbance' $x_{B0}$ to\n",
    "    - the product state $x_P$\n",
    "    - the 'actuator' flow $v_{r2}$"
   ]
  },
  {
   "cell_type": "code",
   "execution_count": 10,
   "metadata": {},
   "outputs": [],
   "source": [
    "def ClosedLoop(abg,chemostats,parameter,X0,t_ss,t_step,quiet=False):\n",
    "    ## Analyse the system\n",
    "    \n",
    "    cabg = copy.copy(abg)\n",
    "    \n",
    "    ## Stoichiometry\n",
    "    s,sc = stoichiometry(cabg,chemostats=chemostats)\n",
    "    \n",
    "    print('Closed-loop. Order = ',sc['n_x'])\n",
    "    \n",
    "    ## Steady-state simulation\n",
    "    t = np.linspace(0,t_ss,1000)\n",
    "    ssdat = st.sim(s,sc=sc,t=t,parameter=parameter,X0=X0,quiet=quiet)\n",
    "    #st.plot(s,ssdat,species=['E','C','EM','CM'],reaction = ['r2'])\n",
    "    \n",
    "    ## Use the final value as the steady-state\n",
    "    x_ss = ssdat['X'][-1,:]\n",
    "    v_ss = ssdat['V'][-1,:]\n",
    "    \n",
    "    if not quiet:\n",
    "        print(s['species'])\n",
    "        print('x_ss =', x_ss)  \n",
    "        print(s['reaction'])\n",
    "        print('v_ss = ', v_ss)\n",
    "    \n",
    "    ##Linearise\n",
    "    SysX = st.lin(s,sc,x_ss=x_ss,parameter=parameter,outvar='X',quiet=quiet) \n",
    "    SysV = st.lin(s,sc,x_ss=x_ss,parameter=parameter,outvar='V',quiet=quiet)\n",
    "\n",
    "    ## Multivariable transfer functions\n",
    "    TF = con.ss2tf(SysX)\n",
    "    TFV = con.ss2tf(SysV)\n",
    "\n",
    "    ## Scalar transfer function to x_M\n",
    "    tf_B0 = extractTF(TF,'B0','P')\n",
    "    t,x_B = con.step_response(tf_B0,T=t_step)\n",
    "\n",
    "    return x_ss,v_ss,tf_B0"
   ]
  },
  {
   "cell_type": "markdown",
   "metadata": {},
   "source": [
    "# Loop-gain analysis\n",
    "- The function LoopGain deduces the feedback loop-gain from the (closed-loop) bondgraph.\n",
    "- The product component **Ce:P** is converted into a chemostat. This 'breaks the loop' and enables the open-loop transfer functions relating $x_P$ to the various flows impinging on the corresponding **0** junction to be computed. In this case the relevant flows are:\n",
    "    - $v_{r1}$ - the main feedback path\n",
    "    - $v_{r2}$ - the product flow flow absorbed by  **Ce:B0**\n",
    "    - $5v_{re}$ - the flow transiently absorbed by **Ce:EM**\n",
    "    - $5v_{ce}$ - the flow transiently absorbed by **Ce:CM**\n",
    "- As will be seen, the the main feedback path to $v_{r1}$ is the sum of two transfer functions:\n",
    "    - an *active* path via the allosteric inhibition module\n",
    "    - a *passive* path via the admittance of the reaction chain at the product **Ce:P**\n",
    "    \n",
    "- The function LoopGain follows:"
   ]
  },
  {
   "cell_type": "code",
   "execution_count": 11,
   "metadata": {},
   "outputs": [],
   "source": [
    "def LoopGain(abg,chemostats,parameter,x_ss,quiet=False):\n",
    "    \"\"\"Compute the loop gain tf\"\"\"\n",
    "    \n",
    "    ## Add the chemostat for B and recompute stoichiometry\n",
    "    chemostatsL = chemostats+['P']\n",
    "    sL,scL = stoichiometry(copy.copy(abg),chemostats=chemostatsL)\n",
    "    \n",
    "    print('Open-loop. Order = ',scL['n_x'])\n",
    "    ## Linearise using the appropriate steady-state x_ss\n",
    "    SysL = st.lin(sL,scL,x_ss=x_ss,parameter=parameter,outvar='V',quiet=quiet)\n",
    "    \n",
    "    ## The multivariable transfer function\n",
    "    TFL = con.ss2tf(SysL)\n",
    "    \n",
    "    ## Stoichiometry of feedback\n",
    "    N = sL['N'] # Stoichiometric matrix\n",
    "    i_P = sL['species'].index('P')\n",
    "    N_P = N[i_P,:] # Row of N corresponding to B\n",
    "    \n",
    "    ## Indices of reactions impinging on Ce:\n",
    "    j_FB = np.nonzero(N_P)[0][:]\n",
    "    \n",
    "    ## Reactions impinging on B and the transfer functions\n",
    "    reaction = sL['reaction']\n",
    "    R = []\n",
    "    FB = {}\n",
    "    fb = 0\n",
    "    for j in j_FB:\n",
    "        r = reaction[j]\n",
    "        R.append(r)\n",
    "        \n",
    "        ## Transfer function from product P to reaction r\n",
    "        FB_r = extractTFflow(TFL,'P',chemostatsL,r)\n",
    "        FB_r *= -N_P[j]\n",
    "        \n",
    "        ## Extract active and passive components of main feedback TF\n",
    "        if r in [r_last_1]:\n",
    "            #print('Doing',r_last_1)\n",
    "            num = FB_r.num[0][0]\n",
    "            #print('num',num)\n",
    "            den = FB_r.den[0][0]\n",
    "            #print('den',den)\n",
    "            n_num = len(num)\n",
    "            num_act = [num[n_num-1]]\n",
    "            FB['fb_act'] = con.tf(num_act,den)\n",
    "            print('\\nActive feedback from P to',r)\n",
    "            showTF(FB['fb_act'])\n",
    "            num_pas = copy.copy(num)\n",
    "            num_pas[n_num-1] = 0\n",
    "            FB['fb_pas'] = con.tf(num_pas,den)\n",
    "            print('\\nPassive feedback from P to',r)\n",
    "            showTF(FB['fb_pas'])\n",
    "        FB[r] = FB_r\n",
    "        fb = con.parallel(fb,FB[r])\n",
    "        print('\\nFeedback from P to ',r)\n",
    "        showTF(FB[r])\n",
    "    #print('\\nRelevant reactions:', R)\n",
    "    \n",
    "    if N_reac is None:\n",
    "        r_N1 = 'r_2'\n",
    "    else:\n",
    "        r_N1 = 'r_'+str(N_reac-1)\n",
    "    print('\\nGain from B0 to', r_N1)\n",
    "    FF = -extractTFflow(TFL,'B0',chemostatsL,r_N1)\n",
    "    showTF(FF)\n",
    "    \n",
    "    ## Total feedback transfer function \n",
    "    print('\\nNet feedback')\n",
    "    fb = con.minreal(fb,tol=tol,verbose=not quiet)    \n",
    "    showTF(fb)\n",
    "    \n",
    "    ## More tfs into FB\n",
    "    FB['net'] = fb\n",
    "    FB['rec'] = con.parallel(FB['re'],FB['rc'])\n",
    "    \n",
    "    ## Transfer function of CE:P\n",
    "    G = con.tf([1],[1,0])\n",
    "    print(\"\\nForward gain to P\")\n",
    "    showTF(G)\n",
    "    \n",
    "    ## The loop gains: feedbacks from P to r multiplied by G: TF of P\n",
    "    L = {}\n",
    "    for key,tf in FB.items():\n",
    "        L[key] = con.series(G,FB[key])\n",
    "        \n",
    "    ## Compute the closed-loop TF from the open-loop TF\n",
    "    print(\"\\nClosed loop\")\n",
    "    CL = con.minreal(con.feedback(G,sys2=FB['net']),tol=tol,verbose=not quiet)\n",
    "    CL = con.series(CL,FF)\n",
    "    #showTF(CL)\n",
    "    \n",
    "    return CL,L"
   ]
  },
  {
   "cell_type": "markdown",
   "metadata": {},
   "source": [
    "# Loop gain analysis of Allosteric feedback"
   ]
  },
  {
   "cell_type": "markdown",
   "metadata": {},
   "source": [
    "## Utility functions"
   ]
  },
  {
   "cell_type": "code",
   "execution_count": 12,
   "metadata": {},
   "outputs": [],
   "source": [
    "def plotCL(CL,CLL,t_step):\n",
    "    \n",
    "    t_CL,y_CL = con.step_response(CL,T=t_step)\n",
    "    t_CLL,y_CLL = con.step_response(CLL,T=t_step)\n",
    "    plt.plot(t_CL,y_CL,label='Direct')\n",
    "    plt.plot(t_CLL,y_CLL,label='Computed')\n",
    "    plt.grid()\n",
    "    plt.xlabel('$t$')\n",
    "    plt.ylabel('$x_P$')\n",
    "    plt.legend()\n",
    "    plt.show()\n",
    "    return t_CL,y_CL \n",
    "\n",
    "def plotOL(L):\n",
    "\n",
    "    w = np.logspace(-1,1,200)\n",
    "    #w = None\n",
    "    Legend = []\n",
    "    plt.figure(figsize=(10,10))\n",
    "    print('Bode diagram: loop gain components')\n",
    "    for key,tf in L.items():\n",
    "        if not key in ['re','rc','fb_pas','fb_act']:\n",
    "            mag,phase,ww = con.bode(tf,w,Plot=True)\n",
    "            Legend += [key]\n",
    "    plt.legend(Legend)\n",
    "    plt.title('Loop gain componenents')\n",
    "    plt.show()\n",
    "    \n",
    "\n",
    "    Legend = []\n",
    "    plt.figure(figsize=(10,10))\n",
    "    print('Bode diagram: Passive and active loop-gain components')\n",
    "    for key,tf in L.items():\n",
    "        if key in ['fb_pas','fb_act',r_last_1]:\n",
    "            mag,phase,ww = con.bode(tf,w,Plot=True)\n",
    "            Legend += [key]\n",
    "    plt.legend(Legend)\n",
    "    plt.show()\n",
    "\n",
    "    re,im,ww = con.nyquist(L['net'],Plot=False)\n",
    "    plt.title('Nyquist Diagram')\n",
    "    plt.plot(re,im)\n",
    "    plt.axis('equal')\n",
    "    lim = 2\n",
    "    plt.xlim(-lim,lim)\n",
    "    plt.ylim(-lim,lim)\n",
    "    plt.grid()\n",
    "    theta = np.linspace(0,2*np.pi)\n",
    "    plt.plot(np.sin(theta),np.cos(theta))\n"
   ]
  },
  {
   "cell_type": "markdown",
   "metadata": {},
   "source": [
    "## Numerical parameters"
   ]
  },
  {
   "cell_type": "code",
   "execution_count": 13,
   "metadata": {},
   "outputs": [
    {
     "name": "stdout",
     "output_type": "stream",
     "text": [
      "kappa_r_2 = 1\n",
      "X0_A = 1\n",
      "X0_B0 = 1\n",
      "X0_E = 0.01\n",
      "X0_C = 0.01\n"
     ]
    }
   ],
   "source": [
    "## Parameters\n",
    "X0_A = 1\n",
    "K_A = 1\n",
    "K_B = 1\n",
    "K_P = 1\n",
    "K_C = 1\n",
    "K_E = 1\n",
    "K_F = 1000\n",
    "K_G = 1/K_F\n",
    "\n",
    "K_EM = 1\n",
    "K_CM = 1\n",
    "\n",
    "kappa = 1000\n",
    "kappa_r1 = kappa\n",
    "kappa_r2 = kappa\n",
    "\n",
    "## Closed-loop allosteric inhibition\n",
    "## Set kappa_ra = kappa_rc = 0 for feedback inhibition\n",
    "kappa_ra = 1\n",
    "kappa_rc = 1\n",
    "kappa_re = 1\n",
    "\n",
    "K_B0 = K_P\n",
    "X0_B0 = 1\n",
    "#kappa_r3 = 1\n",
    "\n",
    "X0_E = 0.01\n",
    "X0_C = 0.01\n",
    "\n",
    "pars = ['K_A','K_B','K_P','K_C','K_E','K_F','K_G',\n",
    "        'K_EM','K_CM',\n",
    "        'kappa_r1','kappa_r2','kappa_ra','kappa_rc','kappa_re',\n",
    "        'K_B0']\n",
    "parameter = {}\n",
    "for par in pars:\n",
    "    parameter[par] = eval(par)\n",
    "\n",
    "if N_reac is  None:\n",
    "    r_last = 'r_2'\n",
    "    r_last_1 = 'r_1'\n",
    "else:\n",
    "    r_last = 'r_'+str(N_reac-1)\n",
    "\n",
    "    if N_reac>1:\n",
    "        r_last_1 = 'r_'+str(N_reac-2)\n",
    "        kappa_last_1 = 'kappa_'+r_last_1\n",
    "        parameter[kappa_last_1] = 1\n",
    "        print(kappa_last_1,'=', parameter[kappa_last_1])\n",
    "        \n",
    "kappa_last = 'kappa_'+r_last\n",
    "parameter[kappa_last] = 1\n",
    "print(kappa_last,'=', parameter[kappa_last])\n",
    "\n",
    "states = ['A','B0','E','C']\n",
    "X0 = np.ones(s['n_X'])\n",
    "for state in states:\n",
    "    X0_ = 'X0_'+state\n",
    "    val = eval(X0_)\n",
    "    print(X0_,'=',val)\n",
    "    X0[s['species'].index(state)] = val\n",
    "\n",
    "if not quiet:\n",
    "    print('Parameters',parameter)\n",
    "    print(s['species'])\n",
    "    print(X0)\n"
   ]
  },
  {
   "cell_type": "markdown",
   "metadata": {},
   "source": [
    "## Transfer function analysis"
   ]
  },
  {
   "cell_type": "code",
   "execution_count": 14,
   "metadata": {
    "scrolled": false
   },
   "outputs": [
    {
     "name": "stdout",
     "output_type": "stream",
     "text": [
      "Closed-loop. Order =  6\n",
      "2 states have been removed from the model\n",
      "Open-loop. Order =  5\n",
      "4 states have been removed from the model\n",
      "\n",
      "Feedback from P to  rc\n",
      "\n",
      "13.45 s - 0.006295\n",
      "------------------\n",
      "    s + 735.1\n",
      "\n",
      "\tgain: -0.000\n",
      "\tpoles: [-735.097]\n",
      "\tzeros: [0.]\n",
      "\n",
      "\n",
      "2 states have been removed from the model\n",
      "\n",
      "Feedback from P to  re\n",
      "\n",
      "0.02689 s^3 + 2.699e+04 s^2 + 2.701e+07 s + 6.469e+06\n",
      "-----------------------------------------------------\n",
      "    s^3 + 1.004e+06 s^2 + 1.743e+09 s + 7.386e+11\n",
      "\n",
      "\tgain: 0.000\n",
      "\tpoles: [-1.003e+06 -1.002e+03 -7.351e+02]\n",
      "\tzeros: [-1.003e+06 -1.002e+03 -2.396e-01]\n",
      "\n",
      "\n",
      "3 states have been removed from the model\n",
      "\n",
      "Active feedback from P to r_1\n",
      "\n",
      "    3.659\n",
      "-------------\n",
      "s^2 + 3 s + 1\n",
      "\n",
      "\tgain: 3.659\n",
      "\tpoles: [-2.618 -0.382]\n",
      "\tzeros: []\n",
      "\n",
      "\n",
      "\n",
      "Passive feedback from P to r_1\n",
      "\n",
      "s^2 + 1.995 s\n",
      "-------------\n",
      "s^2 + 3 s + 1\n",
      "\n",
      "\tgain: 0.000\n",
      "\tpoles: [-2.618 -0.382]\n",
      "\tzeros: [-1.995  0.   ]\n",
      "\n",
      "\n",
      "\n",
      "Feedback from P to  r_1\n",
      "\n",
      "s^2 + 1.995 s + 3.659\n",
      "---------------------\n",
      "    s^2 + 3 s + 1\n",
      "\n",
      "\tgain: 3.659\n",
      "\tpoles: [-2.618 -0.382]\n",
      "\tzeros: [-0.998+1.632j -0.998-1.632j]\n",
      "\n",
      "\n",
      "5 states have been removed from the model\n",
      "\n",
      "Feedback from P to  r_2\n",
      "\n",
      "1\n",
      "-\n",
      "1\n",
      "\n",
      "\tgain: 1.000\n",
      "\tpoles: []\n",
      "\tzeros: []\n",
      "\n",
      "\n",
      "\n",
      "Gain from B0 to r_2\n",
      "5 states have been removed from the model\n",
      "\n",
      "1\n",
      "-\n",
      "1\n",
      "\n",
      "\tgain: 1.000\n",
      "\tpoles: []\n",
      "\tzeros: []\n",
      "\n",
      "\n",
      "\n",
      "Net feedback\n",
      "\n",
      "15.48 s^3 + 1516 s^2 + 3690 s + 3425\n",
      "------------------------------------\n",
      "  s^3 + 738.1 s^2 + 2206 s + 735.1\n",
      "\n",
      "\tgain: 4.659\n",
      "\tpoles: [-7.351e+02 -2.618e+00 -3.820e-01]\n",
      "\tzeros: [-95.462+0.j     -1.237+0.888j  -1.237-0.888j]\n",
      "\n",
      "\n",
      "\n",
      "Forward gain to P\n",
      "\n",
      "1\n",
      "-\n",
      "s\n",
      "\n",
      "\tgain:   inf\n",
      "\tpoles: [0.]\n",
      "\tzeros: []\n",
      "\n",
      "\n",
      "\n",
      "Closed loop\n",
      "Closed-loop: direct\n",
      "\n",
      "     s^3 + 738.1 s^2 + 2206 s + 735.1\n",
      "------------------------------------------\n",
      "s^4 + 753.6 s^3 + 3722 s^2 + 4425 s + 3425\n",
      "\n",
      "\tgain: 0.215\n",
      "\tpoles: [-7.486e+02+0.j    -3.703e+00+0.j    -6.305e-01+0.915j -6.305e-01-0.915j]\n",
      "\tzeros: [-7.351e+02 -2.618e+00 -3.820e-01]\n",
      "\n",
      "\n",
      "Closed-loop: from loop-gain\n",
      "\n",
      "     s^3 + 738.1 s^2 + 2206 s + 735.1\n",
      "------------------------------------------\n",
      "s^4 + 753.6 s^3 + 3722 s^2 + 4425 s + 3425\n",
      "\n",
      "\tgain: 0.215\n",
      "\tpoles: [-7.486e+02+0.j    -3.703e+00+0.j    -6.305e-01+0.915j -6.305e-01-0.915j]\n",
      "\tzeros: [-7.351e+02 -2.618e+00 -3.820e-01]\n",
      "\n",
      "\n",
      "Closed-loop: direct (reduced)\n",
      "\n",
      "  0.9824 s^2 + 2.958 s + 0.9859\n",
      "---------------------------------\n",
      "s^3 + 4.978 s^2 + 5.925 s + 4.594\n",
      "\n",
      "\tgain: 0.215\n",
      "\tpoles: [-3.717+0.j    -0.631+0.915j -0.631-0.915j]\n",
      "\tzeros: [-2.629 -0.382]\n",
      "\n",
      "\n",
      "Closed-loop: from loop-gain (reduced)\n",
      "\n",
      "  0.9824 s^2 + 2.958 s + 0.9859\n",
      "---------------------------------\n",
      "s^3 + 4.978 s^2 + 5.925 s + 4.594\n",
      "\n",
      "\tgain: 0.215\n",
      "\tpoles: [-3.717+0.j    -0.631+0.915j -0.631-0.915j]\n",
      "\tzeros: [-2.629 -0.382]\n",
      "\n",
      "\n"
     ]
    },
    {
     "data": {
      "image/png": "[encoded data removed]",
      "text/plain": [
       "<Figure size 432x288 with 1 Axes>"
      ]
     },
     "metadata": {},
     "output_type": "display_data"
    }
   ],
   "source": [
    "\n",
    "t_step = np.linspace(0,1000,100)\n",
    "t_step = None\n",
    "t_ss = 1e2\n",
    "\n",
    "x_ss,v_ss,CL = ClosedLoop(Allosteric,chemostats,parameter,X0,t_ss,t_step,quiet=quiet)\n",
    "\n",
    "CLL,L = LoopGain(Allosteric,chemostats,parameter,x_ss,quiet=quiet)\n",
    "\n",
    "print('Closed-loop: direct')\n",
    "showTF(CL)\n",
    "print('Closed-loop: from loop-gain')\n",
    "showTF(CLL)\n",
    "\n",
    "## Find reduced-order systems using balanced reduction\n",
    "print('Closed-loop: direct (reduced)')\n",
    "showTF(con.tf(con.balred(con.tf2ss(CL),3)))\n",
    "print('Closed-loop: from loop-gain (reduced)')\n",
    "showTF(con.tf(con.balred(con.tf2ss(CLL),3)))\n",
    "\n",
    "t_CL,y_CL = plotCL(CL,CLL,t_step)\n",
    "\n"
   ]
  },
  {
   "cell_type": "markdown",
   "metadata": {},
   "source": [
    "### Discussion\n",
    "Transfer function orders are reduced in two ways:\n",
    "\n",
    "- Using con.minreal (minimal realisation) to cancel approximately identical poles and zeros (using tolerance tol). This is used each time a transfer function is extracted.\n",
    "      \n",
    "- Using con.balred (balanced reduction) to give a transfer function of given order.\n",
    "\n",
    "In this case there are four transfer functions relating the product concentration $x_P$ to the  to the four flows\n",
    "which add to drive the product concentration $x_P$ \n",
    "\n",
    "- $v_{r1}$ - the main feedback path. \n",
    "This is $\\dfrac{s^2 + 1.995 s + 3.659}{s^2 + 3 s + 1}$\n",
    "\n",
    "- This is the sum of two transfer functions:\n",
    "    - an *active* path via the allosteric inhibition module: $\\dfrac{3.659}{s^2 + 3 s + 1}$\n",
    "    - a *passive* path via the admittance of the reaction chain at the product **Ce:P**: $\\dfrac{s^2 + 1.995 s}{s^2 + 3 s + 1}$\n",
    "\n",
    "- $v_{r2}$ - the product flow absorbed by  **Ce:B0**. This is the unit transfer function in this case.\n",
    "\n",
    "- $5v_{re}$ and $5v_{ce}$ - the flow transiently absorbed by **Ce:EM** and  **Ce:CM**. With reference to the bode diagram, this is small and can be ignored.\n",
    "\n",
    "The closed-loop transfer function relating the disturbance concentration $x_{B0}$ to product concentration $x_P$ can be derived in two ways: directly, and from the loop gain. When reduced to third order, the closed-loop transfer function is $\\dfrac{0.9824 s^2 + 2.958 s + 0.9859}{s^3 + 4.978 s^2 + 5.925 s + 4.594}$. \n",
    "\n",
    "- This has a real pole at $s = - 3.7$ and a complex pair of poles at $s =  -0.631 \\pm 0.915j$. This gives a stable but oscillatory response.\n",
    "\n",
    "- the steady-state gain is $0.215$. Thus a unit disturbance gives a 21.5% change in product concentration, without feedback this would be 100%.\n",
    "\n",
    "- The step response plot verifies this."
   ]
  },
  {
   "cell_type": "markdown",
   "metadata": {},
   "source": [
    "## Frequency response analysis"
   ]
  },
  {
   "cell_type": "code",
   "execution_count": 15,
   "metadata": {},
   "outputs": [
    {
     "name": "stdout",
     "output_type": "stream",
     "text": [
      "Bode diagram: loop gain components\n"
     ]
    },
    {
     "data": {
      "image/png": "[encoded data removed]",
      "text/plain": [
       "<Figure size 720x720 with 2 Axes>"
      ]
     },
     "metadata": {},
     "output_type": "display_data"
    },
    {
     "name": "stdout",
     "output_type": "stream",
     "text": [
      "Bode diagram: Passive and active loop-gain components\n"
     ]
    },
    {
     "data": {
      "image/png": "[encoded data removed]",
      "text/plain": [
       "<Figure size 720x720 with 2 Axes>"
      ]
     },
     "metadata": {},
     "output_type": "display_data"
    },
    {
     "data": {
      "image/png": "[encoded data removed]",
      "text/plain": [
       "<Figure size 432x288 with 1 Axes>"
      ]
     },
     "metadata": {},
     "output_type": "display_data"
    }
   ],
   "source": [
    "plotOL(L)"
   ]
  },
  {
   "cell_type": "markdown",
   "metadata": {},
   "source": [
    "### Phase margins"
   ]
  },
  {
   "cell_type": "code",
   "execution_count": 16,
   "metadata": {},
   "outputs": [
    {
     "name": "stdout",
     "output_type": "stream",
     "text": [
      "Phase margin of loop-gain is 75.95006861540071 at omega = 1.581685736613151\n",
      "Phase margin of fb_act+fb_r_last is 42.172473898898204 at omega = 1.2668858916825174\n"
     ]
    }
   ],
   "source": [
    "gm, pm, wg, wp = con.margin(L['net'])\n",
    "#print('Gain margin',gm)\n",
    "print('Phase margin of loop-gain is',pm,'at omega =',wp)\n",
    "\n",
    "# gm, pm, wg, wp = con.margin(L['fb_act'])\n",
    "# print('Phase margin of fb_act is',pm,'at omega =',wp)\n",
    "\n",
    "gm, pm, wg, wp = con.margin(con.parallel(L['fb_act'],L[r_last]))\n",
    "print('Phase margin of fb_act+fb_r_last is',pm,'at omega =',wp)\n"
   ]
  },
  {
   "cell_type": "markdown",
   "metadata": {},
   "source": [
    "### Discussion\n",
    "\n",
    "- A control systems discussion is needed here\n",
    "- Active feedback dominates at low fequencies , and passive feedback at high frequencies.\n",
    "- The active feedback reduces the effect of disturbances at low frequencies\n",
    "- The passive feedback has no effect at zero frequency but has a phase advance effect at high frequencies thus improving phase margin and thence stability.\n",
    "- even long reaction chains, which would be destabilised by the active feedback alone, are stabilised by the passive feedback."
   ]
  },
  {
   "cell_type": "markdown",
   "metadata": {},
   "source": [
    "## Compare linear and non-linear responses"
   ]
  },
  {
   "cell_type": "code",
   "execution_count": 17,
   "metadata": {},
   "outputs": [
    {
     "data": {
      "text/plain": [
       "Text(0.5,1,'Linear and normalised non-linear step responses')"
      ]
     },
     "execution_count": 17,
     "metadata": {},
     "output_type": "execute_result"
    },
    {
     "data": {
      "text/plain": [
       "[<matplotlib.lines.Line2D at 0x7fe1342176d8>]"
      ]
     },
     "execution_count": 17,
     "metadata": {},
     "output_type": "execute_result"
    },
    {
     "data": {
      "text/plain": [
       "[<matplotlib.lines.Line2D at 0x7fe1341647f0>,\n",
       " <matplotlib.lines.Line2D at 0x7fe134164978>]"
      ]
     },
     "execution_count": 17,
     "metadata": {},
     "output_type": "execute_result"
    },
    {
     "data": {
      "text/plain": [
       "Text(0.5,0,'$t$')"
      ]
     },
     "execution_count": 17,
     "metadata": {},
     "output_type": "execute_result"
    },
    {
     "data": {
      "text/plain": [
       "Text(0,0.5,'x_P/amp')"
      ]
     },
     "execution_count": 17,
     "metadata": {},
     "output_type": "execute_result"
    },
    {
     "data": {
      "text/plain": [
       "<matplotlib.legend.Legend at 0x7fe149ecf4e0>"
      ]
     },
     "execution_count": 17,
     "metadata": {},
     "output_type": "execute_result"
    },
    {
     "data": {
      "image/png": "[encoded data removed]",
      "text/plain": [
       "<Figure size 432x288 with 1 Axes>"
      ]
     },
     "metadata": {},
     "output_type": "display_data"
    }
   ],
   "source": [
    "t_max = int(11)\n",
    "t = np.linspace(0,t_max,1000)\n",
    "t_0 = 1\n",
    "\n",
    "\n",
    "AMP = [0.1,1]\n",
    "Legend = ['Linear']\n",
    "for amp in AMP:\n",
    "    ## Chemostat\n",
    "    x_B0 = x_ss[s['species'].index('B0')]\n",
    "    x_chemo = '{0}*(1+{2}*np.heaviside(t-{1},1))'.format(str(x_B0),str(t_0),str(amp))\n",
    "    x_chemo_lin = '{0}*(np.heaviside(t-{1},1))'.format(str(x_B0),str(t_0))\n",
    "    X_chemo = {'B0':x_chemo}\n",
    "    X_chemo_lin = {'B0':x_chemo}\n",
    "\n",
    "    ## Non linear simulation (from steady state)\n",
    "    ndat = st.sim(s,sc=sc,t=t,parameter=parameter,X0=x_ss,X_chemo=X_chemo,quiet=quiet)\n",
    "    i_P = s['species'].index('P')\n",
    "    x_P = ndat['X'][:,i_P] - x_ss[i_P]\n",
    "    if amp is AMP[0]:\n",
    "        X_P = x_P/amp\n",
    "    else:\n",
    "        X_P = np.vstack((X_P,x_P/amp))\n",
    "    Legend.append('non-linear, amp = '+str(amp))\n",
    "                     \n",
    "##Plot\n",
    "plt.title('Linear and normalised non-linear step responses')\n",
    "plt.plot(t_CL,y_CL,linewidth=4,linestyle='--')\n",
    "plt.plot(t-t_0,X_P.T)\n",
    "plt.xlabel('$t$')\n",
    "plt.ylabel('x_P/amp')\n",
    "plt.legend(Legend)\n",
    "plt.grid()\n",
    "plt.show()"
   ]
  },
  {
   "cell_type": "markdown",
   "metadata": {},
   "source": [
    "### Discussion\n",
    "\n",
    "The full non-linear simulation verifies that a disturbance step change of \n",
    "\n",
    "- 0.1 gives a close fit\n",
    "\n",
    "- 1.0 gives a reasonable fit."
   ]
  },
  {
   "cell_type": "code",
   "execution_count": null,
   "metadata": {},
   "outputs": [],
   "source": []
  }
 ],
 "metadata": {
  "kernelspec": {
   "display_name": "Python 3",
   "language": "python",
   "name": "python3"
  },
  "language_info": {
   "codemirror_mode": {
    "name": "ipython",
    "version": 3
   },
   "file_extension": ".py",
   "mimetype": "text/x-python",
   "name": "python",
   "nbconvert_exporter": "python",
   "pygments_lexer": "ipython3",
   "version": "3.6.9"
  },
  "toc": {
   "base_numbering": 1,
   "nav_menu": {},
   "number_sections": true,
   "sideBar": true,
   "skip_h1_title": false,
   "title_cell": "Table of Contents",
   "title_sidebar": "Contents",
   "toc_cell": false,
   "toc_position": {},
   "toc_section_display": true,
   "toc_window_display": false
  }
 },
 "nbformat": 4,
 "nbformat_minor": 2
}
