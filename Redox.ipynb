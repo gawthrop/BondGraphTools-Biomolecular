{
 "cells": [
  {
   "cell_type": "markdown",
   "metadata": {},
   "source": [
    "***Note: The example is discussed in detail by <cite data-cite=\"GawPan20X\">(Gawthrop and Pan, 2020)</cite> available [here](https://arxiv.org/abs/2009.02217) and should be read in conjunction.***"
   ]
  },
  {
   "cell_type": "markdown",
   "metadata": {},
   "source": [
    "***Note: this is the Redox.ipynb notebook. The\n",
    "PDF version \"Redox Reactions and Proton Pumps\"\n",
    "is available [here](Redox.pdf).***\n",
    "\n"
   ]
  },
  {
   "cell_type": "markdown",
   "metadata": {},
   "source": [
    "# Introduction\n",
    "Redox reactions and proton pumps play a fundamental role in Biology. This note illustrates this using a bond graph model of complex I of the mitochondrial electron transport chain.\n"
   ]
  },
  {
   "cell_type": "code",
   "execution_count": 1,
   "metadata": {
    "scrolled": true
   },
   "outputs": [
    {
     "name": "stderr",
     "output_type": "stream",
     "text": [
      "In /home/peterg/.local/lib/python3.6/site-packages/matplotlib/mpl-data/stylelib/_classic_test.mplstyle: \n",
      "The text.latex.unicode rcparam was deprecated in Matplotlib 3.0 and will be removed in 3.2.\n",
      "In /home/peterg/.local/lib/python3.6/site-packages/matplotlib/mpl-data/stylelib/_classic_test.mplstyle: \n",
      "The savefig.frameon rcparam was deprecated in Matplotlib 3.1 and will be removed in 3.3.\n",
      "In /home/peterg/.local/lib/python3.6/site-packages/matplotlib/mpl-data/stylelib/_classic_test.mplstyle: \n",
      "The pgf.debug rcparam was deprecated in Matplotlib 3.0 and will be removed in 3.2.\n",
      "In /home/peterg/.local/lib/python3.6/site-packages/matplotlib/mpl-data/stylelib/_classic_test.mplstyle: \n",
      "The verbose.level rcparam was deprecated in Matplotlib 3.1 and will be removed in 3.3.\n",
      "In /home/peterg/.local/lib/python3.6/site-packages/matplotlib/mpl-data/stylelib/_classic_test.mplstyle: \n",
      "The verbose.fileo rcparam was deprecated in Matplotlib 3.1 and will be removed in 3.3.\n"
     ]
    }
   ],
   "source": [
    "## Some useful imports\n",
    "import BondGraphTools as bgt\n",
    "import numpy as np\n",
    "import sympy as sp\n",
    "import matplotlib.pyplot as plt\n",
    "\n",
    "## Stoichiometric analysis\n",
    "import stoich as st\n",
    "\n",
    "## SVG\n",
    "import svgBondGraph as sbg\n",
    "\n",
    "## Display (eg disp.SVG(), disp.\n",
    "import IPython.display as disp\n",
    "\n",
    "## Potential data\n",
    "import phiData\n",
    "\n",
    "quiet = True\n"
   ]
  },
  {
   "cell_type": "markdown",
   "metadata": {},
   "source": [
    "# Redox reaction\n",
    "A key energy-generating redox reaction that within the mitochondrial respiratory chain is\n",
    "\\begin{equation}\\label{eq:NAD}\n",
    "\\ch{NADH + Q + H+ <>[ r ] NAD+ +  QH2 }\n",
    "\\end{equation}\n",
    "This reaction can be divided into the half reactions:\n",
    "\\begin{align}\n",
    "\\ch{NADH &<>[ r1 ] 2 e1- + H+ + NAD+ }\\label{eq:NAD_1}\\\\\n",
    "\\ch{2 e2- + 2 H+ + Q &<>[ r2 ] QH2}\\label{eq:NAD_2}\n",
    "\\end{align}\n",
    "A bond graph representation of this decomposition is given  below."
   ]
  },
  {
   "cell_type": "markdown",
   "metadata": {},
   "source": [
    "## Bond graph\n",
    "C:E1 and C:E2 represent the electron potentials and the other The C components represent the species; the two Re components the two half reactions. "
   ]
  },
  {
   "cell_type": "code",
   "execution_count": 2,
   "metadata": {
    "scrolled": true
   },
   "outputs": [
    {
     "data": {
      "image/svg+xml": [
       "<svg height=\"300pt\" viewBox=\"213 1338 11724 4749\" width=\"739pt\" xmlns=\"http://www.w3.org/2000/svg\" xmlns:xlink=\"http://www.w3.org/1999/xlink\">\n",
       "<g fill=\"none\">\n",
       "<!-- Line -->\n",
       "<rect height=\"2250\" rx=\"105\" stroke=\"#ff0000\" stroke-dasharray=\"60 60\" stroke-width=\"15px\" width=\"2475\" x=\"4725\" y=\"1575\"/>\n",
       "<!-- Line -->\n",
       "<rect height=\"4725\" rx=\"105\" stroke=\"#ffd600\" stroke-width=\"8px\" width=\"11700\" x=\"225\" y=\"1350\"/>\n",
       "<!-- Text -->\n",
       "<text fill=\"#000000\" font-family=\"Helvetica\" font-size=\"216\" font-style=\"normal\" font-weight=\"bold\" text-anchor=\"middle\" x=\"2475\" xml:space=\"preserve\" y=\"3240\">Re:r1</text>\n",
       "<!-- Text -->\n",
       "<text fill=\"#000000\" font-family=\"Helvetica\" font-size=\"216\" font-style=\"normal\" font-weight=\"bold\" text-anchor=\"middle\" x=\"900\" xml:space=\"preserve\" y=\"3240\">1</text>\n",
       "<!-- Text -->\n",
       "<text fill=\"#000000\" font-family=\"Helvetica\" font-size=\"216\" font-style=\"normal\" font-weight=\"bold\" text-anchor=\"middle\" x=\"4050\" xml:space=\"preserve\" y=\"3240\">1</text>\n",
       "<!-- Text -->\n",
       "<text fill=\"#000000\" font-family=\"Helvetica\" font-size=\"216\" font-style=\"normal\" font-weight=\"bold\" text-anchor=\"middle\" x=\"5400\" xml:space=\"preserve\" y=\"3240\">0</text>\n",
       "<!-- Text -->\n",
       "<text fill=\"#000000\" font-family=\"Helvetica\" font-size=\"216\" font-style=\"normal\" font-weight=\"bold\" text-anchor=\"middle\" x=\"4050\" xml:space=\"preserve\" y=\"4590\">0</text>\n",
       "<!-- Text -->\n",
       "<text fill=\"#000000\" font-family=\"Helvetica\" font-size=\"216\" font-style=\"normal\" font-weight=\"bold\" text-anchor=\"middle\" x=\"4050\" xml:space=\"preserve\" y=\"5940\">C:H</text>\n",
       "<!-- Text -->\n",
       "<text fill=\"#000000\" font-family=\"Helvetica\" font-size=\"216\" font-style=\"normal\" font-weight=\"bold\" text-anchor=\"middle\" x=\"6750\" xml:space=\"preserve\" y=\"3240\">0</text>\n",
       "<!-- Text -->\n",
       "<text fill=\"#000000\" font-family=\"Helvetica\" font-size=\"216\" font-style=\"normal\" font-weight=\"bold\" text-anchor=\"middle\" x=\"8100\" xml:space=\"preserve\" y=\"3240\">1</text>\n",
       "<!-- Text -->\n",
       "<text fill=\"#000000\" font-family=\"Helvetica\" font-size=\"216\" font-style=\"normal\" font-weight=\"bold\" text-anchor=\"middle\" x=\"9675\" xml:space=\"preserve\" y=\"3240\">Re:r2</text>\n",
       "<!-- Text -->\n",
       "<text fill=\"#000000\" font-family=\"Helvetica\" font-size=\"216\" font-style=\"normal\" font-weight=\"bold\" text-anchor=\"middle\" x=\"11250\" xml:space=\"preserve\" y=\"3240\">1</text>\n",
       "<!-- Text -->\n",
       "<text fill=\"#000000\" font-family=\"Helvetica\" font-size=\"216\" font-style=\"normal\" font-weight=\"bold\" text-anchor=\"middle\" x=\"8100\" xml:space=\"preserve\" y=\"4590\">0</text>\n",
       "<!-- Text -->\n",
       "<text fill=\"#000000\" font-family=\"Helvetica\" font-size=\"216\" font-style=\"normal\" font-weight=\"bold\" text-anchor=\"middle\" x=\"900\" xml:space=\"preserve\" y=\"1890\">C:NADH</text>\n",
       "<!-- Text -->\n",
       "<text fill=\"#000000\" font-family=\"Helvetica\" font-size=\"216\" font-style=\"normal\" font-weight=\"bold\" text-anchor=\"middle\" x=\"4050\" xml:space=\"preserve\" y=\"1890\">C:NAD</text>\n",
       "<!-- Text -->\n",
       "<text fill=\"#000000\" font-family=\"Helvetica\" font-size=\"216\" font-style=\"normal\" font-weight=\"bold\" text-anchor=\"middle\" x=\"5400\" xml:space=\"preserve\" y=\"1890\">C:E1</text>\n",
       "<!-- Text -->\n",
       "<text fill=\"#000000\" font-family=\"Helvetica\" font-size=\"216\" font-style=\"normal\" font-weight=\"bold\" text-anchor=\"middle\" x=\"6750\" xml:space=\"preserve\" y=\"1890\">C:E2</text>\n",
       "<!-- Text -->\n",
       "<text fill=\"#000000\" font-family=\"Helvetica\" font-size=\"216\" font-style=\"normal\" font-weight=\"bold\" text-anchor=\"middle\" x=\"8100\" xml:space=\"preserve\" y=\"1890\">C:Q</text>\n",
       "<!-- Text -->\n",
       "<text fill=\"#000000\" font-family=\"Helvetica\" font-size=\"216\" font-style=\"normal\" font-weight=\"bold\" text-anchor=\"middle\" x=\"11250\" xml:space=\"preserve\" y=\"1890\">C:QH2</text>\n",
       "<!-- Line -->\n",
       "<polyline points=\" 2925,3150 3825,3150 3600,3375\" stroke=\"#000000\" stroke-width=\"15px\"/>\n",
       "<!-- Line -->\n",
       "<polyline points=\" 4050,3375 4050,4275 4275,4050\" stroke=\"#000000\" stroke-width=\"15px\"/>\n",
       "<!-- Line -->\n",
       "<polyline points=\" 900,2025 900,2925 1125,2700\" stroke=\"#000000\" stroke-width=\"15px\"/>\n",
       "<!-- Line -->\n",
       "<polyline points=\" 1125,3150 2025,3150 1800,3375\" stroke=\"#000000\" stroke-width=\"15px\"/>\n",
       "<!-- Line -->\n",
       "<polyline points=\" 4050,2925 4050,2025 4275,2250\" stroke=\"#000000\" stroke-width=\"15px\"/>\n",
       "<!-- Line -->\n",
       "<polyline points=\" 4275,3060 5175,3060 4950,3285\" stroke=\"#000000\" stroke-width=\"15px\"/>\n",
       "<!-- Line -->\n",
       "<polyline points=\" 4275,3240 5175,3240 4950,3465\" stroke=\"#000000\" stroke-width=\"15px\"/>\n",
       "<!-- Line -->\n",
       "<polyline points=\" 4050,4725 4050,5625 4275,5400\" stroke=\"#000000\" stroke-width=\"15px\"/>\n",
       "<!-- Line -->\n",
       "<polyline points=\" 5400,2925 5400,2025 5625,2250\" stroke=\"#000000\" stroke-width=\"15px\"/>\n",
       "<!-- Line -->\n",
       "<polyline points=\" 4275,4500 7875,4500 7650,4725\" stroke=\"#000000\" stroke-width=\"15px\"/>\n",
       "<!-- Line -->\n",
       "<polyline points=\" 8325,3150 9225,3150 9000,3375\" stroke=\"#000000\" stroke-width=\"15px\"/>\n",
       "<!-- Line -->\n",
       "<polyline points=\" 10125,3150 11025,3150 10800,3375\" stroke=\"#000000\" stroke-width=\"15px\"/>\n",
       "<!-- Line -->\n",
       "<polyline points=\" 8100,2025 8100,2925 8325,2700\" stroke=\"#000000\" stroke-width=\"15px\"/>\n",
       "<!-- Line -->\n",
       "<polyline points=\" 11250,2925 11250,2025 11475,2250\" stroke=\"#000000\" stroke-width=\"15px\"/>\n",
       "<!-- Line -->\n",
       "<polyline points=\" 8010,4275 8010,3375 8235,3600\" stroke=\"#000000\" stroke-width=\"15px\"/>\n",
       "<!-- Line -->\n",
       "<polyline points=\" 8190,4275 8190,3375 8415,3600\" stroke=\"#000000\" stroke-width=\"15px\"/>\n",
       "<!-- Line -->\n",
       "<polyline points=\" 6975,3060 7875,3060 7650,3285\" stroke=\"#000000\" stroke-width=\"15px\"/>\n",
       "<!-- Line -->\n",
       "<polyline points=\" 6975,3240 7875,3240 7650,3465\" stroke=\"#000000\" stroke-width=\"15px\"/>\n",
       "<!-- Line -->\n",
       "<polyline points=\" 6750,2025 6750,2925 6975,2700\" stroke=\"#000000\" stroke-width=\"15px\"/>\n",
       "</g>\n",
       "</svg>"
      ],
      "text/plain": [
       "<IPython.core.display.SVG object>"
      ]
     },
     "execution_count": 2,
     "metadata": {},
     "output_type": "execute_result"
    }
   ],
   "source": [
    "## Redox reaction\n",
    "sbg.model('Redox_abg.svg')\n",
    "import Redox_abg\n",
    "disp.SVG('Redox_abg.svg')"
   ]
  },
  {
   "cell_type": "markdown",
   "metadata": {},
   "source": [
    "## Stoichiometry"
   ]
  },
  {
   "cell_type": "code",
   "execution_count": 3,
   "metadata": {},
   "outputs": [],
   "source": [
    "## Stoichiometry\n",
    "linear = ['E1','E2']\n",
    "s = st.stoich(Redox_abg.model(),linear=linear,quiet=quiet)\n",
    "chemostats = ['NADH','NAD','Q','QH2','H']\n",
    "sc = st.statify(s,chemostats=chemostats)\n"
   ]
  },
  {
   "cell_type": "code",
   "execution_count": 4,
   "metadata": {
    "scrolled": true
   },
   "outputs": [
    {
     "data": {
      "text/latex": [
       "\\begin{align}\n",
       "N &=\n",
       "\\left(\\begin{matrix}2 & 0\\\\0 & -2\\\\1 & -2\\\\1 & 0\\\\-1 & 0\\\\0 & -1\\\\0 & 1\\end{matrix}\\right)\n",
       "\\end{align}\n"
      ],
      "text/plain": [
       "<IPython.core.display.Latex object>"
      ]
     },
     "execution_count": 4,
     "metadata": {},
     "output_type": "execute_result"
    }
   ],
   "source": [
    "## Stoichiometric matrix\n",
    "disp.Latex(st.sprintl(s,'N'))"
   ]
  },
  {
   "cell_type": "markdown",
   "metadata": {},
   "source": [
    "## Reactions\n",
    "These are automatically generated from the bond graph"
   ]
  },
  {
   "cell_type": "code",
   "execution_count": 5,
   "metadata": {
    "scrolled": false
   },
   "outputs": [
    {
     "data": {
      "text/latex": [
       "\\begin{align}\n",
       "\\ch{NADH &<>[ r1 ] 2 E1 + H + NAD }\\\\\n",
       "\\ch{2 E2 + 2 H + Q &<>[ r2 ] QH2 }\n",
       "\\end{align}\n"
      ],
      "text/plain": [
       "<IPython.core.display.Latex object>"
      ]
     },
     "execution_count": 5,
     "metadata": {},
     "output_type": "execute_result"
    }
   ],
   "source": [
    "## Reactions\n",
    "disp.Latex(st.sprintrl(s,chemformula=True,all=True))"
   ]
  },
  {
   "cell_type": "markdown",
   "metadata": {},
   "source": [
    "## Potentials\n",
    "The reaction (Faraday Equivalent) potentials are computed from tables gleaned from the literature"
   ]
  },
  {
   "cell_type": "code",
   "execution_count": 6,
   "metadata": {
    "scrolled": true
   },
   "outputs": [
    {
     "name": "stdout",
     "output_type": "stream",
     "text": [
      "%% Table\n",
      "\\ch{NAD} & 188 & 5.02e-04 & -15\\\\\n",
      "\\ch{NADH} & 407 & 7.50e-05 & 154\\\\\n",
      "\\ch{Q} & 675 & 1.00e-02 & 552\\\\\n",
      "\\ch{QH2} & -241 & 1.00e-02 & -365\\\\\n",
      "\\ch{H} & 0 & 1.00e-07 & -431\\\\\n",
      "\n",
      "%% Equations\n",
      "E1 = 0.5(154 - -15 - -431) = 300 mV\n",
      "E2 = 0.5(-365 - 552 - 2x-431) = -28 mV\n",
      "E1-E2 = 328 mV\n",
      "PMF = 164 mV\n"
     ]
    }
   ],
   "source": [
    "## Standard potetials\n",
    "phi_Std = phiData.phi_Std()\n",
    "\n",
    "## Typical concentrations\n",
    "conc = phiData.ParRubXu16_conc()\n",
    "\n",
    "## From BazBeaVin16\n",
    "conc['Q'] = conc['QH2'] = 1e-2\n",
    "\n",
    "## pH 7\n",
    "conc['H'] = 1e-7\n",
    "\n",
    "## Table for paper and put values in to phi_NADH etc.\n",
    "print('%% Table')\n",
    "ch='\\ch'\n",
    "l='{'\n",
    "r='}'\n",
    "eol = r'\\\\'\n",
    "phi_std = {}\n",
    "for spec in ['NAD','NADH','Q','QH2','H']:\n",
    "    phi0 = phi_Std[spec]\n",
    "    con = conc[spec]\n",
    "    phi_std_spec = phi0 + st.V_N()*np.log(con)\n",
    "    phi_std[spec] = phi_std_spec\n",
    "    #print(f'phi_Std_{spec} = {1000*phi0:0.0f}, phi_{spec} = {1000*phi_std[spec]:.0f}, conc_{spec}={conc[spec]}')\n",
    "    print(f'{ch}{l}{spec}{r} & {1000*phi0:.0f} & {con:1.2e} & {1000*phi_std_spec:.0f}{eol}')\n",
    "    exec(f'phi_{spec} = {phi_std_spec}')\n",
    "  \n",
    "\n",
    "## Print the worked example for the paper.\n",
    "print('\\n%% Equations')\n",
    "E1 = 0.5*(phi_NADH - phi_NAD - phi_H)\n",
    "E2 = 0.5*(phi_QH2 - phi_Q - 2*phi_H)\n",
    "print(f'E1 = 0.5({1000*phi_NADH:.0f} - {1000*phi_NAD:.0f} - {1000*phi_H:.0f}) = {1000*E1:.0f} mV')\n",
    "print(f'E2 = 0.5({1000*phi_QH2:.0f} - {1000*phi_Q:.0f} - 2x{1000*phi_H:.0f}) = {1000*E2:.0f} mV')\n",
    "print(f'E1-E2 = {1000*(E1-E2):.0f} mV')\n",
    "print(f'PMF = {1000*(E1-E2)/2:.0f} mV')"
   ]
  },
  {
   "cell_type": "markdown",
   "metadata": {},
   "source": [
    "\n",
    "# Proton pump\n",
    "The redox reaction of complex I drives a proton pump."
   ]
  },
  {
   "cell_type": "markdown",
   "metadata": {},
   "source": [
    "## Bond graph\n",
    "C:E1 and C:E2 correspond to the redox reaction and provide the potential to drive protons in the interior $H^+_i$ to the exterior $H^+_e$ of the mitochondrial membrane. The protons have both electrical and chemoical potential."
   ]
  },
  {
   "cell_type": "code",
   "execution_count": 7,
   "metadata": {
    "scrolled": false
   },
   "outputs": [
    {
     "data": {
      "image/svg+xml": [
       "<svg height=\"542pt\" viewBox=\"1553 -472 4094 8594\" width=\"258pt\" xmlns=\"http://www.w3.org/2000/svg\" xmlns:xlink=\"http://www.w3.org/1999/xlink\">\n",
       "<g fill=\"none\">\n",
       "<!-- Line -->\n",
       "<rect height=\"8550\" rx=\"105\" stroke=\"#ffd600\" stroke-width=\"15px\" width=\"4050\" x=\"1575\" y=\"-450\"/>\n",
       "<!-- Text -->\n",
       "<text fill=\"#0000ff\" font-family=\"Times\" font-size=\"240\" font-style=\"italic\" font-weight=\"bold\" text-anchor=\"middle\" x=\"2250\" xml:space=\"preserve\" y=\"675\">Chemical</text>\n",
       "<!-- Text -->\n",
       "<text fill=\"#0000ff\" font-family=\"Times\" font-size=\"240\" font-style=\"italic\" font-weight=\"bold\" text-anchor=\"middle\" x=\"4950\" xml:space=\"preserve\" y=\"675\">Electrical</text>\n",
       "<!-- Text -->\n",
       "<text fill=\"#0000ff\" font-family=\"Times\" font-size=\"240\" font-style=\"italic\" font-weight=\"bold\" text-anchor=\"middle\" x=\"4725\" xml:space=\"preserve\" y=\"3600\">External</text>\n",
       "<!-- Text -->\n",
       "<text fill=\"#0000ff\" font-family=\"Times\" font-size=\"240\" font-style=\"italic\" font-weight=\"bold\" text-anchor=\"middle\" x=\"4725\" xml:space=\"preserve\" y=\"4275\">Internal</text>\n",
       "<!-- Text -->\n",
       "<text fill=\"#000000\" font-family=\"Helvetica\" font-size=\"216\" font-style=\"normal\" font-weight=\"bold\" text-anchor=\"middle\" x=\"3600\" xml:space=\"preserve\" y=\"3915\">Re:rp</text>\n",
       "<!-- Text -->\n",
       "<text fill=\"#000000\" font-family=\"Helvetica\" font-size=\"216\" font-style=\"normal\" font-weight=\"bold\" text-anchor=\"middle\" x=\"3600\" xml:space=\"preserve\" y=\"2595\">1</text>\n",
       "<!-- Text -->\n",
       "<text fill=\"#000000\" font-family=\"Helvetica\" font-size=\"216\" font-style=\"normal\" font-weight=\"bold\" text-anchor=\"middle\" x=\"2250\" xml:space=\"preserve\" y=\"2595\">0</text>\n",
       "<!-- Text -->\n",
       "<text fill=\"#000000\" font-family=\"Helvetica\" font-size=\"216\" font-style=\"normal\" font-weight=\"bold\" text-anchor=\"middle\" x=\"4950\" xml:space=\"preserve\" y=\"2595\">0</text>\n",
       "<!-- Text -->\n",
       "<text fill=\"#000000\" font-family=\"Helvetica\" font-size=\"216\" font-style=\"normal\" font-weight=\"bold\" text-anchor=\"middle\" x=\"3600\" xml:space=\"preserve\" y=\"5265\">1</text>\n",
       "<!-- Text -->\n",
       "<text fill=\"#000000\" font-family=\"Helvetica\" font-size=\"216\" font-style=\"normal\" font-weight=\"bold\" text-anchor=\"middle\" x=\"2250\" xml:space=\"preserve\" y=\"5265\">0</text>\n",
       "<!-- Text -->\n",
       "<text fill=\"#000000\" font-family=\"Helvetica\" font-size=\"216\" font-style=\"normal\" font-weight=\"bold\" text-anchor=\"middle\" x=\"4950\" xml:space=\"preserve\" y=\"5265\">0</text>\n",
       "<!-- Text -->\n",
       "<text fill=\"#000000\" font-family=\"Helvetica\" font-size=\"216\" font-style=\"normal\" font-weight=\"bold\" text-anchor=\"middle\" x=\"3600\" xml:space=\"preserve\" y=\"6615\">0</text>\n",
       "<!-- Text -->\n",
       "<text fill=\"#000000\" font-family=\"Helvetica\" font-size=\"216\" font-style=\"normal\" font-weight=\"bold\" text-anchor=\"middle\" x=\"3600\" xml:space=\"preserve\" y=\"7965\">C:E1</text>\n",
       "<!-- Text -->\n",
       "<text fill=\"#000000\" font-family=\"Helvetica\" font-size=\"216\" font-style=\"normal\" font-weight=\"bold\" text-anchor=\"middle\" x=\"3600\" xml:space=\"preserve\" y=\"1215\">0</text>\n",
       "<!-- Text -->\n",
       "<text fill=\"#000000\" font-family=\"Helvetica\" font-size=\"216\" font-style=\"normal\" font-weight=\"bold\" text-anchor=\"middle\" x=\"3600\" xml:space=\"preserve\" y=\"-135\">C:E2</text>\n",
       "<!-- Text -->\n",
       "<text fill=\"#000000\" font-family=\"Helvetica\" font-size=\"216\" font-style=\"normal\" font-weight=\"bold\" text-anchor=\"middle\" x=\"2250\" xml:space=\"preserve\" y=\"1200\">C:He</text>\n",
       "<!-- Text -->\n",
       "<text fill=\"#000000\" font-family=\"Helvetica\" font-size=\"216\" font-style=\"normal\" font-weight=\"bold\" text-anchor=\"middle\" x=\"2250\" xml:space=\"preserve\" y=\"6615\">C:Hi</text>\n",
       "<!-- Text -->\n",
       "<text fill=\"#000000\" font-family=\"Helvetica\" font-size=\"216\" font-style=\"normal\" font-weight=\"bold\" text-anchor=\"middle\" x=\"4950\" xml:space=\"preserve\" y=\"6600\">C:Ei</text>\n",
       "<!-- Text -->\n",
       "<text fill=\"#000000\" font-family=\"Helvetica\" font-size=\"216\" font-style=\"normal\" font-weight=\"bold\" text-anchor=\"middle\" x=\"4950\" xml:space=\"preserve\" y=\"1200\">C:Ee</text>\n",
       "<!-- Line -->\n",
       "<polyline points=\" 1575,3825 3150,3825\" stroke=\"#0000ff\" stroke-dasharray=\"40 40\" stroke-width=\"8px\"/>\n",
       "<!-- Line -->\n",
       "<polyline points=\" 4050,3825 5625,3825\" stroke=\"#0000ff\" stroke-dasharray=\"40 40\" stroke-width=\"8px\"/>\n",
       "<!-- Line -->\n",
       "<polyline points=\" 3600,3600 3600,2700 3825,2925\" stroke=\"#000000\" stroke-width=\"15px\"/>\n",
       "<!-- Line -->\n",
       "<polyline points=\" 2250,2250 2250,1350 2475,1575\" stroke=\"#000000\" stroke-width=\"15px\"/>\n",
       "<!-- Line -->\n",
       "<polyline points=\" 2475,5175 3375,5175 3150,5400\" stroke=\"#000000\" stroke-width=\"15px\"/>\n",
       "<!-- Line -->\n",
       "<polyline points=\" 2250,5400 2250,6300 2475,6075\" stroke=\"#000000\" stroke-width=\"15px\"/>\n",
       "<!-- Line -->\n",
       "<polyline points=\" 3375,2475 2475,2475 2700,2700\" stroke=\"#000000\" stroke-width=\"15px\"/>\n",
       "<!-- Line -->\n",
       "<polyline points=\" 4950,5400 4950,6300 5175,6075\" stroke=\"#000000\" stroke-width=\"15px\"/>\n",
       "<!-- Line -->\n",
       "<polyline points=\" 4950,2250 4950,1350 5175,1575\" stroke=\"#000000\" stroke-width=\"15px\"/>\n",
       "<!-- Line -->\n",
       "<polyline points=\" 4725,5175 3825,5175 4050,5400\" stroke=\"#000000\" stroke-width=\"15px\"/>\n",
       "<!-- Line -->\n",
       "<polyline points=\" 3825,2475 4725,2475 4500,2700\" stroke=\"#000000\" stroke-width=\"15px\"/>\n",
       "<!-- Line -->\n",
       "<polyline points=\" 3375,2250 2475,2250 2700,2475\" stroke=\"#000000\" stroke-width=\"15px\"/>\n",
       "<!-- Line -->\n",
       "<polyline points=\" 3825,2250 4725,2250 4500,2475\" stroke=\"#000000\" stroke-width=\"15px\"/>\n",
       "<!-- Line -->\n",
       "<polyline points=\" 4725,5400 3825,5400 4050,5625\" stroke=\"#000000\" stroke-width=\"15px\"/>\n",
       "<!-- Line -->\n",
       "<polyline points=\" 2475,5400 3375,5400 3150,5625\" stroke=\"#000000\" stroke-width=\"15px\"/>\n",
       "<!-- Line -->\n",
       "<polyline points=\" 3600,4950 3600,4050 3825,4275\" stroke=\"#000000\" stroke-width=\"15px\"/>\n",
       "<!-- Line -->\n",
       "<polyline points=\" 3600,6300 3600,5400 3825,5625\" stroke=\"#000000\" stroke-width=\"15px\"/>\n",
       "<!-- Line -->\n",
       "<polyline points=\" 3600,2250 3600,1350 3825,1575\" stroke=\"#000000\" stroke-width=\"15px\"/>\n",
       "<!-- Line -->\n",
       "<polyline points=\" 3600,6750 3600,7650 3825,7425\" stroke=\"#000000\" stroke-width=\"15px\"/>\n",
       "<!-- Line -->\n",
       "<polyline points=\" 3600,900 3600,0 3825,225\" stroke=\"#000000\" stroke-width=\"15px\"/>\n",
       "</g>\n",
       "</svg>"
      ],
      "text/plain": [
       "<IPython.core.display.SVG object>"
      ]
     },
     "execution_count": 7,
     "metadata": {},
     "output_type": "execute_result"
    }
   ],
   "source": [
    "## Proton pump\n",
    "sbg.model('ProtonPump_abg.svg')\n",
    "import ProtonPump_abg\n",
    "disp.SVG('ProtonPump_abg.svg')"
   ]
  },
  {
   "cell_type": "markdown",
   "metadata": {},
   "source": [
    "## Stoichiometry"
   ]
  },
  {
   "cell_type": "code",
   "execution_count": 8,
   "metadata": {},
   "outputs": [],
   "source": [
    "## Stoichiometry\n",
    "linear = ['E1','E2','Ei','Ee']\n",
    "s = st.stoich(ProtonPump_abg.model(),linear=linear,quiet=quiet)\n",
    "chemostats = ['E1','E2','Ei','Ee','Hi','He']\n",
    "sc = st.statify(s,chemostats=chemostats)\n",
    "#print(s['species'])\n",
    "#disp.Latex(st.sprint(s0,'K'))\n",
    "#print(st.sprints(s))"
   ]
  },
  {
   "cell_type": "markdown",
   "metadata": {},
   "source": [
    "## Reactions\n",
    "These are automatically generated from the bond graph"
   ]
  },
  {
   "cell_type": "code",
   "execution_count": 9,
   "metadata": {
    "scrolled": false
   },
   "outputs": [
    {
     "data": {
      "text/latex": [
       "\\begin{align}\n",
       "\\ch{E1 + 2 Ei + 2 Hi &<>[ rp ] E2 + 2 Ee + 2 He }\n",
       "\\end{align}\n"
      ],
      "text/plain": [
       "<IPython.core.display.Latex object>"
      ]
     },
     "execution_count": 9,
     "metadata": {},
     "output_type": "execute_result"
    }
   ],
   "source": [
    "## Reactions\n",
    "disp.Latex(st.sprintrl(s,chemformula=True,all=True))"
   ]
  },
  {
   "cell_type": "code",
   "execution_count": 10,
   "metadata": {},
   "outputs": [
    {
     "data": {
      "text/latex": [
       "\\begin{align}\n",
       "v_{rp} &= \\kappa_{rp} \\left(- K_{He}^{2} x_{He}^{2} e^{\\frac{K_{E2} x_{E2} + 2 K_{Ee} x_{Ee}}{V_{N}}} + K_{Hi}^{2} x_{Hi}^{2} e^{\\frac{K_{E1} x_{E1} + 2 K_{Ei} x_{Ei}}{V_{N}}}\\right)\n",
       "\\end{align}\n"
      ],
      "text/plain": [
       "<IPython.core.display.Latex object>"
      ]
     },
     "execution_count": 10,
     "metadata": {},
     "output_type": "execute_result"
    }
   ],
   "source": [
    "## Flows\n",
    "disp.Latex(st.sprintvl(s))"
   ]
  },
  {
   "cell_type": "markdown",
   "metadata": {},
   "source": [
    "# Complex I\n",
    "The model of mitochondrial complex I comprides tow modules: the redox reaction and the proton pump. "
   ]
  },
  {
   "cell_type": "code",
   "execution_count": 11,
   "metadata": {
    "scrolled": false
   },
   "outputs": [
    {
     "name": "stdout",
     "output_type": "stream",
     "text": [
      "Creating subsystem: ProtonPump:pp\n",
      "Creating subsystem: Redox:rr\n"
     ]
    },
    {
     "data": {
      "image/svg+xml": [
       "<svg height=\"371pt\" viewBox=\"4938 -912 4074 5874\" width=\"257pt\" xmlns=\"http://www.w3.org/2000/svg\" xmlns:xlink=\"http://www.w3.org/1999/xlink\">\n",
       "<g fill=\"none\">\n",
       "<!-- Line -->\n",
       "<rect height=\"5850\" rx=\"105\" stroke=\"#ffd600\" stroke-width=\"8px\" width=\"4050\" x=\"4950\" y=\"-900\"/>\n",
       "<!-- Text -->\n",
       "<text fill=\"#000000\" font-family=\"Helvetica\" font-size=\"216\" font-style=\"normal\" font-weight=\"bold\" text-anchor=\"middle\" x=\"6750\" xml:space=\"preserve\" y=\"-585\">C:E2</text>\n",
       "<!-- Text -->\n",
       "<text fill=\"#000000\" font-family=\"Helvetica\" font-size=\"216\" font-style=\"normal\" font-weight=\"bold\" text-anchor=\"middle\" x=\"6750\" xml:space=\"preserve\" y=\"765\">0</text>\n",
       "<!-- Text -->\n",
       "<text fill=\"#000000\" font-family=\"Helvetica\" font-size=\"216\" font-style=\"normal\" font-weight=\"bold\" text-anchor=\"middle\" x=\"6750\" xml:space=\"preserve\" y=\"3465\">0</text>\n",
       "<!-- Text -->\n",
       "<text fill=\"#000000\" font-family=\"Helvetica\" font-size=\"216\" font-style=\"normal\" font-weight=\"bold\" text-anchor=\"middle\" x=\"6750\" xml:space=\"preserve\" y=\"4815\">C:E1</text>\n",
       "<!-- Text -->\n",
       "<text fill=\"#ff0000\" font-family=\"Helvetica\" font-size=\"168\" font-style=\"normal\" font-weight=\"bold\" text-anchor=\"middle\" x=\"8100\" xml:space=\"preserve\" y=\"2475\">[E1]</text>\n",
       "<!-- Text -->\n",
       "<text fill=\"#ff0000\" font-family=\"Helvetica\" font-size=\"168\" font-style=\"normal\" font-weight=\"bold\" text-anchor=\"middle\" x=\"8100\" xml:space=\"preserve\" y=\"1800\">[E2]</text>\n",
       "<!-- Text -->\n",
       "<text fill=\"#000000\" font-family=\"Helvetica\" font-size=\"216\" font-style=\"normal\" font-weight=\"bold\" text-anchor=\"middle\" x=\"5625\" xml:space=\"preserve\" y=\"2115\">Redox:rr</text>\n",
       "<!-- Text -->\n",
       "<text fill=\"#000000\" font-family=\"Helvetica\" font-size=\"216\" font-style=\"normal\" font-weight=\"bold\" text-anchor=\"middle\" x=\"7875\" xml:space=\"preserve\" y=\"2115\">ProtonPump:pp</text>\n",
       "<!-- Text -->\n",
       "<text fill=\"#ff0000\" font-family=\"Helvetica\" font-size=\"168\" font-style=\"normal\" font-weight=\"bold\" text-anchor=\"middle\" x=\"5400\" xml:space=\"preserve\" y=\"1800\">[E2]</text>\n",
       "<!-- Text -->\n",
       "<text fill=\"#ff0000\" font-family=\"Helvetica\" font-size=\"168\" font-style=\"normal\" font-weight=\"bold\" text-anchor=\"middle\" x=\"5400\" xml:space=\"preserve\" y=\"2475\">[E1]</text>\n",
       "<!-- Line -->\n",
       "<polyline points=\" 6750,450 6750,-450 6975,-225\" stroke=\"#000000\" stroke-width=\"8px\"/>\n",
       "<!-- Line -->\n",
       "<polyline points=\" 6525,900 5625,1800 5850,1800\" stroke=\"#000000\" stroke-width=\"15px\"/>\n",
       "<!-- Line -->\n",
       "<polyline points=\" 6975,1125 6975,900 7875,1800\" stroke=\"#000000\" stroke-width=\"15px\"/>\n",
       "<!-- Line -->\n",
       "<polyline points=\" 5625,2250 6525,3150 6300,3150\" stroke=\"#000000\" stroke-width=\"15px\"/>\n",
       "<!-- Line -->\n",
       "<polyline points=\" 6975,3150 7875,2250 7875,2475\" stroke=\"#000000\" stroke-width=\"15px\"/>\n",
       "<!-- Line -->\n",
       "<polyline points=\" 6750,3600 6750,4500 6975,4275\" stroke=\"#000000\" stroke-width=\"8px\"/>\n",
       "</g>\n",
       "</svg>"
      ],
      "text/plain": [
       "<IPython.core.display.SVG object>"
      ]
     },
     "execution_count": 11,
     "metadata": {},
     "output_type": "execute_result"
    }
   ],
   "source": [
    "## Complex I\n",
    "sbg.model('ComplexI_abg.svg')\n",
    "import ComplexI_abg\n",
    "disp.SVG('ComplexI_abg.svg')"
   ]
  },
  {
   "cell_type": "markdown",
   "metadata": {},
   "source": [
    "## Stoichiometry"
   ]
  },
  {
   "cell_type": "code",
   "execution_count": 12,
   "metadata": {},
   "outputs": [
    {
     "name": "stdout",
     "output_type": "stream",
     "text": [
      "['E1', 'E2', 'pp_Ee', 'pp_Ei', 'pp_He', 'pp_Hi', 'rr_H', 'rr_NAD', 'rr_NADH', 'rr_Q', 'rr_QH2']\n"
     ]
    }
   ],
   "source": [
    "## Stoichiometry\n",
    "linear = ['E1','E2','pp_Ei','pp_Ee']\n",
    "s = st.stoich(ComplexI_abg.model(),linear=linear,quiet=quiet)\n",
    "print(s['species'])\n",
    "chemostats = ['pp_Ee', 'pp_Ei', 'pp_He', 'pp_Hi', 'rr_H', 'rr_NAD', 'rr_NADH', 'rr_Q', 'rr_QH2']\n",
    "sc = st.statify(s,chemostats=chemostats)\n",
    "#print(s['species'])\n",
    "#disp.Latex(st.sprint(s0,'K'))\n",
    "#print(st.sprints(s))"
   ]
  },
  {
   "cell_type": "markdown",
   "metadata": {},
   "source": [
    "## Reactions\n",
    "These are automatically generated from the bond graph"
   ]
  },
  {
   "cell_type": "code",
   "execution_count": 13,
   "metadata": {
    "scrolled": true
   },
   "outputs": [
    {
     "data": {
      "text/latex": [
       "\\begin{align}\n",
       "\\ch{E1 + 2 pp_Ei + 2 pp_Hi &<>[ pp_rp ] E2 + 2 pp_Ee + 2 pp_He }\\\\\n",
       "\\ch{rr_NADH &<>[ rr ] 2 E1 + rr_H + rr_NAD }\\\\\n",
       "\\ch{2 E2 + 2 rr_H + rr_Q &<>[ rr ] rr_QH2 }\n",
       "\\end{align}\n"
      ],
      "text/plain": [
       "<IPython.core.display.Latex object>"
      ]
     },
     "execution_count": 13,
     "metadata": {},
     "output_type": "execute_result"
    }
   ],
   "source": [
    "## Reactions\n",
    "disp.Latex(st.sprintrl(s,chemformula=True,all=True))"
   ]
  },
  {
   "cell_type": "code",
   "execution_count": 14,
   "metadata": {},
   "outputs": [
    {
     "data": {
      "text/latex": [
       "\\begin{align}\n",
       "v_{pp rp} &= \\kappa_{pp rp} \\left(- K_{pp He}^{2} x_{pp He}^{2} e^{\\frac{K_{E2} x_{E2} + 2 K_{pp Ee} x_{pp Ee}}{V_{N}}} + K_{pp Hi}^{2} x_{pp Hi}^{2} e^{\\frac{K_{E1} x_{E1} + 2 K_{pp Ei} x_{pp Ei}}{V_{N}}}\\right)\\\\\n",
       "v_{rr} &= \\kappa_{rr} \\left(- K_{rr H} K_{rr NAD} x_{rr H} x_{rr NAD} e^{\\frac{2 K_{E1} x_{E1}}{V_{N}}} + K_{rr NADH} x_{rr NADH}\\right)\\\\\n",
       "v_{rr} &= \\kappa_{rr} \\left(K_{rr H}^{2} K_{rr Q} x_{rr H}^{2} x_{rr Q} e^{\\frac{2 K_{E2} x_{E2}}{V_{N}}} - K_{rr QH2} x_{rr QH2}\\right)\n",
       "\\end{align}\n"
      ],
      "text/plain": [
       "<IPython.core.display.Latex object>"
      ]
     },
     "execution_count": 14,
     "metadata": {},
     "output_type": "execute_result"
    }
   ],
   "source": [
    "## Flows\n",
    "disp.Latex(st.sprintvl(s))"
   ]
  },
  {
   "cell_type": "code",
   "execution_count": 15,
   "metadata": {
    "scrolled": true
   },
   "outputs": [
    {
     "data": {
      "text/latex": [
       "\\begin{align}\n",
       "\\ch{4 pp_Ei + 4 pp_Hi + 2 rr_H + rr_NADH + rr_Q &<>[ pr1 ] 4 pp_Ee + 4 pp_He + rr_H + rr_NAD + rr_QH2 }\n",
       "\\end{align}\n"
      ],
      "text/plain": [
       "<IPython.core.display.Latex object>"
      ]
     },
     "execution_count": 15,
     "metadata": {},
     "output_type": "execute_result"
    }
   ],
   "source": [
    "## Path\n",
    "sp = st.path(s,sc)\n",
    "## Reactions\n",
    "disp.Latex(st.sprintrl(sp,chemformula=True,all=True))"
   ]
  },
  {
   "cell_type": "markdown",
   "metadata": {},
   "source": [
    "# Superoxide generation and removal (additional material)\n",
    "Superoxide is generated from the electron potential of the redox reaction and free oxygen by the reaction:\n",
    "\\ch{  e- +  O2 <>  O2^{.-} }\n",
    "It is removed by superoxide dismutase in conjunction with glutathione peroxidase. THe bond graph representation of these mechanisms are given below."
   ]
  },
  {
   "cell_type": "markdown",
   "metadata": {},
   "source": [
    "## Superoxide dismutase (MnSOD)"
   ]
  },
  {
   "cell_type": "code",
   "execution_count": 16,
   "metadata": {
    "scrolled": false
   },
   "outputs": [
    {
     "data": {
      "image/svg+xml": [
       "<svg height=\"413pt\" viewBox=\"733 1650 8040 6555\" width=\"507pt\" xmlns=\"http://www.w3.org/2000/svg\" xmlns:xlink=\"http://www.w3.org/1999/xlink\">\n",
       "<g fill=\"none\">\n",
       "<!-- Text -->\n",
       "<text fill=\"#000000\" font-family=\"Helvetica\" font-size=\"216\" font-style=\"normal\" font-weight=\"bold\" text-anchor=\"middle\" x=\"6075\" xml:space=\"preserve\" y=\"5040\">Re:r2</text>\n",
       "<!-- Text -->\n",
       "<text fill=\"#000000\" font-family=\"Helvetica\" font-size=\"216\" font-style=\"normal\" font-weight=\"bold\" text-anchor=\"start\" x=\"7605\" xml:space=\"preserve\" y=\"6615\">C:H2O2</text>\n",
       "<!-- Text -->\n",
       "<text fill=\"#000000\" font-family=\"Helvetica\" font-size=\"216\" font-style=\"normal\" font-weight=\"bold\" text-anchor=\"middle\" x=\"1125\" xml:space=\"preserve\" y=\"3465\">C:O2</text>\n",
       "<!-- Text -->\n",
       "<text fill=\"#000000\" font-family=\"Helvetica\" font-size=\"216\" font-style=\"normal\" font-weight=\"bold\" text-anchor=\"middle\" x=\"2925\" xml:space=\"preserve\" y=\"3465\">1</text>\n",
       "<!-- Text -->\n",
       "<text fill=\"#000000\" font-family=\"Helvetica\" font-size=\"216\" font-style=\"normal\" font-weight=\"bold\" text-anchor=\"middle\" x=\"2925\" xml:space=\"preserve\" y=\"5040\">Re:r1</text>\n",
       "<!-- Text -->\n",
       "<text fill=\"#000000\" font-family=\"Helvetica\" font-size=\"216\" font-style=\"normal\" font-weight=\"bold\" text-anchor=\"middle\" x=\"2925\" xml:space=\"preserve\" y=\"6615\">1</text>\n",
       "<!-- Text -->\n",
       "<text fill=\"#000000\" font-family=\"Helvetica\" font-size=\"216\" font-style=\"normal\" font-weight=\"bold\" text-anchor=\"middle\" x=\"4500\" xml:space=\"preserve\" y=\"6615\">0</text>\n",
       "<!-- Text -->\n",
       "<text fill=\"#000000\" font-family=\"Helvetica\" font-size=\"216\" font-style=\"normal\" font-weight=\"bold\" text-anchor=\"middle\" x=\"4500\" xml:space=\"preserve\" y=\"8190\">C:Mn3</text>\n",
       "<!-- Text -->\n",
       "<text fill=\"#000000\" font-family=\"Helvetica\" font-size=\"216\" font-style=\"normal\" font-weight=\"bold\" text-anchor=\"middle\" x=\"6075\" xml:space=\"preserve\" y=\"6615\">1</text>\n",
       "<!-- Text -->\n",
       "<text fill=\"#000000\" font-family=\"Helvetica\" font-size=\"216\" font-style=\"normal\" font-weight=\"bold\" text-anchor=\"middle\" x=\"4500\" xml:space=\"preserve\" y=\"5040\">0</text>\n",
       "<!-- Text -->\n",
       "<text fill=\"#000000\" font-family=\"Helvetica\" font-size=\"216\" font-style=\"normal\" font-weight=\"bold\" text-anchor=\"middle\" x=\"4500\" xml:space=\"preserve\" y=\"4140\">C:sO2</text>\n",
       "<!-- Text -->\n",
       "<text fill=\"#000000\" font-family=\"Helvetica\" font-size=\"216\" font-style=\"normal\" font-weight=\"bold\" text-anchor=\"middle\" x=\"4500\" xml:space=\"preserve\" y=\"3465\">0</text>\n",
       "<!-- Text -->\n",
       "<text fill=\"#000000\" font-family=\"Helvetica\" font-size=\"216\" font-style=\"normal\" font-weight=\"bold\" text-anchor=\"middle\" x=\"6075\" xml:space=\"preserve\" y=\"3465\">1</text>\n",
       "<!-- Text -->\n",
       "<text fill=\"#000000\" font-family=\"Helvetica\" font-size=\"216\" font-style=\"normal\" font-weight=\"bold\" text-anchor=\"middle\" x=\"7650\" xml:space=\"preserve\" y=\"3465\">0</text>\n",
       "<!-- Text -->\n",
       "<text fill=\"#000000\" font-family=\"Helvetica\" font-size=\"216\" font-style=\"normal\" font-weight=\"bold\" text-anchor=\"middle\" x=\"7650\" xml:space=\"preserve\" y=\"5040\">C:Hx</text>\n",
       "<!-- Text -->\n",
       "<text fill=\"#000000\" font-family=\"Helvetica\" font-size=\"216\" font-style=\"normal\" font-weight=\"bold\" text-anchor=\"middle\" x=\"4500\" xml:space=\"preserve\" y=\"1890\">C:Mn2</text>\n",
       "<!-- Line -->\n",
       "<polyline points=\" 3150,3375 4275,3375 4050,3600\" stroke=\"#000000\" stroke-width=\"15px\"/>\n",
       "<!-- Line -->\n",
       "<polyline points=\" 4725,3375 5850,3375 5625,3600\" stroke=\"#000000\" stroke-width=\"15px\"/>\n",
       "<!-- Line -->\n",
       "<polyline points=\" 2925,4725 2925,3600 3150,3825\" stroke=\"#000000\" stroke-width=\"15px\"/>\n",
       "<!-- Line -->\n",
       "<polyline points=\" 2925,6300 2925,5175 3150,5400\" stroke=\"#000000\" stroke-width=\"15px\"/>\n",
       "<!-- Line -->\n",
       "<polyline points=\" 5850,6525 4725,6525 4950,6750\" stroke=\"#000000\" stroke-width=\"15px\"/>\n",
       "<!-- Line -->\n",
       "<polyline points=\" 4275,6525 3150,6525 3375,6750\" stroke=\"#000000\" stroke-width=\"15px\"/>\n",
       "<!-- Line -->\n",
       "<polyline points=\" 4725,4725 5850,3600 5850,3825\" stroke=\"#000000\" stroke-width=\"15px\"/>\n",
       "<!-- Line -->\n",
       "<polyline points=\" 4275,5175 3150,6300 3375,6300\" stroke=\"#000000\" stroke-width=\"15px\"/>\n",
       "<!-- Line -->\n",
       "<polyline points=\" 4500,4725 4500,4275 4725,4500\" stroke=\"#000000\" stroke-width=\"15px\"/>\n",
       "<!-- Line -->\n",
       "<polyline points=\" 6075,5175 6075,6300 6300,6075\" stroke=\"#000000\" stroke-width=\"15px\"/>\n",
       "<!-- Line -->\n",
       "<polyline points=\" 6075,3600 6075,4725 6300,4500\" stroke=\"#000000\" stroke-width=\"15px\"/>\n",
       "<!-- Line -->\n",
       "<polyline points=\" 7425,3285 6300,3285 6525,3510\" stroke=\"#000000\" stroke-width=\"15px\"/>\n",
       "<!-- Line -->\n",
       "<polyline points=\" 7425,3465 6300,3465 6525,3690\" stroke=\"#000000\" stroke-width=\"15px\"/>\n",
       "<!-- Line -->\n",
       "<polyline points=\" 7650,3600 7650,4725 7875,4500\" stroke=\"#000000\" stroke-width=\"15px\"/>\n",
       "<!-- Line -->\n",
       "<polyline points=\" 6300,6525 7425,6525 7200,6750\" stroke=\"#000000\" stroke-width=\"15px\"/>\n",
       "<!-- Line -->\n",
       "<polyline points=\" 2700,3375 1575,3375 1800,3600\" stroke=\"#000000\" stroke-width=\"15px\"/>\n",
       "<!-- Line -->\n",
       "<polyline points=\" 4500,3150 4500,2025 4725,2250\" stroke=\"#000000\" stroke-width=\"15px\"/>\n",
       "<!-- Line -->\n",
       "<polyline points=\" 4500,6750 4500,7875 4725,7650\" stroke=\"#000000\" stroke-width=\"15px\"/>\n",
       "</g>\n",
       "</svg>"
      ],
      "text/plain": [
       "<IPython.core.display.SVG object>"
      ]
     },
     "execution_count": 16,
     "metadata": {},
     "output_type": "execute_result"
    }
   ],
   "source": [
    "## Complex I\n",
    "sbg.model('MnSOD_abg.svg')\n",
    "import MnSOD_abg\n",
    "disp.SVG('MnSOD_abg.svg')"
   ]
  },
  {
   "cell_type": "code",
   "execution_count": 17,
   "metadata": {},
   "outputs": [],
   "source": [
    "## Stoichiometry\n",
    "s = st.stoich(MnSOD_abg.model(),quiet=quiet)\n",
    "chemostats = ['H2O2', 'Hx', 'O2', 'sO2']\n",
    "sc = st.statify(s,chemostats=chemostats)\n",
    "#disp.Latex(st.sprint(s0,'K'))\n",
    "#print(st.sprints(s))"
   ]
  },
  {
   "cell_type": "code",
   "execution_count": 18,
   "metadata": {
    "scrolled": true
   },
   "outputs": [
    {
     "data": {
      "text/latex": [
       "\\begin{align}\n",
       "\\ch{Mn3 + sO2 &<>[ r1 ] Mn2 + O2 }\\\\\n",
       "\\ch{2 Hx + Mn2 + sO2 &<>[ r2 ] H2O2 + Mn3 }\n",
       "\\end{align}\n"
      ],
      "text/plain": [
       "<IPython.core.display.Latex object>"
      ]
     },
     "execution_count": 18,
     "metadata": {},
     "output_type": "execute_result"
    }
   ],
   "source": [
    "## Reactions\n",
    "disp.Latex(st.sprintrl(s,chemformula=True,all=True))"
   ]
  },
  {
   "cell_type": "code",
   "execution_count": 19,
   "metadata": {},
   "outputs": [
    {
     "data": {
      "text/latex": [
       "\\begin{align}\n",
       "v_{r1} &= \\kappa_{r1} \\left(- K_{Mn2} K_{O2} x_{Mn2} x_{O2} + K_{Mn3} K_{sO2} x_{Mn3} x_{sO2}\\right)\\\\\n",
       "v_{r2} &= \\kappa_{r2} \\left(- K_{H2O2} K_{Mn3} x_{H2O2} x_{Mn3} + K_{Hx}^{2} K_{Mn2} K_{sO2} x_{Hx}^{2} x_{Mn2} x_{sO2}\\right)\n",
       "\\end{align}\n"
      ],
      "text/plain": [
       "<IPython.core.display.Latex object>"
      ]
     },
     "execution_count": 19,
     "metadata": {},
     "output_type": "execute_result"
    }
   ],
   "source": [
    "## Flows\n",
    "disp.Latex(st.sprintvl(s))"
   ]
  },
  {
   "cell_type": "code",
   "execution_count": 20,
   "metadata": {
    "scrolled": true
   },
   "outputs": [
    {
     "data": {
      "text/latex": [
       "\\begin{align}\n",
       "\\ch{2 Hx + 2 sO2 &<>[ pr1 ] H2O2 + O2 }\n",
       "\\end{align}\n"
      ],
      "text/plain": [
       "<IPython.core.display.Latex object>"
      ]
     },
     "execution_count": 20,
     "metadata": {},
     "output_type": "execute_result"
    }
   ],
   "source": [
    "sp = st.path(s,sc)\n",
    "## Reactions\n",
    "disp.Latex(st.sprintrl(sp,chemformula=True,all=False))"
   ]
  },
  {
   "cell_type": "markdown",
   "metadata": {},
   "source": [
    "## Glutathione peroxidase (GPx1)"
   ]
  },
  {
   "cell_type": "code",
   "execution_count": 21,
   "metadata": {
    "scrolled": false
   },
   "outputs": [
    {
     "name": "stdout",
     "output_type": "stream",
     "text": [
      "Converting one-port r1 to two-port\n",
      "Converting one-port r4 to two-port\n",
      "Converting one-port r2 to two-port\n",
      "Converting one-port r3 to two-port\n"
     ]
    },
    {
     "data": {
      "image/svg+xml": [
       "<svg height=\"711pt\" viewBox=\"131 75 9118 11280\" width=\"575pt\" xmlns=\"http://www.w3.org/2000/svg\" xmlns:xlink=\"http://www.w3.org/1999/xlink\">\n",
       "<g fill=\"none\">\n",
       "<!-- Text -->\n",
       "<text fill=\"#000000\" font-family=\"Helvetica\" font-size=\"216\" font-style=\"normal\" font-weight=\"bold\" text-anchor=\"middle\" x=\"4500\" xml:space=\"preserve\" y=\"1890\">1</text>\n",
       "<!-- Text -->\n",
       "<text fill=\"#000000\" font-family=\"Helvetica\" font-size=\"216\" font-style=\"normal\" font-weight=\"bold\" text-anchor=\"middle\" x=\"2925\" xml:space=\"preserve\" y=\"6615\">1</text>\n",
       "<!-- Text -->\n",
       "<text fill=\"#000000\" font-family=\"Helvetica\" font-size=\"216\" font-style=\"normal\" font-weight=\"bold\" text-anchor=\"middle\" x=\"6075\" xml:space=\"preserve\" y=\"6615\">1</text>\n",
       "<!-- Text -->\n",
       "<text fill=\"#000000\" font-family=\"Helvetica\" font-size=\"216\" font-style=\"normal\" font-weight=\"bold\" text-anchor=\"middle\" x=\"4500\" xml:space=\"preserve\" y=\"6615\">0</text>\n",
       "<!-- Text -->\n",
       "<text fill=\"#000000\" font-family=\"Helvetica\" font-size=\"216\" font-style=\"normal\" font-weight=\"bold\" text-anchor=\"middle\" x=\"4500\" xml:space=\"preserve\" y=\"8190\">0</text>\n",
       "<!-- Text -->\n",
       "<text fill=\"#000000\" font-family=\"Helvetica\" font-size=\"216\" font-style=\"normal\" font-weight=\"bold\" text-anchor=\"middle\" x=\"1350\" xml:space=\"preserve\" y=\"8190\">0</text>\n",
       "<!-- Text -->\n",
       "<text fill=\"#000000\" font-family=\"Helvetica\" font-size=\"216\" font-style=\"normal\" font-weight=\"bold\" text-anchor=\"middle\" x=\"4500\" xml:space=\"preserve\" y=\"5040\">Ce:GSSeR</text>\n",
       "<!-- Text -->\n",
       "<text fill=\"#000000\" font-family=\"Helvetica\" font-size=\"216\" font-style=\"normal\" font-weight=\"bold\" text-anchor=\"middle\" x=\"4500\" xml:space=\"preserve\" y=\"3465\">Re:r1</text>\n",
       "<!-- Text -->\n",
       "<text fill=\"#000000\" font-family=\"Helvetica\" font-size=\"216\" font-style=\"normal\" font-weight=\"bold\" text-anchor=\"middle\" x=\"2925\" xml:space=\"preserve\" y=\"8190\">Re:r4</text>\n",
       "<!-- Text -->\n",
       "<text fill=\"#000000\" font-family=\"Helvetica\" font-size=\"216\" font-style=\"normal\" font-weight=\"bold\" text-anchor=\"middle\" x=\"2925\" xml:space=\"preserve\" y=\"9765\">1</text>\n",
       "<!-- Text -->\n",
       "<text fill=\"#000000\" font-family=\"Helvetica\" font-size=\"216\" font-style=\"normal\" font-weight=\"bold\" text-anchor=\"middle\" x=\"4500\" xml:space=\"preserve\" y=\"9765\">Ce:GSH</text>\n",
       "<!-- Text -->\n",
       "<text fill=\"#000000\" font-family=\"Helvetica\" font-size=\"216\" font-style=\"normal\" font-weight=\"bold\" text-anchor=\"middle\" x=\"1350\" xml:space=\"preserve\" y=\"11340\">Ce:NADPH</text>\n",
       "<!-- Text -->\n",
       "<text fill=\"#000000\" font-family=\"Helvetica\" font-size=\"216\" font-style=\"normal\" font-weight=\"bold\" text-anchor=\"middle\" x=\"2925\" xml:space=\"preserve\" y=\"11340\">Ce:H</text>\n",
       "<!-- Text -->\n",
       "<text fill=\"#000000\" font-family=\"Helvetica\" font-size=\"216\" font-style=\"normal\" font-weight=\"bold\" text-anchor=\"middle\" x=\"4275\" xml:space=\"preserve\" y=\"11340\">Ce:NADP</text>\n",
       "<!-- Text -->\n",
       "<text fill=\"#000000\" font-family=\"Helvetica\" font-size=\"216\" font-style=\"normal\" font-weight=\"bold\" text-anchor=\"middle\" x=\"5625\" xml:space=\"preserve\" y=\"4365\">0</text>\n",
       "<!-- Text -->\n",
       "<text fill=\"#000000\" font-family=\"Helvetica\" font-size=\"216\" font-style=\"normal\" font-weight=\"bold\" text-anchor=\"middle\" x=\"2925\" xml:space=\"preserve\" y=\"3465\">0</text>\n",
       "<!-- Text -->\n",
       "<text fill=\"#000000\" font-family=\"Helvetica\" font-size=\"216\" font-style=\"normal\" font-weight=\"bold\" text-anchor=\"middle\" x=\"6075\" xml:space=\"preserve\" y=\"3465\">0</text>\n",
       "<!-- Text -->\n",
       "<text fill=\"#000000\" font-family=\"Helvetica\" font-size=\"216\" font-style=\"normal\" font-weight=\"bold\" text-anchor=\"end\" x=\"1485\" xml:space=\"preserve\" y=\"3465\">Ce:RSeH</text>\n",
       "<!-- Text -->\n",
       "<text fill=\"#000000\" font-family=\"Helvetica\" font-size=\"216\" font-style=\"normal\" font-weight=\"bold\" text-anchor=\"middle\" x=\"3150\" xml:space=\"preserve\" y=\"315\">Ce:H2O2</text>\n",
       "<!-- Text -->\n",
       "<text fill=\"#000000\" font-family=\"Helvetica\" font-size=\"216\" font-style=\"normal\" font-weight=\"bold\" text-anchor=\"start\" x=\"7650\" xml:space=\"preserve\" y=\"3465\">Ce:RSeOH</text>\n",
       "<!-- Text -->\n",
       "<text fill=\"#000000\" font-family=\"Helvetica\" font-size=\"216\" font-style=\"normal\" font-weight=\"bold\" text-anchor=\"start\" x=\"7650\" xml:space=\"preserve\" y=\"6615\">Re:r2</text>\n",
       "<!-- Text -->\n",
       "<text fill=\"#000000\" font-family=\"Helvetica\" font-size=\"216\" font-style=\"normal\" font-weight=\"bold\" text-anchor=\"middle\" x=\"1350\" xml:space=\"preserve\" y=\"9765\">Ce:GSSG</text>\n",
       "<!-- Text -->\n",
       "<text fill=\"#000000\" font-family=\"Helvetica\" font-size=\"216\" font-style=\"normal\" font-weight=\"bold\" text-anchor=\"middle\" x=\"1125\" xml:space=\"preserve\" y=\"6615\">Re:r3</text>\n",
       "<!-- Text -->\n",
       "<text fill=\"#000000\" font-family=\"Helvetica\" font-size=\"216\" font-style=\"normal\" font-weight=\"bold\" text-anchor=\"middle\" x=\"3690\" xml:space=\"preserve\" y=\"4365\">Ce:H2O</text>\n",
       "<!-- Line -->\n",
       "<polyline points=\" 2700,3375 1575,3375 1800,3600\" stroke=\"#000000\" stroke-width=\"15px\"/>\n",
       "<!-- Line -->\n",
       "<polyline points=\" 3150,3150 4275,2025 4275,2250\" stroke=\"#000000\" stroke-width=\"15px\"/>\n",
       "<!-- Line -->\n",
       "<polyline points=\" 4725,2025 5850,3150 5625,3150\" stroke=\"#000000\" stroke-width=\"15px\"/>\n",
       "<!-- Line -->\n",
       "<polyline points=\" 3150,450 4275,1575 4050,1575\" stroke=\"#000000\" stroke-width=\"15px\"/>\n",
       "<!-- Line -->\n",
       "<polyline points=\" 2925,6300 2925,3600 3150,3825\" stroke=\"#000000\" stroke-width=\"15px\"/>\n",
       "<!-- Line -->\n",
       "<polyline points=\" 6075,3600 6075,6300 6300,6075\" stroke=\"#000000\" stroke-width=\"15px\"/>\n",
       "<!-- Line -->\n",
       "<polyline points=\" 5850,6525 4725,6525 4950,6750\" stroke=\"#000000\" stroke-width=\"15px\"/>\n",
       "<!-- Line -->\n",
       "<polyline points=\" 4275,6525 3150,6525 3375,6750\" stroke=\"#000000\" stroke-width=\"15px\"/>\n",
       "<!-- Line -->\n",
       "<polyline points=\" 4725,7875 5850,6750 5850,6975\" stroke=\"#000000\" stroke-width=\"15px\"/>\n",
       "<!-- Line -->\n",
       "<polyline points=\" 4275,7875 3150,6750 3150,6975\" stroke=\"#000000\" stroke-width=\"15px\"/>\n",
       "<!-- Line -->\n",
       "<polyline points=\" 2700,6750 1575,7875 1800,7875\" stroke=\"#000000\" stroke-width=\"15px\"/>\n",
       "<!-- Line -->\n",
       "<polyline points=\" 4500,6300 4500,5175 4725,5400\" stroke=\"#000000\" stroke-width=\"15px\"/>\n",
       "<!-- Line -->\n",
       "<polyline points=\" 1350,8325 1350,9450 1575,9225\" stroke=\"#000000\" stroke-width=\"15px\"/>\n",
       "<!-- Line -->\n",
       "<polyline points=\" 4500,8325 4500,9450 4725,9225\" stroke=\"#000000\" stroke-width=\"15px\"/>\n",
       "<!-- Line -->\n",
       "<polyline points=\" 4500,2025 4500,3150 4725,2925\" stroke=\"#000000\" stroke-width=\"15px\"/>\n",
       "<!-- Line -->\n",
       "<polyline points=\" 2700,6525 1575,6525 1800,6750\" stroke=\"#000000\" stroke-width=\"15px\"/>\n",
       "<!-- Line -->\n",
       "<polyline points=\" 6300,6525 7425,6525 7200,6750\" stroke=\"#000000\" stroke-width=\"15px\"/>\n",
       "<!-- Line -->\n",
       "<polyline points=\" 6300,3375 7425,3375 7200,3600\" stroke=\"#000000\" stroke-width=\"15px\"/>\n",
       "<!-- Line -->\n",
       "<polyline points=\" 1575,8325 2700,9450 2475,9450\" stroke=\"#000000\" stroke-width=\"15px\"/>\n",
       "<!-- Line -->\n",
       "<polyline points=\" 2925,9450 2925,8325 3150,8550\" stroke=\"#000000\" stroke-width=\"15px\"/>\n",
       "<!-- Line -->\n",
       "<polyline points=\" 2925,11025 2925,9900 3150,10125\" stroke=\"#000000\" stroke-width=\"15px\"/>\n",
       "<!-- Line -->\n",
       "<polyline points=\" 3127,9382 4252,8257 4252,8482\" stroke=\"#000000\" stroke-width=\"15px\"/>\n",
       "<!-- Line -->\n",
       "<polyline points=\" 3217,9517 4342,8392 4342,8617\" stroke=\"#000000\" stroke-width=\"15px\"/>\n",
       "<!-- Line -->\n",
       "<polyline points=\" 1575,11025 2700,9900 2700,10125\" stroke=\"#000000\" stroke-width=\"15px\"/>\n",
       "<!-- Line -->\n",
       "<polyline points=\" 3150,9900 4275,11025 4050,11025\" stroke=\"#000000\" stroke-width=\"15px\"/>\n",
       "<!-- Line -->\n",
       "<polyline points=\" 5400,4275 4275,4275 4500,4500\" stroke=\"#000000\" stroke-width=\"15px\"/>\n",
       "<!-- Line -->\n",
       "<polyline points=\" 4725,2250 5625,4050 5400,4050\" stroke=\"#000000\" stroke-width=\"8px\"/>\n",
       "<!-- Line -->\n",
       "<polyline points=\" 5850,6300 5625,4500 5850,4725\" stroke=\"#000000\" stroke-width=\"8px\"/>\n",
       "</g>\n",
       "</svg>"
      ],
      "text/plain": [
       "<IPython.core.display.SVG object>"
      ]
     },
     "execution_count": 21,
     "metadata": {},
     "output_type": "execute_result"
    }
   ],
   "source": [
    "## Complex I\n",
    "sbg.model('GPx1_abg.svg')\n",
    "import GPx1_abg\n",
    "disp.SVG('GPx1_abg.svg')"
   ]
  },
  {
   "cell_type": "code",
   "execution_count": 22,
   "metadata": {},
   "outputs": [],
   "source": [
    "## Stoichiometry\n",
    "s = st.stoich(GPx1_abg.model(),quiet=quiet)\n",
    "#print(s['species'])\n",
    "chemostats = ['GSH', 'GSSG', 'H', 'H2O', 'H2O2','NADP','NADPH']\n",
    "sc = st.statify(s,chemostats=chemostats)\n",
    "#disp.Latex(st.sprint(s0,'K'))\n",
    "#print(st.sprints(s))"
   ]
  },
  {
   "cell_type": "code",
   "execution_count": 23,
   "metadata": {
    "scrolled": true
   },
   "outputs": [
    {
     "data": {
      "text/latex": [
       "\\begin{align}\n",
       "\\ch{H2O2 + RSeH &<>[ r1 ] H2O + RSeOH }\\\\\n",
       "\\ch{GSH + RSeOH &<>[ r2 ] GSSeR + H2O }\\\\\n",
       "\\ch{GSH + GSSeR &<>[ r3 ] GSSG + RSeH }\\\\\n",
       "\\ch{GSSG + H + NADPH &<>[ r4 ] 2 GSH + NADP }\n",
       "\\end{align}\n"
      ],
      "text/plain": [
       "<IPython.core.display.Latex object>"
      ]
     },
     "execution_count": 23,
     "metadata": {},
     "output_type": "execute_result"
    }
   ],
   "source": [
    "## Reactions\n",
    "disp.Latex(st.sprintrl(s,chemformula=True,all=True))"
   ]
  },
  {
   "cell_type": "code",
   "execution_count": 24,
   "metadata": {},
   "outputs": [
    {
     "data": {
      "text/latex": [
       "\\begin{align}\n",
       "v_{r1} &= \\kappa_{r1} \\left(- K_{H2O} K_{RSeOH} x_{H2O} x_{RSeOH} + K_{H2O2} K_{RSeH} x_{H2O2} x_{RSeH}\\right)\\\\\n",
       "v_{r2} &= \\kappa_{r2} \\left(K_{GSH} K_{RSeOH} x_{GSH} x_{RSeOH} - K_{GSSeR} K_{H2O} x_{GSSeR} x_{H2O}\\right)\\\\\n",
       "v_{r3} &= \\kappa_{r3} \\left(K_{GSH} K_{GSSeR} x_{GSH} x_{GSSeR} - K_{GSSG} K_{RSeH} x_{GSSG} x_{RSeH}\\right)\\\\\n",
       "v_{r4} &= \\kappa_{r4} \\left(- K_{GSH}^{2} K_{NADP} x_{GSH}^{2} x_{NADP} + K_{GSSG} K_{H} K_{NADPH} x_{GSSG} x_{H} x_{NADPH}\\right)\n",
       "\\end{align}\n"
      ],
      "text/plain": [
       "<IPython.core.display.Latex object>"
      ]
     },
     "execution_count": 24,
     "metadata": {},
     "output_type": "execute_result"
    }
   ],
   "source": [
    "## Flows\n",
    "disp.Latex(st.sprintvl(s))"
   ]
  },
  {
   "cell_type": "code",
   "execution_count": 25,
   "metadata": {
    "scrolled": false
   },
   "outputs": [
    {
     "data": {
      "text/latex": [
       "\\begin{align}\n",
       "\\ch{2 GSH + H2O2 + RSeOH &<>[ pr1 ] GSSG + 2 H2O + RSeOH }\n",
       "\\end{align}\n"
      ],
      "text/plain": [
       "<IPython.core.display.Latex object>"
      ]
     },
     "execution_count": 25,
     "metadata": {},
     "output_type": "execute_result"
    }
   ],
   "source": [
    "sp = st.path(s,sc)\n",
    "## Reactions\n",
    "disp.Latex(st.sprintrl(sp,chemformula=True,all=True))"
   ]
  },
  {
   "cell_type": "code",
   "execution_count": null,
   "metadata": {},
   "outputs": [],
   "source": []
  },
  {
   "cell_type": "code",
   "execution_count": null,
   "metadata": {},
   "outputs": [],
   "source": []
  },
  {
   "cell_type": "code",
   "execution_count": null,
   "metadata": {},
   "outputs": [],
   "source": []
  }
 ],
 "metadata": {
  "kernelspec": {
   "display_name": "Python 3",
   "language": "python",
   "name": "python3"
  },
  "language_info": {
   "codemirror_mode": {
    "name": "ipython",
    "version": 3
   },
   "file_extension": ".py",
   "mimetype": "text/x-python",
   "name": "python",
   "nbconvert_exporter": "python",
   "pygments_lexer": "ipython3",
   "version": "3.6.9"
  },
  "toc": {
   "base_numbering": 1,
   "nav_menu": {},
   "number_sections": true,
   "sideBar": true,
   "skip_h1_title": false,
   "title_cell": "Table of Contents",
   "title_sidebar": "Contents",
   "toc_cell": false,
   "toc_position": {},
   "toc_section_display": true,
   "toc_window_display": false
  }
 },
 "nbformat": 4,
 "nbformat_minor": 2
}
