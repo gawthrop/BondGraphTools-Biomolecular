{
 "cells": [
  {
   "cell_type": "markdown",
   "metadata": {},
   "source": [
    "***Note: this is the MWC.ipynb notebook.***\n",
    " The PDF version \"The Monod-Wyman-Changeux model\"\n",
    "is available [here](modulatedCooperative.pdf).***\n",
    "\n",
    "*** Note: incomplete ***"
   ]
  },
  {
   "cell_type": "markdown",
   "metadata": {},
   "source": [
    "# Introduction\n",
    "\"For many enzymes, the reaction velocity is not a simple hyperbolic curve, as predicted\n",
    "by the Michaelis–Menten model, but often has a sigmoidal character. This can result from cooperative effects, in which the enzyme can bind more than one substrate\n",
    "molecule but the binding of one substrate molecule affects the binding of subsequent\n",
    "ones\" <cite data-cite=\"KeeSne09\">(Keener and Sneyd, 2009)</cite>, Section 1.4.4.\n",
    "\n",
    "This note gives a bond graph <cite data-cite=\"GawCra14\">(Gawthrop and Crampin, 2014)</cite> interpretation of such cooperativity and uses the iterative properties of [BondGraphTools](https://pypi.org/project/BondGraphTools/) <cite data-cite=\"CudGawPanCra19X\">(Cudmore et. al., 2019)</cite> to build high-order cooperative systems. These systems are simulated to give steady-state behavior as the order of cooperativity increases.\n",
    "\n"
   ]
  },
  {
   "cell_type": "markdown",
   "metadata": {},
   "source": [
    "## Import some python code\n",
    "The bond graph analysis uses a number of Python modules:"
   ]
  },
  {
   "cell_type": "code",
   "execution_count": 1,
   "metadata": {},
   "outputs": [],
   "source": [
    "## Some useful imports\n",
    "\n",
    "import BondGraphTools as bgt\n",
    "import numpy as np\n",
    "import sympy as sp\n",
    "import matplotlib.pyplot as plt\n",
    "import IPython.display as disp\n",
    "\n",
    "## Stoichiometric analysis\n",
    "import stoich as st\n",
    "\n",
    "## SVG bg representation conversion\n",
    "import svgBondGraph as sbg\n",
    "\n",
    "## Modular bond graphs\n",
    "import modularBondGraph as mbg\n",
    "\n",
    "## Stoichiometry to BG\n",
    "import stoichBondGraph as stbg\n",
    "\n",
    "## Data structure copy\n",
    "import copy\n",
    "\n",
    "## Set quiet=False for verbose output\n",
    "quiet = True"
   ]
  },
  {
   "cell_type": "markdown",
   "metadata": {},
   "source": [
    "# Enzyme-catalysed reaction\n",
    "The basic enzyme-catalysed reaction is given in this section. It is the basic building block of cooperative enzyme-catalysed reactions\n",
    "More details are given by <cite data-cite=\"GawCra14\">(Gawthrop and Crampin, 2014)</cite>.\n"
   ]
  },
  {
   "cell_type": "code",
   "execution_count": 2,
   "metadata": {},
   "outputs": [
    {
     "data": {
      "text/plain": [
       "'0.3.7'"
      ]
     },
     "execution_count": 2,
     "metadata": {},
     "output_type": "execute_result"
    }
   ],
   "source": [
    "bgt.version"
   ]
  },
  {
   "cell_type": "code",
   "execution_count": 3,
   "metadata": {},
   "outputs": [
    {
     "data": {
      "image/svg+xml": [
       "<svg height=\"234pt\" viewBox=\"406 -1275 7287 3714\" width=\"460pt\" xmlns=\"http://www.w3.org/2000/svg\" xmlns:xlink=\"http://www.w3.org/1999/xlink\">\n",
       "<g fill=\"none\">\n",
       "<!-- Text -->\n",
       "<g transform=\"translate(2835,2025) rotate(-270)\">\n",
       "<text fill=\"#000000\" font-family=\"Helvetica\" font-size=\"216\" font-style=\"normal\" font-weight=\"bold\" text-anchor=\"middle\" x=\"0\" xml:space=\"preserve\" y=\"0\">Re:r1</text>\n",
       "</g><!-- Text -->\n",
       "<g transform=\"translate(5085,2025) rotate(-270)\">\n",
       "<text fill=\"#000000\" font-family=\"Helvetica\" font-size=\"216\" font-style=\"normal\" font-weight=\"bold\" text-anchor=\"middle\" x=\"0\" xml:space=\"preserve\" y=\"0\">Re:r2</text>\n",
       "</g><!-- Text -->\n",
       "<text fill=\"#000000\" font-family=\"Helvetica\" font-size=\"216\" font-style=\"normal\" font-weight=\"bold\" text-anchor=\"middle\" x=\"675\" xml:space=\"preserve\" y=\"990\">Ce:A</text>\n",
       "<!-- Text -->\n",
       "<text fill=\"#000000\" font-family=\"Helvetica\" font-size=\"216\" font-style=\"normal\" font-weight=\"bold\" text-anchor=\"middle\" x=\"1800\" xml:space=\"preserve\" y=\"2115\">1</text>\n",
       "<!-- Text -->\n",
       "<text fill=\"#000000\" font-family=\"Helvetica\" font-size=\"216\" font-style=\"normal\" font-weight=\"bold\" text-anchor=\"middle\" x=\"675\" xml:space=\"preserve\" y=\"2115\">0</text>\n",
       "<!-- Text -->\n",
       "<text fill=\"#000000\" font-family=\"Helvetica\" font-size=\"216\" font-style=\"normal\" font-weight=\"bold\" text-anchor=\"middle\" x=\"4050\" xml:space=\"preserve\" y=\"-1035\">Ce:E</text>\n",
       "<!-- Text -->\n",
       "<text fill=\"#000000\" font-family=\"Helvetica\" font-size=\"216\" font-style=\"normal\" font-weight=\"bold\" text-anchor=\"middle\" x=\"4050\" xml:space=\"preserve\" y=\"90\">0</text>\n",
       "<!-- Text -->\n",
       "<text fill=\"#000000\" font-family=\"Helvetica\" font-size=\"216\" font-style=\"normal\" font-weight=\"bold\" text-anchor=\"middle\" x=\"4050\" xml:space=\"preserve\" y=\"2115\">0</text>\n",
       "<!-- Text -->\n",
       "<text fill=\"#000000\" font-family=\"Helvetica\" font-size=\"216\" font-style=\"normal\" font-weight=\"bold\" text-anchor=\"middle\" x=\"4050\" xml:space=\"preserve\" y=\"990\">Ce:C</text>\n",
       "<!-- Text -->\n",
       "<text fill=\"#000000\" font-family=\"Helvetica\" font-size=\"216\" font-style=\"normal\" font-weight=\"bold\" text-anchor=\"middle\" x=\"7425\" xml:space=\"preserve\" y=\"990\">Ce:B</text>\n",
       "<!-- Text -->\n",
       "<text fill=\"#000000\" font-family=\"Helvetica\" font-size=\"216\" font-style=\"normal\" font-weight=\"bold\" text-anchor=\"middle\" x=\"7425\" xml:space=\"preserve\" y=\"2115\">0</text>\n",
       "<!-- Text -->\n",
       "<text fill=\"#000000\" font-family=\"Helvetica\" font-size=\"216\" font-style=\"normal\" font-weight=\"bold\" text-anchor=\"middle\" x=\"6300\" xml:space=\"preserve\" y=\"2115\">1</text>\n",
       "<!-- Line -->\n",
       "<polyline points=\" 6075,1800 4275,0 4275,225\" stroke=\"#000000\" stroke-width=\"15px\"/>\n",
       "<!-- Line -->\n",
       "<polyline points=\" 3825,0 2025,1800 2250,1800\" stroke=\"#000000\" stroke-width=\"15px\"/>\n",
       "<!-- Line -->\n",
       "<polyline points=\" 900,2025 1575,2025 1350,2250\" stroke=\"#000000\" stroke-width=\"15px\"/>\n",
       "<!-- Line -->\n",
       "<polyline points=\" 6525,2025 7200,2025 6975,2250\" stroke=\"#000000\" stroke-width=\"15px\"/>\n",
       "<!-- Line -->\n",
       "<polyline points=\" 675,1800 675,1125 900,1350\" stroke=\"#000000\" stroke-width=\"15px\"/>\n",
       "<!-- Line -->\n",
       "<polyline points=\" 4050,-225 4050,-900 4275,-675\" stroke=\"#000000\" stroke-width=\"15px\"/>\n",
       "<!-- Line -->\n",
       "<polyline points=\" 4050,1800 4050,1125 4275,1350\" stroke=\"#000000\" stroke-width=\"15px\"/>\n",
       "<!-- Line -->\n",
       "<polyline points=\" 7425,1800 7425,1125 7650,1350\" stroke=\"#000000\" stroke-width=\"15px\"/>\n",
       "<!-- Line -->\n",
       "<polyline points=\" 3150,2025 3825,2025 3600,2250\" stroke=\"#000000\" stroke-width=\"15px\"/>\n",
       "<!-- Line -->\n",
       "<polyline points=\" 4275,2025 4950,2025 4725,2250\" stroke=\"#000000\" stroke-width=\"15px\"/>\n",
       "<!-- Line -->\n",
       "<polyline points=\" 5400,2025 6075,2025 5850,2250\" stroke=\"#000000\" stroke-width=\"15px\"/>\n",
       "<!-- Line -->\n",
       "<polyline points=\" 2025,2025 2700,2025 2475,2250\" stroke=\"#000000\" stroke-width=\"15px\"/>\n",
       "</g>\n",
       "</svg>"
      ],
      "text/plain": [
       "<IPython.core.display.SVG object>"
      ]
     },
     "execution_count": 3,
     "metadata": {},
     "output_type": "execute_result"
    }
   ],
   "source": [
    "## Enzyme-catalysed reaction\n",
    "sbg.model('RE_abg.svg')\n",
    "import RE_abg\n",
    "disp.SVG('RE_abg.svg')"
   ]
  },
  {
   "cell_type": "code",
   "execution_count": 4,
   "metadata": {},
   "outputs": [
    {
     "data": {
      "text/latex": [
       "\\begin{align}\n",
       "\\ch{A + E &<>[ r1 ] C }\\\\\n",
       "\\ch{C &<>[ r2 ] B + E }\n",
       "\\end{align}\n"
      ],
      "text/plain": [
       "<IPython.core.display.Latex object>"
      ]
     },
     "execution_count": 4,
     "metadata": {},
     "output_type": "execute_result"
    }
   ],
   "source": [
    "s = st.stoich(RE_abg.model(),quiet=quiet)\n",
    "disp.Latex(st.sprintrl(s,chemformula=True))"
   ]
  },
  {
   "cell_type": "markdown",
   "metadata": {},
   "source": [
    "# Cooperative enzyme-catalysed reaction\n",
    "\n",
    "<cite data-cite=\"KeeSne09\">(Keener and Sneyd, 2009)</cite>, Section 1.4.4, discusses cooperativity. This section gives a bond graph interpretation. This is done in two ways:\n",
    "\n",
    "1. As a graphical representation of a two-stage cooperative enzyme-catalysed reaction.\n",
    "2. As a generic representation of an N-stage cooperative enzyme-catalysed reaction using  [bond-graph tools](https://pypi.org/project/BondGraphTools/)"
   ]
  },
  {
   "cell_type": "markdown",
   "metadata": {},
   "source": [
    "## Two-stage cooperative enzyme-catalysed reaction (N=2) <a id='coop2'></a>\n"
   ]
  },
  {
   "cell_type": "code",
   "execution_count": 5,
   "metadata": {
    "scrolled": true
   },
   "outputs": [
    {
     "data": {
      "image/svg+xml": [
       "<svg height=\"1043pt\" viewBox=\"4 -690 16218 16545\" width=\"1022pt\" xmlns=\"http://www.w3.org/2000/svg\" xmlns:xlink=\"http://www.w3.org/1999/xlink\">\n",
       "<g fill=\"none\">\n",
       "<!-- Line -->\n",
       "<rect height=\"3825\" rx=\"105\" stroke=\"#0000ff\" stroke-dasharray=\"60 60\" stroke-width=\"15px\" width=\"6300\" x=\"9900\" y=\"9450\"/>\n",
       "<!-- Line -->\n",
       "<rect height=\"3825\" rx=\"105\" stroke=\"#0000ff\" stroke-dasharray=\"60 60\" stroke-width=\"15px\" width=\"6300\" x=\"9900\" y=\"5400\"/>\n",
       "<!-- Line -->\n",
       "<rect height=\"3825\" rx=\"105\" stroke=\"#0000ff\" stroke-dasharray=\"60 60\" stroke-width=\"15px\" width=\"6300\" x=\"1800\" y=\"1350\"/>\n",
       "<!-- Line -->\n",
       "<rect height=\"3825\" rx=\"105\" stroke=\"#0000ff\" stroke-dasharray=\"60 60\" stroke-width=\"15px\" width=\"6300\" x=\"9900\" y=\"1350\"/>\n",
       "<!-- Text -->\n",
       "<text fill=\"#000000\" font-family=\"Helvetica\" font-size=\"216\" font-style=\"normal\" font-weight=\"bold\" text-anchor=\"middle\" x=\"11700\" xml:space=\"preserve\" y=\"3690\">1</text>\n",
       "<!-- Text -->\n",
       "<text fill=\"#000000\" font-family=\"Helvetica\" font-size=\"216\" font-style=\"normal\" font-weight=\"bold\" text-anchor=\"middle\" x=\"13050\" xml:space=\"preserve\" y=\"5040\">0</text>\n",
       "<!-- Text -->\n",
       "<text fill=\"#000000\" font-family=\"Helvetica\" font-size=\"216\" font-style=\"normal\" font-weight=\"bold\" text-anchor=\"middle\" x=\"14400\" xml:space=\"preserve\" y=\"3690\">1</text>\n",
       "<!-- Text -->\n",
       "<text fill=\"#000000\" font-family=\"Helvetica\" font-size=\"216\" font-style=\"normal\" font-weight=\"bold\" text-anchor=\"middle\" x=\"10350\" xml:space=\"preserve\" y=\"3690\">0</text>\n",
       "<!-- Text -->\n",
       "<text fill=\"#000000\" font-family=\"Helvetica\" font-size=\"216\" font-style=\"normal\" font-weight=\"bold\" text-anchor=\"middle\" x=\"15750\" xml:space=\"preserve\" y=\"3690\">0</text>\n",
       "<!-- Text -->\n",
       "<text fill=\"#000000\" font-family=\"Helvetica\" font-size=\"216\" font-style=\"normal\" font-weight=\"bold\" text-anchor=\"middle\" x=\"13050\" xml:space=\"preserve\" y=\"6390\">0</text>\n",
       "<!-- Text -->\n",
       "<text fill=\"#000000\" font-family=\"Helvetica\" font-size=\"216\" font-style=\"normal\" font-weight=\"bold\" text-anchor=\"middle\" x=\"11700\" xml:space=\"preserve\" y=\"7740\">1</text>\n",
       "<!-- Text -->\n",
       "<text fill=\"#000000\" font-family=\"Helvetica\" font-size=\"216\" font-style=\"normal\" font-weight=\"bold\" text-anchor=\"middle\" x=\"13050\" xml:space=\"preserve\" y=\"9090\">0</text>\n",
       "<!-- Text -->\n",
       "<text fill=\"#000000\" font-family=\"Helvetica\" font-size=\"216\" font-style=\"normal\" font-weight=\"bold\" text-anchor=\"middle\" x=\"14400\" xml:space=\"preserve\" y=\"7740\">1</text>\n",
       "<!-- Text -->\n",
       "<text fill=\"#000000\" font-family=\"Helvetica\" font-size=\"216\" font-style=\"normal\" font-weight=\"bold\" text-anchor=\"middle\" x=\"10350\" xml:space=\"preserve\" y=\"7740\">0</text>\n",
       "<!-- Text -->\n",
       "<text fill=\"#000000\" font-family=\"Helvetica\" font-size=\"216\" font-style=\"normal\" font-weight=\"bold\" text-anchor=\"middle\" x=\"15750\" xml:space=\"preserve\" y=\"7740\">0</text>\n",
       "<!-- Text -->\n",
       "<text fill=\"#000000\" font-family=\"Helvetica\" font-size=\"216\" font-style=\"normal\" font-weight=\"bold\" text-anchor=\"middle\" x=\"13050\" xml:space=\"preserve\" y=\"10440\">0</text>\n",
       "<!-- Text -->\n",
       "<text fill=\"#000000\" font-family=\"Helvetica\" font-size=\"216\" font-style=\"normal\" font-weight=\"bold\" text-anchor=\"middle\" x=\"11700\" xml:space=\"preserve\" y=\"11790\">1</text>\n",
       "<!-- Text -->\n",
       "<text fill=\"#000000\" font-family=\"Helvetica\" font-size=\"216\" font-style=\"normal\" font-weight=\"bold\" text-anchor=\"middle\" x=\"13050\" xml:space=\"preserve\" y=\"13140\">0</text>\n",
       "<!-- Text -->\n",
       "<text fill=\"#000000\" font-family=\"Helvetica\" font-size=\"216\" font-style=\"normal\" font-weight=\"bold\" text-anchor=\"middle\" x=\"14400\" xml:space=\"preserve\" y=\"11790\">1</text>\n",
       "<!-- Text -->\n",
       "<text fill=\"#000000\" font-family=\"Helvetica\" font-size=\"216\" font-style=\"normal\" font-weight=\"bold\" text-anchor=\"middle\" x=\"10350\" xml:space=\"preserve\" y=\"11790\">0</text>\n",
       "<!-- Text -->\n",
       "<text fill=\"#000000\" font-family=\"Helvetica\" font-size=\"216\" font-style=\"normal\" font-weight=\"bold\" text-anchor=\"middle\" x=\"15750\" xml:space=\"preserve\" y=\"11790\">0</text>\n",
       "<!-- Text -->\n",
       "<text fill=\"#000000\" font-family=\"Helvetica\" font-size=\"216\" font-style=\"normal\" font-weight=\"bold\" text-anchor=\"middle\" x=\"13050\" xml:space=\"preserve\" y=\"2340\">0</text>\n",
       "<!-- Text -->\n",
       "<text fill=\"#000000\" font-family=\"Helvetica\" font-size=\"216\" font-style=\"normal\" font-weight=\"bold\" text-anchor=\"middle\" x=\"13050\" xml:space=\"preserve\" y=\"990\">0</text>\n",
       "<!-- Text -->\n",
       "<text fill=\"#000000\" font-family=\"Helvetica\" font-size=\"216\" font-style=\"normal\" font-weight=\"bold\" text-anchor=\"middle\" x=\"3600\" xml:space=\"preserve\" y=\"3690\">1</text>\n",
       "<!-- Text -->\n",
       "<text fill=\"#000000\" font-family=\"Helvetica\" font-size=\"216\" font-style=\"normal\" font-weight=\"bold\" text-anchor=\"middle\" x=\"4950\" xml:space=\"preserve\" y=\"5040\">0</text>\n",
       "<!-- Text -->\n",
       "<text fill=\"#000000\" font-family=\"Helvetica\" font-size=\"216\" font-style=\"normal\" font-weight=\"bold\" text-anchor=\"middle\" x=\"6300\" xml:space=\"preserve\" y=\"3690\">1</text>\n",
       "<!-- Text -->\n",
       "<text fill=\"#000000\" font-family=\"Helvetica\" font-size=\"216\" font-style=\"normal\" font-weight=\"bold\" text-anchor=\"middle\" x=\"2250\" xml:space=\"preserve\" y=\"3690\">0</text>\n",
       "<!-- Text -->\n",
       "<text fill=\"#000000\" font-family=\"Helvetica\" font-size=\"216\" font-style=\"normal\" font-weight=\"bold\" text-anchor=\"middle\" x=\"7650\" xml:space=\"preserve\" y=\"3690\">0</text>\n",
       "<!-- Text -->\n",
       "<text fill=\"#000000\" font-family=\"Helvetica\" font-size=\"216\" font-style=\"normal\" font-weight=\"bold\" text-anchor=\"middle\" x=\"4950\" xml:space=\"preserve\" y=\"6390\">0</text>\n",
       "<!-- Text -->\n",
       "<text fill=\"#000000\" font-family=\"Helvetica\" font-size=\"216\" font-style=\"normal\" font-weight=\"bold\" text-anchor=\"middle\" x=\"3600\" xml:space=\"preserve\" y=\"7740\">1</text>\n",
       "<!-- Text -->\n",
       "<text fill=\"#000000\" font-family=\"Helvetica\" font-size=\"216\" font-style=\"normal\" font-weight=\"bold\" text-anchor=\"middle\" x=\"4950\" xml:space=\"preserve\" y=\"9090\">0</text>\n",
       "<!-- Text -->\n",
       "<text fill=\"#000000\" font-family=\"Helvetica\" font-size=\"216\" font-style=\"normal\" font-weight=\"bold\" text-anchor=\"middle\" x=\"6300\" xml:space=\"preserve\" y=\"7740\">1</text>\n",
       "<!-- Text -->\n",
       "<text fill=\"#000000\" font-family=\"Helvetica\" font-size=\"216\" font-style=\"normal\" font-weight=\"bold\" text-anchor=\"middle\" x=\"2250\" xml:space=\"preserve\" y=\"7740\">0</text>\n",
       "<!-- Text -->\n",
       "<text fill=\"#000000\" font-family=\"Helvetica\" font-size=\"216\" font-style=\"normal\" font-weight=\"bold\" text-anchor=\"middle\" x=\"7650\" xml:space=\"preserve\" y=\"7740\">0</text>\n",
       "<!-- Text -->\n",
       "<text fill=\"#000000\" font-family=\"Helvetica\" font-size=\"216\" font-style=\"normal\" font-weight=\"bold\" text-anchor=\"middle\" x=\"4950\" xml:space=\"preserve\" y=\"10440\">0</text>\n",
       "<!-- Text -->\n",
       "<text fill=\"#000000\" font-family=\"Helvetica\" font-size=\"216\" font-style=\"normal\" font-weight=\"bold\" text-anchor=\"middle\" x=\"3600\" xml:space=\"preserve\" y=\"11790\">1</text>\n",
       "<!-- Text -->\n",
       "<text fill=\"#000000\" font-family=\"Helvetica\" font-size=\"216\" font-style=\"normal\" font-weight=\"bold\" text-anchor=\"middle\" x=\"4950\" xml:space=\"preserve\" y=\"13140\">0</text>\n",
       "<!-- Text -->\n",
       "<text fill=\"#000000\" font-family=\"Helvetica\" font-size=\"216\" font-style=\"normal\" font-weight=\"bold\" text-anchor=\"middle\" x=\"6300\" xml:space=\"preserve\" y=\"11790\">1</text>\n",
       "<!-- Text -->\n",
       "<text fill=\"#000000\" font-family=\"Helvetica\" font-size=\"216\" font-style=\"normal\" font-weight=\"bold\" text-anchor=\"middle\" x=\"2250\" xml:space=\"preserve\" y=\"11790\">0</text>\n",
       "<!-- Text -->\n",
       "<text fill=\"#000000\" font-family=\"Helvetica\" font-size=\"216\" font-style=\"normal\" font-weight=\"bold\" text-anchor=\"middle\" x=\"7650\" xml:space=\"preserve\" y=\"11790\">0</text>\n",
       "<!-- Text -->\n",
       "<text fill=\"#000000\" font-family=\"Helvetica\" font-size=\"216\" font-style=\"normal\" font-weight=\"bold\" text-anchor=\"middle\" x=\"4950\" xml:space=\"preserve\" y=\"2340\">0</text>\n",
       "<!-- Text -->\n",
       "<text fill=\"#000000\" font-family=\"Helvetica\" font-size=\"216\" font-style=\"normal\" font-weight=\"bold\" text-anchor=\"middle\" x=\"9000\" xml:space=\"preserve\" y=\"990\">1</text>\n",
       "<!-- Text -->\n",
       "<text fill=\"#000000\" font-family=\"Helvetica\" font-size=\"216\" font-style=\"normal\" font-weight=\"bold\" text-anchor=\"middle\" x=\"4950\" xml:space=\"preserve\" y=\"990\">0</text>\n",
       "<!-- Text -->\n",
       "<text fill=\"#000000\" font-family=\"Helvetica\" font-size=\"216\" font-style=\"normal\" font-weight=\"bold\" text-anchor=\"middle\" x=\"2250\" xml:space=\"preserve\" y=\"13140\">1</text>\n",
       "<!-- Text -->\n",
       "<text fill=\"#000000\" font-family=\"Helvetica\" font-size=\"216\" font-style=\"normal\" font-weight=\"bold\" text-anchor=\"middle\" x=\"2250\" xml:space=\"preserve\" y=\"14490\">0</text>\n",
       "<!-- Text -->\n",
       "<text fill=\"#000000\" font-family=\"Helvetica\" font-size=\"216\" font-style=\"normal\" font-weight=\"bold\" text-anchor=\"middle\" x=\"10350\" xml:space=\"preserve\" y=\"14490\">0</text>\n",
       "<!-- Text -->\n",
       "<text fill=\"#000000\" font-family=\"Helvetica\" font-size=\"216\" font-style=\"normal\" font-weight=\"bold\" text-anchor=\"middle\" x=\"7650\" xml:space=\"preserve\" y=\"14490\">0</text>\n",
       "<!-- Text -->\n",
       "<text fill=\"#000000\" font-family=\"Helvetica\" font-size=\"216\" font-style=\"normal\" font-weight=\"bold\" text-anchor=\"middle\" x=\"15750\" xml:space=\"preserve\" y=\"14490\">0</text>\n",
       "<!-- Text -->\n",
       "<text fill=\"#000000\" font-family=\"Helvetica\" font-size=\"216\" font-style=\"normal\" font-weight=\"bold\" text-anchor=\"middle\" x=\"2160\" xml:space=\"preserve\" y=\"15840\">Ce:A</text>\n",
       "<!-- Text -->\n",
       "<text fill=\"#000000\" font-family=\"Helvetica\" font-size=\"216\" font-style=\"normal\" font-weight=\"bold\" text-anchor=\"middle\" x=\"7785\" xml:space=\"preserve\" y=\"15840\">Ce:B</text>\n",
       "<!-- Text -->\n",
       "<text fill=\"#000000\" font-family=\"Helvetica\" font-size=\"216\" font-style=\"normal\" font-weight=\"bold\" text-anchor=\"middle\" x=\"10350\" xml:space=\"preserve\" y=\"13140\">1</text>\n",
       "<!-- Text -->\n",
       "<text fill=\"#000000\" font-family=\"Helvetica\" font-size=\"216\" font-style=\"normal\" font-weight=\"bold\" text-anchor=\"end\" x=\"1035\" xml:space=\"preserve\" y=\"13140\">Ce:Act</text>\n",
       "<!-- Text -->\n",
       "<text fill=\"#000000\" font-family=\"Helvetica\" font-size=\"216\" font-style=\"normal\" font-weight=\"bold\" text-anchor=\"end\" x=\"9135\" xml:space=\"preserve\" y=\"13140\">Ce:Inh</text>\n",
       "<!-- Text -->\n",
       "<text fill=\"#000000\" font-family=\"Helvetica\" font-size=\"216\" font-style=\"normal\" font-weight=\"bold\" text-anchor=\"middle\" x=\"11700\" xml:space=\"preserve\" y=\"2250\">Re:t01</text>\n",
       "<!-- Text -->\n",
       "<text fill=\"#000000\" font-family=\"Helvetica\" font-size=\"216\" font-style=\"normal\" font-weight=\"bold\" text-anchor=\"middle\" x=\"14400\" xml:space=\"preserve\" y=\"2250\">Re:t02</text>\n",
       "<!-- Text -->\n",
       "<text fill=\"#000000\" font-family=\"Helvetica\" font-size=\"216\" font-style=\"normal\" font-weight=\"bold\" text-anchor=\"middle\" x=\"13050\" xml:space=\"preserve\" y=\"3375\">Ce:T1</text>\n",
       "<!-- Text -->\n",
       "<text fill=\"#000000\" font-family=\"Helvetica\" font-size=\"216\" font-style=\"normal\" font-weight=\"bold\" text-anchor=\"middle\" x=\"11700\" xml:space=\"preserve\" y=\"6300\">Re:t11</text>\n",
       "<!-- Text -->\n",
       "<text fill=\"#000000\" font-family=\"Helvetica\" font-size=\"216\" font-style=\"normal\" font-weight=\"bold\" text-anchor=\"middle\" x=\"13050\" xml:space=\"preserve\" y=\"7425\">Ce:T2</text>\n",
       "<!-- Text -->\n",
       "<text fill=\"#000000\" font-family=\"Helvetica\" font-size=\"216\" font-style=\"normal\" font-weight=\"bold\" text-anchor=\"middle\" x=\"11700\" xml:space=\"preserve\" y=\"10350\">Re:t21</text>\n",
       "<!-- Text -->\n",
       "<text fill=\"#000000\" font-family=\"Helvetica\" font-size=\"216\" font-style=\"normal\" font-weight=\"bold\" text-anchor=\"middle\" x=\"14400\" xml:space=\"preserve\" y=\"10350\">Re:t22</text>\n",
       "<!-- Text -->\n",
       "<text fill=\"#000000\" font-family=\"Helvetica\" font-size=\"216\" font-style=\"normal\" font-weight=\"bold\" text-anchor=\"middle\" x=\"13050\" xml:space=\"preserve\" y=\"11475\">Ce:T3</text>\n",
       "<!-- Text -->\n",
       "<text fill=\"#000000\" font-family=\"Helvetica\" font-size=\"216\" font-style=\"normal\" font-weight=\"bold\" text-anchor=\"middle\" x=\"14400\" xml:space=\"preserve\" y=\"6300\">Re:t12</text>\n",
       "<!-- Text -->\n",
       "<text fill=\"#000000\" font-family=\"Helvetica\" font-size=\"216\" font-style=\"normal\" font-weight=\"bold\" text-anchor=\"middle\" x=\"3600\" xml:space=\"preserve\" y=\"2250\">Re:r01</text>\n",
       "<!-- Text -->\n",
       "<text fill=\"#000000\" font-family=\"Helvetica\" font-size=\"216\" font-style=\"normal\" font-weight=\"bold\" text-anchor=\"middle\" x=\"6300\" xml:space=\"preserve\" y=\"2250\">Re:r02</text>\n",
       "<!-- Text -->\n",
       "<text fill=\"#000000\" font-family=\"Helvetica\" font-size=\"216\" font-style=\"normal\" font-weight=\"bold\" text-anchor=\"middle\" x=\"4950\" xml:space=\"preserve\" y=\"3375\">Ce:R1</text>\n",
       "<!-- Text -->\n",
       "<text fill=\"#000000\" font-family=\"Helvetica\" font-size=\"216\" font-style=\"normal\" font-weight=\"bold\" text-anchor=\"middle\" x=\"3600\" xml:space=\"preserve\" y=\"6300\">Re:r11</text>\n",
       "<!-- Text -->\n",
       "<text fill=\"#000000\" font-family=\"Helvetica\" font-size=\"216\" font-style=\"normal\" font-weight=\"bold\" text-anchor=\"middle\" x=\"4950\" xml:space=\"preserve\" y=\"7425\">Ce:R2</text>\n",
       "<!-- Text -->\n",
       "<text fill=\"#000000\" font-family=\"Helvetica\" font-size=\"216\" font-style=\"normal\" font-weight=\"bold\" text-anchor=\"middle\" x=\"3600\" xml:space=\"preserve\" y=\"10350\">Re:r21</text>\n",
       "<!-- Text -->\n",
       "<text fill=\"#000000\" font-family=\"Helvetica\" font-size=\"216\" font-style=\"normal\" font-weight=\"bold\" text-anchor=\"middle\" x=\"6300\" xml:space=\"preserve\" y=\"10350\">Re:r22</text>\n",
       "<!-- Text -->\n",
       "<text fill=\"#000000\" font-family=\"Helvetica\" font-size=\"216\" font-style=\"normal\" font-weight=\"bold\" text-anchor=\"middle\" x=\"4950\" xml:space=\"preserve\" y=\"11475\">Ce:R3</text>\n",
       "<!-- Text -->\n",
       "<text fill=\"#000000\" font-family=\"Helvetica\" font-size=\"216\" font-style=\"normal\" font-weight=\"bold\" text-anchor=\"middle\" x=\"6300\" xml:space=\"preserve\" y=\"6300\">Re:r12</text>\n",
       "<!-- Text -->\n",
       "<text fill=\"#000000\" font-family=\"Helvetica\" font-size=\"216\" font-style=\"normal\" font-weight=\"bold\" text-anchor=\"middle\" x=\"9000\" xml:space=\"preserve\" y=\"-450\">Re:rt</text>\n",
       "<!-- Text -->\n",
       "<text fill=\"#000000\" font-family=\"Helvetica\" font-size=\"216\" font-style=\"normal\" font-weight=\"bold\" text-anchor=\"middle\" x=\"13050\" xml:space=\"preserve\" y=\"-450\">Ce:T0</text>\n",
       "<!-- Text -->\n",
       "<text fill=\"#000000\" font-family=\"Helvetica\" font-size=\"216\" font-style=\"normal\" font-weight=\"bold\" text-anchor=\"middle\" x=\"4950\" xml:space=\"preserve\" y=\"-450\">Ce:R0</text>\n",
       "<!-- Line -->\n",
       "<polyline points=\" 9225,900 12825,900 12600,1125\" stroke=\"#000000\" stroke-width=\"15px\"/>\n",
       "<!-- Line -->\n",
       "<polyline points=\" 12825,2475 11925,3375 12150,3375\" stroke=\"#000000\" stroke-width=\"15px\"/>\n",
       "<!-- Line -->\n",
       "<polyline points=\" 11925,3825 12825,4725 12600,4725\" stroke=\"#000000\" stroke-width=\"15px\"/>\n",
       "<!-- Line -->\n",
       "<polyline points=\" 13275,4725 14175,3825 14175,4050\" stroke=\"#000000\" stroke-width=\"15px\"/>\n",
       "<!-- Line -->\n",
       "<polyline points=\" 14175,3375 13275,2475 13275,2700\" stroke=\"#000000\" stroke-width=\"15px\"/>\n",
       "<!-- Line -->\n",
       "<polyline points=\" 11700,3375 11700,2475 11925,2700\" stroke=\"#000000\" stroke-width=\"15px\"/>\n",
       "<!-- Line -->\n",
       "<polyline points=\" 14400,3375 14400,2475 14625,2700\" stroke=\"#000000\" stroke-width=\"15px\"/>\n",
       "<!-- Line -->\n",
       "<polyline points=\" 13050,4500 13050,3600 13275,3825\" stroke=\"#000000\" stroke-width=\"15px\"/>\n",
       "<!-- Line -->\n",
       "<polyline points=\" 10575,3600 11475,3600 11250,3825\" stroke=\"#000000\" stroke-width=\"15px\"/>\n",
       "<!-- Line -->\n",
       "<polyline points=\" 14625,3600 15525,3600 15300,3825\" stroke=\"#000000\" stroke-width=\"15px\"/>\n",
       "<!-- Line -->\n",
       "<polyline points=\" 12825,6525 11925,7425 12150,7425\" stroke=\"#000000\" stroke-width=\"15px\"/>\n",
       "<!-- Line -->\n",
       "<polyline points=\" 11925,7875 12825,8775 12600,8775\" stroke=\"#000000\" stroke-width=\"15px\"/>\n",
       "<!-- Line -->\n",
       "<polyline points=\" 13275,8775 14175,7875 14175,8100\" stroke=\"#000000\" stroke-width=\"15px\"/>\n",
       "<!-- Line -->\n",
       "<polyline points=\" 14175,7425 13275,6525 13275,6750\" stroke=\"#000000\" stroke-width=\"15px\"/>\n",
       "<!-- Line -->\n",
       "<polyline points=\" 13050,6075 13050,5175 13275,5400\" stroke=\"#000000\" stroke-width=\"15px\"/>\n",
       "<!-- Line -->\n",
       "<polyline points=\" 11700,7425 11700,6525 11925,6750\" stroke=\"#000000\" stroke-width=\"15px\"/>\n",
       "<!-- Line -->\n",
       "<polyline points=\" 14400,7425 14400,6525 14625,6750\" stroke=\"#000000\" stroke-width=\"15px\"/>\n",
       "<!-- Line -->\n",
       "<polyline points=\" 13050,8550 13050,7650 13275,7875\" stroke=\"#000000\" stroke-width=\"15px\"/>\n",
       "<!-- Line -->\n",
       "<polyline points=\" 10575,7650 11475,7650 11250,7875\" stroke=\"#000000\" stroke-width=\"15px\"/>\n",
       "<!-- Line -->\n",
       "<polyline points=\" 14625,7650 15525,7650 15300,7875\" stroke=\"#000000\" stroke-width=\"15px\"/>\n",
       "<!-- Line -->\n",
       "<polyline points=\" 12825,10575 11925,11475 12150,11475\" stroke=\"#000000\" stroke-width=\"15px\"/>\n",
       "<!-- Line -->\n",
       "<polyline points=\" 11925,11925 12825,12825 12600,12825\" stroke=\"#000000\" stroke-width=\"15px\"/>\n",
       "<!-- Line -->\n",
       "<polyline points=\" 13275,12825 14175,11925 14175,12150\" stroke=\"#000000\" stroke-width=\"15px\"/>\n",
       "<!-- Line -->\n",
       "<polyline points=\" 14175,11475 13275,10575 13275,10800\" stroke=\"#000000\" stroke-width=\"15px\"/>\n",
       "<!-- Line -->\n",
       "<polyline points=\" 13050,10125 13050,9225 13275,9450\" stroke=\"#000000\" stroke-width=\"15px\"/>\n",
       "<!-- Line -->\n",
       "<polyline points=\" 11700,11475 11700,10575 11925,10800\" stroke=\"#000000\" stroke-width=\"15px\"/>\n",
       "<!-- Line -->\n",
       "<polyline points=\" 14400,11475 14400,10575 14625,10800\" stroke=\"#000000\" stroke-width=\"15px\"/>\n",
       "<!-- Line -->\n",
       "<polyline points=\" 13050,12600 13050,11700 13275,11925\" stroke=\"#000000\" stroke-width=\"15px\"/>\n",
       "<!-- Line -->\n",
       "<polyline points=\" 10575,11700 11475,11700 11250,11925\" stroke=\"#000000\" stroke-width=\"15px\"/>\n",
       "<!-- Line -->\n",
       "<polyline points=\" 14625,11700 15525,11700 15300,11925\" stroke=\"#000000\" stroke-width=\"15px\"/>\n",
       "<!-- Line -->\n",
       "<polyline points=\" 13050,2025 13050,1125 13275,1350\" stroke=\"#000000\" stroke-width=\"15px\"/>\n",
       "<!-- Line -->\n",
       "<polyline points=\" 13050,675 13050,-225 13275,0\" stroke=\"#000000\" stroke-width=\"15px\"/>\n",
       "<!-- Line -->\n",
       "<polyline points=\" 4725,2475 3825,3375 4050,3375\" stroke=\"#000000\" stroke-width=\"15px\"/>\n",
       "<!-- Line -->\n",
       "<polyline points=\" 3825,3825 4725,4725 4500,4725\" stroke=\"#000000\" stroke-width=\"15px\"/>\n",
       "<!-- Line -->\n",
       "<polyline points=\" 5175,4725 6075,3825 6075,4050\" stroke=\"#000000\" stroke-width=\"15px\"/>\n",
       "<!-- Line -->\n",
       "<polyline points=\" 6075,3375 5175,2475 5175,2700\" stroke=\"#000000\" stroke-width=\"15px\"/>\n",
       "<!-- Line -->\n",
       "<polyline points=\" 3600,3375 3600,2475 3825,2700\" stroke=\"#000000\" stroke-width=\"15px\"/>\n",
       "<!-- Line -->\n",
       "<polyline points=\" 6300,3375 6300,2475 6525,2700\" stroke=\"#000000\" stroke-width=\"15px\"/>\n",
       "<!-- Line -->\n",
       "<polyline points=\" 4950,4500 4950,3600 5175,3825\" stroke=\"#000000\" stroke-width=\"15px\"/>\n",
       "<!-- Line -->\n",
       "<polyline points=\" 2475,3600 3375,3600 3150,3825\" stroke=\"#000000\" stroke-width=\"15px\"/>\n",
       "<!-- Line -->\n",
       "<polyline points=\" 6525,3600 7425,3600 7200,3825\" stroke=\"#000000\" stroke-width=\"15px\"/>\n",
       "<!-- Line -->\n",
       "<polyline points=\" 4725,6525 3825,7425 4050,7425\" stroke=\"#000000\" stroke-width=\"15px\"/>\n",
       "<!-- Line -->\n",
       "<polyline points=\" 3825,7875 4725,8775 4500,8775\" stroke=\"#000000\" stroke-width=\"15px\"/>\n",
       "<!-- Line -->\n",
       "<polyline points=\" 5175,8775 6075,7875 6075,8100\" stroke=\"#000000\" stroke-width=\"15px\"/>\n",
       "<!-- Line -->\n",
       "<polyline points=\" 6075,7425 5175,6525 5175,6750\" stroke=\"#000000\" stroke-width=\"15px\"/>\n",
       "<!-- Line -->\n",
       "<polyline points=\" 4950,6075 4950,5175 5175,5400\" stroke=\"#000000\" stroke-width=\"15px\"/>\n",
       "<!-- Line -->\n",
       "<polyline points=\" 3600,7425 3600,6525 3825,6750\" stroke=\"#000000\" stroke-width=\"15px\"/>\n",
       "<!-- Line -->\n",
       "<polyline points=\" 6300,7425 6300,6525 6525,6750\" stroke=\"#000000\" stroke-width=\"15px\"/>\n",
       "<!-- Line -->\n",
       "<polyline points=\" 4950,8550 4950,7650 5175,7875\" stroke=\"#000000\" stroke-width=\"15px\"/>\n",
       "<!-- Line -->\n",
       "<polyline points=\" 2475,7650 3375,7650 3150,7875\" stroke=\"#000000\" stroke-width=\"15px\"/>\n",
       "<!-- Line -->\n",
       "<polyline points=\" 6525,7650 7425,7650 7200,7875\" stroke=\"#000000\" stroke-width=\"15px\"/>\n",
       "<!-- Line -->\n",
       "<polyline points=\" 4725,10575 3825,11475 4050,11475\" stroke=\"#000000\" stroke-width=\"15px\"/>\n",
       "<!-- Line -->\n",
       "<polyline points=\" 3825,11925 4725,12825 4500,12825\" stroke=\"#000000\" stroke-width=\"15px\"/>\n",
       "<!-- Line -->\n",
       "<polyline points=\" 5175,12825 6075,11925 6075,12150\" stroke=\"#000000\" stroke-width=\"15px\"/>\n",
       "<!-- Line -->\n",
       "<polyline points=\" 6075,11475 5175,10575 5175,10800\" stroke=\"#000000\" stroke-width=\"15px\"/>\n",
       "<!-- Line -->\n",
       "<polyline points=\" 4950,10125 4950,9225 5175,9450\" stroke=\"#000000\" stroke-width=\"15px\"/>\n",
       "<!-- Line -->\n",
       "<polyline points=\" 3600,11475 3600,10575 3825,10800\" stroke=\"#000000\" stroke-width=\"15px\"/>\n",
       "<!-- Line -->\n",
       "<polyline points=\" 6300,11475 6300,10575 6525,10800\" stroke=\"#000000\" stroke-width=\"15px\"/>\n",
       "<!-- Line -->\n",
       "<polyline points=\" 4950,12600 4950,11700 5175,11925\" stroke=\"#000000\" stroke-width=\"15px\"/>\n",
       "<!-- Line -->\n",
       "<polyline points=\" 2475,11700 3375,11700 3150,11925\" stroke=\"#000000\" stroke-width=\"15px\"/>\n",
       "<!-- Line -->\n",
       "<polyline points=\" 6525,11700 7425,11700 7200,11925\" stroke=\"#000000\" stroke-width=\"15px\"/>\n",
       "<!-- Line -->\n",
       "<polyline points=\" 4950,2025 4950,1125 5175,1350\" stroke=\"#000000\" stroke-width=\"15px\"/>\n",
       "<!-- Line -->\n",
       "<polyline points=\" 2250,7425 2250,3825 2475,4050\" stroke=\"#000000\" stroke-width=\"15px\"/>\n",
       "<!-- Line -->\n",
       "<polyline points=\" 2250,11475 2250,7875 2475,8100\" stroke=\"#000000\" stroke-width=\"15px\"/>\n",
       "<!-- Line -->\n",
       "<polyline points=\" 7650,3825 7650,7425 7875,7200\" stroke=\"#000000\" stroke-width=\"15px\"/>\n",
       "<!-- Line -->\n",
       "<polyline points=\" 7650,7875 7650,11475 7875,11250\" stroke=\"#000000\" stroke-width=\"15px\"/>\n",
       "<!-- Line -->\n",
       "<polyline points=\" 10350,7425 10350,3825 10575,4050\" stroke=\"#000000\" stroke-width=\"15px\"/>\n",
       "<!-- Line -->\n",
       "<polyline points=\" 10350,11475 10350,7875 10575,8100\" stroke=\"#000000\" stroke-width=\"15px\"/>\n",
       "<!-- Line -->\n",
       "<polyline points=\" 15750,3825 15750,7425 15975,7200\" stroke=\"#000000\" stroke-width=\"15px\"/>\n",
       "<!-- Line -->\n",
       "<polyline points=\" 15750,7875 15750,11475 15975,11250\" stroke=\"#000000\" stroke-width=\"15px\"/>\n",
       "<!-- Line -->\n",
       "<polyline points=\" 5175,900 8775,900 8550,1125\" stroke=\"#000000\" stroke-width=\"15px\"/>\n",
       "<!-- Line -->\n",
       "<polyline points=\" 9000,675 9000,-225 9225,0\" stroke=\"#000000\" stroke-width=\"15px\"/>\n",
       "<!-- Line -->\n",
       "<polyline points=\" 4950,675 4950,-225 5175,0\" stroke=\"#000000\" stroke-width=\"15px\"/>\n",
       "<!-- Line -->\n",
       "<polyline points=\" 2250,12825 2250,11925 2475,12150\" stroke=\"#000000\" stroke-width=\"15px\"/>\n",
       "<!-- Line -->\n",
       "<polyline points=\" 2250,14175 2250,13275 2475,13500\" stroke=\"#000000\" stroke-width=\"15px\"/>\n",
       "<!-- Line -->\n",
       "<polyline points=\" 7650,11925 7650,14175 7875,13950\" stroke=\"#000000\" stroke-width=\"15px\"/>\n",
       "<!-- Line -->\n",
       "<polyline points=\" 15750,11925 15750,14175 15975,13950\" stroke=\"#000000\" stroke-width=\"15px\"/>\n",
       "<!-- Line -->\n",
       "<polyline points=\" 1125,13050 2025,13050 1800,13275\" stroke=\"#000000\" stroke-width=\"15px\"/>\n",
       "<!-- Line -->\n",
       "<polyline points=\" 2475,14175 10125,14175 9900,14400\" stroke=\"#000000\" stroke-width=\"8px\"/>\n",
       "<!-- Line -->\n",
       "<polyline points=\" 2250,14625 2250,15525 2475,15300\" stroke=\"#000000\" stroke-width=\"15px\"/>\n",
       "<!-- Line -->\n",
       "<polyline points=\" 7650,14625 7650,15525 7875,15300\" stroke=\"#000000\" stroke-width=\"15px\"/>\n",
       "<!-- Line -->\n",
       "<polyline points=\" 15525,14400 7875,14400 8100,14625\" stroke=\"#000000\" stroke-width=\"8px\"/>\n",
       "<!-- Line -->\n",
       "<polyline points=\" 10350,14175 10350,13275 10575,13500\" stroke=\"#000000\" stroke-width=\"15px\"/>\n",
       "<!-- Line -->\n",
       "<polyline points=\" 10350,12825 10350,11925 10575,12150\" stroke=\"#000000\" stroke-width=\"15px\"/>\n",
       "<!-- Line -->\n",
       "<polyline points=\" 9225,13050 10125,13050 9900,13275\" stroke=\"#000000\" stroke-width=\"15px\"/>\n",
       "</g>\n",
       "</svg>"
      ],
      "text/plain": [
       "<IPython.core.display.SVG object>"
      ]
     },
     "execution_count": 5,
     "metadata": {},
     "output_type": "execute_result"
    }
   ],
   "source": [
    "## MWC model\n",
    "sbg.model('MWC_abg.svg',quiet=quiet)\n",
    "import MWC_abg\n",
    "disp.SVG('MWC_abg.svg')"
   ]
  },
  {
   "cell_type": "code",
   "execution_count": 6,
   "metadata": {},
   "outputs": [
    {
     "name": "stdout",
     "output_type": "stream",
     "text": [
      "Chemostat Br is not a model species\n",
      "Chemostat Bt is not a model species\n"
     ]
    },
    {
     "data": {
      "text/latex": [
       "\\begin{align}\n",
       "\\ch{A + Act + R0 &<>[ r01 ] R1 }\\\\\n",
       "\\ch{R1 &<>[ r02 ] B + R0 }\\\\\n",
       "\\ch{A + Act + R1 &<>[ r11 ] R2 }\\\\\n",
       "\\ch{R2 &<>[ r12 ] B + R1 }\\\\\n",
       "\\ch{A + Act + R2 &<>[ r21 ] R3 }\\\\\n",
       "\\ch{R3 &<>[ r22 ] B + R2 }\\\\\n",
       "\\ch{R0 &<>[ rt ] T0 }\\\\\n",
       "\\ch{A + Inh + T0 &<>[ t01 ] T1 }\\\\\n",
       "\\ch{T1 &<>[ t02 ] B + T0 }\\\\\n",
       "\\ch{A + Inh + T1 &<>[ t11 ] T2 }\n",
       "\\end{align}\n",
       "\n",
       "\\begin{align}\n",
       "\\ch{T2 &<>[ t12 ] B + T1 }\\\\\n",
       "\\ch{A + Inh + T2 &<>[ t21 ] T3 }\\\\\n",
       "\\ch{T3 &<>[ t22 ] B + T2 }\n",
       "\\end{align}\n"
      ],
      "text/plain": [
       "<IPython.core.display.Latex object>"
      ]
     },
     "execution_count": 6,
     "metadata": {},
     "output_type": "execute_result"
    }
   ],
   "source": [
    "ss = st.stoich(MWC_abg.model(),quiet=quiet)\n",
    "ssc = st.statify(ss,chemostats=['A','Br','Bt','Act','Inh'])\n",
    "disp.Latex(st.sprintrl(ss,chemformula=True))\n"
   ]
  },
  {
   "cell_type": "markdown",
   "metadata": {},
   "source": [
    "## Create cooperative enzyme-catalysed reaction of any degree N\n",
    "The following code builds an N-stage cooperative enzyme-catalysed reaction using  [bond-graph tools](https://pypi.org/project/BondGraphTools/).\n",
    "\n",
    "1. N+1 instances of the basic enzyme-catalysed reaction are created and the enzyme and complex renamed.\n",
    "2. The substrate A, product B  and enzymes E1-EN are unified."
   ]
  },
  {
   "cell_type": "code",
   "execution_count": 7,
   "metadata": {},
   "outputs": [],
   "source": [
    "## Create cooperative enzyme-catalysed reaction of any degree N\n",
    "def makeCoop(N=3,R='R',quiet=True):\n",
    "    r = R.lower()\n",
    "    Coop = bgt.new(name='Coop')\n",
    "    for i in range(N+1):\n",
    "        RE = RE_abg.model()\n",
    "        RE.name = 'RE'+str(i)\n",
    "        mbg.rename(RE,{\n",
    "                    'E':R+str(i), \n",
    "                    'C':R+str(i+1),\n",
    "                    'r1':r+str(i)+'1',\n",
    "                    'r2':r+str(i)+'2'\n",
    "                    },\n",
    "                   quiet=quiet)\n",
    "        Coop.add(RE)\n",
    "\n",
    "    ## Unify common components\n",
    "    unified = ['A','B']\n",
    "    for i in range(N): \n",
    "        Ri = R+str(i+1)\n",
    "        unified.append(Ri)\n",
    "    print('unified =',unified)\n",
    "    mbg.unify(Coop,unified,quiet=quiet)\n",
    "\n",
    "        \n",
    "    ## Stoichiometry\n",
    "    chemostats = ['A','B']\n",
    "    s = st.stoich(Coop,quiet=quiet)\n",
    "    sc = st.statify(s,chemostats=chemostats)\n",
    "    if not quiet:\n",
    "        print(st.sprint(sc,'species'))\n",
    "        print(st.sprint(sc,'reaction'))\n",
    "        \n",
    "    ## Regenerate flat Coop BG from stoichiometry\n",
    "    s['name'] = R+'_abg'\n",
    "    stbg.model(s)\n",
    "    \n",
    "    return s,sc"
   ]
  },
  {
   "cell_type": "code",
   "execution_count": 8,
   "metadata": {},
   "outputs": [
    {
     "data": {
      "image/svg+xml": [
       "<svg height=\"119pt\" viewBox=\"515 300 3221 1884\" width=\"203pt\" xmlns=\"http://www.w3.org/2000/svg\" xmlns:xlink=\"http://www.w3.org/1999/xlink\">\n",
       "<g fill=\"none\">\n",
       "<!-- Text -->\n",
       "<text fill=\"#000000\" font-family=\"Helvetica\" font-size=\"216\" font-style=\"normal\" font-weight=\"bold\" text-anchor=\"middle\" x=\"900\" xml:space=\"preserve\" y=\"540\">Ce:R</text>\n",
       "<!-- Text -->\n",
       "<text fill=\"#000000\" font-family=\"Helvetica\" font-size=\"216\" font-style=\"normal\" font-weight=\"bold\" text-anchor=\"middle\" x=\"675\" xml:space=\"preserve\" y=\"1890\">0</text>\n",
       "<!-- Text -->\n",
       "<text fill=\"#000000\" font-family=\"Helvetica\" font-size=\"216\" font-style=\"normal\" font-weight=\"bold\" text-anchor=\"middle\" x=\"3375\" xml:space=\"preserve\" y=\"1890\">0</text>\n",
       "<!-- Text -->\n",
       "<g transform=\"translate(1935,1800) rotate(-270)\">\n",
       "<text fill=\"#000000\" font-family=\"Helvetica\" font-size=\"216\" font-style=\"normal\" font-weight=\"bold\" text-anchor=\"middle\" x=\"0\" xml:space=\"preserve\" y=\"0\">Re:rt</text>\n",
       "</g><!-- Text -->\n",
       "<text fill=\"#000000\" font-family=\"Helvetica\" font-size=\"216\" font-style=\"normal\" font-weight=\"bold\" text-anchor=\"middle\" x=\"3375\" xml:space=\"preserve\" y=\"540\">Ce:T</text>\n",
       "<!-- Line -->\n",
       "<polyline points=\" 2250,1800 3150,1800 2925,2025\" stroke=\"#000000\" stroke-width=\"15px\"/>\n",
       "<!-- Line -->\n",
       "<polyline points=\" 3375,1575 3375,675 3600,900\" stroke=\"#000000\" stroke-width=\"15px\"/>\n",
       "<!-- Line -->\n",
       "<polyline points=\" 675,1575 675,675 900,900\" stroke=\"#000000\" stroke-width=\"15px\"/>\n",
       "<!-- Line -->\n",
       "<polyline points=\" 900,1800 1800,1800 1575,2025\" stroke=\"#000000\" stroke-width=\"15px\"/>\n",
       "</g>\n",
       "</svg>"
      ],
      "text/plain": [
       "<IPython.core.display.SVG object>"
      ]
     },
     "execution_count": 8,
     "metadata": {},
     "output_type": "execute_result"
    }
   ],
   "source": [
    "## Connecting system\n",
    "sbg.model('RT_abg.svg',quiet=quiet)\n",
    "import RT_abg\n",
    "disp.SVG('RT_abg.svg')"
   ]
  },
  {
   "cell_type": "code",
   "execution_count": 9,
   "metadata": {},
   "outputs": [
    {
     "name": "stdout",
     "output_type": "stream",
     "text": [
      "Chemostat R0 is not a model species\n",
      "Chemostat T0 is not a model species\n"
     ]
    },
    {
     "data": {
      "text/latex": [
       "\\begin{align}\n",
       "\\ch{R &<>[ rt ] T }\n",
       "\\end{align}\n"
      ],
      "text/plain": [
       "<IPython.core.display.Latex object>"
      ]
     },
     "execution_count": 9,
     "metadata": {},
     "output_type": "execute_result"
    }
   ],
   "source": [
    "srt = st.stoich(RT_abg.model(),quiet=quiet)\n",
    "srtc = st.statify(srt,chemostats=['R0','T0'])\n",
    "disp.Latex(st.sprintrl(srt,chemformula=True))\n"
   ]
  },
  {
   "cell_type": "code",
   "execution_count": 10,
   "metadata": {},
   "outputs": [],
   "source": [
    "## Create Monod-Wyman-Changeux model\n",
    "def makeMWC(N=3,quiet=False):\n",
    "    MWC = bgt.new(name='MWC')   \n",
    "    sR,sRc = makeCoop(N=N,R='R',quiet=quiet)\n",
    "    sT,sRT = makeCoop(N=N,R='T',quiet=quiet)\n",
    "    import R_abg\n",
    "    import T_abg\n",
    "    import RT_abg\n",
    "    \n",
    "    MWC.add(R_abg.model(),T_abg.model(),RT_abg.model())\n",
    "    \n",
    "#     ## Unify common components\n",
    "#     unified = ['A','B','R0','T0']\n",
    "    \n",
    "#    MWC.add(R_abg.model(),T_abg.model())\n",
    "    \n",
    "    ## Unify common components\n",
    "    unified = ['A','B','R','T']\n",
    "    \n",
    "    mbg.unify(MWC,unified,quiet=False)\n",
    "    \n",
    "    ## Stoichiometry\n",
    "    chemostats = ['A','B']\n",
    "    s = st.stoich(MWC,quiet=quiet)\n",
    "    sc = st.statify(s,chemostats=chemostats)\n",
    "    if not quiet:\n",
    "        print(st.sprint(sc,'species'))\n",
    "        print(st.sprint(sc,'reaction'))\n",
    "    \n",
    "    return s,sc,MWC"
   ]
  },
  {
   "cell_type": "markdown",
   "metadata": {},
   "source": [
    "### Generate equations for $N=2$\n",
    "Note that these equations are identical to those of the explicit bondgraph."
   ]
  },
  {
   "cell_type": "code",
   "execution_count": 11,
   "metadata": {},
   "outputs": [
    {
     "name": "stdout",
     "output_type": "stream",
     "text": [
      "unified = ['A', 'B', 'R1', 'R2']\n",
      "unified = ['A', 'B', 'T1', 'T2']\n",
      "Unifying components in: MWC\n",
      "Creating: Ce:A and 0:A_jun in MWC\n",
      "Creating: Ce:B and 0:B_jun in MWC\n",
      "Creating: Ce:R and 0:R_jun in MWC\n",
      "Creating: Ce:T and 0:T_jun in MWC\n",
      "Exposing: Ce:A in R_abg and connecting to 0:A_jun\n",
      "Exposing: Ce:B in R_abg and connecting to 0:B_jun\n",
      "Exposing: Ce:A in T_abg and connecting to 0:A_jun\n",
      "Exposing: Ce:B in T_abg and connecting to 0:B_jun\n",
      "Exposing: Ce:R in RT and connecting to 0:R_jun\n",
      "Exposing: Ce:T in RT and connecting to 0:T_jun\n"
     ]
    },
    {
     "data": {
      "text/latex": [
       "\\begin{align}\n",
       "\\ch{R0 + A &<>[ r01 ] R1 }\\\\\n",
       "\\ch{R1 &<>[ r02 ] R0 + B }\\\\\n",
       "\\ch{R1 + A &<>[ r11 ] R2 }\\\\\n",
       "\\ch{R2 &<>[ r12 ] R1 + B }\\\\\n",
       "\\ch{R2 + A &<>[ r21 ] R3 }\\\\\n",
       "\\ch{R3 &<>[ r22 ] R2 + B }\\\\\n",
       "\\ch{T0 + A &<>[ t01 ] T1 }\\\\\n",
       "\\ch{T1 &<>[ t02 ] T0 + B }\\\\\n",
       "\\ch{T1 + A &<>[ t11 ] T2 }\\\\\n",
       "\\ch{T2 &<>[ t12 ] T1 + B }\n",
       "\\end{align}\n",
       "\n",
       "\\begin{align}\n",
       "\\ch{T2 + A &<>[ t21 ] T3 }\\\\\n",
       "\\ch{T3 &<>[ t22 ] T2 + B }\\\\\n",
       "\\ch{R &<>[ rt ] T }\n",
       "\\end{align}\n"
      ],
      "text/plain": [
       "<IPython.core.display.Latex object>"
      ]
     },
     "execution_count": 11,
     "metadata": {},
     "output_type": "execute_result"
    }
   ],
   "source": [
    "### Generate equations for N=2\n",
    "s,sc,MWC = makeMWC(N=2,quiet=quiet)\n",
    "disp.Latex(st.sprintrl(s,chemformula=True))"
   ]
  },
  {
   "cell_type": "markdown",
   "metadata": {},
   "source": [
    "### Generate pathway equations for $N=2$\n",
    "Pathways are generated using the approach of <cite data-cite=\"GawCra17\">Gawthrop and Crampin (2014)</cite>."
   ]
  },
  {
   "cell_type": "code",
   "execution_count": 12,
   "metadata": {},
   "outputs": [
    {
     "name": "stdout",
     "output_type": "stream",
     "text": [
      "6 pathways\n",
      "0:  + r01 + r02\n",
      "1:  + r11 + r12\n",
      "2:  + r21 + r22\n",
      "3:  + t01 + t02\n",
      "4:  + t11 + t12\n",
      "5:  + t21 + t22\n",
      "\n"
     ]
    },
    {
     "data": {
      "text/latex": [
       "\\begin{align}\n",
       "A  &\\Leftrightarrow B \\\\\n",
       "A  &\\Leftrightarrow B \\\\\n",
       "A  &\\Leftrightarrow B \\\\\n",
       "A  &\\Leftrightarrow B \\\\\n",
       "A  &\\Leftrightarrow B \\\\\n",
       "A  &\\Leftrightarrow B \n",
       "\\end{align}\n"
      ],
      "text/plain": [
       "<IPython.core.display.Latex object>"
      ]
     },
     "execution_count": 12,
     "metadata": {},
     "output_type": "execute_result"
    }
   ],
   "source": [
    "sp = st.path(s,sc)\n",
    "print(st.sprintp(sc))\n",
    "disp.Latex(st.sprintrl(sp))"
   ]
  },
  {
   "cell_type": "markdown",
   "metadata": {},
   "source": [
    "## Steady-state properties\n",
    "\n",
    "The steady state properties are investigated using dynamic simulation where slowly varing exogenous quantities are used to induce quasi-steady-state behaviour. In each case, the variable is at a constant value to start with followed by a slowly increasing ramp. The response after the initial reponse is plotted to remove artefacts due to the initial transient.\n",
    "\n",
    "All parameters are unity except for $K_B=0.01$ (to approximate an irreversible reaction) and initial states are chosen so that the total enzyme is $e_0=1$."
   ]
  },
  {
   "cell_type": "markdown",
   "metadata": {},
   "source": [
    "### Set up some parameters for simulation"
   ]
  },
  {
   "cell_type": "code",
   "execution_count": 13,
   "metadata": {},
   "outputs": [],
   "source": [
    "## Set up some parameters for simulation\n",
    "def setParameter(ss,N,K_R0,K_T0,X_Act,X_Inh):\n",
    "    \n",
    "    e0 = 1/2\n",
    "        \n",
    "    ## Set up the non-unit parameters and states\n",
    "    parameter = {}\n",
    "\n",
    "    \n",
    "    K_i = 1/(K_R0**(N+1))\n",
    "    for i in range(N+2):\n",
    "        Ki = 'K_R'+str(i)\n",
    "        #print('Setting:', Ki)\n",
    "        parameter[Ki] = K_i\n",
    "        K_i *= K_R0\n",
    "    \n",
    "    K_i = 1/(K_T0**(N+1))\n",
    "    if 'T0' in s['species']: \n",
    "        for i in range(N+2):\n",
    "            Ki = 'K_T'+str(i)\n",
    "            #print('Setting:', Ki)\n",
    "            parameter[Ki] = K_i\n",
    "            K_i *= K_T0\n",
    "\n",
    "    ## Set product constant to a small value\n",
    "    ## to make the RCR approximately irreversible\n",
    "    K_B = 1e-10\n",
    "    parameter['K_B'] = K_B\n",
    "#     parameter['K_Br'] = K_B\n",
    "#     parameter['K_Bt'] = K_B\n",
    "    \n",
    "#     parameter['K_R00'] = parameter['K_R0'] \n",
    "#     parameter['K_T00'] = parameter['K_T0'] \n",
    "#    parameter['K_Inh'] = 100\n",
    "    \n",
    "    ## States\n",
    "    X0 = np.ones(ss['n_X'])\n",
    "    X0[ss['spec_index']['Act']] = X_Act\n",
    "    X0[ss['spec_index']['Inh']] = X_Inh\n",
    "    \n",
    "    ## Set total enzyme to e0\n",
    "    for i in range(N+2):\n",
    "        Ri = 'R'+str(i)\n",
    "        X0[ss['spec_index'][Ri]] = (e0/(N+2))  \n",
    "        \n",
    "    if 'T0' in s['species']:  \n",
    "        for i in range(N+2):\n",
    "            Ti = 'T'+str(i)\n",
    "            X0[ss['spec_index'][Ti]] = (e0/(N+2)) \n",
    "    \n",
    "    return parameter,X0"
   ]
  },
  {
   "cell_type": "markdown",
   "metadata": {},
   "source": [
    "### Vary substrate concentration  $x_A$ for various $K_{T0}$"
   ]
  },
  {
   "cell_type": "code",
   "execution_count": 14,
   "metadata": {},
   "outputs": [
    {
     "data": {
      "image/png": "[encoded data removed]",
      "text/plain": [
       "<Figure size 432x288 with 1 Axes>"
      ]
     },
     "metadata": {},
     "output_type": "display_data"
    }
   ],
   "source": [
    "## Simulation\n",
    "## Vary x_A\n",
    "\n",
    "##Time\n",
    "quiet = True\n",
    "t_max = int(1e5)\n",
    "t = np.linspace(0,t_max,100000)\n",
    "t_0 = 100\n",
    "t_1 = t_max-t_0\n",
    "i_max = len(t)\n",
    "i_0 = int(i_max*t_0/t_max)\n",
    "i_1 = i_max-i_0\n",
    "\n",
    "## Chemostats: vary x_A\n",
    "x_max = 1e3\n",
    "x_min = 1e-1\n",
    "    \n",
    "A_chemo = '{3} + ({0}-{3})*np.heaviside(t-{1},1)*((t-{1})/{2})'.format(x_max,t_0,t_1,x_min)\n",
    "X_chemo =  {'A':A_chemo}\n",
    "\n",
    "K_R0 = 1\n",
    "K_T0 = 1\n",
    "\n",
    "\n",
    "for K_T0 in [1,3,10,30]:\n",
    "    N = 2\n",
    "\n",
    "    X_Act = K_T0\n",
    "    X_Inh = 1\n",
    "    \n",
    "    parameter,X0 = setParameter(ss,N,K_R0,K_T0,X_Act,X_Inh)\n",
    "\n",
    "    dat = st.sim(ss,sc=ssc,t=t,parameter=parameter,X0=X0,X_chemo=X_chemo,quiet=quiet)\n",
    "    phi_A = dat['phi'][:,ss['spec_index']['A']]\n",
    "    dX = ss['N']@(dat['V'].T)\n",
    "    dX_B = dX[ss['spec_index']['B'],:]\n",
    "    V_B = dX_B[-i_1:]\n",
    "    \n",
    "    ## Plot flow v. x_A  \n",
    "    grey = '0.8'\n",
    "    plt.plot(phi_A[-i_1:],V_B,label = 'K_T0 ='+str(K_T0)) \n",
    "plt.grid()\n",
    "plt.legend()\n",
    "#plt.ylim((0,e0))\n",
    "#plt.xlim((0,x_max))\n",
    "#plt.legend(['N=0 (theory)']+['N='+str(i) for i in NN]+['MWC'])\n",
    "plt.xlabel('$\\phi_A$')\n",
    "plt.ylabel('$v$')\n",
    "plt.show()\n",
    "\n"
   ]
  },
  {
   "cell_type": "code",
   "execution_count": null,
   "metadata": {},
   "outputs": [],
   "source": []
  },
  {
   "cell_type": "code",
   "execution_count": null,
   "metadata": {},
   "outputs": [],
   "source": []
  }
 ],
 "metadata": {
  "kernelspec": {
   "display_name": "Python 3",
   "language": "python",
   "name": "python3"
  },
  "language_info": {
   "codemirror_mode": {
    "name": "ipython",
    "version": 3
   },
   "file_extension": ".py",
   "mimetype": "text/x-python",
   "name": "python",
   "nbconvert_exporter": "python",
   "pygments_lexer": "ipython3",
   "version": "3.8.5"
  },
  "toc": {
   "base_numbering": 1,
   "nav_menu": {},
   "number_sections": true,
   "sideBar": true,
   "skip_h1_title": false,
   "title_cell": "Table of Contents",
   "title_sidebar": "Contents",
   "toc_cell": false,
   "toc_position": {},
   "toc_section_display": true,
   "toc_window_display": false
  }
 },
 "nbformat": 4,
 "nbformat_minor": 2
}
