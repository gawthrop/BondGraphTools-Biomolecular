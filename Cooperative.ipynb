{
 "cells": [
  {
   "cell_type": "markdown",
   "metadata": {},
   "source": [
    "***Note: this is the Cooperative.ipynb notebook. The\n",
    "PDF version \"Cooperative Enzyme-catalysed Reactions\"\n",
    "is available [here](Cooperative.pdf).***"
   ]
  },
  {
   "cell_type": "markdown",
   "metadata": {},
   "source": [
    "# Introduction\n",
    "\"For many enzymes, the reaction velocity is not a simple hyperbolic curve, as predicted\n",
    "by the Michaelis–Menten model, but often has a sigmoidal character. This can result from cooperative effects, in which the enzyme can bind more than one substrate\n",
    "molecule but the binding of one substrate molecule affects the binding of subsequent\n",
    "ones\" <cite data-cite=\"KeeSne09\">(Keener and Sneyd, 2009)</cite>, Section 1.4.4.\n",
    "\n",
    "This note gives a bond graph <cite data-cite=\"GawCra14\">(Gawthrop and Crampin, 2014)</cite> interpretation of such cooperativity and uses the iterative properties of [BondGraphTools](https://pypi.org/project/BondGraphTools/) <cite data-cite=\"CudGawPanCra19X\">(Cudmore et. al., 2019)</cite> to build high-order cooperative systems. These systems are simulated to give steady-state behavior as the order of cooperativity increases.\n",
    "\n"
   ]
  },
  {
   "cell_type": "markdown",
   "metadata": {},
   "source": [
    "## Import some python code\n",
    "The bond graph analysis uses a number of Python modules:"
   ]
  },
  {
   "cell_type": "code",
   "execution_count": 1,
   "metadata": {},
   "outputs": [],
   "source": [
    "## Some useful imports\n",
    "\n",
    "import BondGraphTools as bgt\n",
    "import numpy as np\n",
    "import sympy as sp\n",
    "import matplotlib.pyplot as plt\n",
    "import IPython.display as disp\n",
    "\n",
    "## Stoichiometric analysis\n",
    "import stoich as st\n",
    "\n",
    "## SVG bg representation conversion\n",
    "import svgBondGraph as sbg\n",
    "\n",
    "## Modular bond graphs\n",
    "import modularBondGraph as mbg\n",
    "\n",
    "## Data structure copy\n",
    "import copy\n",
    "\n",
    "## Set quiet=False for verbose output\n",
    "quiet = True"
   ]
  },
  {
   "cell_type": "markdown",
   "metadata": {},
   "source": [
    "# Enzyme-catalysed reaction\n",
    "The basic enzyme-catalysed reaction is given in this section. It is the basic building block of cooperative enzyme-catalysed reactions\n",
    "More details are given by <cite data-cite=\"GawCra14\">(Gawthrop and Crampin, 2014)</cite>.\n"
   ]
  },
  {
   "cell_type": "code",
   "execution_count": 2,
   "metadata": {},
   "outputs": [
    {
     "data": {
      "text/plain": [
       "'0.3.7'"
      ]
     },
     "execution_count": 2,
     "metadata": {},
     "output_type": "execute_result"
    }
   ],
   "source": [
    "bgt.version"
   ]
  },
  {
   "cell_type": "code",
   "execution_count": 3,
   "metadata": {},
   "outputs": [
    {
     "data": {
      "image/svg+xml": [
       "<svg height=\"234pt\" viewBox=\"406 -1275 7287 3714\" width=\"460pt\" xmlns=\"http://www.w3.org/2000/svg\" xmlns:xlink=\"http://www.w3.org/1999/xlink\">\n",
       "<g fill=\"none\">\n",
       "<!-- Text -->\n",
       "<g transform=\"translate(2835,2025) rotate(-270)\">\n",
       "<text fill=\"#000000\" font-family=\"Helvetica\" font-size=\"216\" font-style=\"normal\" font-weight=\"bold\" text-anchor=\"middle\" x=\"0\" xml:space=\"preserve\" y=\"0\">Re:r1</text>\n",
       "</g><!-- Text -->\n",
       "<g transform=\"translate(5085,2025) rotate(-270)\">\n",
       "<text fill=\"#000000\" font-family=\"Helvetica\" font-size=\"216\" font-style=\"normal\" font-weight=\"bold\" text-anchor=\"middle\" x=\"0\" xml:space=\"preserve\" y=\"0\">Re:r2</text>\n",
       "</g><!-- Text -->\n",
       "<text fill=\"#000000\" font-family=\"Helvetica\" font-size=\"216\" font-style=\"normal\" font-weight=\"bold\" text-anchor=\"middle\" x=\"675\" xml:space=\"preserve\" y=\"990\">Ce:A</text>\n",
       "<!-- Text -->\n",
       "<text fill=\"#000000\" font-family=\"Helvetica\" font-size=\"216\" font-style=\"normal\" font-weight=\"bold\" text-anchor=\"middle\" x=\"1800\" xml:space=\"preserve\" y=\"2115\">1</text>\n",
       "<!-- Text -->\n",
       "<text fill=\"#000000\" font-family=\"Helvetica\" font-size=\"216\" font-style=\"normal\" font-weight=\"bold\" text-anchor=\"middle\" x=\"675\" xml:space=\"preserve\" y=\"2115\">0</text>\n",
       "<!-- Text -->\n",
       "<text fill=\"#000000\" font-family=\"Helvetica\" font-size=\"216\" font-style=\"normal\" font-weight=\"bold\" text-anchor=\"middle\" x=\"4050\" xml:space=\"preserve\" y=\"-1035\">Ce:E</text>\n",
       "<!-- Text -->\n",
       "<text fill=\"#000000\" font-family=\"Helvetica\" font-size=\"216\" font-style=\"normal\" font-weight=\"bold\" text-anchor=\"middle\" x=\"4050\" xml:space=\"preserve\" y=\"90\">0</text>\n",
       "<!-- Text -->\n",
       "<text fill=\"#000000\" font-family=\"Helvetica\" font-size=\"216\" font-style=\"normal\" font-weight=\"bold\" text-anchor=\"middle\" x=\"4050\" xml:space=\"preserve\" y=\"2115\">0</text>\n",
       "<!-- Text -->\n",
       "<text fill=\"#000000\" font-family=\"Helvetica\" font-size=\"216\" font-style=\"normal\" font-weight=\"bold\" text-anchor=\"middle\" x=\"4050\" xml:space=\"preserve\" y=\"990\">Ce:C</text>\n",
       "<!-- Text -->\n",
       "<text fill=\"#000000\" font-family=\"Helvetica\" font-size=\"216\" font-style=\"normal\" font-weight=\"bold\" text-anchor=\"middle\" x=\"7425\" xml:space=\"preserve\" y=\"990\">Ce:B</text>\n",
       "<!-- Text -->\n",
       "<text fill=\"#000000\" font-family=\"Helvetica\" font-size=\"216\" font-style=\"normal\" font-weight=\"bold\" text-anchor=\"middle\" x=\"7425\" xml:space=\"preserve\" y=\"2115\">0</text>\n",
       "<!-- Text -->\n",
       "<text fill=\"#000000\" font-family=\"Helvetica\" font-size=\"216\" font-style=\"normal\" font-weight=\"bold\" text-anchor=\"middle\" x=\"6300\" xml:space=\"preserve\" y=\"2115\">1</text>\n",
       "<!-- Line -->\n",
       "<polyline points=\" 6075,1800 4275,0 4275,225\" stroke=\"#000000\" stroke-width=\"15px\"/>\n",
       "<!-- Line -->\n",
       "<polyline points=\" 3825,0 2025,1800 2250,1800\" stroke=\"#000000\" stroke-width=\"15px\"/>\n",
       "<!-- Line -->\n",
       "<polyline points=\" 900,2025 1575,2025 1350,2250\" stroke=\"#000000\" stroke-width=\"15px\"/>\n",
       "<!-- Line -->\n",
       "<polyline points=\" 6525,2025 7200,2025 6975,2250\" stroke=\"#000000\" stroke-width=\"15px\"/>\n",
       "<!-- Line -->\n",
       "<polyline points=\" 675,1800 675,1125 900,1350\" stroke=\"#000000\" stroke-width=\"15px\"/>\n",
       "<!-- Line -->\n",
       "<polyline points=\" 4050,-225 4050,-900 4275,-675\" stroke=\"#000000\" stroke-width=\"15px\"/>\n",
       "<!-- Line -->\n",
       "<polyline points=\" 4050,1800 4050,1125 4275,1350\" stroke=\"#000000\" stroke-width=\"15px\"/>\n",
       "<!-- Line -->\n",
       "<polyline points=\" 7425,1800 7425,1125 7650,1350\" stroke=\"#000000\" stroke-width=\"15px\"/>\n",
       "<!-- Line -->\n",
       "<polyline points=\" 3150,2025 3825,2025 3600,2250\" stroke=\"#000000\" stroke-width=\"15px\"/>\n",
       "<!-- Line -->\n",
       "<polyline points=\" 4275,2025 4950,2025 4725,2250\" stroke=\"#000000\" stroke-width=\"15px\"/>\n",
       "<!-- Line -->\n",
       "<polyline points=\" 5400,2025 6075,2025 5850,2250\" stroke=\"#000000\" stroke-width=\"15px\"/>\n",
       "<!-- Line -->\n",
       "<polyline points=\" 2025,2025 2700,2025 2475,2250\" stroke=\"#000000\" stroke-width=\"15px\"/>\n",
       "</g>\n",
       "</svg>"
      ],
      "text/plain": [
       "<IPython.core.display.SVG object>"
      ]
     },
     "execution_count": 3,
     "metadata": {},
     "output_type": "execute_result"
    }
   ],
   "source": [
    "## Enzyme-catalysed reaction\n",
    "sbg.model('RE_abg.svg')\n",
    "import RE_abg\n",
    "disp.SVG('RE_abg.svg')"
   ]
  },
  {
   "cell_type": "code",
   "execution_count": 4,
   "metadata": {},
   "outputs": [
    {
     "data": {
      "text/latex": [
       "\\begin{align}\n",
       "\\ch{A + E &<>[ r1 ] C }\\\\\n",
       "\\ch{C &<>[ r2 ] B + E }\n",
       "\\end{align}\n"
      ],
      "text/plain": [
       "<IPython.core.display.Latex object>"
      ]
     },
     "execution_count": 4,
     "metadata": {},
     "output_type": "execute_result"
    }
   ],
   "source": [
    "s = st.stoich(RE_abg.model(),quiet=quiet)\n",
    "disp.Latex(st.sprintrl(s,chemformula=True))"
   ]
  },
  {
   "cell_type": "markdown",
   "metadata": {},
   "source": [
    "# Cooperative enzyme-catalysed reaction\n",
    "\n",
    "<cite data-cite=\"KeeSne09\">(Keener and Sneyd, 2009)</cite>, Section 1.4.4, discusses cooperativity. This section gives a bond graph interpretation. This is done in two ways:\n",
    "\n",
    "1. As a graphical representation of a two-stage cooperative enzyme-catalysed reaction.\n",
    "2. As a generic representation of an N-stage cooperative enzyme-catalysed reaction using  [bond-graph tools](https://pypi.org/project/BondGraphTools/)"
   ]
  },
  {
   "cell_type": "markdown",
   "metadata": {},
   "source": [
    "## Two-stage cooperative enzyme-catalysed reaction (N=2) <a id='coop2'></a>\n"
   ]
  },
  {
   "cell_type": "code",
   "execution_count": 5,
   "metadata": {},
   "outputs": [
    {
     "data": {
      "image/svg+xml": [
       "<svg height=\"811pt\" viewBox=\"-1147 1328 9269 12869\" width=\"584pt\" xmlns=\"http://www.w3.org/2000/svg\" xmlns:xlink=\"http://www.w3.org/1999/xlink\">\n",
       "<g fill=\"none\">\n",
       "<!-- Line -->\n",
       "<rect height=\"4725\" rx=\"105\" stroke=\"#0000ff\" stroke-dasharray=\"60 60\" stroke-width=\"15px\" width=\"9225\" x=\"-1125\" y=\"1350\"/>\n",
       "<!-- Line -->\n",
       "<rect height=\"3825\" rx=\"105\" stroke=\"#0000ff\" stroke-dasharray=\"60 60\" stroke-width=\"15px\" width=\"9225\" x=\"-1125\" y=\"6300\"/>\n",
       "<!-- Line -->\n",
       "<rect height=\"3825\" rx=\"105\" stroke=\"#0000ff\" stroke-dasharray=\"60 60\" stroke-width=\"15px\" width=\"9225\" x=\"-1125\" y=\"10350\"/>\n",
       "<!-- Text -->\n",
       "<text fill=\"#000000\" font-family=\"Helvetica\" font-size=\"216\" font-style=\"normal\" font-weight=\"bold\" text-anchor=\"middle\" x=\"3375\" xml:space=\"preserve\" y=\"3240\">0</text>\n",
       "<!-- Text -->\n",
       "<text fill=\"#000000\" font-family=\"Helvetica\" font-size=\"216\" font-style=\"normal\" font-weight=\"bold\" text-anchor=\"middle\" x=\"2025\" xml:space=\"preserve\" y=\"4590\">1</text>\n",
       "<!-- Text -->\n",
       "<text fill=\"#000000\" font-family=\"Helvetica\" font-size=\"216\" font-style=\"normal\" font-weight=\"bold\" text-anchor=\"middle\" x=\"3375\" xml:space=\"preserve\" y=\"5940\">0</text>\n",
       "<!-- Text -->\n",
       "<text fill=\"#000000\" font-family=\"Helvetica\" font-size=\"216\" font-style=\"normal\" font-weight=\"bold\" text-anchor=\"middle\" x=\"4725\" xml:space=\"preserve\" y=\"4590\">1</text>\n",
       "<!-- Text -->\n",
       "<text fill=\"#000000\" font-family=\"Helvetica\" font-size=\"216\" font-style=\"normal\" font-weight=\"bold\" text-anchor=\"middle\" x=\"675\" xml:space=\"preserve\" y=\"4590\">0</text>\n",
       "<!-- Text -->\n",
       "<text fill=\"#000000\" font-family=\"Helvetica\" font-size=\"216\" font-style=\"normal\" font-weight=\"bold\" text-anchor=\"middle\" x=\"6075\" xml:space=\"preserve\" y=\"4590\">0</text>\n",
       "<!-- Text -->\n",
       "<text fill=\"#000000\" font-family=\"Helvetica\" font-size=\"216\" font-style=\"normal\" font-weight=\"bold\" text-anchor=\"middle\" x=\"3375\" xml:space=\"preserve\" y=\"7290\">0</text>\n",
       "<!-- Text -->\n",
       "<text fill=\"#000000\" font-family=\"Helvetica\" font-size=\"216\" font-style=\"normal\" font-weight=\"bold\" text-anchor=\"middle\" x=\"2025\" xml:space=\"preserve\" y=\"8640\">1</text>\n",
       "<!-- Text -->\n",
       "<text fill=\"#000000\" font-family=\"Helvetica\" font-size=\"216\" font-style=\"normal\" font-weight=\"bold\" text-anchor=\"middle\" x=\"3375\" xml:space=\"preserve\" y=\"9990\">0</text>\n",
       "<!-- Text -->\n",
       "<text fill=\"#000000\" font-family=\"Helvetica\" font-size=\"216\" font-style=\"normal\" font-weight=\"bold\" text-anchor=\"middle\" x=\"4725\" xml:space=\"preserve\" y=\"8640\">1</text>\n",
       "<!-- Text -->\n",
       "<text fill=\"#000000\" font-family=\"Helvetica\" font-size=\"216\" font-style=\"normal\" font-weight=\"bold\" text-anchor=\"middle\" x=\"675\" xml:space=\"preserve\" y=\"8640\">0</text>\n",
       "<!-- Text -->\n",
       "<text fill=\"#000000\" font-family=\"Helvetica\" font-size=\"216\" font-style=\"normal\" font-weight=\"bold\" text-anchor=\"middle\" x=\"6075\" xml:space=\"preserve\" y=\"8640\">0</text>\n",
       "<!-- Text -->\n",
       "<text fill=\"#000000\" font-family=\"Helvetica\" font-size=\"216\" font-style=\"normal\" font-weight=\"bold\" text-anchor=\"middle\" x=\"3375\" xml:space=\"preserve\" y=\"11340\">0</text>\n",
       "<!-- Text -->\n",
       "<text fill=\"#000000\" font-family=\"Helvetica\" font-size=\"216\" font-style=\"normal\" font-weight=\"bold\" text-anchor=\"middle\" x=\"2025\" xml:space=\"preserve\" y=\"12690\">1</text>\n",
       "<!-- Text -->\n",
       "<text fill=\"#000000\" font-family=\"Helvetica\" font-size=\"216\" font-style=\"normal\" font-weight=\"bold\" text-anchor=\"middle\" x=\"3375\" xml:space=\"preserve\" y=\"14040\">0</text>\n",
       "<!-- Text -->\n",
       "<text fill=\"#000000\" font-family=\"Helvetica\" font-size=\"216\" font-style=\"normal\" font-weight=\"bold\" text-anchor=\"middle\" x=\"4725\" xml:space=\"preserve\" y=\"12690\">1</text>\n",
       "<!-- Text -->\n",
       "<text fill=\"#000000\" font-family=\"Helvetica\" font-size=\"216\" font-style=\"normal\" font-weight=\"bold\" text-anchor=\"middle\" x=\"675\" xml:space=\"preserve\" y=\"12690\">0</text>\n",
       "<!-- Text -->\n",
       "<text fill=\"#000000\" font-family=\"Helvetica\" font-size=\"216\" font-style=\"normal\" font-weight=\"bold\" text-anchor=\"middle\" x=\"6075\" xml:space=\"preserve\" y=\"12690\">0</text>\n",
       "<!-- Text -->\n",
       "<text fill=\"#000000\" font-family=\"Helvetica\" font-size=\"216\" font-style=\"normal\" font-weight=\"bold\" text-anchor=\"middle\" x=\"-765\" xml:space=\"preserve\" y=\"4590\">Ce:A</text>\n",
       "<!-- Text -->\n",
       "<text fill=\"#000000\" font-family=\"Helvetica\" font-size=\"216\" font-style=\"normal\" font-weight=\"bold\" text-anchor=\"middle\" x=\"7560\" xml:space=\"preserve\" y=\"4590\">Ce:B</text>\n",
       "<!-- Text -->\n",
       "<text fill=\"#000000\" font-family=\"Helvetica\" font-size=\"216\" font-style=\"normal\" font-weight=\"bold\" text-anchor=\"middle\" x=\"3375\" xml:space=\"preserve\" y=\"1800\">Ce:E0</text>\n",
       "<!-- Text -->\n",
       "<text fill=\"#000000\" font-family=\"Helvetica\" font-size=\"216\" font-style=\"normal\" font-weight=\"bold\" text-anchor=\"middle\" x=\"2025\" xml:space=\"preserve\" y=\"3150\">Re:r01</text>\n",
       "<!-- Text -->\n",
       "<text fill=\"#000000\" font-family=\"Helvetica\" font-size=\"216\" font-style=\"normal\" font-weight=\"bold\" text-anchor=\"middle\" x=\"4725\" xml:space=\"preserve\" y=\"3150\">Re:r02</text>\n",
       "<!-- Text -->\n",
       "<text fill=\"#000000\" font-family=\"Helvetica\" font-size=\"216\" font-style=\"normal\" font-weight=\"bold\" text-anchor=\"middle\" x=\"3375\" xml:space=\"preserve\" y=\"4275\">Ce:E1</text>\n",
       "<!-- Text -->\n",
       "<text fill=\"#000000\" font-family=\"Helvetica\" font-size=\"216\" font-style=\"normal\" font-weight=\"bold\" text-anchor=\"middle\" x=\"2025\" xml:space=\"preserve\" y=\"7200\">Re:r11</text>\n",
       "<!-- Text -->\n",
       "<text fill=\"#000000\" font-family=\"Helvetica\" font-size=\"216\" font-style=\"normal\" font-weight=\"bold\" text-anchor=\"middle\" x=\"3375\" xml:space=\"preserve\" y=\"8325\">Ce:E2</text>\n",
       "<!-- Text -->\n",
       "<text fill=\"#000000\" font-family=\"Helvetica\" font-size=\"216\" font-style=\"normal\" font-weight=\"bold\" text-anchor=\"middle\" x=\"2025\" xml:space=\"preserve\" y=\"11250\">Re:r21</text>\n",
       "<!-- Text -->\n",
       "<text fill=\"#000000\" font-family=\"Helvetica\" font-size=\"216\" font-style=\"normal\" font-weight=\"bold\" text-anchor=\"middle\" x=\"4725\" xml:space=\"preserve\" y=\"11250\">Re:r22</text>\n",
       "<!-- Text -->\n",
       "<text fill=\"#000000\" font-family=\"Helvetica\" font-size=\"216\" font-style=\"normal\" font-weight=\"bold\" text-anchor=\"middle\" x=\"3375\" xml:space=\"preserve\" y=\"12375\">Ce:E3</text>\n",
       "<!-- Text -->\n",
       "<text fill=\"#000000\" font-family=\"Helvetica\" font-size=\"216\" font-style=\"normal\" font-weight=\"bold\" text-anchor=\"middle\" x=\"4725\" xml:space=\"preserve\" y=\"7200\">Re:r12</text>\n",
       "<!-- Line -->\n",
       "<polyline points=\" -450,4500 450,4500 225,4725\" stroke=\"#000000\" stroke-width=\"15px\"/>\n",
       "<!-- Line -->\n",
       "<polyline points=\" 6300,4500 7200,4500 6975,4725\" stroke=\"#000000\" stroke-width=\"15px\"/>\n",
       "<!-- Line -->\n",
       "<polyline points=\" 3150,3375 2250,4275 2475,4275\" stroke=\"#000000\" stroke-width=\"15px\"/>\n",
       "<!-- Line -->\n",
       "<polyline points=\" 2250,4725 3150,5625 2925,5625\" stroke=\"#000000\" stroke-width=\"15px\"/>\n",
       "<!-- Line -->\n",
       "<polyline points=\" 3600,5625 4500,4725 4500,4950\" stroke=\"#000000\" stroke-width=\"15px\"/>\n",
       "<!-- Line -->\n",
       "<polyline points=\" 4500,4275 3600,3375 3600,3600\" stroke=\"#000000\" stroke-width=\"15px\"/>\n",
       "<!-- Line -->\n",
       "<polyline points=\" 3375,2925 3375,2025 3600,2250\" stroke=\"#000000\" stroke-width=\"15px\"/>\n",
       "<!-- Line -->\n",
       "<polyline points=\" 2025,4275 2025,3375 2250,3600\" stroke=\"#000000\" stroke-width=\"15px\"/>\n",
       "<!-- Line -->\n",
       "<polyline points=\" 4725,4275 4725,3375 4950,3600\" stroke=\"#000000\" stroke-width=\"15px\"/>\n",
       "<!-- Line -->\n",
       "<polyline points=\" 3375,5400 3375,4500 3600,4725\" stroke=\"#000000\" stroke-width=\"15px\"/>\n",
       "<!-- Line -->\n",
       "<polyline points=\" 900,4500 1800,4500 1575,4725\" stroke=\"#000000\" stroke-width=\"15px\"/>\n",
       "<!-- Line -->\n",
       "<polyline points=\" 4950,4500 5850,4500 5625,4725\" stroke=\"#000000\" stroke-width=\"15px\"/>\n",
       "<!-- Line -->\n",
       "<polyline points=\" 3150,7425 2250,8325 2475,8325\" stroke=\"#000000\" stroke-width=\"15px\"/>\n",
       "<!-- Line -->\n",
       "<polyline points=\" 2250,8775 3150,9675 2925,9675\" stroke=\"#000000\" stroke-width=\"15px\"/>\n",
       "<!-- Line -->\n",
       "<polyline points=\" 3600,9675 4500,8775 4500,9000\" stroke=\"#000000\" stroke-width=\"15px\"/>\n",
       "<!-- Line -->\n",
       "<polyline points=\" 4500,8325 3600,7425 3600,7650\" stroke=\"#000000\" stroke-width=\"15px\"/>\n",
       "<!-- Line -->\n",
       "<polyline points=\" 3375,6975 3375,6075 3600,6300\" stroke=\"#000000\" stroke-width=\"15px\"/>\n",
       "<!-- Line -->\n",
       "<polyline points=\" 2025,8325 2025,7425 2250,7650\" stroke=\"#000000\" stroke-width=\"15px\"/>\n",
       "<!-- Line -->\n",
       "<polyline points=\" 4725,8325 4725,7425 4950,7650\" stroke=\"#000000\" stroke-width=\"15px\"/>\n",
       "<!-- Line -->\n",
       "<polyline points=\" 3375,9450 3375,8550 3600,8775\" stroke=\"#000000\" stroke-width=\"15px\"/>\n",
       "<!-- Line -->\n",
       "<polyline points=\" 900,8550 1800,8550 1575,8775\" stroke=\"#000000\" stroke-width=\"15px\"/>\n",
       "<!-- Line -->\n",
       "<polyline points=\" 4950,8550 5850,8550 5625,8775\" stroke=\"#000000\" stroke-width=\"15px\"/>\n",
       "<!-- Line -->\n",
       "<polyline points=\" 3150,11475 2250,12375 2475,12375\" stroke=\"#000000\" stroke-width=\"15px\"/>\n",
       "<!-- Line -->\n",
       "<polyline points=\" 2250,12825 3150,13725 2925,13725\" stroke=\"#000000\" stroke-width=\"15px\"/>\n",
       "<!-- Line -->\n",
       "<polyline points=\" 3600,13725 4500,12825 4500,13050\" stroke=\"#000000\" stroke-width=\"15px\"/>\n",
       "<!-- Line -->\n",
       "<polyline points=\" 4500,12375 3600,11475 3600,11700\" stroke=\"#000000\" stroke-width=\"15px\"/>\n",
       "<!-- Line -->\n",
       "<polyline points=\" 3375,11025 3375,10125 3600,10350\" stroke=\"#000000\" stroke-width=\"15px\"/>\n",
       "<!-- Line -->\n",
       "<polyline points=\" 2025,12375 2025,11475 2250,11700\" stroke=\"#000000\" stroke-width=\"15px\"/>\n",
       "<!-- Line -->\n",
       "<polyline points=\" 4725,12375 4725,11475 4950,11700\" stroke=\"#000000\" stroke-width=\"15px\"/>\n",
       "<!-- Line -->\n",
       "<polyline points=\" 3375,13500 3375,12600 3600,12825\" stroke=\"#000000\" stroke-width=\"15px\"/>\n",
       "<!-- Line -->\n",
       "<polyline points=\" 900,12600 1800,12600 1575,12825\" stroke=\"#000000\" stroke-width=\"15px\"/>\n",
       "<!-- Line -->\n",
       "<polyline points=\" 4950,12600 5850,12600 5625,12825\" stroke=\"#000000\" stroke-width=\"15px\"/>\n",
       "<!-- Line -->\n",
       "<polyline points=\" 675,4725 675,8325 900,8100\" stroke=\"#000000\" stroke-width=\"15px\"/>\n",
       "<!-- Line -->\n",
       "<polyline points=\" 675,8775 675,12375 900,12150\" stroke=\"#000000\" stroke-width=\"15px\"/>\n",
       "<!-- Line -->\n",
       "<polyline points=\" 6075,8325 6075,4725 6300,4950\" stroke=\"#000000\" stroke-width=\"15px\"/>\n",
       "<!-- Line -->\n",
       "<polyline points=\" 6075,12375 6075,8775 6300,9000\" stroke=\"#000000\" stroke-width=\"15px\"/>\n",
       "</g>\n",
       "</svg>"
      ],
      "text/plain": [
       "<IPython.core.display.SVG object>"
      ]
     },
     "execution_count": 5,
     "metadata": {},
     "output_type": "execute_result"
    }
   ],
   "source": [
    "## Two-stage cooperative enzyme-catalysed reaction (N=2)\n",
    "sbg.model('Coop_abg.svg',quiet=quiet)\n",
    "import Coop_abg\n",
    "disp.SVG('Coop_abg.svg')"
   ]
  },
  {
   "cell_type": "code",
   "execution_count": 6,
   "metadata": {},
   "outputs": [
    {
     "data": {
      "text/latex": [
       "\\begin{align}\n",
       "\\ch{A + E0 &<>[ r01 ] E1 }\\\\\n",
       "\\ch{E1 &<>[ r02 ] B + E0 }\\\\\n",
       "\\ch{A + E1 &<>[ r11 ] E2 }\\\\\n",
       "\\ch{E2 &<>[ r12 ] B + E1 }\\\\\n",
       "\\ch{A + E2 &<>[ r21 ] E3 }\\\\\n",
       "\\ch{E3 &<>[ r22 ] B + E2 }\n",
       "\\end{align}\n"
      ],
      "text/plain": [
       "<IPython.core.display.Latex object>"
      ]
     },
     "execution_count": 6,
     "metadata": {},
     "output_type": "execute_result"
    }
   ],
   "source": [
    "ss = st.stoich(Coop_abg.model(),quiet=quiet)\n",
    "ssc = st.statify(ss,chemostats=['A','B'])\n",
    "disp.Latex(st.sprintrl(ss,chemformula=True))\n"
   ]
  },
  {
   "cell_type": "markdown",
   "metadata": {},
   "source": [
    "## Create cooperative enzyme-catalysed reaction of any degree N\n",
    "The following code builds an N-stage cooperative enzyme-catalysed reaction using  [bond-graph tools](https://pypi.org/project/BondGraphTools/).\n",
    "\n",
    "1. N+1 instances of the basic enzyme-catalysed reaction are created and the enzyme and complex renamed.\n",
    "2. The substrate A, product B  and enzymes E1-EN are unified."
   ]
  },
  {
   "cell_type": "code",
   "execution_count": 7,
   "metadata": {},
   "outputs": [],
   "source": [
    "## Create cooperative enzyme-catalysed reaction of any degree N\n",
    "## Optionally append a simple reaction\n",
    "## Optionally use feedback inhibition\n",
    "def makeCoop(N=3,quiet=True):\n",
    "    Coop = bgt.new(name='Coop')\n",
    "    for i in range(N+1):\n",
    "        RE = RE_abg.model()\n",
    "        RE.name = 'RE'+str(i)\n",
    "        mbg.rename(RE,{\n",
    "                    'E':'E'+str(i), \n",
    "                    'C':'E'+str(i+1),\n",
    "                    'r1':'r'+str(i)+'1',\n",
    "                    'r2':'r'+str(i)+'2'\n",
    "                    },\n",
    "                   quiet=quiet)\n",
    "        Coop.add(RE)\n",
    "\n",
    "    ## Unify common components\n",
    "    unified = ['A','B']\n",
    "    for i in range(N): \n",
    "        Ei = 'E'+str(i+1)\n",
    "        unified.append(Ei)\n",
    "    print('unified =',unified)\n",
    "    mbg.unify(Coop,unified,quiet=quiet)\n",
    "\n",
    "        \n",
    "    ## Stoichiometry\n",
    "    chemostats = ['A','B']\n",
    "    s = st.stoich(Coop,quiet=quiet)\n",
    "    sc = st.statify(s,chemostats=chemostats)\n",
    "    if not quiet:\n",
    "        print(st.sprint(sc,'species'))\n",
    "        print(st.sprint(sc,'reaction'))\n",
    "    return s,sc,Coop"
   ]
  },
  {
   "cell_type": "markdown",
   "metadata": {},
   "source": [
    "### Generate equations for $N=2$\n",
    "Note that these equations are identical to those of the explicit bondgraph."
   ]
  },
  {
   "cell_type": "code",
   "execution_count": 8,
   "metadata": {},
   "outputs": [
    {
     "name": "stdout",
     "output_type": "stream",
     "text": [
      "unified = ['A', 'B', 'E1', 'E2']\n"
     ]
    },
    {
     "data": {
      "text/latex": [
       "\\begin{align}\n",
       "\\ch{E0 + A &<>[ r01 ] E1 }\\\\\n",
       "\\ch{E1 &<>[ r02 ] E0 + B }\\\\\n",
       "\\ch{A + E1 &<>[ r11 ] E2 }\\\\\n",
       "\\ch{E2 &<>[ r12 ] B + E1 }\\\\\n",
       "\\ch{A + E2 &<>[ r21 ] E3 }\\\\\n",
       "\\ch{E3 &<>[ r22 ] B + E2 }\n",
       "\\end{align}\n"
      ],
      "text/plain": [
       "<IPython.core.display.Latex object>"
      ]
     },
     "execution_count": 8,
     "metadata": {},
     "output_type": "execute_result"
    }
   ],
   "source": [
    "### Generate equations for N=2\n",
    "s,sc,Coop = makeCoop(N=2,quiet=quiet)\n",
    "disp.Latex(st.sprintrl(s,chemformula=True))"
   ]
  },
  {
   "cell_type": "markdown",
   "metadata": {},
   "source": [
    "### Generate pathway equations for $N=2$\n",
    "Pathways are generated using the approach of <cite data-cite=\"GawCra17\">Gawthrop and Crampin (2014)</cite>."
   ]
  },
  {
   "cell_type": "code",
   "execution_count": 9,
   "metadata": {},
   "outputs": [
    {
     "name": "stdout",
     "output_type": "stream",
     "text": [
      "3 pathways\n",
      "0:  + r01 + r02\n",
      "1:  + r11 + r12\n",
      "2:  + r21 + r22\n",
      "\n"
     ]
    },
    {
     "data": {
      "text/latex": [
       "\\begin{align}\n",
       "A  &\\Leftrightarrow B \\\\\n",
       "A  &\\Leftrightarrow B \\\\\n",
       "A  &\\Leftrightarrow B \n",
       "\\end{align}\n"
      ],
      "text/plain": [
       "<IPython.core.display.Latex object>"
      ]
     },
     "execution_count": 9,
     "metadata": {},
     "output_type": "execute_result"
    }
   ],
   "source": [
    "sp = st.path(s,sc)\n",
    "print(st.sprintp(sc))\n",
    "disp.Latex(st.sprintrl(sp))"
   ]
  },
  {
   "cell_type": "markdown",
   "metadata": {},
   "source": [
    "## Steady-state properties\n",
    "\n",
    "The steady state properties are investigated using dynamic simulation where slowly varing exogenous quantities are used to induce quasi-steady-state behaviour. In each case, the variable is at a constant value to start with followed by a slowly increasing ramp. The response after the initial reponse is plotted to remove artefacts due to the initial transient.\n",
    "\n",
    "All parameters are unity except for $K_B=0.01$ (to approximate an irreversible reaction) and initial states are chosen so that the total enzyme is $e_0=1$."
   ]
  },
  {
   "cell_type": "markdown",
   "metadata": {},
   "source": [
    "### Set up some parameters for simulation"
   ]
  },
  {
   "cell_type": "code",
   "execution_count": 10,
   "metadata": {},
   "outputs": [],
   "source": [
    "## Set up some parameters for simulation\n",
    "def setParameter(s,N,e0):\n",
    "    ## Set up the non-unit parameters and states\n",
    "    \n",
    "    K_E0 = 1\n",
    "    K_EN = 1/K_E0\n",
    "    K_m = K_EN/K_E0\n",
    "    parameter = {}\n",
    "\n",
    "    ## Set product constant to a small value\n",
    "    ## to make the ECR approximately irreversible\n",
    "    K_B = 0.01\n",
    "    parameter['K_B'] = K_B\n",
    "    \n",
    "    ## Set up enzyme parameters and reaction constants\n",
    "    parameter['K_E0'] = K_E0\n",
    "    parameter['K_E'+str(N+1)] = K_EN\n",
    "    \n",
    "    ## States\n",
    "    ## Set total enzyme to e0\n",
    "    X0 = np.ones(s['n_X'])\n",
    "    for i in range(N+2):\n",
    "        Ei = 'E'+str(i)\n",
    "        X0[s['spec_index'][Ei]] = (e0/(N+2))     \n",
    "        \n",
    "    return parameter,X0,K_EN,K_m"
   ]
  },
  {
   "cell_type": "code",
   "execution_count": 11,
   "metadata": {},
   "outputs": [],
   "source": [
    "## Compute the total enzyme\n",
    "def totalE(N,dat,Feedback=False):\n",
    "    E_spec = []\n",
    "    for i in range(N+2):\n",
    "        Ei = 'E'+str(i)\n",
    "        E_spec.append(Ei)\n",
    "    \n",
    "    for spec in E_spec:\n",
    "        x = copy.copy(dat['X'][:,s['spec_index'][spec]])\n",
    "        if spec is E_spec[0]:\n",
    "            X = x\n",
    "        else:\n",
    "            X += x\n",
    "            \n",
    "    return X\n",
    "            "
   ]
  },
  {
   "cell_type": "code",
   "execution_count": 12,
   "metadata": {},
   "outputs": [],
   "source": [
    "## Compute the total flow\n",
    "def totalFlow(s,N,dat):\n",
    "    for i in range(N+1):\n",
    "        r = 'r'+str(i)+'2'\n",
    "        Vi = copy.copy(dat['V'][:,s['reac_index'][r]])\n",
    "        if i is 0:\n",
    "            V = Vi\n",
    "        else:\n",
    "            V += Vi\n",
    "    return V"
   ]
  },
  {
   "cell_type": "markdown",
   "metadata": {},
   "source": [
    "### Vary substrate concentration  $x_A$"
   ]
  },
  {
   "cell_type": "code",
   "execution_count": 27,
   "metadata": {},
   "outputs": [
    {
     "name": "stdout",
     "output_type": "stream",
     "text": [
      "unified = ['A', 'B']\n",
      "unified = ['A', 'B', 'E1']\n",
      "unified = ['A', 'B', 'E1', 'E2', 'E3', 'E4', 'E5']\n"
     ]
    },
    {
     "data": {
      "image/png": "[encoded data removed]",
      "text/plain": [
       "<Figure size 432x288 with 1 Axes>"
      ]
     },
     "metadata": {},
     "output_type": "display_data"
    }
   ],
   "source": [
    "## Simulation\n",
    "## Vary x_A\n",
    "\n",
    "##Time\n",
    "quiet = True\n",
    "t_max = int(1e4)\n",
    "t = np.linspace(0,t_max,10000)\n",
    "t_0 = 100\n",
    "t_1 = t_max-t_0\n",
    "i_max = len(t)\n",
    "i_0 = int(i_max*t_0/t_max)\n",
    "i_1 = i_max-i_0\n",
    "\n",
    "NN = [0,1,5]\n",
    "for N in NN:\n",
    "    ## Create system stoichiometry\n",
    "    s,sc,Coop = makeCoop(N=N,quiet=quiet)\n",
    "    \n",
    "    ## Non-unit parameters and states\n",
    "    e0 = 1 # Total enzyme\n",
    "    parameter,X0,K_EN,K_m = setParameter(s,N,e0)\n",
    "    K_B = parameter['K_B']\n",
    "\n",
    "    ## Chemostats: vary x_A\n",
    "    x_max = 100\n",
    "    x_A_max = 10\n",
    "    x_min = K_B\n",
    "    \n",
    "    A_chemo = '{3} + ({0}-{3})*np.heaviside(t-{1},1)*((t-{1})/{2})'.format(x_max,t_0,t_1,x_min)\n",
    "    X_chemo =  {'A':A_chemo}\n",
    "    \n",
    "    ## Simulate\n",
    "    dat = st.sim(s,sc=sc,t=t,parameter=parameter,X0=X0,X_chemo=X_chemo,quiet=quiet)\n",
    "    V = totalFlow(s,N,dat)\n",
    "    x_A = dat['X'][:,s['spec_index']['A']]\n",
    "    \n",
    "    ## Compute approx ECR flow (assumes K_B is small)\n",
    "    V_ECR = e0*(x_A-K_B)/((2*K_m) + x_A)\n",
    "    \n",
    "    if N is NN[0]:\n",
    "        VV = V\n",
    "        VV_ECR = V_ECR\n",
    "    else:\n",
    "        VV = np.vstack((VV,V))\n",
    "\n",
    "\n",
    "## Plot flow v. x_A  \n",
    "grey = '0.8'\n",
    "plt.clf()\n",
    "plt.plot(x_A,VV_ECR,color=grey,lw=10)\n",
    "if len(NN) is 1:\n",
    "    plt.plot(x_A[-i_1:],VV[-i_1:])\n",
    "else:\n",
    "    plt.plot(x_A[-i_1:],VV[:,-i_1:].T)   \n",
    "plt.grid()\n",
    "plt.ylim((0,e0))\n",
    "plt.xlim((0,x_A_max))\n",
    "plt.legend(['N=0 (theory)']+['N='+str(i) for i in NN])\n",
    "plt.xlabel('$x_A$')\n",
    "plt.ylabel('$v$')\n",
    "plt.show()\n"
   ]
  },
  {
   "cell_type": "markdown",
   "metadata": {},
   "source": [
    "The effect of cooperativity is to give an approximation to a linear rise in $v$ as $x_A$ increases with a cut off at $v=e0=1$."
   ]
  },
  {
   "cell_type": "markdown",
   "metadata": {},
   "source": [
    "## Replot against $\\phi_A$\n",
    "It is common to plot v against the logarithm of $x_A$. Here we use the potential $\\phi_A = \\ln K_A x_A$."
   ]
  },
  {
   "cell_type": "code",
   "execution_count": 28,
   "metadata": {},
   "outputs": [
    {
     "data": {
      "image/png": "[encoded data removed]",
      "text/plain": [
       "<Figure size 432x288 with 1 Axes>"
      ]
     },
     "metadata": {},
     "output_type": "display_data"
    }
   ],
   "source": [
    "phi_A = dat['phi'][:,s['spec_index']['A']]\n",
    "plt.clf()\n",
    "plt.plot(phi_A,VV_ECR,color=grey,lw=10)\n",
    "if len(NN) is 1:\n",
    "    plt.plot(phi_A[-i_1:],VV[-i_1:])\n",
    "else:\n",
    "    plt.plot(phi_A[-i_1:],VV[:,-i_1:].T)   \n",
    "plt.grid()\n",
    "plt.ylim((0,e0))\n",
    "#plt.xlim((0,x_max))\n",
    "plt.legend(['N=0 (theory)']+['N='+str(i) for i in NN])\n",
    "plt.xlabel('$\\phi_A$')\n",
    "plt.ylabel('$v$')\n",
    "plt.show()\n",
    "\n"
   ]
  },
  {
   "cell_type": "markdown",
   "metadata": {},
   "source": [
    "## A closer look\n",
    "The following graphs look more closely at the behaviour of the system for N=5. \n",
    "\n",
    "1. The first graph shows the $N+1=6$ enzyme/complex states plotted against $x_A$. These states form a conserved moiety and the sum is $e_0$.\n",
    "2. The second graph shows the $N=5$ reaction flows plotted against $x_A$. In this particular case, $K_B\\approx0$ and so the flow though reaction $ri2$ is $v_i \\approx \\kappa_{ri2} K_{Ei+1} x_{Ei+1} = x_{Ei+1}$."
   ]
  },
  {
   "cell_type": "code",
   "execution_count": 14,
   "metadata": {
    "scrolled": true
   },
   "outputs": [
    {
     "data": {
      "image/png": "[encoded data removed]",
      "text/plain": [
       "<Figure size 432x288 with 1 Axes>"
      ]
     },
     "metadata": {},
     "output_type": "display_data"
    },
    {
     "data": {
      "image/png": "[encoded data removed]",
      "text/plain": [
       "<Figure size 432x288 with 1 Axes>"
      ]
     },
     "metadata": {},
     "output_type": "display_data"
    }
   ],
   "source": [
    "st.plot(s,dat,species=['E'+str(i) for i in range(N+2)],reaction=[],ylim=(0,1),x=x_A,i0=i_0)\n",
    "st.plot(s,dat,species=[],reaction=['r'+str(i)+'2' for i in range(N+1)],ylim=(0,1),x=x_A,i0=i_0)\n"
   ]
  },
  {
   "cell_type": "code",
   "execution_count": null,
   "metadata": {},
   "outputs": [],
   "source": []
  }
 ],
 "metadata": {
  "kernelspec": {
   "display_name": "Python 3",
   "language": "python",
   "name": "python3"
  },
  "language_info": {
   "codemirror_mode": {
    "name": "ipython",
    "version": 3
   },
   "file_extension": ".py",
   "mimetype": "text/x-python",
   "name": "python",
   "nbconvert_exporter": "python",
   "pygments_lexer": "ipython3",
   "version": "3.6.9"
  },
  "toc": {
   "base_numbering": 1,
   "nav_menu": {},
   "number_sections": true,
   "sideBar": true,
   "skip_h1_title": false,
   "title_cell": "Table of Contents",
   "title_sidebar": "Contents",
   "toc_cell": false,
   "toc_position": {},
   "toc_section_display": true,
   "toc_window_display": false
  }
 },
 "nbformat": 4,
 "nbformat_minor": 2
}
