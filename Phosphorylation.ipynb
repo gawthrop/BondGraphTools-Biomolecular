{
 "cells": [
  {
   "cell_type": "markdown",
   "metadata": {},
   "source": [
    "***Note: this is the Phosphorylation.ipynb notebook. The\n",
    "PDF version is available [here](Phosphorylation.pdf).***\n"
   ]
  },
  {
   "cell_type": "markdown",
   "metadata": {},
   "source": [
    "\n",
    "# Introduction\n",
    "The Mitogen-activated Protein Kinase (MAPK) cascade is a well-studied\n",
    "signalling pathway with ultrasensitive components \n",
    "<cite data-cite=\"AlbJohLew15,KliLieWie16\"></cite>. However, the use of the  Michaelis-Menten\n",
    "approximation to enzyme-catalysed reactions can be misleading in this\n",
    "context <cite data-cite='Voi13'></cite>.\n",
    "\n",
    "Following <cite data-cite=\"GawCra16\"></cite>, each phosphorylation step is built out of\n",
    "reversible mass-action reactions using the bond graph approach of\n",
    "<cite data-cite=\"GawCra14\"></cite>. This resolves the potential problems\n",
    "mentioned above as well as giving a thermodynamically compliant model\n",
    "which explicitly accounts for energy consumption via ATP hydrolysis.\n",
    "\n",
    "This notebook presents, analyses and simulates three bond graph models\n",
    "using [BondGraphTools](https://pypi.org/project/BondGraphTools/) and extensions:\n",
    "\n",
    "1. A phosphorylation/dephosphorylation system (PD).\n",
    "\n",
    "2. A double phosphorylation/dephosphorylation system (DPD).\n",
    "\n",
    "3. A Mitogen-activated Protein Kinase (MAPK)\n",
    "   cascade using a cascade of one PD systems and two DPD systems.\n"
   ]
  },
  {
   "cell_type": "markdown",
   "metadata": {},
   "source": [
    "## Import some python code\n",
    "The bond graph analysis uses a number of Python modules:"
   ]
  },
  {
   "cell_type": "code",
   "execution_count": 1,
   "metadata": {},
   "outputs": [],
   "source": [
    "## Some useful imports\n",
    "import BondGraphTools as bgt\n",
    "import numpy as np\n",
    "import sympy as sp\n",
    "import matplotlib.pyplot as plt\n",
    "import IPython.display as disp\n",
    "\n",
    "## Stoichiometric analysis\n",
    "import stoich as st\n",
    "\n",
    "## SVG bg representation conversion\n",
    "import svgBondGraph as sbg\n",
    "\n",
    "## Modular bond graphs\n",
    "import modularBondGraph as mbg\n",
    "\n",
    "## Export stoichiometry as bond graph\n",
    "import stoichBondGraph as stbg\n",
    "\n",
    "## Data structure copy\n",
    "import copy\n",
    "\n",
    "## Set quiet=False for verbose output\n",
    "quiet = True"
   ]
  },
  {
   "cell_type": "markdown",
   "metadata": {},
   "source": [
    "# Phosphorylation/dephosphorylation\n",
    "A biomolecular cycle involving both phosphorylation and\n",
    "dephosphorylation is a basic element of cell signalling\n",
    "<cite data-cite=\"AlbJohLew15\"></cite>. A bond graph model of this cycle\n",
    "<cite data-cite=\"GawCra14,GawCra16\"></cite> is given in the Figure.\n",
    "\n",
    "1. The upper part of the   bond graph  represents an enzyme-catalysed\n",
    "reaction phosphorylating protein M to give MP driven by the\n",
    "dephosphorylation of ATP to ADP.\n",
    "\n",
    "2. The lower part of the bond graph  represents an enzyme-catalysed\n",
    "reaction dephosphorylating protein MP to give M and P.\n",
    "\n",
    "This forms a biochemical switch <cite data-cite=\"BeaQia10\"></cite> with input the net\n",
    "amount of E1 and C1 and output the  phosphorylated protein MP. "
   ]
  },
  {
   "cell_type": "markdown",
   "metadata": {},
   "source": [
    "## Convert bond graph in SVG format to BGT format and display"
   ]
  },
  {
   "cell_type": "code",
   "execution_count": 2,
   "metadata": {},
   "outputs": [
    {
     "data": {
      "image/svg+xml": [
       "<svg height=\"655pt\" viewBox=\"-984 -2047 10456 10394\" width=\"659pt\" xmlns=\"http://www.w3.org/2000/svg\" xmlns:xlink=\"http://www.w3.org/1999/xlink\">\n",
       "<g fill=\"none\">\n",
       "<!-- Line -->\n",
       "<rect height=\"10350\" rx=\"105\" stroke=\"#ffd600\" stroke-width=\"15px\" width=\"10350\" x=\"-900\" y=\"-2025\"/>\n",
       "<!-- Text -->\n",
       "<text fill=\"#000000\" font-family=\"Helvetica\" font-size=\"216\" font-style=\"normal\" font-weight=\"bold\" text-anchor=\"middle\" x=\"6300\" xml:space=\"preserve\" y=\"3240\">0</text>\n",
       "<!-- Text -->\n",
       "<text fill=\"#000000\" font-family=\"Helvetica\" font-size=\"216\" font-style=\"normal\" font-weight=\"bold\" text-anchor=\"middle\" x=\"1800\" xml:space=\"preserve\" y=\"2115\">1</text>\n",
       "<!-- Text -->\n",
       "<g transform=\"translate(5085,2025) rotate(-270)\">\n",
       "<text fill=\"#000000\" font-family=\"Helvetica\" font-size=\"216\" font-style=\"normal\" font-weight=\"bold\" text-anchor=\"middle\" x=\"0\" xml:space=\"preserve\" y=\"0\">Re:r2</text>\n",
       "</g><!-- Text -->\n",
       "<text fill=\"#000000\" font-family=\"Helvetica\" font-size=\"216\" font-style=\"normal\" font-weight=\"bold\" text-anchor=\"middle\" x=\"4050\" xml:space=\"preserve\" y=\"2115\">0</text>\n",
       "<!-- Text -->\n",
       "<text fill=\"#000000\" font-family=\"Helvetica\" font-size=\"216\" font-style=\"normal\" font-weight=\"bold\" text-anchor=\"middle\" x=\"675\" xml:space=\"preserve\" y=\"2115\">0</text>\n",
       "<!-- Text -->\n",
       "<text fill=\"#000000\" font-family=\"Helvetica\" font-size=\"216\" font-style=\"normal\" font-weight=\"bold\" text-anchor=\"middle\" x=\"7425\" xml:space=\"preserve\" y=\"2115\">0</text>\n",
       "<!-- Text -->\n",
       "<text fill=\"#000000\" font-family=\"Helvetica\" font-size=\"216\" font-style=\"normal\" font-weight=\"bold\" text-anchor=\"middle\" x=\"6300\" xml:space=\"preserve\" y=\"4365\">1</text>\n",
       "<!-- Text -->\n",
       "<g transform=\"translate(5265,4275) rotate(-90)\">\n",
       "<text fill=\"#000000\" font-family=\"Helvetica\" font-size=\"216\" font-style=\"normal\" font-weight=\"bold\" text-anchor=\"middle\" x=\"0\" xml:space=\"preserve\" y=\"0\">Re:r3</text>\n",
       "</g><!-- Text -->\n",
       "<text fill=\"#000000\" font-family=\"Helvetica\" font-size=\"216\" font-style=\"normal\" font-weight=\"bold\" text-anchor=\"middle\" x=\"4050\" xml:space=\"preserve\" y=\"4365\">0</text>\n",
       "<!-- Text -->\n",
       "<text fill=\"#000000\" font-family=\"Helvetica\" font-size=\"216\" font-style=\"normal\" font-weight=\"bold\" text-anchor=\"middle\" x=\"1800\" xml:space=\"preserve\" y=\"4365\">1</text>\n",
       "<!-- Text -->\n",
       "<text fill=\"#000000\" font-family=\"Helvetica\" font-size=\"216\" font-style=\"normal\" font-weight=\"bold\" text-anchor=\"middle\" x=\"1800\" xml:space=\"preserve\" y=\"3240\">0</text>\n",
       "<!-- Text -->\n",
       "<text fill=\"#000000\" font-family=\"Helvetica\" font-size=\"216\" font-style=\"normal\" font-weight=\"bold\" text-anchor=\"middle\" x=\"675\" xml:space=\"preserve\" y=\"4365\">0</text>\n",
       "<!-- Text -->\n",
       "<text fill=\"#000000\" font-family=\"Helvetica\" font-size=\"216\" font-style=\"normal\" font-weight=\"bold\" text-anchor=\"middle\" x=\"675\" xml:space=\"preserve\" y=\"3240\">0</text>\n",
       "<!-- Text -->\n",
       "<text fill=\"#000000\" font-family=\"Helvetica\" font-size=\"216\" font-style=\"normal\" font-weight=\"bold\" text-anchor=\"middle\" x=\"7425\" xml:space=\"preserve\" y=\"3240\">0</text>\n",
       "<!-- Text -->\n",
       "<g transform=\"translate(2835,2025) rotate(-270)\">\n",
       "<text fill=\"#000000\" font-family=\"Helvetica\" font-size=\"216\" font-style=\"normal\" font-weight=\"bold\" text-anchor=\"middle\" x=\"0\" xml:space=\"preserve\" y=\"0\">Re:r1</text>\n",
       "</g><!-- Text -->\n",
       "<g transform=\"translate(3015,4275) rotate(-90)\">\n",
       "<text fill=\"#000000\" font-family=\"Helvetica\" font-size=\"216\" font-style=\"normal\" font-weight=\"bold\" text-anchor=\"middle\" x=\"0\" xml:space=\"preserve\" y=\"0\">Re:r4</text>\n",
       "</g><!-- Text -->\n",
       "<text fill=\"#000000\" font-family=\"Helvetica\" font-size=\"216\" font-style=\"normal\" font-weight=\"bold\" text-anchor=\"middle\" x=\"4050\" xml:space=\"preserve\" y=\"-135\">0</text>\n",
       "<!-- Text -->\n",
       "<text fill=\"#000000\" font-family=\"Helvetica\" font-size=\"216\" font-style=\"normal\" font-weight=\"bold\" text-anchor=\"middle\" x=\"4050\" xml:space=\"preserve\" y=\"6615\">0</text>\n",
       "<!-- Text -->\n",
       "<text fill=\"#000000\" font-family=\"Helvetica\" font-size=\"216\" font-style=\"normal\" font-weight=\"bold\" text-anchor=\"middle\" x=\"675\" xml:space=\"preserve\" y=\"900\">Ce:ATP</text>\n",
       "<!-- Text -->\n",
       "<text fill=\"#000000\" font-family=\"Helvetica\" font-size=\"216\" font-style=\"normal\" font-weight=\"bold\" text-anchor=\"middle\" x=\"7425\" xml:space=\"preserve\" y=\"900\">Ce:ADP</text>\n",
       "<!-- Text -->\n",
       "<text fill=\"#000000\" font-family=\"Helvetica\" font-size=\"216\" font-style=\"normal\" font-weight=\"bold\" text-anchor=\"middle\" x=\"4050\" xml:space=\"preserve\" y=\"900\">Ce:C1</text>\n",
       "<!-- Text -->\n",
       "<text fill=\"#000000\" font-family=\"Helvetica\" font-size=\"216\" font-style=\"normal\" font-weight=\"bold\" text-anchor=\"middle\" x=\"6300\" xml:space=\"preserve\" y=\"2115\">1</text>\n",
       "<!-- Text -->\n",
       "<text fill=\"#000000\" font-family=\"Helvetica\" font-size=\"216\" font-style=\"normal\" font-weight=\"bold\" text-anchor=\"middle\" x=\"4050\" xml:space=\"preserve\" y=\"5625\">Ce:C2</text>\n",
       "<!-- Text -->\n",
       "<text fill=\"#000000\" font-family=\"Helvetica\" font-size=\"216\" font-style=\"normal\" font-weight=\"bold\" text-anchor=\"middle\" x=\"675\" xml:space=\"preserve\" y=\"5625\">Ce:P</text>\n",
       "<!-- Text -->\n",
       "<text fill=\"#000000\" font-family=\"Helvetica\" font-size=\"216\" font-style=\"normal\" font-weight=\"bold\" text-anchor=\"middle\" x=\"-585\" xml:space=\"preserve\" y=\"3240\">Ce:M</text>\n",
       "<!-- Text -->\n",
       "<text fill=\"#000000\" font-family=\"Helvetica\" font-size=\"216\" font-style=\"normal\" font-weight=\"bold\" text-anchor=\"middle\" x=\"8820\" xml:space=\"preserve\" y=\"3240\">Ce:MP</text>\n",
       "<!-- Text -->\n",
       "<text fill=\"#000000\" font-family=\"Helvetica\" font-size=\"216\" font-style=\"normal\" font-weight=\"bold\" text-anchor=\"middle\" x=\"4050\" xml:space=\"preserve\" y=\"-1350\">Ce:E1</text>\n",
       "<!-- Text -->\n",
       "<text fill=\"#000000\" font-family=\"Helvetica\" font-size=\"216\" font-style=\"normal\" font-weight=\"bold\" text-anchor=\"middle\" x=\"4050\" xml:space=\"preserve\" y=\"7875\">Ce:E2</text>\n",
       "<!-- Line -->\n",
       "<polyline points=\" 2025,2025 2700,2025 2475,2250\" stroke=\"#000000\" stroke-width=\"15px\"/>\n",
       "<!-- Line -->\n",
       "<polyline points=\" 3150,2025 3825,2025 3600,2250\" stroke=\"#000000\" stroke-width=\"15px\"/>\n",
       "<!-- Line -->\n",
       "<polyline points=\" 6075,1800 4275,0 4275,225\" stroke=\"#000000\" stroke-width=\"15px\"/>\n",
       "<!-- Line -->\n",
       "<polyline points=\" 3825,0 2025,1800 2250,1800\" stroke=\"#000000\" stroke-width=\"15px\"/>\n",
       "<!-- Line -->\n",
       "<polyline points=\" 4050,1800 4050,1125 4275,1350\" stroke=\"#000000\" stroke-width=\"15px\"/>\n",
       "<!-- Line -->\n",
       "<polyline points=\" 900,2025 1575,2025 1350,2250\" stroke=\"#000000\" stroke-width=\"15px\"/>\n",
       "<!-- Line -->\n",
       "<polyline points=\" 6525,2025 7200,2025 6975,2250\" stroke=\"#000000\" stroke-width=\"15px\"/>\n",
       "<!-- Line -->\n",
       "<polyline points=\" 7425,1800 7425,1125 7650,1350\" stroke=\"#000000\" stroke-width=\"15px\"/>\n",
       "<!-- Line -->\n",
       "<polyline points=\" 5400,2025 6075,2025 5850,2250\" stroke=\"#000000\" stroke-width=\"15px\"/>\n",
       "<!-- Line -->\n",
       "<polyline points=\" 4950,4275 4275,4275 4500,4500\" stroke=\"#000000\" stroke-width=\"15px\"/>\n",
       "<!-- Line -->\n",
       "<polyline points=\" 3825,4275 3150,4275 3375,4500\" stroke=\"#000000\" stroke-width=\"15px\"/>\n",
       "<!-- Line -->\n",
       "<polyline points=\" 2700,4275 2025,4275 2250,4500\" stroke=\"#000000\" stroke-width=\"15px\"/>\n",
       "<!-- Line -->\n",
       "<polyline points=\" 1800,4050 1800,3375 2025,3600\" stroke=\"#000000\" stroke-width=\"15px\"/>\n",
       "<!-- Line -->\n",
       "<polyline points=\" 1800,2925 1800,2250 2025,2475\" stroke=\"#000000\" stroke-width=\"15px\"/>\n",
       "<!-- Line -->\n",
       "<polyline points=\" 1575,4275 900,4275 1125,4500\" stroke=\"#000000\" stroke-width=\"15px\"/>\n",
       "<!-- Line -->\n",
       "<polyline points=\" 2025,4500 3825,6300 3600,6300\" stroke=\"#000000\" stroke-width=\"15px\"/>\n",
       "<!-- Line -->\n",
       "<polyline points=\" 4275,6300 6075,4500 6075,4725\" stroke=\"#000000\" stroke-width=\"15px\"/>\n",
       "<!-- Line -->\n",
       "<polyline points=\" 4050,4500 4050,5175 4275,4950\" stroke=\"#000000\" stroke-width=\"15px\"/>\n",
       "<!-- Line -->\n",
       "<polyline points=\" 675,4500 675,5175 900,4950\" stroke=\"#000000\" stroke-width=\"15px\"/>\n",
       "<!-- Line -->\n",
       "<polyline points=\" 900,3150 1575,3150 1350,3375\" stroke=\"#000000\" stroke-width=\"15px\"/>\n",
       "<!-- Line -->\n",
       "<polyline points=\" 6525,3150 7200,3150 6975,3375\" stroke=\"#000000\" stroke-width=\"15px\"/>\n",
       "<!-- Line -->\n",
       "<polyline points=\" 450,3150 -225,3150 0,3375\" stroke=\"#000000\" stroke-width=\"15px\"/>\n",
       "<!-- Line -->\n",
       "<polyline points=\" 7650,3150 8325,3150 8100,3375\" stroke=\"#000000\" stroke-width=\"15px\"/>\n",
       "<!-- Line -->\n",
       "<polyline points=\" 6075,4275 5400,4275 5625,4500\" stroke=\"#000000\" stroke-width=\"15px\"/>\n",
       "<!-- Line -->\n",
       "<polyline points=\" 675,1800 675,1125 900,1350\" stroke=\"#000000\" stroke-width=\"15px\"/>\n",
       "<!-- Line -->\n",
       "<polyline points=\" 4050,-450 4050,-1125 4275,-900\" stroke=\"#000000\" stroke-width=\"15px\"/>\n",
       "<!-- Line -->\n",
       "<polyline points=\" 4050,6750 4050,7425 4275,7200\" stroke=\"#000000\" stroke-width=\"15px\"/>\n",
       "<!-- Line -->\n",
       "<polyline points=\" 4275,2025 4950,2025 4725,2250\" stroke=\"#000000\" stroke-width=\"15px\"/>\n",
       "<!-- Line -->\n",
       "<polyline points=\" 6300,2250 6300,2925 6525,2700\" stroke=\"#000000\" stroke-width=\"15px\"/>\n",
       "<!-- Line -->\n",
       "<polyline points=\" 6300,3375 6300,4050 6525,3825\" stroke=\"#000000\" stroke-width=\"15px\"/>\n",
       "</g>\n",
       "</svg>"
      ],
      "text/plain": [
       "<IPython.core.display.SVG object>"
      ]
     },
     "execution_count": 2,
     "metadata": {},
     "output_type": "execute_result"
    }
   ],
   "source": [
    "## Phosphorylation/dephosphorylation\n",
    "sbg.model('PD_abg.svg',quiet=quiet)\n",
    "import PD_abg\n",
    "disp.SVG('PD_abg.svg')"
   ]
  },
  {
   "cell_type": "markdown",
   "metadata": {},
   "source": [
    "## A flowstat is used to add to the pool of enzyme formed by E1 and C1\n",
    "\n",
    "The flowstat is formed from a simple reaction A$\\Leftrightarrow$B where A is a chemostat and B is unified with E1. The flow in this reaction is set in the simulation."
   ]
  },
  {
   "cell_type": "code",
   "execution_count": 3,
   "metadata": {},
   "outputs": [],
   "source": [
    "def addFlowstat(model,species,quiet=False):\n",
    "    \n",
    "    ## Creat a simple reaction\n",
    "    sbg.model('AB_abg.svg',quiet=quiet)\n",
    "    import AB_abg\n",
    "    AB = AB_abg.model()\n",
    "    mbg.rename(AB,{'A':'Aflow','B':species},quiet=quiet)\n",
    "    \n",
    "    ## Create composite model\n",
    "    modelF = bgt.new(name='modelF')\n",
    "    modelF.add(model,AB)\n",
    "    mbg.unify(modelF,[species],quiet=quiet)\n",
    "    \n",
    "    return modelF\n",
    "    \n",
    "PDF = addFlowstat(PD_abg.model(),'E1',quiet=quiet)"
   ]
  },
  {
   "cell_type": "markdown",
   "metadata": {},
   "source": [
    "## Reactions, pathways and pools\n",
    "The coresponding reactions and pathways are generated using stoich.\n",
    "\n",
    "1. The four reactions r1-r4 correspond to the four Re components in the\n",
    "bond graph.\n",
    "\n",
    "2. The reaction r corresponds to the added flowstat: the flow in r is\n",
    "externally specified and provides a way to change the amount of enzyme\n",
    "in the E1/P1 pool.\n",
    "\n",
    "3. There is a single pathway though the four components r1-r4\n",
    "corresponding the the flow around the loop driven by the reaction\n",
    "ATP = ADP + P.\n",
    "\n",
    "4. The two enzyme catalysed reactions are modulated by {E1} and\n",
    "E2 which therfore determine the flows and the relative amounts of\n",
    "M and MP.\n",
    "\n",
    "5. Apart from the chemostats which are themselves conserved moieties, there are two pools:\n",
    "\n",
    "    a) C2 + E2 \n",
    "    \n",
    "    b) C1 + C2 + M + MP\n",
    "    \n",
    "   Note that C1+E1 is not a pool due to the input flow from the flowstat."
   ]
  },
  {
   "cell_type": "markdown",
   "metadata": {},
   "source": [
    "### Reactions"
   ]
  },
  {
   "cell_type": "code",
   "execution_count": 4,
   "metadata": {},
   "outputs": [
    {
     "data": {
      "text/latex": [
       "\\begin{align}\n",
       "\\ch{ATP + M + E1 &<>[ r1 ] C1 }\\\\\n",
       "\\ch{C1 &<>[ r2 ] ADP + MP + E1 }\\\\\n",
       "\\ch{E2 + MP &<>[ r3 ] C2 }\\\\\n",
       "\\ch{C2 &<>[ r4 ] E2 + M + P }\\\\\n",
       "\\ch{Aflow &<>[ r ] E1 }\n",
       "\\end{align}\n"
      ],
      "text/plain": [
       "<IPython.core.display.Latex object>"
      ]
     },
     "execution_count": 4,
     "metadata": {},
     "output_type": "execute_result"
    }
   ],
   "source": [
    "s = st.stoich(PDF,quiet=quiet)\n",
    "disp.Latex(st.sprintrl(s,chemformula=True))"
   ]
  },
  {
   "cell_type": "markdown",
   "metadata": {},
   "source": [
    "### Pathways\n",
    "The ATP hydrolysis species are set as chemostats together with Aflow from the flowstat reaction"
   ]
  },
  {
   "cell_type": "code",
   "execution_count": 5,
   "metadata": {},
   "outputs": [
    {
     "name": "stdout",
     "output_type": "stream",
     "text": [
      "1 pathways\n",
      "0:  + r1 + r2 + r3 + r4\n",
      "\n"
     ]
    }
   ],
   "source": [
    "chemostats = ['Aflow','ATP','ADP','P']\n",
    "sc = st.statify(s,chemostats=chemostats)\n",
    "print(st.sprintp(sc))"
   ]
  },
  {
   "cell_type": "code",
   "execution_count": 6,
   "metadata": {},
   "outputs": [
    {
     "data": {
      "text/latex": [
       "\\begin{align}\n",
       "ATP  &\\Leftrightarrow ADP + P \n",
       "\\end{align}\n"
      ],
      "text/plain": [
       "<IPython.core.display.Latex object>"
      ]
     },
     "execution_count": 6,
     "metadata": {},
     "output_type": "execute_result"
    }
   ],
   "source": [
    "sp = st.path(s,sc)\n",
    "disp.Latex(st.sprintrl(sp))"
   ]
  },
  {
   "cell_type": "markdown",
   "metadata": {},
   "source": [
    "### Pools: Conserved moieties"
   ]
  },
  {
   "cell_type": "code",
   "execution_count": 7,
   "metadata": {},
   "outputs": [
    {
     "data": {
      "text/latex": [
       "\\begin{align}\n",
       "\\ch{&<>[ m_0 ] ADP }\\\\\n",
       "\\ch{&<>[ m_1 ] ATP }\\\\\n",
       "\\ch{&<>[ m_2 ] C2 + E2 }\\\\\n",
       "\\ch{&<>[ m_3 ] C1 + C2 + M + MP }\\\\\n",
       "\\ch{&<>[ m_4 ] P }\\\\\n",
       "\\ch{&<>[ m_5 ] Aflow }\n",
       "\\end{align}\n"
      ],
      "text/plain": [
       "<IPython.core.display.Latex object>"
      ]
     },
     "execution_count": 7,
     "metadata": {},
     "output_type": "execute_result"
    }
   ],
   "source": [
    "disp.Latex(st.sprintml(sc,chemformula=True))"
   ]
  },
  {
   "cell_type": "markdown",
   "metadata": {},
   "source": [
    "## Set up parameters for PD"
   ]
  },
  {
   "cell_type": "code",
   "execution_count": 8,
   "metadata": {},
   "outputs": [],
   "source": [
    "def setParameterPD(s,x_M=1,x_E2=0.1):\n",
    "    \"\"\"Set up parameters and states for simulation of PD module\"\"\"\n",
    "    \n",
    "    parameter = {}\n",
    "    \n",
    "    # Ce components: set non-unity parameters\n",
    "    K_ATP = 1e2\n",
    "    K_ADP = 1e-3\n",
    "    K_P = 1e-3\n",
    "    parameter['K_ATP'] = K_ATP\n",
    "    parameter['K_ADP'] = K_ADP\n",
    "    parameter['K_P'] = K_P\n",
    "    parameter['K_E1'] = 1\n",
    "    parameter['K_E2'] = 1\n",
    "    parameter['K_C1'] = 100\n",
    "    parameter['K_C2'] = 100\n",
    " \n",
    "    ## Initial states\n",
    "    small = 1e-10\n",
    "    \n",
    "    ## Small initial values\n",
    "    smallStates = ['E1','C1','C2','MP']\n",
    "    for smallState in smallStates:\n",
    "        parameter['X0_'+smallState] = small\n",
    "    \n",
    "    ## Initial values of other states\n",
    "    parameter['X0_M'] = x_M\n",
    "    parameter['X0_E2'] = x_E2  \n",
    "    \n",
    "    return parameter"
   ]
  },
  {
   "cell_type": "markdown",
   "metadata": {},
   "source": [
    "### Plotting"
   ]
  },
  {
   "cell_type": "code",
   "execution_count": 9,
   "metadata": {},
   "outputs": [],
   "source": [
    "def inPool(s,X,species):\n",
    "    \"\"\"Find total amount in pool specified by species\"\"\"\n",
    "    \n",
    "    index = []\n",
    "    for spec in species:\n",
    "        index.append(s['species'].index(spec))\n",
    "        \n",
    "    total = np.sum(X[:,index],axis=1)\n",
    "\n",
    "    return total\n",
    "\n",
    "def Plot(s,dat,M=['M','MP'],E=['E1','C1'],i0=0):\n",
    "    \"\"\"Plot relevant data\"\"\"\n",
    "    \n",
    "    ## Extract data\n",
    "    X = dat['X']\n",
    "    V = dat['V']\n",
    "    N = s['N']\n",
    "    dX = (N@V.T).T\n",
    "    dX_ATP = dX[:,s['spec_index']['ATP']]\n",
    "    dX_ADP = dX[:,s['spec_index']['ADP']]\n",
    "    dX_P = dX[:,s['spec_index']['P']]\n",
    "\n",
    "\n",
    "    st.plot(s,dat,species=M,reaction = [],i0=10)\n",
    "\n",
    "\n",
    "    plt.plot(t,dX_ATP,t,dX_ADP,t,dX_P)\n",
    "    plt.grid()\n",
    "    plt.ylabel('Flow $v$')\n",
    "    plt.xlabel('$t$')\n",
    "    plt.legend(['ATP','ADP','P'])\n",
    "    plt.show()\n",
    "    \n",
    "    e_tot = inPool(s,X,E)\n",
    "    \n",
    "    plt.plot(t,e_tot)\n",
    "    plt.grid()\n",
    "    plt.xlabel('$t$')\n",
    "    plt.show()\n",
    "    \n",
    "    st.plot(s,dat,species=M,reaction = [],x=e_tot,xlabel='$e_{tot}$',i0=10)"
   ]
  },
  {
   "cell_type": "markdown",
   "metadata": {},
   "source": [
    "## Simulation"
   ]
  },
  {
   "cell_type": "code",
   "execution_count": 10,
   "metadata": {
    "scrolled": true
   },
   "outputs": [
    {
     "data": {
      "image/png": "[encoded data removed]",
      "text/plain": [
       "<Figure size 432x288 with 1 Axes>"
      ]
     },
     "metadata": {},
     "output_type": "display_data"
    },
    {
     "data": {
      "image/png": "[encoded data removed]",
      "text/plain": [
       "<Figure size 432x288 with 1 Axes>"
      ]
     },
     "metadata": {},
     "output_type": "display_data"
    },
    {
     "data": {
      "image/png": "[encoded data removed]",
      "text/plain": [
       "<Figure size 432x288 with 1 Axes>"
      ]
     },
     "metadata": {},
     "output_type": "display_data"
    },
    {
     "data": {
      "image/png": "[encoded data removed]",
      "text/plain": [
       "<Figure size 432x288 with 1 Axes>"
      ]
     },
     "metadata": {},
     "output_type": "display_data"
    }
   ],
   "source": [
    "def setFlow(e_max,t_max):\n",
    "    \"\"\"Set the flow stat flow (as a string)\n",
    "    \n",
    "    Flow is non-zero between 0.25 and 0.75 t_max\n",
    "    and is sinusoidal. \n",
    "    The integrated flow has a maximum at e_tot = e_max\n",
    "    \n",
    "    \"\"\"\n",
    "    r_flow = ('2*{0}*( (t>(0.25*{1}))*(t<(0.75*{1})) )'\n",
    "              '*np.sin(4*np.pi*(t-0.25*{1})/{1})'\n",
    "                .format(np.pi*e_max/(t_max),t_max)\n",
    "              )\n",
    "    V_flow = {'r':r_flow}\n",
    "    \n",
    "    return V_flow\n",
    "    \n",
    "    \n",
    "##Time\n",
    "quiet = True\n",
    "#t_max = int(8e2)\n",
    "t_max = 1e4\n",
    "t = np.linspace(0,t_max,1000)\n",
    "t_0 = 100\n",
    "t_1 = t_max-t_0\n",
    "i_max = len(t)\n",
    "i_0 = int(i_max*t_0/t_max)\n",
    "i_1 = i_max-i_0\n",
    "\n",
    "## Flow\n",
    "x_M = 1\n",
    "e_max = 1e-1\n",
    "V_flow = setFlow(e_max,t_max)\n",
    "\n",
    "## Parameters\n",
    "x_E2=0.5*x_M\n",
    "parameter = setParameterPD(s,x_M=x_M,x_E2=x_E2)\n",
    "\n",
    "## Simulate\n",
    "dat = st.sim(s,sc=sc,t=t,parameter=parameter,V_flow=V_flow,quiet=quiet)\n",
    "\n",
    "## Plot\n",
    "Plot(s,dat,M=['M','MP'],E=['E1','C1'])\n"
   ]
  },
  {
   "cell_type": "markdown",
   "metadata": {},
   "source": [
    "## Discussion\n",
    "The PD module acts and a high-gain saturating amplifier, or switch <cite data-cite=\"BeaQia10\"></cite>, with the total  enzyme  associated with the first reaction $e_{tot}= x_{E1}+x_{c1}$ as the input and the amount of the phosphorylated protein MP as output. Note that $e_{tot}$ is varied using the flowstat."
   ]
  },
  {
   "cell_type": "markdown",
   "metadata": {},
   "source": [
    "# Double Phosphorylation/dephosphorylation\n",
    "Double phosphorylation/dephosphorylation is an important building block of signalling cascades\n",
    "<cite data-cite=\"AlbJohLew15,KliLieWie16\"></cite>. A model can be built by combining two copes of the PD module using [BondGraphTools](https://pypi.org/project/BondGraphTools/) <cite data-cite=\"CudGawPanCra19X\"></cite>."
   ]
  },
  {
   "cell_type": "markdown",
   "metadata": {},
   "source": [
    "## Set up parameters for DPD"
   ]
  },
  {
   "cell_type": "code",
   "execution_count": 11,
   "metadata": {},
   "outputs": [],
   "source": [
    "def copyNames(names,same=[],changed={},prefix=''):\n",
    "    \n",
    "    rename = {}\n",
    "    for name in names:\n",
    "        if not name in same:\n",
    "            if name in changed.keys():\n",
    "                rename[name] = changed[name]\n",
    "            else:\n",
    "                rename[name] = prefix+name\n",
    "\n",
    "    return rename\n",
    "\n",
    "def copyParameters(parameter,rename):\n",
    "    \n",
    "    sep = '_' # parameter seperator\n",
    "    Parameter = {}\n",
    "    for key,val in parameter.items():\n",
    "        Key = key.split(sep)\n",
    "        #print(key,Key)\n",
    "        if len(Key)<2:\n",
    "            print(key,'should contain _')\n",
    "        else:\n",
    "            prefix = Key[0]\n",
    "            name = Key[1]\n",
    "            for nam in Key[2:]:\n",
    "                name += sep+nam\n",
    "            \n",
    "        if name not in rename.keys():\n",
    "            Parameter[key] = val\n",
    "        else:\n",
    "            Parameter[prefix+sep+rename[name]] = val\n",
    "    return Parameter\n",
    "\n",
    "def mergeParameters(par1,par2):\n",
    "\n",
    "#    par = par1.copy()\n",
    "    par = {}\n",
    "    for key,val in par2.items():\n",
    "        par[key] = val\n",
    "    for key,val in par1.items():\n",
    "        par[key] = val\n",
    "    return par\n"
   ]
  },
  {
   "cell_type": "markdown",
   "metadata": {},
   "source": [
    "## Create DPD from two copies of PD"
   ]
  },
  {
   "cell_type": "code",
   "execution_count": 12,
   "metadata": {},
   "outputs": [],
   "source": [
    "def makeDPD(x_M=x_M,x_E2=x_E2,quiet=False):\n",
    "    \"\"\"Create Double Phosphorylation/dephosphorylation\"\"\"\n",
    "    \n",
    "    \n",
    "    ## Components not to be renamed\n",
    "    same = ['E1','ATP','ADP','P']\n",
    "    \n",
    "    ## Common components to be unified\n",
    "    unified = same + ['MP']\n",
    "    \n",
    "    ## Create two copies of PD, renaming as appropriate\n",
    "    PD1 = PD_abg.model()\n",
    "    sPD = st.stoich(PD_abg.model(),quiet=quiet)\n",
    "    PD1.name = 'PD1'\n",
    "\n",
    "    names = sPD['species'] + sPD['reaction']\n",
    "    rename = copyNames(names,prefix='PD1__',same=same+['M','MP'])\n",
    "    mbg.rename(PD1,rename,quiet=quiet)\n",
    "    \n",
    "    ## Parameters of PD\n",
    "    parameterPD = setParameterPD(sPD,x_M=x_M,x_E2=x_E2)\n",
    "    \n",
    "    ## Parameters of P1\n",
    "    parameter_P1 = copyParameters(parameterPD,rename)\n",
    "    \n",
    "    PD2 = PD_abg.model()\n",
    "    PD2.name = 'PD2'\n",
    "    rename = copyNames(names,prefix='PD2__',same=same, changed={'M':'MP_','MP':'MPP'})\n",
    "    mbg.rename(PD2,rename,quiet=quiet)\n",
    "    mbg.rename(PD2,{'MP_':'MP'},quiet=quiet)\n",
    "    \n",
    "    ## Parameters of P2\n",
    "    parameter_P2 = copyParameters(parameterPD,rename)\n",
    "    \n",
    "    ## DPD parameters\n",
    "    parameter_DPD = mergeParameters(parameter_P1,parameter_P2)\n",
    "\n",
    "    ## Create DPD\n",
    "    DPD = bgt.new(name='DPD')\n",
    "    DPD.add(PD1,PD2)\n",
    "    \n",
    "    ## Unify common species\n",
    "    mbg.unify(DPD,unified,quiet=quiet)\n",
    "    \n",
    "    ## Stoichiometry of DPD\n",
    "    sDPD = st.stoich(DPD,quiet=quiet)\n",
    "    \n",
    "    ## Save as flattened bond graph for later use\n",
    "    sDPD['name'] = 'DPD_abg'\n",
    "    stbg.model(sDPD)\n",
    "    \n",
    "    ## Add in the flowstat\n",
    "    DPDF = addFlowstat(DPD,'E1',quiet=quiet)\n",
    "    \n",
    "    ## Stoichiometry\n",
    "    s = st.stoich(DPDF,quiet=quiet)\n",
    "    chemostats = ['Aflow','ATP','ADP','P']\n",
    "    sc = st.statify(s,chemostats=chemostats)\n",
    "    \n",
    "    return s,sc,parameter_DPD,sPD,sDPD\n",
    "\n",
    "x_E2 = 0.1*x_M\n",
    "S,Sc,Parameter,sPD,sDPD = makeDPD(x_M=x_M,x_E2=x_E2,quiet=quiet)"
   ]
  },
  {
   "cell_type": "markdown",
   "metadata": {},
   "source": [
    "## Reactions, pathways and pools\n",
    "The dot (.) notation is used to represent species and reactions within each submodule. Thus PD1.C1 and PD2.C2 represent the C2 species associated with each submodule and PD1.r1 and PD2.r1 reaction r1 associated with each submodule.\n",
    "\n",
    "1. There is a pathway though the four components r1-r4 within each submodule\n",
    "corresponding the the flow around the loop driven by the reaction\n",
    "ATP = ADP + P.\n",
    "\n",
    "2. Apart from the chemostats which are themselves conserved moieties, there are three pools:\n",
    "\n",
    "    a) PD1.C2 + PD1.E2 \n",
    " \n",
    "    b) PD2.C2 + PD2.E2 \n",
    "     \n",
    "    c) PD1.C1 + PD1.C2 + PD2.C1 + PD2.C2 + M + MP + MPP\n",
    "    \n"
   ]
  },
  {
   "cell_type": "markdown",
   "metadata": {},
   "source": [
    "### Reactions"
   ]
  },
  {
   "cell_type": "code",
   "execution_count": 13,
   "metadata": {
    "scrolled": true
   },
   "outputs": [
    {
     "data": {
      "text/latex": [
       "\\begin{align}\n",
       "\\ch{M + ATP + E1 &<>[ PD1.r1 ] PD1.C1 }\\\\\n",
       "\\ch{PD1.C1 &<>[ PD1.r2 ] ADP + MP + E1 }\\\\\n",
       "\\ch{PD1.E2 + MP &<>[ PD1.r3 ] PD1.C2 }\\\\\n",
       "\\ch{PD1.C2 &<>[ PD1.r4 ] PD1.E2 + M + P }\\\\\n",
       "\\ch{ATP + MP + E1 &<>[ PD2.r1 ] PD2.C1 }\\\\\n",
       "\\ch{PD2.C1 &<>[ PD2.r2 ] MPP + ADP + E1 }\\\\\n",
       "\\ch{PD2.E2 + MPP &<>[ PD2.r3 ] PD2.C2 }\\\\\n",
       "\\ch{PD2.C2 &<>[ PD2.r4 ] PD2.E2 + P + MP }\\\\\n",
       "\\ch{Aflow &<>[ r ] E1 }\n",
       "\\end{align}\n"
      ],
      "text/plain": [
       "<IPython.core.display.Latex object>"
      ]
     },
     "execution_count": 13,
     "metadata": {},
     "output_type": "execute_result"
    }
   ],
   "source": [
    "disp.Latex(st.sprintrl(S,chemformula = True))"
   ]
  },
  {
   "cell_type": "markdown",
   "metadata": {},
   "source": [
    "### Pathways"
   ]
  },
  {
   "cell_type": "code",
   "execution_count": 14,
   "metadata": {},
   "outputs": [
    {
     "name": "stdout",
     "output_type": "stream",
     "text": [
      "2 pathways\n",
      "0:  + PD1.r1 + PD1.r2 + PD1.r3 + PD1.r4\n",
      "1:  + PD2.r1 + PD2.r2 + PD2.r3 + PD2.r4\n",
      "\n"
     ]
    },
    {
     "data": {
      "text/latex": [
       "\\begin{align}\n",
       "\\ch{ATP &<>[ pr1 ] ADP + P }\\\\\n",
       "\\ch{ATP &<>[ pr2 ] ADP + P }\n",
       "\\end{align}\n"
      ],
      "text/plain": [
       "<IPython.core.display.Latex object>"
      ]
     },
     "execution_count": 14,
     "metadata": {},
     "output_type": "execute_result"
    }
   ],
   "source": [
    "print(st.sprintp(Sc))\n",
    "Sp = st.path(S,Sc)\n",
    "disp.Latex(st.sprintrl(Sp,chemformula = True))"
   ]
  },
  {
   "cell_type": "markdown",
   "metadata": {},
   "source": [
    "### Pools"
   ]
  },
  {
   "cell_type": "code",
   "execution_count": 15,
   "metadata": {},
   "outputs": [
    {
     "data": {
      "text/latex": [
       "\\begin{align}\n",
       "\\ch{&<>[ m_0 ] PD1.C2 + PD1.E2 }\\\\\n",
       "\\ch{&<>[ m_1 ] PD2.C2 + PD2.E2 }\\\\\n",
       "\\ch{&<>[ m_2 ] ATP }\\\\\n",
       "\\ch{&<>[ m_3 ] ADP }\\\\\n",
       "\\ch{&<>[ m_4 ] P }\\\\\n",
       "\\ch{&<>[ m_5 ] PD1.C1 + PD1.C2 + M + PD2.C1 + PD2.C2 + MPP + MP }\\\\\n",
       "\\ch{&<>[ m_6 ] Aflow }\n",
       "\\end{align}\n"
      ],
      "text/plain": [
       "<IPython.core.display.Latex object>"
      ]
     },
     "execution_count": 15,
     "metadata": {},
     "output_type": "execute_result"
    }
   ],
   "source": [
    "disp.Latex(st.sprintml(Sc,chemformula=True))"
   ]
  },
  {
   "cell_type": "markdown",
   "metadata": {},
   "source": [
    "## Simulation"
   ]
  },
  {
   "cell_type": "code",
   "execution_count": 16,
   "metadata": {},
   "outputs": [
    {
     "name": "stdout",
     "output_type": "stream",
     "text": [
      "Unused parameters: ['X0_MP_']\n"
     ]
    },
    {
     "data": {
      "image/png": "[encoded data removed]",
      "text/plain": [
       "<Figure size 432x288 with 1 Axes>"
      ]
     },
     "metadata": {},
     "output_type": "display_data"
    },
    {
     "data": {
      "image/png": "[encoded data removed]",
      "text/plain": [
       "<Figure size 432x288 with 1 Axes>"
      ]
     },
     "metadata": {},
     "output_type": "display_data"
    },
    {
     "data": {
      "image/png": "[encoded data removed]",
      "text/plain": [
       "<Figure size 432x288 with 1 Axes>"
      ]
     },
     "metadata": {},
     "output_type": "display_data"
    },
    {
     "data": {
      "image/png": "[encoded data removed]",
      "text/plain": [
       "<Figure size 432x288 with 1 Axes>"
      ]
     },
     "metadata": {},
     "output_type": "display_data"
    }
   ],
   "source": [
    "## Simulation\n",
    "\n",
    "# Copy parameters and states to each sub module\n",
    "# common = ['E1','M','MP','ATP','ADP','P','Aflow']\n",
    "\n",
    "\n",
    "## Simulate\n",
    "Dat = st.sim(S,sc=Sc,t=t,parameter=Parameter,V_flow=V_flow,quiet=quiet)\n",
    "\n",
    "## Plot\n",
    "Plot(S,Dat,M=['M','MP','MPP'],E=['E1','PD1__C1','PD2__C1'])\n"
   ]
  },
  {
   "cell_type": "markdown",
   "metadata": {},
   "source": [
    "## Discussion\n",
    "In a similar way to the PD module, the DPD module acts and a high-gain saturating amplifier, or switch <cite data-cite=\"BeaQia10\"></cite>, with the total  enzyme  associated with the first reaction of the first PD $e_{tot}= x_{E1}+x_{c1}$ as the input and the amount of the double-phosphorylated protein MPP as output. Note that the gain is giher, and the behavior more switch-like compared to the PD module."
   ]
  },
  {
   "cell_type": "markdown",
   "metadata": {},
   "source": [
    "# MAPK cascade"
   ]
  },
  {
   "cell_type": "markdown",
   "metadata": {},
   "source": [
    "## Create cascade from one PD and two DPD"
   ]
  },
  {
   "cell_type": "code",
   "execution_count": 17,
   "metadata": {
    "scrolled": true
   },
   "outputs": [
    {
     "name": "stdout",
     "output_type": "stream",
     "text": [
      "['PD1__C1', 'PD1__C2', 'PD1__E2', 'M', 'PD2__C1', 'PD2__C2', 'PD2__E2', 'MPP', 'E1', 'ATP', 'ADP', 'P', 'MP', 'PD1__r1', 'PD1__r2', 'PD1__r3', 'PD1__r4', 'PD2__r1', 'PD2__r2', 'PD2__r3', 'PD2__r4']\n"
     ]
    }
   ],
   "source": [
    "def makeMAPK(sPD,S,Parameter,useDPD=True,quiet=quiet):\n",
    "    \"\"\"Create the MAPK cascade\"\"\"\n",
    "   \n",
    "    ## Components not to be renamed\n",
    "    same = ['ATP','ADP','P']\n",
    "    \n",
    "    ## Amount of M in each layer\n",
    "    X_M = np.array([1,7,50])\n",
    "    X_E2 = 0.5*X_M\n",
    "\n",
    "    ## Phosphorylation layer 1\n",
    "    names = sPD['species'] + sPD['reaction']\n",
    "    P1 = PD_abg.model()\n",
    "    P1.name = 'P1'\n",
    "    rename = copyNames(names,prefix='L1__',same=same, \n",
    "                       changed={'M':'MKKK','MP':'MKKKP','E1':'MKKKK'})\n",
    "    mbg.rename(P1,rename,quiet=quiet)\n",
    "    parameter_P1 = copyParameters(setParameterPD(s,x_M=X_M[0],x_E2=X_E2[0]),rename)\n",
    "    \n",
    "    if not useDPD:\n",
    "        ## Use PD in place of DPD\n",
    "        ## Phosphorylation layer 2\n",
    "        names = sPD['species'] + sPD['reaction']\n",
    "        P2 = PD_abg.model()\n",
    "        P2.name = 'P2'\n",
    "        rename = copyNames(names,prefix='L2__',same=same, \n",
    "                           changed={'M':'MKK','MP':'MKKP','E1':'MKKKP'})\n",
    "        mbg.rename(P2,rename,quiet=quiet)\n",
    "        parameter_P2 = copyParameters(setParameterPD(s,x_M=X_M[1],x_E2=X_E2[1]),rename)\n",
    "        \n",
    "        ## Phosphorylation layer 3\n",
    "        P3 = PD_abg.model()\n",
    "        P3.name = 'P3'\n",
    "        rename = copyNames(names,prefix='L3__',same=same, \n",
    "                           changed={'M':'MK','MP':'MKP','E1':'MKKP'})\n",
    "        mbg.rename(P3,rename,quiet=quiet)\n",
    "        parameter_P3 = copyParameters(setParameterPD(s,x_M=X_M[2],x_E2=X_E2[2]),rename)\n",
    "        \n",
    "        connections = ['MKKKK','MKKKP','MKKP']\n",
    "    else: \n",
    "    ## Use DPD \n",
    "        import DPD_abg\n",
    "        ## Phosphorylation layer 2\n",
    "        S,Sc,Parameter,sPD,sDPD = makeDPD(x_M=X_M[1],x_E2=X_E2[1],quiet=quiet)\n",
    "        names = sDPD['species'] + sDPD['reaction']\n",
    "        P2 = DPD_abg.model()\n",
    "        P2.name = 'P2'\n",
    "        rename = copyNames(names,prefix='L2__',same=same, \n",
    "                           changed={'M':'MKK','MP':'MKKP','MPP':'MKKPP','E1':'MKKKP'})\n",
    "        mbg.rename(P2,rename,quiet=quiet)\n",
    "        parameter_P2 = copyParameters(Parameter,rename)\n",
    "        \n",
    "        ## Phosphorylation layer 3\n",
    "        S,Sc,Parameter,sPD,sDPD = makeDPD(x_M=X_M[2],x_E2=X_E2[2],quiet=quiet)\n",
    "        names = sDPD['species'] + sDPD['reaction']\n",
    "        print(names)\n",
    "        P3 = DPD_abg.model()\n",
    "        P3.name = 'P3'\n",
    "        rename = copyNames(names,prefix='L3__',same=same, \n",
    "                           changed={'M':'MK','MP':'MKP','MPP':'MKPP','E1':'MKKPP'})\n",
    "        mbg.rename(P3,rename,quiet=quiet)\n",
    "        parameter_P3 = copyParameters(Parameter,rename)\n",
    "        \n",
    "        connections = ['MKKKK','MKKKP','MKKPP']\n",
    "    \n",
    "    ## Flowstat\n",
    "    import AB_abg\n",
    "    AB = AB_abg.model()\n",
    "    mbg.rename(AB,{'A':'Aflow','B':'MKKKK'},quiet=quiet)\n",
    "    \n",
    "    ## Create the MAPK cascade with flowstat\n",
    "    MAPK = bgt.new(name='MAPK')\n",
    "    MAPK.add(AB,P1,P2,P3)\n",
    "    unify = same + connections\n",
    "    mbg.unify(MAPK,unify,quiet=quiet)\n",
    "    \n",
    "    parameter_P12 = mergeParameters(parameter_P1,parameter_P2)\n",
    "    parameterM = mergeParameters(parameter_P12,parameter_P3)\n",
    "\n",
    "    ## Stoichiometry\n",
    "    sM = st.stoich(MAPK,quiet=quiet)\n",
    "    chemostats = ['Aflow','ATP','ADP','P']\n",
    "    scM = st.statify(sM,chemostats=chemostats)\n",
    "    \n",
    "    return sM,scM,parameterM\n",
    "\n",
    "useDPD = True\n",
    "sM,scM,ParameterM = makeMAPK(sPD,S,Parameter,useDPD=useDPD,quiet=True)"
   ]
  },
  {
   "cell_type": "markdown",
   "metadata": {},
   "source": [
    "## Reactions, pathways and pools\n",
    "The dot (.) notation is used to represent species and reactions within each submodule. Thus L2.PD1.C1 and L2.PD2.C2 represent the C2 species associated with each submodule within level 2 and L2.PD1.r1 and L2.PD2.r1  represent reaction r1 associated with each submodule within level 2.\n",
    "\n",
    "1. There is a pathway though the four components r1-r4 within each of the five submodule\n",
    "corresponding the the flow around the loop driven by the reaction\n",
    "ATP = ADP + P.\n",
    "\n",
    "2. Apart from the chemostats which are themselves conserved moieties, there are eight pools:\n",
    "\n",
    "    a) C2 and E2 within each of the 5 submodules\n",
    " \n",
    "    b) L1.C1 + L1.C2 + L2.PD1.C1 + L2.PD2.C1 + MKKK + MKKKP \n",
    "     \n",
    "    c) L3.PD1.C1 + L3.PD1.C2 + L3.PD2.C1 + L3.PD2.C2 + MKPP + MKP + MK\n",
    "    \n",
    "    d) L2.PD1.C1 + L2.PD1.C2 + L2.PD2.C1 + L2.PD2.C2 + L3.PD1.C1 + L3.PD2.C1 + MKKPP + MKKP + MKK\n"
   ]
  },
  {
   "cell_type": "markdown",
   "metadata": {},
   "source": [
    "### Reactions"
   ]
  },
  {
   "cell_type": "code",
   "execution_count": 18,
   "metadata": {},
   "outputs": [
    {
     "data": {
      "text/latex": [
       "\\begin{align}\n",
       "\\ch{Aflow &<>[ r ] MKKKK }\\\\\n",
       "\\ch{MKKK + ATP + MKKKK &<>[ L1.r1 ] L1.C1 }\\\\\n",
       "\\ch{L1.C1 &<>[ L1.r2 ] ADP + MKKKK + MKKKP }\\\\\n",
       "\\ch{L1.E2 + MKKKP &<>[ L1.r3 ] L1.C2 }\\\\\n",
       "\\ch{L1.C2 &<>[ L1.r4 ] L1.E2 + MKKK + P }\\\\\n",
       "\\ch{MKK + ATP + MKKKP &<>[ L2.PD1.r1 ] L2.PD1.C1 }\\\\\n",
       "\\ch{L2.PD1.C1 &<>[ L2.PD1.r2 ] MKKP + ADP + MKKKP }\\\\\n",
       "\\ch{L2.PD1.E2 + MKKP &<>[ L2.PD1.r3 ] L2.PD1.C2 }\\\\\n",
       "\\ch{L2.PD1.C2 &<>[ L2.PD1.r4 ] L2.PD1.E2 + MKK + P }\\\\\n",
       "\\ch{MKKP + ATP + MKKKP &<>[ L2.PD2.r1 ] L2.PD2.C1 }\n",
       "\\end{align}\n",
       "\n",
       "\\begin{align}\n",
       "\\ch{L2.PD2.C1 &<>[ L2.PD2.r2 ] ADP + MKKKP + MKKPP }\\\\\n",
       "\\ch{L2.PD2.E2 + MKKPP &<>[ L2.PD2.r3 ] L2.PD2.C2 }\\\\\n",
       "\\ch{L2.PD2.C2 &<>[ L2.PD2.r4 ] L2.PD2.E2 + MKKP + P }\\\\\n",
       "\\ch{MK + ATP + MKKPP &<>[ L3.PD1.r1 ] L3.PD1.C1 }\\\\\n",
       "\\ch{L3.PD1.C1 &<>[ L3.PD1.r2 ] MKP + ADP + MKKPP }\\\\\n",
       "\\ch{L3.PD1.E2 + MKP &<>[ L3.PD1.r3 ] L3.PD1.C2 }\\\\\n",
       "\\ch{L3.PD1.C2 &<>[ L3.PD1.r4 ] L3.PD1.E2 + MK + P }\\\\\n",
       "\\ch{MKP + ATP + MKKPP &<>[ L3.PD2.r1 ] L3.PD2.C1 }\\\\\n",
       "\\ch{L3.PD2.C1 &<>[ L3.PD2.r2 ] MKPP + ADP + MKKPP }\\\\\n",
       "\\ch{L3.PD2.E2 + MKPP &<>[ L3.PD2.r3 ] L3.PD2.C2 }\n",
       "\\end{align}\n",
       "\n",
       "\\begin{align}\n",
       "\\ch{L3.PD2.C2 &<>[ L3.PD2.r4 ] L3.PD2.E2 + MKP + P }\n",
       "\\end{align}\n"
      ],
      "text/plain": [
       "<IPython.core.display.Latex object>"
      ]
     },
     "execution_count": 18,
     "metadata": {},
     "output_type": "execute_result"
    }
   ],
   "source": [
    "disp.Latex(st.sprintrl(sM,chemformula = True))"
   ]
  },
  {
   "cell_type": "markdown",
   "metadata": {},
   "source": [
    "### Pathways"
   ]
  },
  {
   "cell_type": "code",
   "execution_count": 19,
   "metadata": {},
   "outputs": [
    {
     "name": "stdout",
     "output_type": "stream",
     "text": [
      "5 pathways\n",
      "0:  + L1.r1 + L1.r2 + L1.r3 + L1.r4\n",
      "1:  + L2.PD1.r1 + L2.PD1.r2 + L2.PD1.r3 + L2.PD1.r4\n",
      "2:  + L2.PD2.r1 + L2.PD2.r2 + L2.PD2.r3 + L2.PD2.r4\n",
      "3:  + L3.PD1.r1 + L3.PD1.r2 + L3.PD1.r3 + L3.PD1.r4\n",
      "4:  + L3.PD2.r1 + L3.PD2.r2 + L3.PD2.r3 + L3.PD2.r4\n",
      "\n"
     ]
    },
    {
     "data": {
      "text/latex": [
       "\\begin{align}\n",
       "\\ch{ATP &<>[ pr1 ] ADP + P }\\\\\n",
       "\\ch{ATP &<>[ pr2 ] ADP + P }\\\\\n",
       "\\ch{ATP &<>[ pr3 ] ADP + P }\\\\\n",
       "\\ch{ATP &<>[ pr4 ] ADP + P }\\\\\n",
       "\\ch{ATP &<>[ pr5 ] ADP + P }\n",
       "\\end{align}\n"
      ],
      "text/plain": [
       "<IPython.core.display.Latex object>"
      ]
     },
     "execution_count": 19,
     "metadata": {},
     "output_type": "execute_result"
    }
   ],
   "source": [
    "print(st.sprintp(scM))\n",
    "sMp = st.path(sM,scM)\n",
    "disp.Latex(st.sprintrl(sMp,chemformula = True))"
   ]
  },
  {
   "cell_type": "markdown",
   "metadata": {},
   "source": [
    "### Pools"
   ]
  },
  {
   "cell_type": "code",
   "execution_count": 20,
   "metadata": {},
   "outputs": [
    {
     "data": {
      "text/latex": [
       "\\begin{align}\n",
       "\\ch{&<>[ m_0 ] Aflow }\\\\\n",
       "\\ch{&<>[ m_1 ] L1.C2 + L1.E2 }\\\\\n",
       "\\ch{&<>[ m_2 ] L2.PD1.C2 + L2.PD1.E2 }\\\\\n",
       "\\ch{&<>[ m_3 ] L2.PD2.C2 + L2.PD2.E2 }\\\\\n",
       "\\ch{&<>[ m_4 ] L3.PD1.C2 + L3.PD1.E2 }\\\\\n",
       "\\ch{&<>[ m_5 ] L3.PD2.C2 + L3.PD2.E2 }\\\\\n",
       "\\ch{&<>[ m_6 ] L3.PD1.C1 + L3.PD1.C2 + MK + L3.PD2.C1 + L3.PD2.C2 + MKPP + MKP }\\\\\n",
       "\\ch{&<>[ m_7 ] ATP }\\\\\n",
       "\\ch{&<>[ m_8 ] ADP }\\\\\n",
       "\\ch{&<>[ m_9 ] P }\n",
       "\\end{align}\n",
       "\n",
       "\\begin{align}\n",
       "\\ch{&<>[ m_10 ] L1.C1 + L1.C2 + MKKK + L2.PD1.C1 + L2.PD2.C1 + MKKKP }\\\\\n",
       "\\ch{&<>[ m_11 ] L2.PD1.C1 + L2.PD1.C2 + MKK + L2.PD2.C1 + L2.PD2.C2 + MKKP + L3.PD1.C1 + L3.PD2.C1 + MKKPP }\n",
       "\\end{align}\n"
      ],
      "text/plain": [
       "<IPython.core.display.Latex object>"
      ]
     },
     "execution_count": 20,
     "metadata": {},
     "output_type": "execute_result"
    }
   ],
   "source": [
    "disp.Latex(st.sprintml(scM,chemformula=True))"
   ]
  },
  {
   "cell_type": "markdown",
   "metadata": {},
   "source": [
    "## Simulation"
   ]
  },
  {
   "cell_type": "code",
   "execution_count": 21,
   "metadata": {
    "scrolled": true
   },
   "outputs": [
    {
     "name": "stdout",
     "output_type": "stream",
     "text": [
      "Unused parameters: ['X0_MP_']\n"
     ]
    },
    {
     "data": {
      "image/png": "[encoded data removed]",
      "text/plain": [
       "<Figure size 432x288 with 1 Axes>"
      ]
     },
     "metadata": {},
     "output_type": "display_data"
    },
    {
     "data": {
      "image/png": "[encoded data removed]",
      "text/plain": [
       "<Figure size 432x288 with 1 Axes>"
      ]
     },
     "metadata": {},
     "output_type": "display_data"
    },
    {
     "data": {
      "image/png": "[encoded data removed]",
      "text/plain": [
       "<Figure size 432x288 with 1 Axes>"
      ]
     },
     "metadata": {},
     "output_type": "display_data"
    },
    {
     "data": {
      "image/png": "[encoded data removed]",
      "text/plain": [
       "<Figure size 432x288 with 1 Axes>"
      ]
     },
     "metadata": {},
     "output_type": "display_data"
    }
   ],
   "source": [
    "## Flows\n",
    "e_max = 1e-3\n",
    "V_flow = setFlow(e_max,t_max)\n",
    "\n",
    "## Simulate\n",
    "Dat = st.sim(sM,sc=scM,t=t,parameter=ParameterM,V_flow=V_flow,quiet=quiet)\n",
    "\n",
    "## Plot\n",
    "if useDPD:\n",
    "    Plot(sM,Dat,M=['MKKKP','MKKPP','MKPP'],E=['MKKKK','L1__C1'])\n",
    "else:\n",
    "    Plot(sM,Dat,M=['MKKKP','MKKP','MKP'],E=['MKKKK','L1__C1'])\n"
   ]
  },
  {
   "cell_type": "markdown",
   "metadata": {},
   "source": [
    "## Discussion\n",
    "In a similar way to the PD and DPD modules, the MAPK cascade module acts and a high-gain saturating amplifier, or switch with the total  enzyme  associated with the first reaction of the PD $e_{tot}= x_{E1}+x_{c1}$ of the first layer as the input and the amount of the double-phosphorylated protein MKPP of the third layer as output. \n",
    "Here, the maximum value (0.001) of the input is 100 times smaller than that of the simulations of PD and DPD and so the gain is much higher, and the behavior more switch-like compared to the PD and DPD modules."
   ]
  },
  {
   "cell_type": "code",
   "execution_count": null,
   "metadata": {},
   "outputs": [],
   "source": []
  }
 ],
 "metadata": {
  "kernelspec": {
   "display_name": "Python 3",
   "language": "python",
   "name": "python3"
  },
  "language_info": {
   "codemirror_mode": {
    "name": "ipython",
    "version": 3
   },
   "file_extension": ".py",
   "mimetype": "text/x-python",
   "name": "python",
   "nbconvert_exporter": "python",
   "pygments_lexer": "ipython3",
   "version": "3.6.8"
  },
  "toc": {
   "base_numbering": 1,
   "nav_menu": {},
   "number_sections": true,
   "sideBar": true,
   "skip_h1_title": false,
   "title_cell": "Table of Contents",
   "title_sidebar": "Contents",
   "toc_cell": false,
   "toc_position": {},
   "toc_section_display": true,
   "toc_window_display": false
  }
 },
 "nbformat": 4,
 "nbformat_minor": 2
}
