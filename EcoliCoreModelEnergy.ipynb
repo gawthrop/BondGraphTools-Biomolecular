{
 "cells": [
  {
   "cell_type": "markdown",
   "metadata": {},
   "source": [
    "***Note: this is the EcoliCoreModelEnergy.ipynb notebook. The\n",
    "PDF version \"The Escherichia coli Core Model: \n",
    "Modular Energetic Bond Graph Analysis of Glycolysis and Pentose Phosphate Pathways\"\n",
    "is available [here](EcoliCoreModelEnergy.pdf).***"
   ]
  },
  {
   "cell_type": "markdown",
   "metadata": {},
   "source": [
    "# Introduction\n",
    "\n",
    "As discussed in a companion [notebook](EcoliCoreModel.ipynb), the Network Thermodynamics/Bond Graph approach of \n",
    "<cite data-cite=\"OstPerKat71,OstPerKat73\">Oster, Perlson and Katchalsky (1971,1973)</cite> extended by <cite data-cite=\"GawCra14,GawCra16,GawCra17\">Gawthrop and Crampin (2014,2016,2017)</cite>\n",
    "to modelling biomolecular systems of interest to systems biologists developed independently from the stoichiometric approach \n",
    "<cite data-cite=\"Pal06,Pal11,Pal15\"></cite>.\n",
    "\n",
    "However, the conceptual point of intersection of the two approaches is the fact that the stoichiometric matrix is the modulus of the conceptual multiport transformer linking reactions to species.\n",
    "This was pointed out by <cite data-cite=\"CelGre09\">Cellier and Greifeneder (2009)</cite>. This means that the two approaches are complementary and each can build on the strengths of the other.\n",
    "\n",
    "In particular, as discussed here, the Bond Graph approach adds energy to stoichiometry.\n",
    "\n",
    "This notebook focuses on building modular models of metabolism and consequent pathway analysis based on the Escherichia coli Core Model <cite data-cite=\"OrtFlePal10\">(Orth, Fleming and Palsson,2010)</cite>; in particular, the Glycolysis and Pentose Phosphate portion is extracted and analysed. Following the discussion in the textbook of \n",
    "<cite data-cite=\"GarGri17\">Garrett and Grisham (2017)</cite>, section 22.6d, various possible pathways are examined by choosing appropriate chemostats and flowstats.\n",
    "<cite data-cite=\"GawCra18\">(Gawthrop and Crampin, 2018)</cite>\n",
    "\n",
    "Assuming steady-state conditions, the corresponding pathway potentials <cite data-cite=\"Gaw17a\">(Gawthrop 2017)</cite> are derived.\n"
   ]
  },
  {
   "cell_type": "markdown",
   "metadata": {},
   "source": [
    "## Import some python code\n",
    "The bond graph analysis uses a number of Python modules:"
   ]
  },
  {
   "cell_type": "code",
   "execution_count": 1,
   "metadata": {},
   "outputs": [],
   "source": [
    "## Maths library\n",
    "import numpy as np\n",
    "\n",
    "## BG tools\n",
    "import BondGraphTools as bgt\n",
    "\n",
    "## BG stoichiometric utilities\n",
    "import stoich as st\n",
    "\n",
    "## Stoichiometric conversion\n",
    "import CobraExtract as Extract\n",
    "import stoichBondGraph as stbg\n",
    "\n",
    "## Potentials\n",
    "import phiData\n",
    "\n",
    "## Faraday constant\n",
    "import scipy.constants as con\n",
    "F = con.physical_constants['Faraday constant'][0]\n",
    "\n",
    "## Display\n",
    "import IPython.display as disp\n",
    "\n",
    "## Allow output from within functions\n",
    "from IPython.core.interactiveshell import InteractiveShell\n",
    "InteractiveShell.ast_node_interactivity = \"all\"\n",
    "\n",
    "## Units etc\n",
    "factor = 1\n",
    "units = ' V'\n",
    "\n",
    "## Control output\n",
    "quiet = True\n",
    "computePhi = True\n",
    "showMu = True"
   ]
  },
  {
   "cell_type": "markdown",
   "metadata": {},
   "source": [
    "## Deriving species potentials\n",
    "To perform energetic analysis it is necessary to have values of the chemical potential of the species involved. One way of this is to use experimentally derived value of species potentials at standard conditions and then derive potentials corresponding to the concentrations of the species. Another approach used here, is to take experimental values of reaction potentials $\\Phi$\n",
    "<cite data-cite=\"ParRubXu16\">(Park et al., 2016)</cite> and derive a consistent set of species potentials $\\phi$ using $\\phi = -N^\\dagger \\Phi$ where $N$ is the stoichiometric matrix of the reaction system and $\\dagger$ denotes pseudo inverse.\n",
    "\n"
   ]
  },
  {
   "cell_type": "code",
   "execution_count": 2,
   "metadata": {},
   "outputs": [],
   "source": [
    "def getPhi(s):\n",
    "    \"\"\"Extract phi for given system using\n",
    "    Reaction potentials from ParRubXu16\"\"\"\n",
    "    \n",
    "    ## Reaction potentials from ParRubXu16\n",
    "    PHI = phiData.Phi_ParRubXu16()\n",
    "    Phi_reac = PHI['Ecoli']\n",
    "    \n",
    "    ## Reaction potential (33.9e3) from GarGri17\n",
    "    Phi_reac['GLCPTS'] = 33.9e3/F - Phi_reac['PYK']\n",
    "    print('Setting Phi for reaction GLCPTS to', int(Phi_reac['GLCPTS']*1000),'mV.')\n",
    "    \n",
    "    Phi = np.zeros((len(s['reaction']),1))\n",
    "    for i,reac in enumerate(s['reaction']):\n",
    "        if reac in Phi_reac.keys():\n",
    "            Phi[i] = Phi_reac[reac]\n",
    "        else:\n",
    "            min = 0.01          # 10mV\n",
    "            print('Setting Phi for reaction','\\\\ch{'+reac+'}','to', min*1000, 'mV. \\n')\n",
    "            Phi[i] = min\n",
    "\n",
    "    pinvN =  np.linalg.pinv(s['N'].T)\n",
    "    phi = -pinvN@Phi\n",
    "    \n",
    "    return Phi,phi\n",
    "     "
   ]
  },
  {
   "cell_type": "markdown",
   "metadata": {},
   "source": [
    "# Extract the model"
   ]
  },
  {
   "cell_type": "markdown",
   "metadata": {},
   "source": [
    "## Extract full ecoli core model from the CobraPy representation"
   ]
  },
  {
   "cell_type": "code",
   "execution_count": 3,
   "metadata": {},
   "outputs": [
    {
     "name": "stdout",
     "output_type": "stream",
     "text": [
      "Extracting stoichiometric matrix from: textbook\n",
      "Cobra Model name: e_coli_core BondGraphTools name: e_coli_core_abg\n",
      "Extract.Integer only handles one non-integer per reaction\n",
      "Multiplying reaction BIOMASS_ECOLIORE ( 12 ) by 0.6684491978609626 to avoid non-integer species 3PG ( 2 )\n",
      "Multiplying reaction CYTBD ( 15 ) by 2.0 to avoid non-integer species O2 ( 55 )\n",
      "Multiplying reaction RPI ( 65 ) by -1\n"
     ]
    }
   ],
   "source": [
    "sm = Extract.extract(cobraname='textbook',Remove=['_C','__' ], negReaction=['RPI'], quiet=quiet)"
   ]
  },
  {
   "cell_type": "markdown",
   "metadata": {},
   "source": [
    "## Extract Glycolysis and Pentose Phosphate Pathways"
   ]
  },
  {
   "cell_type": "code",
   "execution_count": 4,
   "metadata": {},
   "outputs": [
    {
     "name": "stdout",
     "output_type": "stream",
     "text": [
      "Setting Phi for reaction GLCPTS to 277 mV.\n",
      "Setting Phi for reaction \\ch{G6PDH2R} to 10.0 mV. \n",
      "\n",
      "Setting Phi for reaction \\ch{PGL} to 10.0 mV. \n",
      "\n"
     ]
    }
   ],
   "source": [
    "name = 'GlyPPP_abg'\n",
    "reaction = ['GLCPTS','PGI','PFK','FBA','TPI','GAPD','PGK','PGM','ENO','PYK']\n",
    "reaction += ['G6PDH2R','PGL','GND','RPI','TKT2','TALA','TKT1','RPE']\n",
    "sGlyPPP = Extract.choose(sm,reaction=reaction)\n",
    "Phi,phi = getPhi(sGlyPPP)\n",
    "sGlyPPP['name'] = name\n",
    "stbg.model(sGlyPPP)\n",
    "import GlyPPP_abg"
   ]
  },
  {
   "cell_type": "markdown",
   "metadata": {},
   "source": [
    "## Display the extracted reactions\n",
    "\n",
    "- () indicates reaction potential in Volts (J/coulomb)\n",
    "- [] indicates reaction free energy in J/mol\n",
    "\n",
    "See <cite data-cite=\"Gaw17a\">Gawthrop (2017)</cite> for a discussion of these two quantities."
   ]
  },
  {
   "cell_type": "code",
   "execution_count": 5,
   "metadata": {},
   "outputs": [
    {
     "data": {
      "text/latex": [
       "\\begin{xalignat*}{2}\n",
       "\\ch{GLCD_E + PEP &<>[ GLCPTS ] G6P + PYR }&&(0.28)\\;[-26.81]\\\\\n",
       "\\ch{G6P &<>[ PGI ] F6P }&&(0.02)\\;[-1.60]\\\\\n",
       "\\ch{ATP + F6P &<>[ PFK ] ADP + FDP + H }&&(0.26)\\;[-24.71]\\\\\n",
       "\\ch{FDP &<>[ FBA ] DHAP + G3P }&&(0.02)\\;[-1.98]\\\\\n",
       "\\ch{DHAP &<>[ TPI ] G3P }&&(0.01)\\;[-0.79]\\\\\n",
       "\\ch{G3P + NAD + PI &<>[ GAPD ] 13DPG + H + NADH }&&(0.01)\\;[-1.32]\\\\\n",
       "\\ch{3PG + ATP &<>[ PGK ] 13DPG + ADP }&&(0.01)\\;[-1.42]\\\\\n",
       "\\ch{2PG &<>[ PGM ] 3PG }&&(0.03)\\;[-3.17]\\\\\n",
       "\\ch{2PG &<>[ ENO ] H2O + PEP }&&(0.03)\\;[-2.75]\\\\\n",
       "\\ch{ADP + H + PEP &<>[ PYK ] ATP + PYR }&&(0.07)\\;[-7.09]\n",
       "\\end{xalignat*}\n",
       "\n",
       "\\begin{xalignat*}{2}\n",
       "\\ch{G6P + NADP &<>[ G6PDH2R ] 6PGL + H + NADPH }&&(0.01)\\;[-0.96]\\\\\n",
       "\\ch{6PGL + H2O &<>[ PGL ] 6PGC + H }&&(0.01)\\;[-0.96]\\\\\n",
       "\\ch{6PGC + NADP &<>[ GND ] CO2 + NADPH + RU5PD }&&(0.16)\\;[-15.08]\\\\\n",
       "\\ch{RU5PD &<>[ RPI ] R5P }&&(0.00)\\;[-0.00]\\\\\n",
       "\\ch{E4P + XU5PD &<>[ TKT2 ] F6P + G3P }&&(0.02)\\;[-1.61]\\\\\n",
       "\\ch{G3P + S7P &<>[ TALA ] E4P + F6P }&&(0.06)\\;[-5.43]\\\\\n",
       "\\ch{R5P + XU5PD &<>[ TKT1 ] G3P + S7P }&&(0.00)\\;[-0.40]\\\\\n",
       "\\ch{RU5PD &<>[ RPE ] XU5PD }&&(0.00)\\;[-0.08]\n",
       "\\end{xalignat*}\n"
      ],
      "text/plain": [
       "<IPython.core.display.Latex object>"
      ]
     },
     "execution_count": 5,
     "metadata": {},
     "output_type": "execute_result"
    }
   ],
   "source": [
    "disp.Latex(st.sprintrl(sGlyPPP,chemformula=True,Phi=Phi,showMu=showMu))"
   ]
  },
  {
   "cell_type": "markdown",
   "metadata": {},
   "source": [
    "## Code to analyse pathways defined by chemostats and flowstats"
   ]
  },
  {
   "cell_type": "code",
   "execution_count": 6,
   "metadata": {},
   "outputs": [],
   "source": [
    "## Analyse pathways defined by chemostats and flowstats\n",
    "def ch(name):\n",
    "    return '\\\\ch{'+name+'}'\n",
    "\n",
    "def energetics(s,sp,phi):\n",
    "    \"\"\"Reaction energetics.\n",
    "    \"\"\"\n",
    "\n",
    "    ## Phi for all reactions\n",
    "    Phi = -s['N'].T@phi\n",
    "    \n",
    "    ##Phi for pathway\n",
    "    ## I is the relevant indices of phi\n",
    "    I = []\n",
    "    for spec in sp['species']:\n",
    "        i = s['species'].index(spec)\n",
    "        I.append(i)\n",
    "\n",
    "    Phip = -sp['N'].T@phi[I]\n",
    "\n",
    "    return Phi,Phip\n",
    "\n",
    "def pathway(bg,phi,chemostats,flowstats=[],computePhi=False,verbose=False):\n",
    "    \"\"\" Analyse pathways\n",
    "    \"\"\"\n",
    "    \n",
    "    print('Chemostats:',sorted(chemostats))\n",
    "    print('Flowstats:', sorted(flowstats))\n",
    "    ## Stoichiometry\n",
    "    ## Create stoichiometry from bond graph.\n",
    "    s = st.stoich(bg,quiet=True)\n",
    "\n",
    "    ## Stoichiometry with chemostats\n",
    "    sc = st.statify(s,chemostats=chemostats,flowstats=flowstats)\n",
    "\n",
    "    ## Pathway stoichiometry\n",
    "    sp = st.path(s,sc)\n",
    "    \n",
    "    ## Print info\n",
    "    if verbose:\n",
    "        for stat in sorted(chemostats):\n",
    "            print(ch(stat)+',')\n",
    "\n",
    "    ## Energetics\n",
    "    if computePhi:\n",
    "        Phi,Phip = energetics(s,sp,phi)\n",
    "        #print('Phi units: kJ/mol')\n",
    "#         fac = -F/1000\n",
    "#         units='~\\si{\\kilo\\joule\\per\\mol}'\n",
    "        units = '~\\si{\\volt}'\n",
    "        print(st.sprintp(sc))\n",
    "        disp.Latex(st.sprintrl(sp,chemformula=True,Phi=Phip,showMu=showMu))\n",
    "        #return s,sc,sp,Phi*fac,Phip*fac,units\n",
    "        return s,sc,sp,Phip\n",
    "    else:\n",
    "        print(st.sprintrl(sp,chemformula=True))\n",
    "        Phip = 0\n",
    "        return s,sc,sp,Phip\n",
    "    "
   ]
  },
  {
   "cell_type": "markdown",
   "metadata": {},
   "source": [
    "# Analyse Pentose Phosphate Pathway with Glycolysis - Chemostats"
   ]
  },
  {
   "cell_type": "markdown",
   "metadata": {},
   "source": [
    "## Glycolysis"
   ]
  },
  {
   "cell_type": "code",
   "execution_count": 7,
   "metadata": {},
   "outputs": [
    {
     "name": "stdout",
     "output_type": "stream",
     "text": [
      "Glycolysis\n",
      "Chemostats: ['ADP', 'ATP', 'G6P', 'H', 'H2O', 'NAD', 'NADH', 'PI', 'PYR']\n",
      "Flowstats: []\n",
      "1 pathways\n",
      "0:  + PGI + PFK + FBA + TPI + 2 GAPD - 2 PGK - 2 PGM + 2 ENO + 2 PYK\n",
      "\n"
     ]
    },
    {
     "data": {
      "text/latex": [
       "\\begin{xalignat*}{2}\n",
       "\\ch{3 ADP + G6P + 2 NAD + 2 PI &<>[ pr1 ] 3 ATP + H + 2 H2O + 2 NADH + 2 PYR }&&(0.44)\\;[-42.22]\n",
       "\\end{xalignat*}\n"
      ],
      "text/plain": [
       "<IPython.core.display.Latex object>"
      ]
     },
     "execution_count": 7,
     "metadata": {},
     "output_type": "execute_result"
    }
   ],
   "source": [
    "print('Glycolysis')\n",
    "import GlyPPP_abg\n",
    "chemostats = ['H2O','H']\n",
    "chemostats += ['ADP','ATP','PI']\n",
    "chemostats += ['G6P','PYR','NAD','NADH']\n",
    "s,sc,sp,Phip = pathway(GlyPPP_abg.model(),phi,chemostats,computePhi=computePhi)\n",
    "disp.Latex(st.sprintrl(sp,chemformula=True,Phi=factor*Phip,showMu=showMu))"
   ]
  },
  {
   "cell_type": "markdown",
   "metadata": {},
   "source": [
    "- The pathway reaction \\ch{pr_1} is the overall glycolysis reaction from G6P to PYR\n",
    "\\citet[\\S~18.2]{GarGri17}. \n",
    "- The positive reaction potential (negative reaction free energy) indicates\n",
    "that the reaction proceeds in the forward direction."
   ]
  },
  {
   "cell_type": "markdown",
   "metadata": {},
   "source": [
    "## \\ch{R5P} and \\ch{NADPH} generation"
   ]
  },
  {
   "cell_type": "code",
   "execution_count": 8,
   "metadata": {},
   "outputs": [
    {
     "name": "stdout",
     "output_type": "stream",
     "text": [
      "R5P and NADPH generation\n",
      "Chemostats: ['CO2', 'G6P', 'H', 'H2O', 'NADP', 'NADPH', 'R5P']\n",
      "Flowstats: []\n",
      "1 pathways\n",
      "0:  + G6PDH2R + PGL + GND + RPI\n",
      "\n"
     ]
    },
    {
     "data": {
      "text/latex": [
       "\\begin{xalignat*}{2}\n",
       "\\ch{G6P + H2O + 2 NADP &<>[ pr1 ] CO2 + 2 H + 2 NADPH + R5P }&&(0.18)\\;[-17.01]\n",
       "\\end{xalignat*}\n"
      ],
      "text/plain": [
       "<IPython.core.display.Latex object>"
      ]
     },
     "execution_count": 8,
     "metadata": {},
     "output_type": "execute_result"
    }
   ],
   "source": [
    "print('R5P and NADPH generation')\n",
    "chemostats = ['H2O','H']\n",
    "chemostats += ['NADP','NADPH','CO2']\n",
    "chemostats += ['G6P','R5P']\n",
    "s,sc,sp,Phip = pathway(GlyPPP_abg.model(),phi,chemostats,computePhi=computePhi)\n",
    "disp.Latex(st.sprintrl(sp,chemformula=True,Phi=factor*Phip,showMu=showMu))"
   ]
  },
  {
   "cell_type": "markdown",
   "metadata": {},
   "source": [
    "- The pathway reaction \\ch{P_1} corresponds to the \\ch{R5P} and\n",
    "\\ch{NADPH} synthesis discussed in comment 1 of \n",
    "<cite data-cite=\"GarGri17\">Garrett and Grisham (2017)</cite>, p787.\n",
    "\n",
    "- The positive reaction potential (negative reaction free energy) indicates\n",
    "that the reaction proceeds in the forward direction."
   ]
  },
  {
   "cell_type": "markdown",
   "metadata": {},
   "source": [
    "## \\ch{R5P} generation"
   ]
  },
  {
   "cell_type": "code",
   "execution_count": 9,
   "metadata": {},
   "outputs": [
    {
     "name": "stdout",
     "output_type": "stream",
     "text": [
      "R5P generation\n",
      "Chemostats: ['ADP', 'ATP', 'G6P', 'H', 'H2O', 'R5P']\n",
      "Flowstats: []\n",
      "1 pathways\n",
      "0:  - 5 PGI - PFK - FBA - TPI - 4 RPI + 2 TKT2 + 2 TALA + 2 TKT1 + 4 RPE\n",
      "\n"
     ]
    },
    {
     "data": {
      "text/latex": [
       "\\begin{xalignat*}{2}\n",
       "\\ch{ADP + H + 6 R5P &<>[ pr1 ] ATP + 5 G6P }&&(-0.21)\\;[20.30]\n",
       "\\end{xalignat*}\n"
      ],
      "text/plain": [
       "<IPython.core.display.Latex object>"
      ]
     },
     "execution_count": 9,
     "metadata": {},
     "output_type": "execute_result"
    }
   ],
   "source": [
    "print('R5P generation')\n",
    "chemostats = ['H2O','H']\n",
    "chemostats += ['G6P','R5P']\n",
    "chemostats += ['ADP','ATP']\n",
    "s,sc,sp,Phip = pathway(GlyPPP_abg.model(),phi,chemostats,computePhi=computePhi)\n",
    "disp.Latex(st.sprintrl(sp,chemformula=True,Phi=factor*Phip,showMu=showMu))"
   ]
  },
  {
   "cell_type": "markdown",
   "metadata": {},
   "source": [
    "- The pathway reaction \\ch{pr1} corresponds to the \\ch{R5P} synthesis discussed in comment 2 of\n",
    "<cite data-cite=\"GarGri17\">Garrett and Grisham (2017)</cite>, p787.\n",
    "- The *negative* reaction potential (*positive* reaction free energy) indicates\n",
    "that the reaction proceeds in the *reverse* direction.\n"
   ]
  },
  {
   "cell_type": "markdown",
   "metadata": {},
   "source": [
    "## \\ch{NADPH} generation"
   ]
  },
  {
   "cell_type": "code",
   "execution_count": 10,
   "metadata": {
    "scrolled": true
   },
   "outputs": [
    {
     "name": "stdout",
     "output_type": "stream",
     "text": [
      "Chemostats: ['ADP', 'ATP', 'CO2', 'G6P', 'H', 'H2O', 'NADP', 'NADPH']\n",
      "Flowstats: []\n",
      "1 pathways\n",
      "0:  - 5 PGI - PFK - FBA - TPI + 6 G6PDH2R + 6 PGL + 6 GND + 2 RPI + 2 TKT2 + 2 TALA + 2 TKT1 + 4 RPE\n",
      "\n"
     ]
    },
    {
     "data": {
      "text/latex": [
       "\\begin{xalignat*}{2}\n",
       "\\ch{ADP + G6P + 6 H2O + 12 NADP &<>[ pr1 ] ATP + 6 CO2 + 11 H + 12 NADPH }&&(0.85)\\;[-81.79]\n",
       "\\end{xalignat*}\n"
      ],
      "text/plain": [
       "<IPython.core.display.Latex object>"
      ]
     },
     "execution_count": 10,
     "metadata": {},
     "output_type": "execute_result"
    }
   ],
   "source": [
    "import GlyPPP_abg\n",
    "chemostats = ['H2O','H']\n",
    "chemostats += ['G6P']\n",
    "chemostats += ['NADP','NADPH','CO2']\n",
    "chemostats += ['ATP','ADP']\n",
    "s,sc,sp,Phip = pathway(GlyPPP_abg.model(),phi,chemostats,computePhi=computePhi)\n",
    "disp.Latex(st.sprintrl(sp,chemformula=True,Phi=factor*Phip,showMu=showMu))"
   ]
  },
  {
   "cell_type": "markdown",
   "metadata": {},
   "source": [
    "- The pathway reaction \\ch{pr1} corresponds to the \n",
    "\\ch{NADPH} synthesis discussed in comment 3 of\n",
    "<cite data-cite=\"GarGri17\">Garrett and Grisham (2017)</cite>, p787.\n",
    "- The positive reaction potential (negative reaction free energy) indicates\n",
    "that the reaction proceeds in the forward direction.\n"
   ]
  },
  {
   "cell_type": "markdown",
   "metadata": {},
   "source": [
    "## \\ch{NADPH} and \\ch{ATP} generation"
   ]
  },
  {
   "cell_type": "code",
   "execution_count": 11,
   "metadata": {},
   "outputs": [
    {
     "name": "stdout",
     "output_type": "stream",
     "text": [
      "Chemostats: ['ADP', 'ATP', 'CO2', 'G6P', 'H', 'H2O', 'NAD', 'NADH', 'NADP', 'NADPH', 'PI', 'PYR']\n",
      "Flowstats: ['PGI']\n",
      "2 pathways\n",
      "0:  + PGI\n",
      "1:  + 2 PFK + 2 FBA + 2 TPI + 5 GAPD - 5 PGK - 5 PGM + 5 ENO + 5 PYK + 3 G6PDH2R + 3 PGL + 3 GND + RPI + TKT2 + TALA + TKT1 + 2 RPE\n",
      "\n"
     ]
    },
    {
     "data": {
      "text/latex": [
       "\\begin{xalignat*}{2}\n",
       "\\ch{8 ADP + 3 G6P + 5 NAD + 6 NADP + 5 PI &<>[ pr1 ] 8 ATP + 3 CO2 + 8 H + 2 H2O + 5 NADH + 6 NADPH + 5 PYR }&&(1.52)\\;[-146.44]\n",
       "\\end{xalignat*}\n"
      ],
      "text/plain": [
       "<IPython.core.display.Latex object>"
      ]
     },
     "execution_count": 11,
     "metadata": {},
     "output_type": "execute_result"
    }
   ],
   "source": [
    "import GlyPPP_abg\n",
    "chemostats = ['H2O','H']\n",
    "chemostats += ['NADP','NADPH','CO2']\n",
    "chemostats += ['G6P']\n",
    "chemostats += ['ADP','ATP','PI'] \n",
    "chemostats += ['PYR','NAD','NADH']\n",
    "flowstats = ['PGI']\n",
    "s,sc,sp,Phip = pathway(GlyPPP_abg.model(),phi,chemostats,flowstats=flowstats,computePhi=computePhi)\n",
    "disp.Latex(st.sprintrl(sp,chemformula=True,Phi=factor*Phip,showMu=showMu))"
   ]
  },
  {
   "cell_type": "markdown",
   "metadata": {},
   "source": [
    "- The pathway reaction \\ch{P_1} corresponds to the \n",
    "\\ch{NADPH} and \\ch{ATP} synthesis discussed in comment 4 of\n",
    "<cite data-cite=\"GarGri17\">Garrett and Grisham (2017)</cite>, p787.\n",
    "- The positive reaction potential (negative reaction free energy) indicates\n",
    "that the reaction proceeds in the forward direction.\n"
   ]
  },
  {
   "cell_type": "markdown",
   "metadata": {},
   "source": [
    "# Analyse Pentose Phosphate Pathway with Glycolysis - Flowstats\n",
    "The pathways may also be isolated by using appropriate (zero-flow) flowstats. The comments for each section are the same as in the previous section."
   ]
  },
  {
   "cell_type": "markdown",
   "metadata": {},
   "source": [
    "## Common chemostats"
   ]
  },
  {
   "cell_type": "code",
   "execution_count": 12,
   "metadata": {},
   "outputs": [],
   "source": [
    "import GlyPPP_abg\n",
    "Chemostats = ['G6P','ADP','ATP','CO2','H','H2O','NAD','NADH','NADP','NADPH','PI','PYR']"
   ]
  },
  {
   "cell_type": "markdown",
   "metadata": {},
   "source": [
    "## Glycolysis\n",
    "- The glycolysis pathway is isolated from the pentose phosphate pathway\n",
    "by replacing the two connecting reactions (G6PDH2R and TKT2) by\n",
    "flowstats."
   ]
  },
  {
   "cell_type": "code",
   "execution_count": 13,
   "metadata": {
    "scrolled": false
   },
   "outputs": [
    {
     "name": "stdout",
     "output_type": "stream",
     "text": [
      "Glycolysis\n",
      "Chemostats: ['ADP', 'ATP', 'CO2', 'G6P', 'H', 'H2O', 'NAD', 'NADH', 'NADP', 'NADPH', 'PI', 'PYR']\n",
      "Flowstats: ['G6PDH2R', 'TKT2']\n",
      "3 pathways\n",
      "0:  + PGI + PFK + FBA + TPI + 2 GAPD - 2 PGK - 2 PGM + 2 ENO + 2 PYK\n",
      "1:  + G6PDH2R\n",
      "2:  + TKT2\n",
      "\n"
     ]
    },
    {
     "data": {
      "text/latex": [
       "\\begin{xalignat*}{2}\n",
       "\\ch{3 ADP + G6P + 2 NAD + 2 PI &<>[ pr1 ] 3 ATP + H + 2 H2O + 2 NADH + 2 PYR }&&(0.44)\\;[-42.22]\n",
       "\\end{xalignat*}\n"
      ],
      "text/plain": [
       "<IPython.core.display.Latex object>"
      ]
     },
     "execution_count": 13,
     "metadata": {},
     "output_type": "execute_result"
    }
   ],
   "source": [
    "print('Glycolysis')\n",
    "chemostats = Chemostats\n",
    "flowstats = ['G6PDH2R','TKT2']\n",
    "s,sc,sp,Phip = pathway(GlyPPP_abg.model(),phi,chemostats,flowstats=flowstats,computePhi=computePhi)\n",
    "disp.Latex(st.sprintrl(sp,chemformula=True,Phi=factor*Phip,showMu=showMu))"
   ]
  },
  {
   "cell_type": "markdown",
   "metadata": {},
   "source": [
    "## \\ch{R5P} and \\ch{NADPH} generation\n",
    "- This pathway is isolated by setting PGI and TKT2 as flowstats and the\n",
    "product \\ch{R5P} is added to the chemostat list."
   ]
  },
  {
   "cell_type": "code",
   "execution_count": 14,
   "metadata": {},
   "outputs": [
    {
     "name": "stdout",
     "output_type": "stream",
     "text": [
      "R5P and NADPH generation\n",
      "Chemostats: ['ADP', 'ATP', 'CO2', 'G6P', 'H', 'H2O', 'NAD', 'NADH', 'NADP', 'NADPH', 'PI', 'PYR', 'R5P']\n",
      "Flowstats: ['PGI', 'TKT2']\n",
      "3 pathways\n",
      "0:  + PGI\n",
      "1:  + G6PDH2R + PGL + GND + RPI\n",
      "2:  + TKT2\n",
      "\n"
     ]
    },
    {
     "data": {
      "text/latex": [
       "\\begin{xalignat*}{2}\n",
       "\\ch{G6P + H2O + 2 NADP &<>[ pr1 ] CO2 + 2 H + 2 NADPH + R5P }&&(0.18)\\;[-17.01]\n",
       "\\end{xalignat*}\n"
      ],
      "text/plain": [
       "<IPython.core.display.Latex object>"
      ]
     },
     "execution_count": 14,
     "metadata": {},
     "output_type": "execute_result"
    }
   ],
   "source": [
    "print('R5P and NADPH generation')\n",
    "chemostats = Chemostats + ['R5P']\n",
    "flowstats = ['PGI','TKT2']\n",
    "#s,sc,sp,Phip,Phi,Phip,units = pathway(GlyPPP_abg.model(),phi,chemostats,flowstats=flowstats,computePhi=computePhi)\n",
    "s,sc,sp,Phip = pathway(GlyPPP_abg.model(),phi,chemostats,flowstats=flowstats,computePhi=computePhi)\n",
    "disp.Latex(st.sprintrl(sp,chemformula=True,Phi=factor*Phip,showMu=showMu))"
   ]
  },
  {
   "cell_type": "markdown",
   "metadata": {},
   "source": [
    "## \\ch{R5P} generation\n",
    "- This pathway is isolated by setting GAPD and G6PDH2R as flowstats and the\n",
    "product \\ch{R5P} is added to the chemostat list."
   ]
  },
  {
   "cell_type": "code",
   "execution_count": 15,
   "metadata": {},
   "outputs": [
    {
     "name": "stdout",
     "output_type": "stream",
     "text": [
      "R5P generation\n",
      "Chemostats: ['ADP', 'ATP', 'CO2', 'G6P', 'H', 'H2O', 'NAD', 'NADH', 'NADP', 'NADPH', 'PI', 'PYR', 'R5P']\n",
      "Flowstats: ['G6PDH2R', 'GAPD']\n",
      "3 pathways\n",
      "0:  + GAPD\n",
      "1:  + G6PDH2R\n",
      "2:  - 5 PGI - PFK - FBA - TPI - 4 RPI + 2 TKT2 + 2 TALA + 2 TKT1 + 4 RPE\n",
      "\n"
     ]
    },
    {
     "data": {
      "text/latex": [
       "\\begin{xalignat*}{2}\n",
       "\\ch{ADP + H + 6 R5P &<>[ pr1 ] ATP + 5 G6P }&&(-0.21)\\;[20.30]\n",
       "\\end{xalignat*}\n"
      ],
      "text/plain": [
       "<IPython.core.display.Latex object>"
      ]
     },
     "execution_count": 15,
     "metadata": {},
     "output_type": "execute_result"
    }
   ],
   "source": [
    "print('R5P generation')\n",
    "chemostats = Chemostats + ['R5P']\n",
    "flowstats = ['GAPD','G6PDH2R']\n",
    "s,sc,sp,Phip = pathway(GlyPPP_abg.model(),phi,chemostats,flowstats=flowstats,computePhi=computePhi)\n",
    "disp.Latex(st.sprintrl(sp,chemformula=True,Phi=factor*Phip,showMu=showMu))"
   ]
  },
  {
   "cell_type": "markdown",
   "metadata": {},
   "source": [
    "## \\ch{NADPH} generation\n",
    "\n",
    "- This pathway is isolated by setting GAPD as a flowstat."
   ]
  },
  {
   "cell_type": "code",
   "execution_count": 16,
   "metadata": {},
   "outputs": [
    {
     "name": "stdout",
     "output_type": "stream",
     "text": [
      "NADPH generation\n",
      "Chemostats: ['ADP', 'ATP', 'CO2', 'G6P', 'H', 'H2O', 'NAD', 'NADH', 'NADP', 'NADPH', 'PI', 'PYR']\n",
      "Flowstats: ['GAPD']\n",
      "2 pathways\n",
      "0:  + GAPD\n",
      "1:  - 5 PGI - PFK - FBA - TPI + 6 G6PDH2R + 6 PGL + 6 GND + 2 RPI + 2 TKT2 + 2 TALA + 2 TKT1 + 4 RPE\n",
      "\n"
     ]
    },
    {
     "data": {
      "text/latex": [
       "\\begin{xalignat*}{2}\n",
       "\\ch{ADP + G6P + 6 H2O + 12 NADP &<>[ pr1 ] ATP + 6 CO2 + 11 H + 12 NADPH }&&(0.85)\\;[-81.79]\n",
       "\\end{xalignat*}\n"
      ],
      "text/plain": [
       "<IPython.core.display.Latex object>"
      ]
     },
     "execution_count": 16,
     "metadata": {},
     "output_type": "execute_result"
    }
   ],
   "source": [
    "print('NADPH generation')\n",
    "chemostats = Chemostats\n",
    "flowstats = ['GAPD']\n",
    "s,sc,sp,Phip = pathway(GlyPPP_abg.model(),phi,chemostats,flowstats=flowstats,computePhi=computePhi)\n",
    "disp.Latex(st.sprintrl(sp,chemformula=True,Phi=factor*Phip,showMu=showMu))"
   ]
  },
  {
   "cell_type": "markdown",
   "metadata": {},
   "source": [
    "## \\ch{NADPH} and \\ch{ATP} generation\n",
    "This pathway is isolated by setting PGI as flowstat."
   ]
  },
  {
   "cell_type": "code",
   "execution_count": 17,
   "metadata": {
    "scrolled": false
   },
   "outputs": [
    {
     "name": "stdout",
     "output_type": "stream",
     "text": [
      "NADPH and ATP generation\n",
      "Chemostats: ['ADP', 'ATP', 'CO2', 'G6P', 'H', 'H2O', 'NAD', 'NADH', 'NADP', 'NADPH', 'PI', 'PYR']\n",
      "Flowstats: ['PGI']\n",
      "2 pathways\n",
      "0:  + PGI\n",
      "1:  + 2 PFK + 2 FBA + 2 TPI + 5 GAPD - 5 PGK - 5 PGM + 5 ENO + 5 PYK + 3 G6PDH2R + 3 PGL + 3 GND + RPI + TKT2 + TALA + TKT1 + 2 RPE\n",
      "\n"
     ]
    },
    {
     "data": {
      "text/latex": [
       "\\begin{xalignat*}{2}\n",
       "\\ch{8 ADP + 3 G6P + 5 NAD + 6 NADP + 5 PI &<>[ pr1 ] 8 ATP + 3 CO2 + 8 H + 2 H2O + 5 NADH + 6 NADPH + 5 PYR }&&(1.52)\\;[-146.44]\n",
       "\\end{xalignat*}\n"
      ],
      "text/plain": [
       "<IPython.core.display.Latex object>"
      ]
     },
     "execution_count": 17,
     "metadata": {},
     "output_type": "execute_result"
    }
   ],
   "source": [
    "print('NADPH and ATP generation')\n",
    "chemostats = Chemostats\n",
    "flowstats = ['PGI']\n",
    "s,sc,sp,Phip = pathway(GlyPPP_abg.model(),phi,chemostats,flowstats=flowstats,computePhi=computePhi)\n",
    "disp.Latex(st.sprintrl(sp,chemformula=True,Phi=factor*Phip,showMu=showMu))"
   ]
  }
 ],
 "metadata": {
  "kernelspec": {
   "display_name": "Python 3",
   "language": "python",
   "name": "python3"
  },
  "language_info": {
   "codemirror_mode": {
    "name": "ipython",
    "version": 3
   },
   "file_extension": ".py",
   "mimetype": "text/x-python",
   "name": "python",
   "nbconvert_exporter": "python",
   "pygments_lexer": "ipython3",
   "version": "3.6.9"
  },
  "toc": {
   "base_numbering": 1,
   "nav_menu": {},
   "number_sections": true,
   "sideBar": true,
   "skip_h1_title": false,
   "title_cell": "Table of Contents",
   "title_sidebar": "Contents",
   "toc_cell": false,
   "toc_position": {},
   "toc_section_display": true,
   "toc_window_display": false
  }
 },
 "nbformat": 4,
 "nbformat_minor": 2
}
