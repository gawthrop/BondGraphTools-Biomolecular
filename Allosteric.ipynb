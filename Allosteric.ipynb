{
 "cells": [
  {
   "cell_type": "markdown",
   "metadata": {},
   "source": [
    "***Note: this is the Allosteric.ipynb notebook. The\n",
    "PDF version \"Allosteric inhibition as a control actuator: loop-gain analysis\"\n",
    "is available [here](Allosteric.pdf).***"
   ]
  },
  {
   "cell_type": "markdown",
   "metadata": {},
   "source": [
    "# Introduction\n",
    "Using the methods of control theory to examine and reexamine the behaviour of living systems is well-established\n",
    "<cite data-cite=\"Cra47a\">(Craik, 1947)</cite>\n",
    "<cite data-cite=\"Wie61\">(Weiner, 1961)</cite>\n",
    "<cite data-cite=\"Bay66\">(Bayliss, 1966)</cite>\n",
    "<cite data-cite=\"Sav09\">(Savageau, 1976)</cite>\n",
    "<cite data-cite=\"JagFla03\">(Jagacinski and Flach, 2003)</cite>\n",
    "<cite data-cite=\"IglIng10\">(Inglesias and Ingalls, 2010)</cite>\n",
    "<cite data-cite=\"WelBulKalMasVer08\">(Wellstead et al, 2008)</cite>\n",
    "<cite data-cite=\"DriLeaDet15\">(Drion et al, 2015)</cite>\n",
    "<cite data-cite=\"Vec13\">(Del Veccio, 2013)</cite>.\n",
    "This notebook examines the enzyme-catalysed reaction as a control actuator and its behavior within a feedback loop controlling product concentration. The feedback mechanism used is *Allosteric inhibition* - see section 1.4.3\n",
    "<cite data-cite=\"KeeSne09\">(Keener and Sneyd, 2009)</cite>. \n",
    "\n",
    "- The notebook [fECR](https://github.com/gawthrop/BondGraphTools-Biomolecular/blob/master/fECR.ipynb) looks at an alternative feedback mechanism : feedback inhibition.\n",
    "- As discussed in the sequel, feedback inhibition is a special case of allosteric inhibition.\n",
    "- As discussed in the notebook [fECR](fECR.pdf), the control methodology is based on \n",
    "    [Linearisation](https://github.com/gawthrop/BondGraphTools-Biomolecular/blob/master/Linearisation.ipynb).\n",
    "- This notebook introduces a novel method for deducing the *feedback loop-gain* $L(s)$ from the bond graph describing the biomolecular system. $L(s)$ is a crucial component of feedback control analysis."
   ]
  },
  {
   "cell_type": "markdown",
   "metadata": {},
   "source": [
    "## Import some python code\n",
    "The bond graph analysis uses a number of Python modules:"
   ]
  },
  {
   "cell_type": "code",
   "execution_count": 1,
   "metadata": {},
   "outputs": [],
   "source": [
    "## Some useful imports\n",
    "import BondGraphTools as bgt\n",
    "import numpy as np\n",
    "import sympy as sym\n",
    "import matplotlib.pyplot as plt\n",
    "import IPython.display as disp\n",
    "\n",
    "## Stoichiometric analysis\n",
    "import stoich as st\n",
    "\n",
    "## SVG bg representation conversion\n",
    "import svgBondGraph as sbg\n",
    "\n",
    "## Control systems package\n",
    "import control as con\n",
    "\n",
    "## Set quiet=False for verbose output\n",
    "quiet = True\n",
    "\n",
    "## Set slycot=True if slycot is installed (see control module)\n",
    "slycot=True\n",
    "\n",
    "## For reimporting: use imp.reload(module)\n",
    "import importlib as imp\n",
    "\n",
    "## Printing options\n",
    "np.set_printoptions(precision=3)\n",
    "fmt = '{:5.3f}'\n",
    "\n",
    "## Allow output from within functions\n",
    "from IPython.core.interactiveshell import InteractiveShell\n",
    "InteractiveShell.ast_node_interactivity = \"all\"\n",
    "\n",
    "## Minreal (minimum realisation algorithm) tolerance\n",
    "tol = 1e-2\n",
    "\n",
    "## Chemostat EM and CM\n",
    "chemostatEMCM = True\n"
   ]
  },
  {
   "cell_type": "markdown",
   "metadata": {},
   "source": [
    "## Derive stoichiometry from bond graph"
   ]
  },
  {
   "cell_type": "code",
   "execution_count": 2,
   "metadata": {},
   "outputs": [],
   "source": [
    "def stoichiometry(abg,chemostats=[]):\n",
    "    s = st.stoich(abg.model(),quiet=quiet)\n",
    "    sc = st.statify(s,chemostats=chemostats)    \n",
    "    return s,sc"
   ]
  },
  {
   "cell_type": "markdown",
   "metadata": {},
   "source": [
    "# Enzme catalysed reaction with allosteric inhibition"
   ]
  },
  {
   "cell_type": "markdown",
   "metadata": {},
   "source": [
    "## Bond graph model\n",
    "\n",
    "-  **Ce:A**: substrate\n",
    "-  **Ce:B**: product\n",
    "-  **Ce:B0**: product sink\n",
    "-  **Ce:E**: enzyme\n",
    "-  **Ce:C**: enzyme bound to A\n",
    "-  **Ce:F** and **Ce:G**: species pumping the reaction\n",
    "-  **Ce:B**: product\n",
    "-  **Ce:EM**: enzyme bound to M\n",
    "-  **Ce:CM**: complex C bound to M\n",
    "-  Corresponding reactions are:\n",
    "\n",
    "\\begin{align}\n",
    "\\ch{A + E + F &<>[ r1 ] C }\\\\\n",
    "\\ch{C &<>[ r2 ] B + E + G }\\\\\n",
    "\\ch{B &<>[ r3 ] B0 }\\\\\n",
    "\\ch{CM &<>[ ra ] A + EM }\\\\\n",
    "\\ch{5 B + C &<>[ rc ] CM }\\\\\n",
    "\\ch{EM &<>[ re ] 5 B + E }\n",
    "\\end{align}"
   ]
  },
  {
   "cell_type": "code",
   "execution_count": 3,
   "metadata": {
    "scrolled": true
   },
   "outputs": [
    {
     "data": {
      "image/svg+xml": [
       "<svg height=\"564pt\" viewBox=\"2060 300 11008 8947\" width=\"694pt\" xmlns=\"http://www.w3.org/2000/svg\" xmlns:xlink=\"http://www.w3.org/1999/xlink\">\n",
       "<g fill=\"none\">\n",
       "<!-- Text -->\n",
       "<text fill=\"#000000\" font-family=\"Helvetica\" font-size=\"216\" font-style=\"normal\" font-weight=\"bold\" text-anchor=\"middle\" x=\"4950\" xml:space=\"preserve\" y=\"4815\">1</text>\n",
       "<!-- Text -->\n",
       "<text fill=\"#000000\" font-family=\"Helvetica\" font-size=\"216\" font-style=\"normal\" font-weight=\"bold\" text-anchor=\"middle\" x=\"8550\" xml:space=\"preserve\" y=\"4815\">1</text>\n",
       "<!-- Text -->\n",
       "<text fill=\"#000000\" font-family=\"Helvetica\" font-size=\"216\" font-style=\"normal\" font-weight=\"bold\" text-anchor=\"middle\" x=\"6750\" xml:space=\"preserve\" y=\"3015\">0</text>\n",
       "<!-- Text -->\n",
       "<text fill=\"#000000\" font-family=\"Helvetica\" font-size=\"216\" font-style=\"normal\" font-weight=\"bold\" text-anchor=\"middle\" x=\"3600\" xml:space=\"preserve\" y=\"4815\">0</text>\n",
       "<!-- Text -->\n",
       "<text fill=\"#000000\" font-family=\"Helvetica\" font-size=\"216\" font-style=\"normal\" font-weight=\"bold\" text-anchor=\"middle\" x=\"6750\" xml:space=\"preserve\" y=\"6615\">0</text>\n",
       "<!-- Text -->\n",
       "<text fill=\"#000000\" font-family=\"Helvetica\" font-size=\"216\" font-style=\"normal\" font-weight=\"bold\" text-anchor=\"middle\" x=\"9900\" xml:space=\"preserve\" y=\"4815\">0</text>\n",
       "<!-- Text -->\n",
       "<text fill=\"#000000\" font-family=\"Helvetica\" font-size=\"216\" font-style=\"normal\" font-weight=\"bold\" text-anchor=\"middle\" x=\"3600\" xml:space=\"preserve\" y=\"3690\">Ce:A</text>\n",
       "<!-- Text -->\n",
       "<text fill=\"#000000\" font-family=\"Helvetica\" font-size=\"216\" font-style=\"normal\" font-weight=\"bold\" text-anchor=\"middle\" x=\"8550\" xml:space=\"preserve\" y=\"3690\">Re:r2</text>\n",
       "<!-- Text -->\n",
       "<text fill=\"#000000\" font-family=\"Helvetica\" font-size=\"216\" font-style=\"normal\" font-weight=\"bold\" text-anchor=\"middle\" x=\"6750\" xml:space=\"preserve\" y=\"7965\">1</text>\n",
       "<!-- Text -->\n",
       "<text fill=\"#000000\" font-family=\"Helvetica\" font-size=\"216\" font-style=\"normal\" font-weight=\"bold\" text-anchor=\"middle\" x=\"6750\" xml:space=\"preserve\" y=\"9090\">0</text>\n",
       "<!-- Text -->\n",
       "<text fill=\"#000000\" font-family=\"Helvetica\" font-size=\"216\" font-style=\"normal\" font-weight=\"bold\" text-anchor=\"middle\" x=\"6750\" xml:space=\"preserve\" y=\"1665\">1</text>\n",
       "<!-- Text -->\n",
       "<text fill=\"#000000\" font-family=\"Helvetica\" font-size=\"216\" font-style=\"normal\" font-weight=\"bold\" text-anchor=\"middle\" x=\"6750\" xml:space=\"preserve\" y=\"540\">0</text>\n",
       "<!-- Text -->\n",
       "<text fill=\"#000000\" font-family=\"Helvetica\" font-size=\"216\" font-style=\"normal\" font-weight=\"bold\" text-anchor=\"middle\" x=\"2475\" xml:space=\"preserve\" y=\"4815\">1</text>\n",
       "<!-- Text -->\n",
       "<text fill=\"#000000\" font-family=\"Helvetica\" font-size=\"216\" font-style=\"normal\" font-weight=\"bold\" text-anchor=\"middle\" x=\"8325\" xml:space=\"preserve\" y=\"540\">Ce:EM</text>\n",
       "<!-- Text -->\n",
       "<text fill=\"#000000\" font-family=\"Helvetica\" font-size=\"216\" font-style=\"normal\" font-weight=\"bold\" text-anchor=\"middle\" x=\"8325\" xml:space=\"preserve\" y=\"9090\">Ce:CM</text>\n",
       "<!-- Text -->\n",
       "<text fill=\"#000000\" font-family=\"Helvetica\" font-size=\"216\" font-style=\"normal\" font-weight=\"bold\" text-anchor=\"middle\" x=\"4950\" xml:space=\"preserve\" y=\"3690\">Re:r1</text>\n",
       "<!-- Text -->\n",
       "<text fill=\"#000000\" font-family=\"Helvetica\" font-size=\"216\" font-style=\"normal\" font-weight=\"bold\" text-anchor=\"middle\" x=\"8100\" xml:space=\"preserve\" y=\"7965\">Re:rc</text>\n",
       "<!-- Text -->\n",
       "<text fill=\"#000000\" font-family=\"Helvetica\" font-size=\"216\" font-style=\"normal\" font-weight=\"bold\" text-anchor=\"middle\" x=\"8100\" xml:space=\"preserve\" y=\"1665\">Re:re</text>\n",
       "<!-- Text -->\n",
       "<text fill=\"#000000\" font-family=\"Helvetica\" font-size=\"216\" font-style=\"normal\" font-weight=\"bold\" text-anchor=\"middle\" x=\"2475\" xml:space=\"preserve\" y=\"3690\">Re:ra</text>\n",
       "<!-- Text -->\n",
       "<text fill=\"#000000\" font-family=\"Helvetica\" font-size=\"216\" font-style=\"normal\" font-weight=\"bold\" text-anchor=\"middle\" x=\"11250\" xml:space=\"preserve\" y=\"4815\">1</text>\n",
       "<!-- Text -->\n",
       "<text fill=\"#000000\" font-family=\"Helvetica\" font-size=\"216\" font-style=\"normal\" font-weight=\"bold\" text-anchor=\"middle\" x=\"12600\" xml:space=\"preserve\" y=\"4815\">0</text>\n",
       "<!-- Text -->\n",
       "<text fill=\"#000000\" font-family=\"Helvetica\" font-size=\"216\" font-style=\"normal\" font-weight=\"bold\" text-anchor=\"middle\" x=\"9900\" xml:space=\"preserve\" y=\"3690\">Ce:B</text>\n",
       "<!-- Text -->\n",
       "<text fill=\"#000000\" font-family=\"Helvetica\" font-size=\"216\" font-style=\"normal\" font-weight=\"bold\" text-anchor=\"middle\" x=\"12600\" xml:space=\"preserve\" y=\"3690\">Ce:B0</text>\n",
       "<!-- Text -->\n",
       "<text fill=\"#000000\" font-family=\"Helvetica\" font-size=\"216\" font-style=\"normal\" font-weight=\"bold\" text-anchor=\"middle\" x=\"11250\" xml:space=\"preserve\" y=\"3690\">Re:r3</text>\n",
       "<!-- Text -->\n",
       "<text fill=\"#000000\" font-family=\"Helvetica\" font-size=\"216\" font-style=\"normal\" font-weight=\"bold\" text-anchor=\"middle\" x=\"4950\" xml:space=\"preserve\" y=\"5940\">Ce:F</text>\n",
       "<!-- Text -->\n",
       "<text fill=\"#000000\" font-family=\"Helvetica\" font-size=\"216\" font-style=\"normal\" font-weight=\"bold\" text-anchor=\"middle\" x=\"8550\" xml:space=\"preserve\" y=\"5940\">Ce:G</text>\n",
       "<!-- Text -->\n",
       "<text fill=\"#000000\" font-family=\"Helvetica\" font-size=\"216\" font-style=\"normal\" font-weight=\"bold\" text-anchor=\"middle\" x=\"6750\" xml:space=\"preserve\" y=\"4140\">Ce:E</text>\n",
       "<!-- Text -->\n",
       "<text fill=\"#000000\" font-family=\"Helvetica\" font-size=\"216\" font-style=\"normal\" font-weight=\"bold\" text-anchor=\"middle\" x=\"6750\" xml:space=\"preserve\" y=\"5490\">Ce:C</text>\n",
       "<!-- Line -->\n",
       "<polyline points=\" 5175,4950 6525,6300 6300,6300\" stroke=\"#000000\" stroke-width=\"15px\"/>\n",
       "<!-- Line -->\n",
       "<polyline points=\" 6975,6300 8325,4950 8325,5175\" stroke=\"#000000\" stroke-width=\"15px\"/>\n",
       "<!-- Line -->\n",
       "<polyline points=\" 8325,4500 6975,3150 6975,3375\" stroke=\"#000000\" stroke-width=\"15px\"/>\n",
       "<!-- Line -->\n",
       "<polyline points=\" 6525,3150 5175,4500 5400,4500\" stroke=\"#000000\" stroke-width=\"15px\"/>\n",
       "<!-- Line -->\n",
       "<polyline points=\" 6750,3150 6750,3825 6975,3600\" stroke=\"#000000\" stroke-width=\"15px\"/>\n",
       "<!-- Line -->\n",
       "<polyline points=\" 6750,6300 6750,5625 6975,5850\" stroke=\"#000000\" stroke-width=\"15px\"/>\n",
       "<!-- Line -->\n",
       "<polyline points=\" 8775,4725 9675,4725 9450,4950\" stroke=\"#000000\" stroke-width=\"15px\"/>\n",
       "<!-- Line -->\n",
       "<polyline points=\" 9900,4500 9900,3825 10125,4050\" stroke=\"#000000\" stroke-width=\"15px\"/>\n",
       "<!-- Line -->\n",
       "<polyline points=\" 4950,4500 4950,3825 5175,4050\" stroke=\"#000000\" stroke-width=\"15px\"/>\n",
       "<!-- Line -->\n",
       "<polyline points=\" 8550,4500 8550,3825 8775,4050\" stroke=\"#000000\" stroke-width=\"15px\"/>\n",
       "<!-- Line -->\n",
       "<polyline points=\" 9675,4950 6975,7650 7200,7650\" stroke=\"#ff0000\" stroke-width=\"15px\"/>\n",
       "<!-- Line -->\n",
       "<polyline points=\" 6750,6750 6750,7650 6975,7425\" stroke=\"#000000\" stroke-width=\"15px\"/>\n",
       "<!-- Line -->\n",
       "<polyline points=\" 6750,8100 6750,8775 6975,8550\" stroke=\"#000000\" stroke-width=\"15px\"/>\n",
       "<!-- Line -->\n",
       "<polyline points=\" 6750,1800 6750,2700 6975,2475\" stroke=\"#000000\" stroke-width=\"15px\"/>\n",
       "<!-- Line -->\n",
       "<polyline points=\" 3600,4500 3600,3825 3825,4050\" stroke=\"#000000\" stroke-width=\"15px\"/>\n",
       "<!-- Line -->\n",
       "<polyline points=\" 6525,8775 2700,4950 2700,5175\" stroke=\"#ff0000\" stroke-width=\"15px\"/>\n",
       "<!-- Line -->\n",
       "<polyline points=\" 2700,4725 3375,4725 3150,4950\" stroke=\"#000000\" stroke-width=\"15px\"/>\n",
       "<!-- Line -->\n",
       "<polyline points=\" 2700,4500 6525,675 6525,900\" stroke=\"#ff0000\" stroke-width=\"15px\"/>\n",
       "<!-- Line -->\n",
       "<polyline points=\" 3825,4725 4725,4725 4500,4950\" stroke=\"#000000\" stroke-width=\"15px\"/>\n",
       "<!-- Line -->\n",
       "<polyline points=\" 6975,9000 7650,9000 7425,9225\" stroke=\"#000000\" stroke-width=\"15px\"/>\n",
       "<!-- Line -->\n",
       "<polyline points=\" 6975,450 7650,450 7425,675\" stroke=\"#000000\" stroke-width=\"15px\"/>\n",
       "<!-- Line -->\n",
       "<polyline points=\" 6975,7875 7650,7875 7425,8100\" stroke=\"#000000\" stroke-width=\"15px\"/>\n",
       "<!-- Line -->\n",
       "<polyline points=\" 6975,1575 7650,1575 7425,1800\" stroke=\"#000000\" stroke-width=\"15px\"/>\n",
       "<!-- Line -->\n",
       "<polyline points=\" 2475,4500 2475,3825 2700,4050\" stroke=\"#000000\" stroke-width=\"15px\"/>\n",
       "<!-- Line -->\n",
       "<polyline points=\" 6750,675 6750,1350 6975,1125\" stroke=\"#000000\" stroke-width=\"15px\"/>\n",
       "<!-- Line -->\n",
       "<polyline points=\" 10125,4725 11025,4725 10800,4950\" stroke=\"#000000\" stroke-width=\"15px\"/>\n",
       "<!-- Line -->\n",
       "<polyline points=\" 11475,4725 12375,4725 12150,4950\" stroke=\"#000000\" stroke-width=\"15px\"/>\n",
       "<!-- Line -->\n",
       "<polyline points=\" 12600,4500 12600,3825 12825,4050\" stroke=\"#000000\" stroke-width=\"15px\"/>\n",
       "<!-- Line -->\n",
       "<polyline points=\" 11250,4500 11250,3825 11475,4050\" stroke=\"#000000\" stroke-width=\"15px\"/>\n",
       "<!-- Line -->\n",
       "<polyline points=\" 9765,4950 7065,7650 7290,7650\" stroke=\"#ff0000\" stroke-width=\"15px\"/>\n",
       "<!-- Line -->\n",
       "<polyline points=\" 9585,4950 6885,7650 7110,7650\" stroke=\"#ff0000\" stroke-width=\"15px\"/>\n",
       "<!-- Line -->\n",
       "<polyline points=\" 4950,5625 4950,4950 5175,5175\" stroke=\"#000000\" stroke-width=\"15px\"/>\n",
       "<!-- Line -->\n",
       "<polyline points=\" 8550,4950 8550,5625 8775,5400\" stroke=\"#000000\" stroke-width=\"15px\"/>\n",
       "<!-- Line -->\n",
       "<polyline points=\" 9855,4950 7155,7650 7380,7650\" stroke=\"#ff0000\" stroke-width=\"15px\"/>\n",
       "<!-- Line -->\n",
       "<polyline points=\" 9495,4950 6795,7650 7020,7650\" stroke=\"#ff0000\" stroke-width=\"15px\"/>\n",
       "<!-- Line -->\n",
       "<polyline points=\" 6975,1800 9675,4500 9450,4500\" stroke=\"#ff0000\" stroke-width=\"15px\"/>\n",
       "<!-- Line -->\n",
       "<polyline points=\" 6885,1800 9585,4500 9360,4500\" stroke=\"#ff0000\" stroke-width=\"15px\"/>\n",
       "<!-- Line -->\n",
       "<polyline points=\" 6795,1800 9495,4500 9270,4500\" stroke=\"#ff0000\" stroke-width=\"15px\"/>\n",
       "<!-- Line -->\n",
       "<polyline points=\" 7065,1800 9765,4500 9540,4500\" stroke=\"#ff0000\" stroke-width=\"15px\"/>\n",
       "<!-- Line -->\n",
       "<polyline points=\" 7155,1800 9855,4500 9630,4500\" stroke=\"#ff0000\" stroke-width=\"15px\"/>\n",
       "</g>\n",
       "</svg>"
      ],
      "text/plain": [
       "<IPython.core.display.SVG object>"
      ]
     },
     "execution_count": 3,
     "metadata": {},
     "output_type": "execute_result"
    }
   ],
   "source": [
    "sbg.model('aiRE_abg.svg',quiet=quiet)\n",
    "import aiRE_abg\n",
    "abg = aiRE_abg\n",
    "disp.SVG('aiRE_abg.svg')"
   ]
  },
  {
   "cell_type": "code",
   "execution_count": 4,
   "metadata": {},
   "outputs": [
    {
     "name": "stdout",
     "output_type": "stream",
     "text": [
      "Reactions:\n"
     ]
    },
    {
     "data": {
      "text/latex": [
       "\\begin{align}\n",
       "A + E + F  &\\Leftrightarrow C \\\\\n",
       "C  &\\Leftrightarrow B + E + G \\\\\n",
       "B  &\\Leftrightarrow B0 \\\\\n",
       "CM  &\\Leftrightarrow A + EM \\\\\n",
       "5 B + C  &\\Leftrightarrow CM \\\\\n",
       "EM  &\\Leftrightarrow 5 B + E \n",
       "\\end{align}\n"
      ],
      "text/plain": [
       "<IPython.core.display.Latex object>"
      ]
     },
     "execution_count": 4,
     "metadata": {},
     "output_type": "execute_result"
    }
   ],
   "source": [
    "## Stoichiometry\n",
    "#chemostats=['A','B0','F','G','EM','CM']\n",
    "chemostats=['A','B0','F','G']\n",
    "if chemostatEMCM:\n",
    "    chemostats += ['EM','CM']\n",
    "\n",
    "s,sc = stoichiometry(abg,chemostats=chemostats)\n",
    "\n",
    "print('Reactions:')\n",
    "disp.Latex(st.sprintrl(s,chemformula=False))\n",
    "sp = st.path(s,sc)"
   ]
  },
  {
   "cell_type": "markdown",
   "metadata": {},
   "source": [
    "## Numerical parameters"
   ]
  },
  {
   "cell_type": "code",
   "execution_count": 5,
   "metadata": {},
   "outputs": [],
   "source": [
    "## Parameters\n",
    "X0_A = 1\n",
    "K_A = 1\n",
    "K_B = 1\n",
    "K_C = 1\n",
    "K_E = 1\n",
    "K_F = 1e2\n",
    "K_G = 1/K_F\n",
    "\n",
    "K_EM = 1\n",
    "K_CM = 1\n",
    "\n",
    "kappa = 1\n",
    "kappa_r1 = kappa\n",
    "kappa_r2 = kappa\n",
    "\n",
    "## Open-loop\n",
    "kappa_ra = 0\n",
    "kappa_rc = 0\n",
    "kappa_re = 0\n",
    "\n",
    "K_B0 = 1\n",
    "X0_B0 = 1e-6\n",
    "kappa_r3 = 1\n",
    "\n",
    "pars = ['X0_A','K_A','K_B','K_C','K_E','K_F','K_G',\n",
    "        'K_EM','K_CM',\n",
    "        'kappa_r1','kappa_r2','kappa_ra','kappa_rc','kappa_re',\n",
    "        'K_B0','X0_B0','kappa_r3']\n",
    "parameter = {}\n",
    "for par in pars:\n",
    "    parameter[par] = eval(par)\n",
    "\n",
    "if not quiet:\n",
    "    print('Parameters',parameter)"
   ]
  },
  {
   "cell_type": "markdown",
   "metadata": {},
   "source": [
    "## Utility functions"
   ]
  },
  {
   "cell_type": "code",
   "execution_count": 6,
   "metadata": {},
   "outputs": [],
   "source": [
    "def plotStep(tf,chemo,spec,T):\n",
    "    \n",
    "    t,y = con.step_response(tf,T=T)\n",
    "    plt.plot(t,y)\n",
    "    plt.grid()\n",
    "    plt.xlabel('t')\n",
    "    plt.ylabel('x_B')\n",
    "    plt.title('Step response from '+chemo+' to '+spec)\n",
    "    plt.show()\n",
    "    \n",
    "def showTF(tf):\n",
    "    ## Show info\n",
    "    print(tf)\n",
    "    in_gain_X = con.dcgain(tf)\n",
    "    print('\\tgain:',fmt.format(in_gain_X))\n",
    "    print('\\tpoles:', con.pole(tf))\n",
    "    print('\\tzeros:', con.zero(tf))\n",
    "\n",
    "def extractTF(TF,chemo,spec):\n",
    "    \n",
    "    ## Index of product\n",
    "    species = s['species']\n",
    "    i_prod = species.index(spec)\n",
    "    \n",
    "    ## Index of input\n",
    "    i = chemostats.index(chemo)\n",
    "    \n",
    "    ## Extract tf\n",
    "    print('\\nTransfer function from','x_'+chemo,'to','x_'+spec)\n",
    "    tf = con.minreal(TF[i_prod,i])\n",
    "    \n",
    "    showTF(tf)\n",
    "    \n",
    "    return tf\n",
    "\n",
    "def extractTFflow(TF,chemo,chemostats,reac):\n",
    "    \n",
    "    ## Index of reaction\n",
    "    reaction = s['reaction']\n",
    "    i_v = reaction.index(reac)\n",
    "    \n",
    "    ## Index of input\n",
    "    i = chemostats.index(chemo)\n",
    "    \n",
    "    ## Extract tf\n",
    "    print('\\nTransfer function from','x_'+chemo,'to','v_'+reac)\n",
    "    tf = con.minreal(TF[i_v,i])\n",
    "    \n",
    "    showTF(tf)\n",
    "    \n",
    "    return tf"
   ]
  },
  {
   "cell_type": "markdown",
   "metadata": {},
   "source": [
    "# Closed-loop analysis\n",
    "The function **ClosedLoop** derives the closed-loop properteis of the system from the bond graph model in the following steps:\n",
    "\n",
    "- Extract stoichiometry\n",
    "- Simulate the system to give a steady state\n",
    "- linearise the closed-loop system about this steady state to give:\n",
    "   - the multivariable transfer function relating chemostats to species states\n",
    "   - the multivariable transfer function relating chemostats to reaction flows\n",
    "- extract the scalar transfer functions relating the 'disturbance' $x_{B0}$ to\n",
    "    - the product state $x_B$\n",
    "    - the 'actuator' flow $v_{r2}$"
   ]
  },
  {
   "cell_type": "code",
   "execution_count": 7,
   "metadata": {},
   "outputs": [],
   "source": [
    "def ClosedLoop(abg,chemostats,parameter,t_step,quiet=False):\n",
    "    ## Analyse the system\n",
    "    \n",
    "    ## Stoichiometry\n",
    "    s,sc = stoichiometry(abg,chemostats=chemostats)\n",
    "    \n",
    "    ## Steady-state simulation\n",
    "    t = np.linspace(0,1000,1000)\n",
    "    ssdat = st.sim(s,sc=sc,t=t,parameter=parameter,quiet=quiet)\n",
    "\n",
    "    ## Use the final value as the steady-state\n",
    "    x_ss = ssdat['X'][-1,:]\n",
    "    \n",
    "    if not quiet:\n",
    "        print(s['species'])\n",
    "        print('x_ss =', x_ss)   \n",
    "    \n",
    "    ##Linearise\n",
    "    SysX = st.lin(s,sc,x_ss=x_ss,parameter=parameter,outvar='X',quiet=quiet) \n",
    "    SysV = st.lin(s,sc,x_ss=x_ss,parameter=parameter,outvar='V',quiet=quiet)\n",
    "    \n",
    "    ## Multivariable transfer functions\n",
    "    TF = con.ss2tf(SysX)\n",
    "    TFV = con.ss2tf(SysV)\n",
    "\n",
    "    ## Scalar transfer function to x_B\n",
    "    tf_B0 = extractTF(TF,'B0','B')\n",
    "    t,x_B = con.step_response(tf_B0,T=t_step)\n",
    "\n",
    "    ## Scalar transfer function to v_r2\n",
    "    tf_v2 = extractTFflow(TFV,'B0',chemostats,'r2')\n",
    "    t,v_r2 = con.step_response(tf_v2,T=t_step)\n",
    "\n",
    "    return x_B,v_r2,x_ss"
   ]
  },
  {
   "cell_type": "markdown",
   "metadata": {},
   "source": [
    "## Open-loop system\n",
    "Setting $\\kappa_{re} = \\kappa_{rc} = \\kappa_{ra} = 0$ prevents flow through the inhibition system and thus feedback is prevented. The system is open-loop.\n",
    "\n",
    "- the closed-loop transfer function relating $x_{B0}$ to $x_{B}$ is $\\dfrac{1}{s+1}$. This has a steady-state gain of unity: the disturbance is not reduced.\n",
    "- the closed-loop transfer function relating $x_{B0}$ to $x_{r2}$ is $\\approx 0$. It becomes zero as $K_F \\to \\infty$. There is no feednack."
   ]
  },
  {
   "cell_type": "code",
   "execution_count": 8,
   "metadata": {},
   "outputs": [
    {
     "name": "stdout",
     "output_type": "stream",
     "text": [
      "Open loop\n",
      "\n",
      "Transfer function from x_B0 to x_B\n",
      "1 states have been removed from the model\n",
      "\n",
      "  1\n",
      "-----\n",
      "s + 1\n",
      "\n",
      "\tgain: 1.000\n",
      "\tpoles: [-1.]\n",
      "\tzeros: []\n",
      "\n",
      "Transfer function from x_B0 to v_r2\n",
      "0 states have been removed from the model\n",
      "\n",
      "-0.0003921 s - 0.0396\n",
      "---------------------\n",
      " s^2 + 103 s + 102.1\n",
      "\n",
      "\tgain: -0.000\n",
      "\tpoles: [-102.02   -1.  ]\n",
      "\tzeros: [-101.]\n"
     ]
    }
   ],
   "source": [
    "## Open loop\n",
    "t_step = np.linspace(0,20,100)\n",
    "print(\"Open loop\")\n",
    "\n",
    "parameter['kappa_re'] = 0\n",
    "parameter['kappa_rc'] = 0\n",
    "parameter['kappa_ra'] = 0\n",
    "\n",
    "x_ol,v_ol,x_ss_ol = ClosedLoop(abg,chemostats,parameter,t_step,quiet=quiet)\n"
   ]
  },
  {
   "cell_type": "markdown",
   "metadata": {},
   "source": [
    "## Feedback inhibition\n",
    "Setting $\\kappa_{rc} = \\kappa_{ra} = 0$ and $\\kappa_{re}=1$ restricts feedback to the path through re and is thus equivalent to feedback inhibition.\n",
    "\n",
    "- the closed-loop transfer function relating $x_{B0}$ to $x_{B}$ has a steady-state gain of 0.167; the effect of the disturbance is reduced by feedback. \n",
    "- the closed-loop transfer function relating $x_{B0}$ to $x_{r2}$ has a steady-state gain of -0.833; this is negative feedback."
   ]
  },
  {
   "cell_type": "code",
   "execution_count": 9,
   "metadata": {},
   "outputs": [
    {
     "name": "stdout",
     "output_type": "stream",
     "text": [
      "Feedback inhibition\n",
      "\n",
      "Transfer function from x_B0 to x_B\n",
      "0 states have been removed from the model\n",
      "\n",
      "      s^2 + 128.1 s + 52.09\n",
      "--------------------------------\n",
      "s^3 + 142.1 s^2 + 1509 s + 312.6\n",
      "\n",
      "\tgain: 0.167\n",
      "\tpoles: [-130.551  -11.329   -0.211]\n",
      "\tzeros: [-127.657   -0.408]\n",
      "\n",
      "Transfer function from x_B0 to v_r2\n",
      "0 states have been removed from the model\n",
      "\n",
      "-0.0003839 s^2 + 0.001222 s - 260.5\n",
      "-----------------------------------\n",
      "  s^3 + 142.1 s^2 + 1509 s + 312.6\n",
      "\n",
      "\tgain: -0.833\n",
      "\tpoles: [-130.551  -11.329   -0.211]\n",
      "\tzeros: [1.592+823.657j 1.592-823.657j]\n"
     ]
    }
   ],
   "source": [
    "## Feedback inhibition\n",
    "print('Feedback inhibition')\n",
    "\n",
    "parameter['kappa_re'] = 1\n",
    "parameter['kappa_rc'] = 0\n",
    "parameter['kappa_ra'] = 0\n",
    "\n",
    "x_fi,v_fi,x_ss_fi = ClosedLoop(abg,chemostats,parameter,t_step,quiet=quiet)"
   ]
  },
  {
   "cell_type": "markdown",
   "metadata": {},
   "source": [
    "##  Allosteric inhibition\n",
    "Setting $\\kappa_{re} =\\kappa_{rc} = \\kappa_{ra} = 1$ releases all feedback paths.\n",
    "\n",
    "- the closed-loop transfer function relating $x_{B0}$ to $x_{B}$ has a steady-state gain of 0.166; the effect of the disturbance is reduced by feedback. \n",
    "- the closed-loop transfer function relating $x_{B0}$ to $x_{r2}$ has a steady-state gain of -0.834; this is negative feedback."
   ]
  },
  {
   "cell_type": "code",
   "execution_count": 10,
   "metadata": {},
   "outputs": [
    {
     "name": "stdout",
     "output_type": "stream",
     "text": [
      "Allosteric inhibition\n",
      "\n",
      "Transfer function from x_B0 to x_B\n",
      "1 states have been removed from the model\n",
      "\n",
      "      s + 1.74\n",
      "--------------------\n",
      "s^2 + 47.5 s + 10.51\n",
      "\n",
      "\tgain: 0.166\n",
      "\tpoles: [-47.273  -0.222]\n",
      "\tzeros: [-1.74]\n",
      "\n",
      "Transfer function from x_B0 to v_r2\n",
      "0 states have been removed from the model\n",
      "\n",
      "-0.0003179 s^2 - 8.734 s - 910.2\n",
      "--------------------------------\n",
      "s^3 + 151.2 s^2 + 4938 s + 1091\n",
      "\n",
      "\tgain: -0.834\n",
      "\tpoles: [-103.753  -47.273   -0.222]\n",
      "\tzeros: [-27366.453   -104.613]\n"
     ]
    }
   ],
   "source": [
    "## Allosteric inhibition\n",
    "print('Allosteric inhibition')\n",
    "\n",
    "parameter['kappa_re'] = 1\n",
    "parameter['kappa_rc'] = 1\n",
    "parameter['kappa_ra'] = 1\n",
    "\n",
    "x_ai,v_ai,x_ss_ai = ClosedLoop(abg,chemostats,parameter,t_step,quiet=quiet)"
   ]
  },
  {
   "cell_type": "markdown",
   "metadata": {},
   "source": [
    "## Comparison of step responses\n",
    "The product state $x_B$ and feedback flow $v_2$ are plotted  against time for a unit step in the disturbance $x_{B0}$ for each of the three scenarios. In this case, both forms of feedback attenuate the disturbance by about the same amount."
   ]
  },
  {
   "cell_type": "code",
   "execution_count": 11,
   "metadata": {},
   "outputs": [],
   "source": [
    "def Plot(t_step,x_ol,x_fi,x_ai):\n",
    "    plt.plot(t_step,x_ol,label='OL')\n",
    "    plt.plot(t_step,x_fi,label='FI')\n",
    "    plt.plot(t_step,x_ai,label='AI')\n",
    "    plt.legend()\n",
    "    plt.grid()\n",
    "    plt.xlabel('t')\n",
    "    plt.show()"
   ]
  },
  {
   "cell_type": "code",
   "execution_count": 12,
   "metadata": {},
   "outputs": [
    {
     "data": {
      "text/plain": [
       "Text(0,0.5,'x_B')"
      ]
     },
     "execution_count": 12,
     "metadata": {},
     "output_type": "execute_result"
    },
    {
     "data": {
      "image/png": "[encoded data removed]",
      "text/plain": [
       "<Figure size 432x288 with 1 Axes>"
      ]
     },
     "metadata": {},
     "output_type": "display_data"
    }
   ],
   "source": [
    "plt.ylabel('x_B')\n",
    "Plot(t_step,x_ol,x_fi,x_ai)"
   ]
  },
  {
   "cell_type": "code",
   "execution_count": 13,
   "metadata": {},
   "outputs": [
    {
     "data": {
      "text/plain": [
       "Text(0,0.5,'v_2')"
      ]
     },
     "execution_count": 13,
     "metadata": {},
     "output_type": "execute_result"
    },
    {
     "data": {
      "image/png": "[encoded data removed]",
      "text/plain": [
       "<Figure size 432x288 with 1 Axes>"
      ]
     },
     "metadata": {},
     "output_type": "display_data"
    }
   ],
   "source": [
    "plt.ylabel('v_2')\n",
    "Plot(t_step,v_ol,v_fi,v_ai)"
   ]
  },
  {
   "cell_type": "markdown",
   "metadata": {},
   "source": [
    "# Loop-gain analysis\n",
    "\n",
    "- The product component **Ce:B** is converted into a chemostat. This 'breaks the loop' and enables the open-loop transfer functions relating $x_B$ to the various flows impinging on the corresponding **0** junction to be computed. In this case the relevant flows are:\n",
    "    - $v_{r2}$ - the main feedback path\n",
    "    - $v_{r3}$ - the product flow flow absorbed by  **Ce:B0**\n",
    "    - $5v_{re}$ - the flow transiently absorbed by **Ce:EM**\n",
    "    - $5v_{ce}$ - the flow transiently absorbed by **Ce:CM**\n",
    "    \n",
    "- The function LoopGain "
   ]
  },
  {
   "cell_type": "code",
   "execution_count": 14,
   "metadata": {},
   "outputs": [],
   "source": [
    "def LoopGain(abg,chemostats,parameter,x_ss,quiet=False):\n",
    "    \"\"\"Compute the loop gain tf\"\"\"\n",
    "    \n",
    "    ## Add the chemostat for B and recompute stoichiometry\n",
    "    chemostatsL = chemostats+['B']\n",
    "    sL,scL = stoichiometry(abg,chemostats=chemostatsL)\n",
    "    \n",
    "    ## Linearise using the appropriate steady-state x_ss\n",
    "    SysL = st.lin(sL,scL,x_ss=x_ss,parameter=parameter,outvar='V',quiet=quiet)\n",
    "    \n",
    "    ## The multivariable transfer function\n",
    "    TFL = con.ss2tf(SysL)\n",
    "    \n",
    "\n",
    "    ## Stoichiometry of feedback\n",
    "    N = sL['N'] # Stoichiometric matrix\n",
    "    i_B = sL['species'].index('B')\n",
    "    N_B = N[i_B,:] # Row of N corresponding to B\n",
    "    \n",
    "    ## Indices of reactions impinging on Ce:\n",
    "    j_FB = np.nonzero(N_B)[0][:]\n",
    "    \n",
    "    ## Reactions impinging on B and the transfer functions\n",
    "    reaction = sL['reaction']\n",
    "    R = []\n",
    "    FB = {}\n",
    "    fb = 0\n",
    "    for j in j_FB:\n",
    "        r = reaction[j]\n",
    "        R.append(r)\n",
    "        FB[r] = extractTFflow(TFL,'B',chemostatsL,r)\n",
    "        fb = con.parallel(fb,-N_B[j]*FB[r])\n",
    "    print('\\nRelevant reactions:', R)\n",
    "    \n",
    "    ## Total feedback transfer function \n",
    "    print('Net feedback')\n",
    "    fb = con.minreal(fb,tol=tol)    \n",
    "    showTF(fb)\n",
    "    \n",
    "    ## Transfer function of CE:B\n",
    "    G = con.tf([K_B],[1,0])\n",
    "    print(\"Forward gain to B\")\n",
    "    showTF(G)\n",
    "    \n",
    "    print('Loop gain L')\n",
    "    L = con.series(G,fb)\n",
    "    print(L)\n",
    "    \n",
    "    print(\"Closed loop\")\n",
    "    LL = con.minreal(con.feedback(G,sys2=fb),tol=tol)\n",
    "    showTF(LL)\n",
    "    \n",
    "    ## Plot Bode diagram\n",
    "    print('Bode diagram')\n",
    "    w = np.logspace(-1,3)\n",
    "    mag,phase,ww = con.freqresp(L,w)\n",
    "    plt.loglog(w,mag[0,0])\n",
    "    plt.xlabel('$\\omega$ (rad/sec)')\n",
    "    plt.ylabel('$|L|$')\n",
    "    plt.grid()\n",
    "    plt.show()\n",
    "    plt.semilogx(w,phase[0,0]*180/np.pi)\n",
    "    plt.xlabel('$\\omega$ (rad/sec)')\n",
    "    plt.ylabel('arg $L$ (deg)')\n",
    "    plt.grid()\n",
    "    plt.show()"
   ]
  },
  {
   "cell_type": "markdown",
   "metadata": {},
   "source": [
    "## Open-loop system\n",
    "Setting $\\kappa_{re} = \\kappa_{rc} = \\kappa_{ra} = 0$ prevents flow through the inhibition system and thus feedback is prevented. The system is open-loop.\n",
    "\n",
    "- The only non-zero feedback path is via $v_{r3}$. \n",
    "- The closed-loop system derived from $L$ is the same as given above."
   ]
  },
  {
   "cell_type": "code",
   "execution_count": 15,
   "metadata": {},
   "outputs": [
    {
     "name": "stdout",
     "output_type": "stream",
     "text": [
      "Open loop\n",
      "\n",
      "Transfer function from x_B to v_r2\n",
      "0 states have been removed from the model\n",
      "\n",
      "-0.0003921 s - 0.0396\n",
      "---------------------\n",
      "       s + 102\n",
      "\n",
      "\tgain: -0.000\n",
      "\tpoles: [-102.02]\n",
      "\tzeros: [-101.]\n",
      "\n",
      "Transfer function from x_B to v_r3\n",
      "1 states have been removed from the model\n",
      "\n",
      "1\n",
      "-\n",
      "1\n",
      "\n",
      "\tgain: 1.000\n",
      "\tpoles: []\n",
      "\tzeros: []\n",
      "\n",
      "Transfer function from x_B to v_rc\n",
      "0 states have been removed from the model\n",
      "\n",
      "0\n",
      "-\n",
      "1\n",
      "\n",
      "\tgain: 0.000\n",
      "\tpoles: []\n",
      "\tzeros: []\n",
      "\n",
      "Transfer function from x_B to v_re\n",
      "0 states have been removed from the model\n",
      "\n",
      "0\n",
      "-\n",
      "1\n",
      "\n",
      "\tgain: 0.000\n",
      "\tpoles: []\n",
      "\tzeros: []\n",
      "\n",
      "Relevant reactions: ['r2', 'r3', 'rc', 're']\n",
      "Net feedback\n",
      "1 states have been removed from the model\n",
      "\n",
      "1\n",
      "-\n",
      "1\n",
      "\n",
      "\tgain: 1.000\n",
      "\tpoles: []\n",
      "\tzeros: []\n",
      "Forward gain to B\n",
      "\n",
      "1\n",
      "-\n",
      "s\n",
      "\n",
      "\tgain:   inf\n",
      "\tpoles: [0.]\n",
      "\tzeros: []\n",
      "Loop gain L\n",
      "\n",
      "1\n",
      "-\n",
      "s\n",
      "\n",
      "Closed loop\n",
      "0 states have been removed from the model\n",
      "\n",
      "  1\n",
      "-----\n",
      "s + 1\n",
      "\n",
      "\tgain: 1.000\n",
      "\tpoles: [-1.]\n",
      "\tzeros: []\n",
      "Bode diagram\n"
     ]
    },
    {
     "data": {
      "image/png": "[encoded data removed]",
      "text/plain": [
       "<Figure size 432x288 with 1 Axes>"
      ]
     },
     "metadata": {},
     "output_type": "display_data"
    },
    {
     "data": {
      "image/png": "[encoded data removed]",
      "text/plain": [
       "<Figure size 432x288 with 1 Axes>"
      ]
     },
     "metadata": {},
     "output_type": "display_data"
    }
   ],
   "source": [
    "## Open loop\n",
    "print('Open loop')\n",
    "parameter['kappa_re'] = 0\n",
    "parameter['kappa_rc'] = 0\n",
    "parameter['kappa_ra'] = 0\n",
    "\n",
    "LoopGain(abg,chemostats,parameter,x_ss_ol,quiet=quiet)"
   ]
  },
  {
   "cell_type": "markdown",
   "metadata": {},
   "source": [
    "## Feedback inhibition\n",
    "Setting $\\kappa_{rc} = \\kappa_{ra} = 0$ and $\\kappa_{re}=1$ restricts feedback to the path through re and is thus equivalent to feedback inhibition.\n",
    "- In addition to the  non-zero feedback path is via $v_{r3}$, the feedback paths through $v_{r2}$ (the main feedback path) and via $v_{re}$ are non-zero. \n",
    "- The main feedback path has a steady-state gain of 5.\n",
    "- The steady-state gain via $v_{re}$ is zero - the effect of this path is transient.\n",
    "- The closed-loop system derived from $L$ is the same as given above."
   ]
  },
  {
   "cell_type": "code",
   "execution_count": 16,
   "metadata": {},
   "outputs": [
    {
     "name": "stdout",
     "output_type": "stream",
     "text": [
      "Feedback inhibition\n",
      "\n",
      "Transfer function from x_B to v_r2\n",
      "0 states have been removed from the model\n",
      "\n",
      "-0.0003839 s^2 + 0.001222 s - 260.5\n",
      "-----------------------------------\n",
      "       s^2 + 128.1 s + 52.09\n",
      "\n",
      "\tgain: -5.000\n",
      "\tpoles: [-127.657   -0.408]\n",
      "\tzeros: [1.592+823.657j 1.592-823.657j]\n",
      "\n",
      "Transfer function from x_B to v_r3\n",
      "2 states have been removed from the model\n",
      "\n",
      "1\n",
      "-\n",
      "1\n",
      "\n",
      "\tgain: 1.000\n",
      "\tpoles: []\n",
      "\tzeros: []\n",
      "\n",
      "Transfer function from x_B to v_rc\n",
      "0 states have been removed from the model\n",
      "\n",
      "0\n",
      "-\n",
      "1\n",
      "\n",
      "\tgain: 0.000\n",
      "\tpoles: []\n",
      "\tzeros: []\n",
      "\n",
      "Transfer function from x_B to v_re\n",
      "0 states have been removed from the model\n",
      "\n",
      "-2.605 s^2 - 265.8 s - 1.137e-13\n",
      "--------------------------------\n",
      "      s^2 + 128.1 s + 52.09\n",
      "\n",
      "\tgain: -0.000\n",
      "\tpoles: [-127.657   -0.408]\n",
      "\tzeros: [-1.020e+02 -4.278e-16]\n",
      "\n",
      "Relevant reactions: ['r2', 'r3', 'rc', 're']\n",
      "Net feedback\n",
      "2 states have been removed from the model\n",
      "\n",
      "14.03 s^2 + 1457 s + 312.6\n",
      "--------------------------\n",
      "  s^2 + 128.1 s + 52.09\n",
      "\n",
      "\tgain: 6.000\n",
      "\tpoles: [-127.657   -0.408]\n",
      "\tzeros: [-103.655   -0.215]\n",
      "Forward gain to B\n",
      "\n",
      "1\n",
      "-\n",
      "s\n",
      "\n",
      "\tgain:   inf\n",
      "\tpoles: [0.]\n",
      "\tzeros: []\n",
      "Loop gain L\n",
      "\n",
      "14.03 s^2 + 1457 s + 312.6\n",
      "--------------------------\n",
      "s^3 + 128.1 s^2 + 52.09 s\n",
      "\n",
      "Closed loop\n",
      "0 states have been removed from the model\n",
      "\n",
      "      s^2 + 128.1 s + 52.09\n",
      "--------------------------------\n",
      "s^3 + 142.1 s^2 + 1509 s + 312.6\n",
      "\n",
      "\tgain: 0.167\n",
      "\tpoles: [-130.551  -11.329   -0.211]\n",
      "\tzeros: [-127.657   -0.408]\n",
      "Bode diagram\n"
     ]
    },
    {
     "data": {
      "image/png": "[encoded data removed]",
      "text/plain": [
       "<Figure size 432x288 with 1 Axes>"
      ]
     },
     "metadata": {},
     "output_type": "display_data"
    },
    {
     "data": {
      "image/png": "[encoded data removed]",
      "text/plain": [
       "<Figure size 432x288 with 1 Axes>"
      ]
     },
     "metadata": {},
     "output_type": "display_data"
    }
   ],
   "source": [
    "## Feedback inhibition\n",
    "print('Feedback inhibition')\n",
    "\n",
    "parameter['kappa_re'] = 1\n",
    "parameter['kappa_rc'] = 0\n",
    "parameter['kappa_ra'] = 0\n",
    "\n",
    "LoopGain(abg,chemostats,parameter,x_ss_fi,quiet=quiet)"
   ]
  },
  {
   "cell_type": "markdown",
   "metadata": {},
   "source": [
    "##  Allosteric inhibition\n",
    "Setting $\\kappa_{re} =\\kappa_{rc} = \\kappa_{ra} = 1$ releases all feedback paths.\n",
    "\n",
    "- All feedback paths are now in use.\n",
    "- The main feedback path has a steady-state gain of  about 5.\n",
    "- The steady-state gains via $v_{re}$ and $v_{rc}$ are small - the effect of these paths is transient.\n",
    "- The closed-loop system derived from $L$ is the same as given above."
   ]
  },
  {
   "cell_type": "code",
   "execution_count": 17,
   "metadata": {},
   "outputs": [
    {
     "name": "stdout",
     "output_type": "stream",
     "text": [
      "Allosteric inhibition\n",
      "\n",
      "Transfer function from x_B to v_r2\n",
      "0 states have been removed from the model\n",
      "\n",
      "-0.0003179 s^2 - 8.734 s - 910.2\n",
      "--------------------------------\n",
      "      s^2 + 105.5 s + 180.5\n",
      "\n",
      "\tgain: -5.042\n",
      "\tpoles: [-103.751   -1.74 ]\n",
      "\tzeros: [-27366.453   -104.613]\n",
      "\n",
      "Transfer function from x_B to v_r3\n",
      "2 states have been removed from the model\n",
      "\n",
      "1\n",
      "-\n",
      "1\n",
      "\n",
      "\tgain: 1.000\n",
      "\tpoles: []\n",
      "\tzeros: []\n",
      "\n",
      "Transfer function from x_B to v_rc\n",
      "0 states have been removed from the model\n",
      "\n",
      "8.704 s^2 + 903 s - 12.8\n",
      "------------------------\n",
      "  s^2 + 105.5 s + 180.5\n",
      "\n",
      "\tgain: -0.071\n",
      "\tpoles: [-103.751   -1.74 ]\n",
      "\tzeros: [-1.038e+02  1.418e-02]\n",
      "\n",
      "Transfer function from x_B to v_re\n",
      "0 states have been removed from the model\n",
      "\n",
      "-0.2476 s^2 - 25.69 s - 12.8\n",
      "----------------------------\n",
      "    s^2 + 105.5 s + 180.5\n",
      "\n",
      "\tgain: -0.071\n",
      "\tpoles: [-103.751   -1.74 ]\n",
      "\tzeros: [-103.248   -0.501]\n",
      "\n",
      "Relevant reactions: ['r2', 'r3', 'rc', 're']\n",
      "Net feedback\n",
      "5 states have been removed from the model\n",
      "\n",
      "45.76 s + 10.51\n",
      "---------------\n",
      "    s + 1.74\n",
      "\n",
      "\tgain: 6.042\n",
      "\tpoles: [-1.74]\n",
      "\tzeros: [-0.23]\n",
      "Forward gain to B\n",
      "\n",
      "1\n",
      "-\n",
      "s\n",
      "\n",
      "\tgain:   inf\n",
      "\tpoles: [0.]\n",
      "\tzeros: []\n",
      "Loop gain L\n",
      "\n",
      "45.76 s + 10.51\n",
      "---------------\n",
      "  s^2 + 1.74 s\n",
      "\n",
      "Closed loop\n",
      "0 states have been removed from the model\n",
      "\n",
      "      s + 1.74\n",
      "--------------------\n",
      "s^2 + 47.5 s + 10.51\n",
      "\n",
      "\tgain: 0.166\n",
      "\tpoles: [-47.274  -0.222]\n",
      "\tzeros: [-1.74]\n",
      "Bode diagram\n"
     ]
    },
    {
     "data": {
      "image/png": "[encoded data removed]",
      "text/plain": [
       "<Figure size 432x288 with 1 Axes>"
      ]
     },
     "metadata": {},
     "output_type": "display_data"
    },
    {
     "data": {
      "image/png": "[encoded data removed]",
      "text/plain": [
       "<Figure size 432x288 with 1 Axes>"
      ]
     },
     "metadata": {},
     "output_type": "display_data"
    }
   ],
   "source": [
    "## Allosteric inhibition\n",
    "print('Allosteric inhibition')\n",
    "\n",
    "parameter['kappa_re'] = 1\n",
    "parameter['kappa_rc'] = 1\n",
    "parameter['kappa_ra'] = 1\n",
    "\n",
    "LoopGain(abg,chemostats,parameter,x_ss_ai,quiet=quiet)"
   ]
  },
  {
   "cell_type": "markdown",
   "metadata": {},
   "source": [
    "# Discussion\n",
    "\n",
    "- A novel approach to determining loop-gains from bond graphs of biomolecular systems is given\n",
    "\n",
    "- An example, enzyme catalysed reaction with allosteric inhibition, illustrates the approach\n",
    "\n",
    "- In this simple case, the product $x_B$ and the control signal $v_2$ are collocated; this would not generally be the case.\n",
    "\n",
    "- Because of the collocation, the phase lag of the loop-gain is less that $90^\\circ$ (check this) thus there are no stability issues on closing the loop.\n",
    "\n",
    "- Systems where the product is at the end of a chain of reactions are more problematic from the control point of view.\n",
    "\n",
    "- There can be numerical issues with manipulating transfer functions. Minreal (minimum realisation) has been used here with a large tolerance to remove appoximate pole-zero cancellations. Balred (Balanced reduced order model) could also be useful here.\n",
    "\n",
    "- Setting chemostatEMCM = False in the preamble shows the case where these species are not fixed. \n",
    "\n",
    "- it would be interesting to apply this approach to the metabolic model of \n",
    "<cite data-cite=\"CloWel10\">Cloutier and Wellstead (2010)</cite>.\n"
   ]
  },
  {
   "cell_type": "code",
   "execution_count": null,
   "metadata": {},
   "outputs": [],
   "source": []
  }
 ],
 "metadata": {
  "kernelspec": {
   "display_name": "Python 3",
   "language": "python",
   "name": "python3"
  },
  "language_info": {
   "codemirror_mode": {
    "name": "ipython",
    "version": 3
   },
   "file_extension": ".py",
   "mimetype": "text/x-python",
   "name": "python",
   "nbconvert_exporter": "python",
   "pygments_lexer": "ipython3",
   "version": "3.6.9"
  },
  "toc": {
   "base_numbering": 1,
   "nav_menu": {},
   "number_sections": true,
   "sideBar": true,
   "skip_h1_title": false,
   "title_cell": "Table of Contents",
   "title_sidebar": "Contents",
   "toc_cell": false,
   "toc_position": {},
   "toc_section_display": true,
   "toc_window_display": false
  }
 },
 "nbformat": 4,
 "nbformat_minor": 2
}
