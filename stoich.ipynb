{
 "cells": [
  {
   "cell_type": "markdown",
   "metadata": {},
   "source": [
    "# Introduction\n",
    "__[BondGraphTools](http://pypi.org/project/BondGraphTools/)__ is a python based toolkit for the creation and analysis of bond graph models of physical systems. Such physical systems include biomolecular systems; **stoich** is a toolkit for the stoichiometric analysis of such systems. \n",
    "\n",
    "This document provides a simple introduction to **stoich** by means of a built-in bond graph model of a simple enzyme-catalysed reaction."
   ]
  },
  {
   "cell_type": "markdown",
   "metadata": {},
   "source": [
    "# Example. \n",
    "**stoich.model()** implements the enzyme-catalysed reaction: A+E = C = B+E where A is the substrate, B the product, E the enzyme and C an intermediate compound. This can be analysed using the following code.\n",
    "\n",
    "First import some code:"
   ]
  },
  {
   "cell_type": "code",
   "execution_count": 1,
   "metadata": {},
   "outputs": [],
   "source": [
    "import BondGraphTools as bgt\n",
    "import numpy as np\n",
    "import sympy as sp\n",
    "import IPython.display as disp\n",
    "import stoich as st"
   ]
  },
  {
   "cell_type": "markdown",
   "metadata": {},
   "source": [
    "## Basic analysis\n",
    "Now perform stoichiometric analysis on the model:"
   ]
  },
  {
   "cell_type": "code",
   "execution_count": 2,
   "metadata": {},
   "outputs": [
    {
     "name": "stdout",
     "output_type": "stream",
     "text": [
      "Swapping Re:r1 for two Sf in ABCE\n",
      "Swapping Re:r2 for two Sf in ABCE\n"
     ]
    }
   ],
   "source": [
    "s = st.stoich(st.model())"
   ]
  },
  {
   "cell_type": "markdown",
   "metadata": {},
   "source": [
    "s is a Python dict containing the stoichiometric information. For example, the stoichometric matrix $N$ where $\\dot{X}=NV$ is revealed as:"
   ]
  },
  {
   "cell_type": "code",
   "execution_count": 3,
   "metadata": {},
   "outputs": [
    {
     "name": "stdout",
     "output_type": "stream",
     "text": [
      "[[-1  0]\n",
      " [ 0  1]\n",
      " [ 1 -1]\n",
      " [-1  1]]\n"
     ]
    }
   ],
   "source": [
    "print(s['N'])"
   ]
  },
  {
   "cell_type": "markdown",
   "metadata": {},
   "source": [
    "This can be displayed in a more readable form as:"
   ]
  },
  {
   "cell_type": "code",
   "execution_count": 4,
   "metadata": {},
   "outputs": [
    {
     "data": {
      "text/latex": [
       "\\begin{align}\n",
       "N &=\n",
       "\\left(\\begin{matrix}-1 & 0\\\\0 & 1\\\\1 & -1\\\\-1 & 1\\end{matrix}\\right)\n",
       "\\end{align}\n"
      ],
      "text/plain": [
       "<IPython.core.display.Latex object>"
      ]
     },
     "execution_count": 4,
     "metadata": {},
     "output_type": "execute_result"
    }
   ],
   "source": [
    "disp.Latex(st.sprintl(s,'N'))"
   ]
  },
  {
   "cell_type": "markdown",
   "metadata": {},
   "source": [
    "The state (vector of concentrations) $X$ and the vector $V$ of reaction flows are:"
   ]
  },
  {
   "cell_type": "code",
   "execution_count": 5,
   "metadata": {},
   "outputs": [
    {
     "data": {
      "text/latex": [
       "\\begin{align}\n",
       "X&= \\begin{pmatrix}\n",
       "    X_{A}\\\\\n",
       "    X_{B}\\\\\n",
       "    X_{C}\\\\\n",
       "    X_{E}\\\\\n",
       "\\end{pmatrix}\n",
       "\\end{align}\n"
      ],
      "text/plain": [
       "<IPython.core.display.Latex object>"
      ]
     },
     "execution_count": 5,
     "metadata": {},
     "output_type": "execute_result"
    }
   ],
   "source": [
    "disp.Latex(st.sprintl(s,'species'))"
   ]
  },
  {
   "cell_type": "code",
   "execution_count": 6,
   "metadata": {},
   "outputs": [
    {
     "data": {
      "text/latex": [
       "\\begin{align}\n",
       "V&= \\begin{pmatrix}\n",
       "    V_{r1}\\\\\n",
       "    V_{r2}\\\\\n",
       "\\end{pmatrix}\n",
       "\\end{align}\n"
      ],
      "text/plain": [
       "<IPython.core.display.Latex object>"
      ]
     },
     "execution_count": 6,
     "metadata": {},
     "output_type": "execute_result"
    }
   ],
   "source": [
    "disp.Latex(st.sprintl(s,'reaction'))"
   ]
  },
  {
   "cell_type": "markdown",
   "metadata": {},
   "source": [
    "The corresponding reactions can be displayed:"
   ]
  },
  {
   "cell_type": "code",
   "execution_count": 7,
   "metadata": {},
   "outputs": [
    {
     "data": {
      "text/latex": [
       "\\begin{align}\n",
       "A + E  &\\Leftrightarrow C \\\\\n",
       "C  &\\Leftrightarrow B + E \n",
       "\\end{align}\n"
      ],
      "text/plain": [
       "<IPython.core.display.Latex object>"
      ]
     },
     "execution_count": 7,
     "metadata": {},
     "output_type": "execute_result"
    }
   ],
   "source": [
    "disp.Latex(st.sprintrl(s))"
   ]
  },
  {
   "cell_type": "markdown",
   "metadata": {},
   "source": [
    "The stoichometric matrix $N$ gives the species state $X$ in terms of reaction flow $V$ from $\\dot{X}=NV$. $N$ is also used together with thermodynamic constants $K$ and rate constants $\\kappa$ to give an explicit expresion for reaction flow $V$ in terms of species state $X$. **stoich** computes the symbolic expression as:"
   ]
  },
  {
   "cell_type": "code",
   "execution_count": 8,
   "metadata": {},
   "outputs": [
    {
     "data": {
      "text/latex": [
       "\\begin{align}\n",
       "N &=\n",
       "\\left(\\begin{matrix}-1 & 0\\\\0 & 1\\\\1 & -1\\\\-1 & 1\\end{matrix}\\right)\n",
       "\\end{align}\n"
      ],
      "text/plain": [
       "<IPython.core.display.Latex object>"
      ]
     },
     "execution_count": 8,
     "metadata": {},
     "output_type": "execute_result"
    }
   ],
   "source": [
    "disp.Latex(st.sprintl(s,'N'))"
   ]
  },
  {
   "cell_type": "code",
   "execution_count": 9,
   "metadata": {},
   "outputs": [
    {
     "data": {
      "text/latex": [
       "\\begin{align}\n",
       "v_{r1} &= \\kappa_{r1} \\left(K_{A} K_{E} x_{A} x_{E} - K_{C} x_{C}\\right)\\\\\n",
       "v_{r2} &= \\kappa_{r2} \\left(- K_{B} K_{E} x_{B} x_{E} + K_{C} x_{C}\\right)\n",
       "\\end{align}\n"
      ],
      "text/plain": [
       "<IPython.core.display.Latex object>"
      ]
     },
     "execution_count": 9,
     "metadata": {},
     "output_type": "execute_result"
    }
   ],
   "source": [
    "disp.Latex(st.sprintvl(s))"
   ]
  },
  {
   "cell_type": "markdown",
   "metadata": {},
   "source": [
    "## Conserved moieties and Pathways\n",
    "Conserved moieties are revealed by the matrix $G$ where $G^T N = 0$. In this case:"
   ]
  },
  {
   "cell_type": "code",
   "execution_count": 10,
   "metadata": {},
   "outputs": [
    {
     "data": {
      "text/latex": [
       "\\begin{align}\n",
       "G &=\n",
       "\\left(\\begin{matrix}1 & 1 & 1 & 0\\\\-1 & -1 & 0 & 1\\end{matrix}\\right)\n",
       "\\end{align}\n"
      ],
      "text/plain": [
       "<IPython.core.display.Latex object>"
      ]
     },
     "execution_count": 10,
     "metadata": {},
     "output_type": "execute_result"
    }
   ],
   "source": [
    "disp.Latex(st.sprintl(s,'G'))"
   ]
  },
  {
   "cell_type": "markdown",
   "metadata": {},
   "source": [
    "The first row corresponds to $\\dot{x}_A+\\dot{x}_B+\\dot{x}_C=0$, the sum of the rows (0 0 1 1) corresponds to $\\dot{x}_C+\\dot{x}_E=0$"
   ]
  },
  {
   "cell_type": "markdown",
   "metadata": {},
   "source": [
    "Pathways are revealed by the matrix $K$ where $NK = 0$. In this case:"
   ]
  },
  {
   "cell_type": "code",
   "execution_count": 11,
   "metadata": {},
   "outputs": [
    {
     "data": {
      "text/latex": [
       "\\begin{align}\n",
       "K &=\n",
       "\\left(\\begin{matrix}\\end{matrix}\\right)\n",
       "\\end{align}\n"
      ],
      "text/plain": [
       "<IPython.core.display.Latex object>"
      ]
     },
     "execution_count": 11,
     "metadata": {},
     "output_type": "execute_result"
    }
   ],
   "source": [
    "disp.Latex(st.sprintl(s,'K'))"
   ]
  },
  {
   "cell_type": "markdown",
   "metadata": {},
   "source": [
    "There are no pathways: there is zero flow ($V=0$) in the steady state."
   ]
  },
  {
   "cell_type": "markdown",
   "metadata": {},
   "source": [
    "## Chemostats.  \n",
    "Consider the case where both substrate $A$ and product $B$ are chemostats:"
   ]
  },
  {
   "cell_type": "code",
   "execution_count": 12,
   "metadata": {},
   "outputs": [],
   "source": [
    "chemostats = ['A','B']"
   ]
  },
  {
   "cell_type": "markdown",
   "metadata": {},
   "source": [
    "The same system, but with the chemostats, can be analysed using:"
   ]
  },
  {
   "cell_type": "code",
   "execution_count": 13,
   "metadata": {},
   "outputs": [],
   "source": [
    "sc = st.statify(s,chemostats=chemostats)"
   ]
  },
  {
   "cell_type": "markdown",
   "metadata": {},
   "source": [
    "The stoichometric matrix $N$ is now:"
   ]
  },
  {
   "cell_type": "code",
   "execution_count": 14,
   "metadata": {},
   "outputs": [
    {
     "data": {
      "text/latex": [
       "\\begin{align}\n",
       "N &=\n",
       "\\left(\\begin{matrix}0 & 0\\\\0 & 0\\\\1 & -1\\\\-1 & 1\\end{matrix}\\right)\n",
       "\\end{align}\n"
      ],
      "text/plain": [
       "<IPython.core.display.Latex object>"
      ]
     },
     "execution_count": 14,
     "metadata": {},
     "output_type": "execute_result"
    }
   ],
   "source": [
    "disp.Latex(st.sprintl(sc,'N'))"
   ]
  },
  {
   "cell_type": "markdown",
   "metadata": {},
   "source": [
    "The first two rows are zero, corresponding to $\\dot{x}_A = \\dot{x}_B = 0$: this is because both substrate $A$ and product $B$ are chemostats."
   ]
  },
  {
   "cell_type": "markdown",
   "metadata": {},
   "source": [
    "The pathway matrix $K$ is now:"
   ]
  },
  {
   "cell_type": "code",
   "execution_count": 15,
   "metadata": {},
   "outputs": [
    {
     "data": {
      "text/latex": [
       "\\begin{align}\n",
       "K &=\n",
       "\\left(\\begin{matrix}1\\\\1\\end{matrix}\\right)\n",
       "\\end{align}\n"
      ],
      "text/plain": [
       "<IPython.core.display.Latex object>"
      ]
     },
     "execution_count": 15,
     "metadata": {},
     "output_type": "execute_result"
    }
   ],
   "source": [
    "disp.Latex(st.sprintl(sc,'K'))"
   ]
  },
  {
   "cell_type": "markdown",
   "metadata": {},
   "source": [
    "This means that the flow though reactions r1 and r2 are the same and can be non-zero at steady-state.\n",
    "The conserved moieties of this chemostated system are revealed by the matrix $G$ "
   ]
  },
  {
   "cell_type": "code",
   "execution_count": 16,
   "metadata": {},
   "outputs": [
    {
     "data": {
      "text/latex": [
       "\\begin{align}\n",
       "G &=\n",
       "\\left(\\begin{matrix}1 & 0 & 0 & 0\\\\0 & 1 & 0 & 0\\\\0 & 0 & 1 & 1\\end{matrix}\\right)\n",
       "\\end{align}\n"
      ],
      "text/plain": [
       "<IPython.core.display.Latex object>"
      ]
     },
     "execution_count": 16,
     "metadata": {},
     "output_type": "execute_result"
    }
   ],
   "source": [
    "disp.Latex(st.sprintl(sc,'G'))"
   ]
  },
  {
   "cell_type": "markdown",
   "metadata": {},
   "source": [
    "The three rows correspond to:\n",
    "-  $\\dot{x}_A= 0$ ($x_A$ is constant)\n",
    "- $\\dot{x}_B= 0$ ($x_B$ is constant)\n",
    "- $\\dot{x}_C + \\dot{x}_E = 0$ ($x_C + x_E$ is constant)\n"
   ]
  },
  {
   "cell_type": "markdown",
   "metadata": {},
   "source": [
    "## Pathway analysis"
   ]
  },
  {
   "cell_type": "code",
   "execution_count": 17,
   "metadata": {},
   "outputs": [
    {
     "data": {
      "text/latex": [
       "\\begin{align}\n",
       "A  &\\Leftrightarrow B \n",
       "\\end{align}\n"
      ],
      "text/plain": [
       "<IPython.core.display.Latex object>"
      ]
     },
     "execution_count": 17,
     "metadata": {},
     "output_type": "execute_result"
    }
   ],
   "source": [
    "## Find the pathway stoichiometric matrix\n",
    "sp = st.path(s,sc)\n",
    "## And show the coreponding reaction\n",
    "disp.Latex(st.sprintrl(sp))"
   ]
  },
  {
   "cell_type": "markdown",
   "metadata": {},
   "source": [
    "## Simulation\n",
    "Although __[BondGraphTools](http://pypi.org/project/BondGraphTools/)__ has its own simulation tool, the particular form of stoichiometric equations allows for a special purpose simulation tool taking advantage of explicit equations and reducing the state dimension in the presence of conserved moieties.\n",
    "\n",
    "The system (without chemostats) can be simulated as:"
   ]
  },
  {
   "cell_type": "code",
   "execution_count": 18,
   "metadata": {},
   "outputs": [],
   "source": [
    "X0 = np.array([2,1,1,1]) # Set initial states\n",
    "result = st.sim(s,X0=X0) # Simulate"
   ]
  },
  {
   "cell_type": "code",
   "execution_count": 19,
   "metadata": {},
   "outputs": [
    {
     "data": {
      "image/png": "[encoded data removed]",
      "text/plain": [
       "<Figure size 432x288 with 2 Axes>"
      ]
     },
     "metadata": {},
     "output_type": "display_data"
    }
   ],
   "source": [
    "st.plot(s,result)"
   ]
  },
  {
   "cell_type": "markdown",
   "metadata": {},
   "source": [
    "The flows $V$ though r1 and r2 seem to be heading towards zero as predicted by pathway analysis. This can ve verified by simulating over a longer time:"
   ]
  },
  {
   "cell_type": "code",
   "execution_count": 20,
   "metadata": {},
   "outputs": [
    {
     "data": {
      "image/png": "[encoded data removed]",
      "text/plain": [
       "<Figure size 432x288 with 2 Axes>"
      ]
     },
     "metadata": {},
     "output_type": "display_data"
    }
   ],
   "source": [
    "t = np.linspace(0,10)\n",
    "result = st.sim(s,X0=X0,t=t)\n",
    "st.plot(s,result)"
   ]
  },
  {
   "cell_type": "markdown",
   "metadata": {},
   "source": [
    "The system with chemostats can be simulated as:"
   ]
  },
  {
   "cell_type": "code",
   "execution_count": 21,
   "metadata": {},
   "outputs": [
    {
     "data": {
      "image/png": "[encoded data removed]",
      "text/plain": [
       "<Figure size 432x288 with 2 Axes>"
      ]
     },
     "metadata": {},
     "output_type": "display_data"
    }
   ],
   "source": [
    "t = np.linspace(0,10)\n",
    "result = st.sim(s,X0=X0,t=t,sc=sc)\n",
    "st.plot(s,result)"
   ]
  },
  {
   "cell_type": "markdown",
   "metadata": {},
   "source": [
    "As predicted by pathway analysis, the two flows converge on a non-zero value."
   ]
  },
  {
   "cell_type": "markdown",
   "metadata": {},
   "source": [
    "Of course, these simulations have been using default (unity) values for parameters. These defaults can be changed by explicitly supplying parameters:"
   ]
  },
  {
   "cell_type": "code",
   "execution_count": 22,
   "metadata": {},
   "outputs": [
    {
     "data": {
      "image/png": "[encoded data removed]",
      "text/plain": [
       "<Figure size 432x288 with 2 Axes>"
      ]
     },
     "metadata": {},
     "output_type": "display_data"
    }
   ],
   "source": [
    "parameter={'kappa_r2':0.1}\n",
    "result = st.sim(s,X0=X0,t=t,sc=sc,parameter=parameter)\n",
    "st.plot(s,result)"
   ]
  },
  {
   "cell_type": "markdown",
   "metadata": {},
   "source": [
    "Moreover, the four initial conditions can be explicity chosen, for example:\n",
    "-  $$\n",
    "X_0 = \n",
    "\\begin{pmatrix}\n",
    "1 & 2 & 1 & 1\n",
    "\\end{pmatrix}^T\n",
    "$$\n",
    "Note that the default value was \n",
    "-  $$\n",
    "X_0 = \n",
    "\\begin{pmatrix}\n",
    "2 & 1 & 1 & 1\n",
    "\\end{pmatrix}^T\n",
    "$$"
   ]
  },
  {
   "cell_type": "code",
   "execution_count": 23,
   "metadata": {},
   "outputs": [
    {
     "data": {
      "image/png": "[encoded data removed]",
      "text/plain": [
       "<Figure size 432x288 with 2 Axes>"
      ]
     },
     "metadata": {},
     "output_type": "display_data"
    }
   ],
   "source": [
    "\n",
    "X0 = np.array([1,2,1,1])\n",
    "result = st.sim(s,t=t,sc=sc,parameter=parameter,X0=X0)\n",
    "st.plot(s,result)"
   ]
  },
  {
   "cell_type": "markdown",
   "metadata": {},
   "source": [
    "As the product $B$ amount is greater than that of the substrate $A$, the flow proceeds in reverse."
   ]
  },
  {
   "cell_type": "markdown",
   "metadata": {},
   "source": [
    "### Time-varying chemostats\n",
    "By default, chemostats remain at the corresponding initial state. This can be changed by declaring a time-varying expression for the chemostat state. For example, set the chemostat for substrate $A$ to have a value of $1+t$:"
   ]
  },
  {
   "cell_type": "code",
   "execution_count": 24,
   "metadata": {},
   "outputs": [
    {
     "data": {
      "image/png": "[encoded data removed]",
      "text/plain": [
       "<Figure size 432x288 with 2 Axes>"
      ]
     },
     "metadata": {},
     "output_type": "display_data"
    }
   ],
   "source": [
    "X_chemo = {'A':'1+t'}\n",
    "result = st.sim(s,t=t,sc=sc,parameter=parameter,X_chemo=X_chemo)\n",
    "st.plot(s,result)"
   ]
  },
  {
   "cell_type": "markdown",
   "metadata": {},
   "source": [
    "Note that the flow rates reach a maximum value as the amount of enzyme $x_E$ reduces to zero. This behaviour is typical of systems with conserved moities in general and enzyme catalysed reactions in particular."
   ]
  }
 ],
 "metadata": {
  "kernelspec": {
   "display_name": "Python 3",
   "language": "python",
   "name": "python3"
  },
  "language_info": {
   "codemirror_mode": {
    "name": "ipython",
    "version": 3
   },
   "file_extension": ".py",
   "mimetype": "text/x-python",
   "name": "python",
   "nbconvert_exporter": "python",
   "pygments_lexer": "ipython3",
   "version": "3.6.8"
  }
 },
 "nbformat": 4,
 "nbformat_minor": 2
}
